{
 "cells": [
  {
   "cell_type": "code",
   "execution_count": 1,
   "metadata": {},
   "outputs": [],
   "source": [
    "import xml.etree.ElementTree as ET\n",
    "from PIL import Image\n",
    "import os\n",
    "import pandas as pd\n",
    "import json\n",
    "import cv2\n",
    "import matplotlib.pyplot as plt\n",
    "from tqdm import tqdm\n",
    "from torch.utils.data import random_split, DataLoader, Dataset\n",
    "\n",
    "import torch\n",
    "from torchvision import datasets, transforms"
   ]
  },
  {
   "cell_type": "code",
   "execution_count": null,
   "metadata": {},
   "outputs": [],
   "source": [
    "%pip install -q transformers"
   ]
  },
  {
   "attachments": {},
   "cell_type": "markdown",
   "metadata": {},
   "source": [
    "Найдем все папки в которых лежит вайл с аннотацией"
   ]
  },
  {
   "cell_type": "code",
   "execution_count": 2,
   "metadata": {},
   "outputs": [],
   "source": [
    "\n",
    "crop_path = \"C:\\\\Users\\\\Mytre\\\\OneDrive\\\\Документы\\\\Data\\\\Work\\\\crops\"\n",
    "absolute_path = \"C:\\\\Users\\\\Mytre\\\\OneDrive\\\\Документы\\\\Data\\\\Work\\\\data\\\\BallerTV\"\n",
    "\n",
    "if not os.path.exists(crop_path):\n",
    "    os.makedirs(crop_path)\n",
    "\n",
    "file_name = 'annotations.xml'\n",
    "\n",
    "anno_pathses = []\n",
    "# пройдемся рекурсивно по всем папкам, начиная с absolute_path\n",
    "for root, dirs, files in os.walk(absolute_path):    \n",
    "    # проверяем, есть ли заданный файл в списке файлов текущей папки\n",
    "    if file_name in files:\n",
    "        # если есть, то добавляем путь в список\n",
    "        anno_pathses.append(os.path.join(root, file_name))      \n",
    "     "
   ]
  },
  {
   "cell_type": "code",
   "execution_count": 3,
   "metadata": {},
   "outputs": [
    {
     "name": "stderr",
     "output_type": "stream",
     "text": [
      " 21%|██        | 22/105 [01:14<04:42,  3.41s/it]\n"
     ]
    },
    {
     "ename": "FileNotFoundError",
     "evalue": "[Errno 2] No such file or directory: 'data\\\\BallerTV/basketball/3_processed/09-08-2022/frames/7683_94590_1658679588_raw/000001.jpeg'",
     "output_type": "error",
     "traceback": [
      "\u001b[1;31m---------------------------------------------------------------------------\u001b[0m",
      "\u001b[1;31mFileNotFoundError\u001b[0m                         Traceback (most recent call last)",
      "Cell \u001b[1;32mIn[3], line 25\u001b[0m\n\u001b[0;32m     22\u001b[0m \u001b[39m# Переберем все baundingbox`s\u001b[39;00m\n\u001b[0;32m     23\u001b[0m \u001b[39mfor\u001b[39;00m box \u001b[39min\u001b[39;00m image\u001b[39m.\u001b[39mfindall(\u001b[39m'\u001b[39m\u001b[39mbox\u001b[39m\u001b[39m'\u001b[39m):\n\u001b[1;32m---> 25\u001b[0m     image \u001b[39m=\u001b[39m Image\u001b[39m.\u001b[39;49mopen(file_name)\n\u001b[0;32m     27\u001b[0m     label \u001b[39m=\u001b[39m box\u001b[39m.\u001b[39mget(\u001b[39m'\u001b[39m\u001b[39mlabel\u001b[39m\u001b[39m'\u001b[39m)\n\u001b[0;32m     29\u001b[0m     \u001b[39m# Проверим является ли метка меткой номера\u001b[39;00m\n",
      "File \u001b[1;32mc:\\Users\\Mytre\\OneDrive\\Документы\\Data\\Work\\workenv\\lib\\site-packages\\PIL\\Image.py:3227\u001b[0m, in \u001b[0;36mopen\u001b[1;34m(fp, mode, formats)\u001b[0m\n\u001b[0;32m   3224\u001b[0m     filename \u001b[39m=\u001b[39m fp\n\u001b[0;32m   3226\u001b[0m \u001b[39mif\u001b[39;00m filename:\n\u001b[1;32m-> 3227\u001b[0m     fp \u001b[39m=\u001b[39m builtins\u001b[39m.\u001b[39;49mopen(filename, \u001b[39m\"\u001b[39;49m\u001b[39mrb\u001b[39;49m\u001b[39m\"\u001b[39;49m)\n\u001b[0;32m   3228\u001b[0m     exclusive_fp \u001b[39m=\u001b[39m \u001b[39mTrue\u001b[39;00m\n\u001b[0;32m   3230\u001b[0m \u001b[39mtry\u001b[39;00m:\n",
      "\u001b[1;31mFileNotFoundError\u001b[0m: [Errno 2] No such file or directory: 'data\\\\BallerTV/basketball/3_processed/09-08-2022/frames/7683_94590_1658679588_raw/000001.jpeg'"
     ]
    }
   ],
   "source": [
    "nums = []\n",
    "num = 0\n",
    "pathes_list = []\n",
    "annos_list = []\n",
    "anno_dict = {'file_name': [], 'text': []}\n",
    "\n",
    "for path in tqdm(anno_pathses):\n",
    "\n",
    "    # Загрузим XML файл\n",
    "    tree = ET.parse(path)\n",
    "\n",
    "    # Получим корневой элемент XML файла\n",
    "    root = tree.getroot()\n",
    "\n",
    "    # Проитерируемся по дочерним элементам корня\n",
    "    for image in root.findall('image'):\n",
    "        \n",
    "        image_id = image.get('id')\n",
    "        file_name = image.get('name')\n",
    "        file_name = 'data\\\\' + file_name\n",
    "\n",
    "        # Переберем все baundingbox`s\n",
    "        for box in image.findall('box'):\n",
    "            \n",
    "            image = Image.open(file_name)\n",
    "           \n",
    "            label = box.get('label')\n",
    "\n",
    "            # Проверим является ли метка меткой номера\n",
    "            if label == \"Jersey\":\n",
    "                xtl = int(float(box.get('xtl')))\n",
    "                ytl = int(float(box.get('ytl')))\n",
    "                xbr = int(float(box.get('xbr')))\n",
    "                ybr = int(float(box.get('ybr')))\n",
    "                number = box.find('attribute[@name=\"number\"]').text\n",
    "\n",
    "                # Сделаем кроп номера на футболке\n",
    "                croppped_image = image.crop((xtl, ytl, xbr, ybr))\n",
    "                full_path = crop_path + '\\\\' + str(number)\n",
    "                num += 1\n",
    "\n",
    "                if not os.path.exists(full_path):\n",
    "                    os.makedirs(full_path)    \n",
    "                    #print(f'Папка {number} создана')  \n",
    "                                  \n",
    "                res_path = full_path +'\\\\' + str(num) + 'example.jpg'\n",
    "\n",
    "                annos_list.append(int(number))\n",
    "                pathes_list.append(res_path )\n",
    "                anno_dict['text'] = annos_list\n",
    "                anno_dict['file_name'] = pathes_list\n",
    "                \n",
    "                croppped_image.save(res_path)\n",
    "\n",
    "                df = pd.DataFrame(anno_dict, index=None)\n",
    "                df.to_csv(\"anno.csv\")\n",
    "df.head()\n"
   ]
  },
  {
   "cell_type": "code",
   "execution_count": 4,
   "metadata": {},
   "outputs": [
    {
     "data": {
      "text/html": [
       "<div>\n",
       "<style scoped>\n",
       "    .dataframe tbody tr th:only-of-type {\n",
       "        vertical-align: middle;\n",
       "    }\n",
       "\n",
       "    .dataframe tbody tr th {\n",
       "        vertical-align: top;\n",
       "    }\n",
       "\n",
       "    .dataframe thead th {\n",
       "        text-align: right;\n",
       "    }\n",
       "</style>\n",
       "<table border=\"1\" class=\"dataframe\">\n",
       "  <thead>\n",
       "    <tr style=\"text-align: right;\">\n",
       "      <th></th>\n",
       "      <th>file_name</th>\n",
       "      <th>text</th>\n",
       "    </tr>\n",
       "  </thead>\n",
       "  <tbody>\n",
       "    <tr>\n",
       "      <th>0</th>\n",
       "      <td>C:\\Users\\Mytre\\OneDrive\\Документы\\Data\\Work\\cr...</td>\n",
       "      <td>1</td>\n",
       "    </tr>\n",
       "    <tr>\n",
       "      <th>1</th>\n",
       "      <td>C:\\Users\\Mytre\\OneDrive\\Документы\\Data\\Work\\cr...</td>\n",
       "      <td>8</td>\n",
       "    </tr>\n",
       "    <tr>\n",
       "      <th>2</th>\n",
       "      <td>C:\\Users\\Mytre\\OneDrive\\Документы\\Data\\Work\\cr...</td>\n",
       "      <td>11</td>\n",
       "    </tr>\n",
       "    <tr>\n",
       "      <th>3</th>\n",
       "      <td>C:\\Users\\Mytre\\OneDrive\\Документы\\Data\\Work\\cr...</td>\n",
       "      <td>3</td>\n",
       "    </tr>\n",
       "    <tr>\n",
       "      <th>4</th>\n",
       "      <td>C:\\Users\\Mytre\\OneDrive\\Документы\\Data\\Work\\cr...</td>\n",
       "      <td>3</td>\n",
       "    </tr>\n",
       "  </tbody>\n",
       "</table>\n",
       "</div>"
      ],
      "text/plain": [
       "                                           file_name  text\n",
       "0  C:\\Users\\Mytre\\OneDrive\\Документы\\Data\\Work\\cr...     1\n",
       "1  C:\\Users\\Mytre\\OneDrive\\Документы\\Data\\Work\\cr...     8\n",
       "2  C:\\Users\\Mytre\\OneDrive\\Документы\\Data\\Work\\cr...    11\n",
       "3  C:\\Users\\Mytre\\OneDrive\\Документы\\Data\\Work\\cr...     3\n",
       "4  C:\\Users\\Mytre\\OneDrive\\Документы\\Data\\Work\\cr...     3"
      ]
     },
     "execution_count": 4,
     "metadata": {},
     "output_type": "execute_result"
    }
   ],
   "source": [
    "df.head()"
   ]
  },
  {
   "cell_type": "code",
   "execution_count": 5,
   "metadata": {},
   "outputs": [],
   "source": [
    "from sklearn.model_selection import train_test_split\n",
    "\n",
    "train_df, test_df = train_test_split(df, test_size=0.2)\n",
    "# we reset the indices to start from zero\n",
    "train_df.reset_index(drop=True, inplace=True)\n",
    "test_df.reset_index(drop=True, inplace=True)"
   ]
  },
  {
   "cell_type": "code",
   "execution_count": 6,
   "metadata": {},
   "outputs": [],
   "source": [
    "import torch\n",
    "from torch.utils.data import Dataset\n",
    "from PIL import Image\n",
    "\n",
    "class IAMDataset(Dataset):\n",
    "    def __init__(self, root_dir, df, processor, max_target_length=128):\n",
    "        self.root_dir = root_dir\n",
    "        self.df = df\n",
    "        self.processor = processor\n",
    "        self.max_target_length = max_target_length\n",
    "\n",
    "    def __len__(self):\n",
    "        return len(self.df)\n",
    "\n",
    "    def __getitem__(self, idx):\n",
    "        # get file name + text \n",
    "        file_name = self.df['file_name'][idx]\n",
    "        text = str(self.df['text'][idx])\n",
    "        #print(type(text))\n",
    "        # prepare image (i.e. resize + normalize)\n",
    "        image = Image.open(file_name).convert(\"RGB\")\n",
    "        image = image.resize((32, 100))\n",
    "        pixel_values = self.processor(image, return_tensors=\"pt\").pixel_values\n",
    "        # add labels (input_ids) by encoding the text\n",
    "        labels = self.processor.tokenizer(text, \n",
    "                                          padding=\"max_length\", \n",
    "                                          max_length=self.max_target_length).input_ids\n",
    "        # important: make sure that PAD tokens are ignored by the loss function\n",
    "        labels = [label if label != self.processor.tokenizer.pad_token_id else -100 for label in labels]\n",
    "\n",
    "        encoding = {\"pixel_values\": pixel_values.squeeze(), \"labels\": torch.tensor(labels)}\n",
    "        return encoding"
   ]
  },
  {
   "cell_type": "code",
   "execution_count": 7,
   "metadata": {},
   "outputs": [
    {
     "name": "stderr",
     "output_type": "stream",
     "text": [
      "Could not find image processor class in the image processor config or the model config. Loading based on pattern matching with the model's feature extractor configuration.\n"
     ]
    }
   ],
   "source": [
    "from transformers import TrOCRProcessor\n",
    "\n",
    "processor = TrOCRProcessor.from_pretrained(\"microsoft/trocr-base-handwritten\")\n",
    "train_dataset = IAMDataset(root_dir='C:\\\\Users\\\\Mytre\\\\OneDrive\\\\Документы\\\\Data\\\\Work\\\\',\n",
    "                           df=train_df,\n",
    "                           processor=processor)\n",
    "eval_dataset = IAMDataset(root_dir='C:\\\\Users\\\\Mytre\\\\OneDrive\\\\Документы\\\\Data\\\\Work\\\\',\n",
    "                           df=test_df,\n",
    "                           processor=processor)"
   ]
  },
  {
   "cell_type": "code",
   "execution_count": 8,
   "metadata": {},
   "outputs": [],
   "source": [
    "from transformers import TrOCRProcessor, VisionEncoderDecoderModel\n",
    "import requests\n",
    "from PIL import Image\n",
    "\n",
    "#processor = TrOCRProcessor.from_pretrained(\"microsoft/trocr-base-handwritten\")\n",
    "#model = VisionEncoderDecoderModel.from_pretrained(\"microsoft/trocr-base-handwritten\")"
   ]
  },
  {
   "cell_type": "code",
   "execution_count": 9,
   "metadata": {},
   "outputs": [
    {
     "name": "stdout",
     "output_type": "stream",
     "text": [
      "Number of training examples: 3679\n",
      "Number of validation examples: 920\n"
     ]
    }
   ],
   "source": [
    "print(\"Number of training examples:\", len(train_dataset))\n",
    "print(\"Number of validation examples:\", len(eval_dataset))"
   ]
  },
  {
   "cell_type": "code",
   "execution_count": 10,
   "metadata": {},
   "outputs": [
    {
     "name": "stderr",
     "output_type": "stream",
     "text": [
      "Some weights of VisionEncoderDecoderModel were not initialized from the model checkpoint at microsoft/trocr-base-stage1 and are newly initialized: ['encoder.pooler.dense.weight', 'encoder.pooler.dense.bias']\n",
      "You should probably TRAIN this model on a down-stream task to be able to use it for predictions and inference.\n"
     ]
    }
   ],
   "source": [
    "from transformers import VisionEncoderDecoderModel\n",
    "\n",
    "model = VisionEncoderDecoderModel.from_pretrained(\"microsoft/trocr-base-stage1\")"
   ]
  },
  {
   "attachments": {},
   "cell_type": "markdown",
   "metadata": {},
   "source": [
    "#### В этом блоке мы смотрим в ручном режиме как решает нашу задачу модель из коробки"
   ]
  },
  {
   "cell_type": "code",
   "execution_count": 10,
   "metadata": {},
   "outputs": [
    {
     "name": "stdout",
     "output_type": "stream",
     "text": [
      "Номер на футболке: 5\n"
     ]
    }
   ],
   "source": [
    "url = \"crops\\\\75\\\\3272example.jpg\"\n",
    "image = Image.open(url).convert(\"RGB\")\n",
    "\n",
    "pixel_values = processor(image, return_tensors=\"pt\").pixel_values\n",
    "generated_ids = model.generate(pixel_values)\n",
    "\n",
    "generated_text = processor.batch_decode(generated_ids, skip_special_tokens=True)[0]\n",
    "print(f'Номер на футболке: {generated_text}')"
   ]
  },
  {
   "cell_type": "code",
   "execution_count": 22,
   "metadata": {},
   "outputs": [],
   "source": [
    "transform = transforms.Compose(\n",
    "        [transforms.RandomResizedCrop(224), \n",
    "         transforms.ToTensor()])"
   ]
  },
  {
   "cell_type": "code",
   "execution_count": 11,
   "metadata": {},
   "outputs": [],
   "source": [
    "# set special tokens used for creating the decoder_input_ids from the labels\n",
    "model.config.decoder_start_token_id = processor.tokenizer.cls_token_id\n",
    "model.config.pad_token_id = processor.tokenizer.pad_token_id\n",
    "# make sure vocab size is set correctly\n",
    "model.config.vocab_size = model.config.decoder.vocab_size\n",
    "\n",
    "# set beam search parameters\n",
    "model.config.eos_token_id = processor.tokenizer.sep_token_id\n",
    "model.config.max_length = 4\n",
    "model.config.early_stopping = True\n",
    "model.config.no_repeat_ngram_size = 3\n",
    "model.config.length_penalty = 2.0\n",
    "model.config.num_beams = 10"
   ]
  },
  {
   "cell_type": "code",
   "execution_count": 12,
   "metadata": {},
   "outputs": [],
   "source": [
    "from transformers import Seq2SeqTrainer, Seq2SeqTrainingArguments\n",
    "\n",
    "training_args = Seq2SeqTrainingArguments(\n",
    "    predict_with_generate=True,\n",
    "    num_train_epochs=10,\n",
    "    evaluation_strategy=\"steps\",\n",
    "    per_device_train_batch_size=3,\n",
    "    per_device_eval_batch_size=3,\n",
    "    fp16=True, \n",
    "    output_dir=\"./\",\n",
    "    logging_steps=50,\n",
    "    save_steps=1000,\n",
    "    eval_steps=200,\n",
    ")"
   ]
  },
  {
   "cell_type": "code",
   "execution_count": 13,
   "metadata": {},
   "outputs": [
    {
     "name": "stderr",
     "output_type": "stream",
     "text": [
      "C:\\Users\\Mytre\\AppData\\Local\\Temp\\ipykernel_7736\\152175726.py:3: FutureWarning: load_metric is deprecated and will be removed in the next major version of datasets. Use 'evaluate.load' instead, from the new library 🤗 Evaluate: https://huggingface.co/docs/evaluate\n",
      "  cer_metric = load_metric(\"cer\")\n"
     ]
    }
   ],
   "source": [
    "from datasets import load_metric\n",
    "\n",
    "cer_metric = load_metric(\"cer\")"
   ]
  },
  {
   "cell_type": "code",
   "execution_count": 14,
   "metadata": {},
   "outputs": [],
   "source": [
    "def compute_metrics(pred):\n",
    "    labels_ids = pred.label_ids\n",
    "    pred_ids = pred.predictions\n",
    "\n",
    "    pred_str = processor.batch_decode(pred_ids, skip_special_tokens=True)\n",
    "    labels_ids[labels_ids == -100] = processor.tokenizer.pad_token_id\n",
    "    label_str = processor.batch_decode(labels_ids, skip_special_tokens=True)\n",
    "\n",
    "    cer = cer_metric.compute(predictions=pred_str, references=label_str)\n",
    "\n",
    "    return {\"cer\": cer}"
   ]
  },
  {
   "cell_type": "code",
   "execution_count": 15,
   "metadata": {},
   "outputs": [],
   "source": [
    "from transformers import AdamW\n",
    "\n",
    "optimizer = AdamW(model.parameters(), lr=0.001, weight_decay=0.01, no_deprecation_warning=True)\n"
   ]
  },
  {
   "cell_type": "code",
   "execution_count": 16,
   "metadata": {},
   "outputs": [
    {
     "name": "stderr",
     "output_type": "stream",
     "text": [
      "c:\\Users\\Mytre\\OneDrive\\Документы\\Data\\Work\\workenv\\lib\\site-packages\\transformers\\models\\trocr\\processing_trocr.py:134: FutureWarning: `feature_extractor` is deprecated and will be removed in v5. Use `image_processor` instead.\n",
      "  warnings.warn(\n",
      "c:\\Users\\Mytre\\OneDrive\\Документы\\Data\\Work\\workenv\\lib\\site-packages\\transformers\\optimization.py:346: FutureWarning: This implementation of AdamW is deprecated and will be removed in a future version. Use the PyTorch implementation torch.optim.AdamW instead, or set `no_deprecation_warning=True` to disable this warning\n",
      "  warnings.warn(\n"
     ]
    },
    {
     "data": {
      "application/vnd.jupyter.widget-view+json": {
       "model_id": "1c2daef27154402d8863ea8ca4fe2d44",
       "version_major": 2,
       "version_minor": 0
      },
      "text/plain": [
       "  0%|          | 0/12270 [00:00<?, ?it/s]"
      ]
     },
     "metadata": {},
     "output_type": "display_data"
    },
    {
     "name": "stdout",
     "output_type": "stream",
     "text": [
      "{'loss': 2.8189, 'learning_rate': 4.9808475957620214e-05, 'epoch': 0.04}\n",
      "{'loss': 1.4562, 'learning_rate': 4.960472697636512e-05, 'epoch': 0.08}\n",
      "{'loss': 1.2054, 'learning_rate': 4.940097799511003e-05, 'epoch': 0.12}\n",
      "{'loss': 1.1171, 'learning_rate': 4.9197229013854935e-05, 'epoch': 0.16}\n"
     ]
    },
    {
     "name": "stderr",
     "output_type": "stream",
     "text": [
      "c:\\Users\\Mytre\\OneDrive\\Документы\\Data\\Work\\workenv\\lib\\site-packages\\transformers\\generation\\utils.py:1201: UserWarning: You have modified the pretrained model configuration to control generation. This is a deprecated strategy to control generation and will be removed soon, in a future version. Please use a generation configuration file (see https://huggingface.co/docs/transformers/main_classes/text_generation)\n",
      "  warnings.warn(\n"
     ]
    },
    {
     "data": {
      "application/vnd.jupyter.widget-view+json": {
       "model_id": "613927d3f5e744fb9dba54c6a65d493b",
       "version_major": 2,
       "version_minor": 0
      },
      "text/plain": [
       "  0%|          | 0/307 [00:00<?, ?it/s]"
      ]
     },
     "metadata": {},
     "output_type": "display_data"
    },
    {
     "name": "stdout",
     "output_type": "stream",
     "text": [
      "{'eval_loss': 1.076485514640808, 'eval_cer': 0.255781359495445, 'eval_runtime': 175.2869, 'eval_samples_per_second': 5.249, 'eval_steps_per_second': 1.751, 'epoch': 0.16}\n",
      "{'loss': 1.0699, 'learning_rate': 4.8993480032599835e-05, 'epoch': 0.2}\n",
      "{'loss': 1.0882, 'learning_rate': 4.878973105134474e-05, 'epoch': 0.24}\n",
      "{'loss': 1.0919, 'learning_rate': 4.8585982070089655e-05, 'epoch': 0.29}\n",
      "{'loss': 0.9294, 'learning_rate': 4.8382233088834555e-05, 'epoch': 0.33}\n"
     ]
    },
    {
     "data": {
      "application/vnd.jupyter.widget-view+json": {
       "model_id": "bb946a3b749c4582bdb762dee213e593",
       "version_major": 2,
       "version_minor": 0
      },
      "text/plain": [
       "  0%|          | 0/307 [00:00<?, ?it/s]"
      ]
     },
     "metadata": {},
     "output_type": "display_data"
    },
    {
     "name": "stdout",
     "output_type": "stream",
     "text": [
      "{'eval_loss': 1.005597472190857, 'eval_cer': 0.28100911002102313, 'eval_runtime': 175.8512, 'eval_samples_per_second': 5.232, 'eval_steps_per_second': 1.746, 'epoch': 0.33}\n",
      "{'loss': 0.9012, 'learning_rate': 4.817848410757946e-05, 'epoch': 0.37}\n",
      "{'loss': 0.8855, 'learning_rate': 4.797473512632437e-05, 'epoch': 0.41}\n",
      "{'loss': 1.0079, 'learning_rate': 4.777098614506928e-05, 'epoch': 0.45}\n",
      "{'loss': 0.9488, 'learning_rate': 4.756723716381418e-05, 'epoch': 0.49}\n"
     ]
    },
    {
     "data": {
      "application/vnd.jupyter.widget-view+json": {
       "model_id": "ac261c94016f482a996e4d2fd42c1443",
       "version_major": 2,
       "version_minor": 0
      },
      "text/plain": [
       "  0%|          | 0/307 [00:00<?, ?it/s]"
      ]
     },
     "metadata": {},
     "output_type": "display_data"
    },
    {
     "name": "stdout",
     "output_type": "stream",
     "text": [
      "{'eval_loss': 0.8130293488502502, 'eval_cer': 0.1506657323055361, 'eval_runtime': 176.3286, 'eval_samples_per_second': 5.218, 'eval_steps_per_second': 1.741, 'epoch': 0.49}\n",
      "{'loss': 0.9071, 'learning_rate': 4.736348818255909e-05, 'epoch': 0.53}\n",
      "{'loss': 0.8914, 'learning_rate': 4.7159739201303995e-05, 'epoch': 0.57}\n",
      "{'loss': 0.8967, 'learning_rate': 4.69559902200489e-05, 'epoch': 0.61}\n",
      "{'loss': 0.7406, 'learning_rate': 4.675224123879381e-05, 'epoch': 0.65}\n"
     ]
    },
    {
     "data": {
      "application/vnd.jupyter.widget-view+json": {
       "model_id": "79e510bd1e344a35b7139f42995b7383",
       "version_major": 2,
       "version_minor": 0
      },
      "text/plain": [
       "  0%|          | 0/307 [00:00<?, ?it/s]"
      ]
     },
     "metadata": {},
     "output_type": "display_data"
    },
    {
     "name": "stdout",
     "output_type": "stream",
     "text": [
      "{'eval_loss': 0.8858893513679504, 'eval_cer': 0.11983181499649614, 'eval_runtime': 176.1488, 'eval_samples_per_second': 5.223, 'eval_steps_per_second': 1.743, 'epoch': 0.65}\n",
      "{'loss': 0.8536, 'learning_rate': 4.6548492257538716e-05, 'epoch': 0.69}\n",
      "{'loss': 0.9009, 'learning_rate': 4.634474327628362e-05, 'epoch': 0.73}\n",
      "{'loss': 0.8231, 'learning_rate': 4.614099429502853e-05, 'epoch': 0.77}\n",
      "{'loss': 0.8177, 'learning_rate': 4.5937245313773436e-05, 'epoch': 0.81}\n"
     ]
    },
    {
     "data": {
      "application/vnd.jupyter.widget-view+json": {
       "model_id": "dfdf9597f64148068f6bda07a69c8124",
       "version_major": 2,
       "version_minor": 0
      },
      "text/plain": [
       "  0%|          | 0/307 [00:00<?, ?it/s]"
      ]
     },
     "metadata": {},
     "output_type": "display_data"
    },
    {
     "name": "stdout",
     "output_type": "stream",
     "text": [
      "{'eval_loss': 0.8737026453018188, 'eval_cer': 0.1618780658724597, 'eval_runtime': 176.2968, 'eval_samples_per_second': 5.218, 'eval_steps_per_second': 1.741, 'epoch': 0.81}\n",
      "{'loss': 0.9098, 'learning_rate': 4.5733496332518336e-05, 'epoch': 0.86}\n",
      "{'loss': 0.7791, 'learning_rate': 4.552974735126325e-05, 'epoch': 0.9}\n",
      "{'loss': 0.7748, 'learning_rate': 4.5325998370008156e-05, 'epoch': 0.94}\n",
      "{'loss': 0.7861, 'learning_rate': 4.5122249388753056e-05, 'epoch': 0.98}\n"
     ]
    },
    {
     "data": {
      "application/vnd.jupyter.widget-view+json": {
       "model_id": "fff1052922934fec8a2a6732e14bb064",
       "version_major": 2,
       "version_minor": 0
      },
      "text/plain": [
       "  0%|          | 0/307 [00:00<?, ?it/s]"
      ]
     },
     "metadata": {},
     "output_type": "display_data"
    },
    {
     "name": "stdout",
     "output_type": "stream",
     "text": [
      "{'eval_loss': 0.820232093334198, 'eval_cer': 0.212333566923616, 'eval_runtime': 176.744, 'eval_samples_per_second': 5.205, 'eval_steps_per_second': 1.737, 'epoch': 0.98}\n",
      "{'loss': 0.7093, 'learning_rate': 4.491850040749796e-05, 'epoch': 1.02}\n",
      "{'loss': 0.7824, 'learning_rate': 4.4714751426242876e-05, 'epoch': 1.06}\n",
      "{'loss': 0.7165, 'learning_rate': 4.4511002444987776e-05, 'epoch': 1.1}\n",
      "{'loss': 0.7712, 'learning_rate': 4.430725346373268e-05, 'epoch': 1.14}\n"
     ]
    },
    {
     "data": {
      "application/vnd.jupyter.widget-view+json": {
       "model_id": "2d6a7468ec3f4c8d9ad909a306ce2a32",
       "version_major": 2,
       "version_minor": 0
      },
      "text/plain": [
       "  0%|          | 0/307 [00:00<?, ?it/s]"
      ]
     },
     "metadata": {},
     "output_type": "display_data"
    },
    {
     "name": "stdout",
     "output_type": "stream",
     "text": [
      "{'eval_loss': 0.7563449144363403, 'eval_cer': 0.10861948142957253, 'eval_runtime': 176.6934, 'eval_samples_per_second': 5.207, 'eval_steps_per_second': 1.737, 'epoch': 1.14}\n",
      "{'loss': 0.7284, 'learning_rate': 4.410350448247759e-05, 'epoch': 1.18}\n",
      "{'loss': 0.6842, 'learning_rate': 4.3899755501222497e-05, 'epoch': 1.22}\n",
      "{'loss': 0.7108, 'learning_rate': 4.36960065199674e-05, 'epoch': 1.26}\n",
      "{'loss': 0.6885, 'learning_rate': 4.349225753871231e-05, 'epoch': 1.3}\n"
     ]
    },
    {
     "data": {
      "application/vnd.jupyter.widget-view+json": {
       "model_id": "722a09ea4f8f4001a9dd632c6584dcbd",
       "version_major": 2,
       "version_minor": 0
      },
      "text/plain": [
       "  0%|          | 0/307 [00:00<?, ?it/s]"
      ]
     },
     "metadata": {},
     "output_type": "display_data"
    },
    {
     "name": "stdout",
     "output_type": "stream",
     "text": [
      "{'eval_loss': 0.8313117027282715, 'eval_cer': 0.1730903994393833, 'eval_runtime': 177.0069, 'eval_samples_per_second': 5.198, 'eval_steps_per_second': 1.734, 'epoch': 1.3}\n",
      "{'loss': 0.6583, 'learning_rate': 4.328850855745722e-05, 'epoch': 1.34}\n",
      "{'loss': 0.6888, 'learning_rate': 4.3084759576202124e-05, 'epoch': 1.39}\n",
      "{'loss': 0.7463, 'learning_rate': 4.288101059494703e-05, 'epoch': 1.43}\n",
      "{'loss': 0.7242, 'learning_rate': 4.267726161369193e-05, 'epoch': 1.47}\n"
     ]
    },
    {
     "data": {
      "application/vnd.jupyter.widget-view+json": {
       "model_id": "cf7356b53379416b884c00d922a48d65",
       "version_major": 2,
       "version_minor": 0
      },
      "text/plain": [
       "  0%|          | 0/307 [00:00<?, ?it/s]"
      ]
     },
     "metadata": {},
     "output_type": "display_data"
    },
    {
     "name": "stdout",
     "output_type": "stream",
     "text": [
      "{'eval_loss': 0.711934506893158, 'eval_cer': 0.11142256482130343, 'eval_runtime': 176.3872, 'eval_samples_per_second': 5.216, 'eval_steps_per_second': 1.74, 'epoch': 1.47}\n",
      "{'loss': 0.6806, 'learning_rate': 4.2473512632436844e-05, 'epoch': 1.51}\n",
      "{'loss': 0.7023, 'learning_rate': 4.226976365118175e-05, 'epoch': 1.55}\n",
      "{'loss': 0.6498, 'learning_rate': 4.206601466992665e-05, 'epoch': 1.59}\n",
      "{'loss': 0.7252, 'learning_rate': 4.186226568867156e-05, 'epoch': 1.63}\n"
     ]
    },
    {
     "data": {
      "application/vnd.jupyter.widget-view+json": {
       "model_id": "ce4c1a029de545d4b19ef9cb724bc936",
       "version_major": 2,
       "version_minor": 0
      },
      "text/plain": [
       "  0%|          | 0/307 [00:00<?, ?it/s]"
      ]
     },
     "metadata": {},
     "output_type": "display_data"
    },
    {
     "name": "stdout",
     "output_type": "stream",
     "text": [
      "{'eval_loss': 0.7904417514801025, 'eval_cer': 0.13524877365101612, 'eval_runtime': 176.6772, 'eval_samples_per_second': 5.207, 'eval_steps_per_second': 1.738, 'epoch': 1.63}\n",
      "{'loss': 0.763, 'learning_rate': 4.1658516707416464e-05, 'epoch': 1.67}\n",
      "{'loss': 0.6925, 'learning_rate': 4.145476772616137e-05, 'epoch': 1.71}\n",
      "{'loss': 0.6807, 'learning_rate': 4.125101874490628e-05, 'epoch': 1.75}\n",
      "{'loss': 0.7185, 'learning_rate': 4.1047269763651184e-05, 'epoch': 1.79}\n"
     ]
    },
    {
     "data": {
      "application/vnd.jupyter.widget-view+json": {
       "model_id": "c0bf3c154854499d9ac3baee309bd570",
       "version_major": 2,
       "version_minor": 0
      },
      "text/plain": [
       "  0%|          | 0/307 [00:00<?, ?it/s]"
      ]
     },
     "metadata": {},
     "output_type": "display_data"
    },
    {
     "name": "stdout",
     "output_type": "stream",
     "text": [
      "{'eval_loss': 0.7233825922012329, 'eval_cer': 0.10581639803784162, 'eval_runtime': 176.8665, 'eval_samples_per_second': 5.202, 'eval_steps_per_second': 1.736, 'epoch': 1.79}\n",
      "{'loss': 0.7447, 'learning_rate': 4.084352078239609e-05, 'epoch': 1.83}\n",
      "{'loss': 0.7006, 'learning_rate': 4.0639771801141e-05, 'epoch': 1.87}\n",
      "{'loss': 0.5992, 'learning_rate': 4.0436022819885904e-05, 'epoch': 1.92}\n",
      "{'loss': 0.7015, 'learning_rate': 4.0232273838630804e-05, 'epoch': 1.96}\n"
     ]
    },
    {
     "data": {
      "application/vnd.jupyter.widget-view+json": {
       "model_id": "9604e36c091f409db2465a121b4b3dee",
       "version_major": 2,
       "version_minor": 0
      },
      "text/plain": [
       "  0%|          | 0/307 [00:00<?, ?it/s]"
      ]
     },
     "metadata": {},
     "output_type": "display_data"
    },
    {
     "name": "stdout",
     "output_type": "stream",
     "text": [
      "{'eval_loss': 0.7657157182693481, 'eval_cer': 0.11282410651716888, 'eval_runtime': 177.0283, 'eval_samples_per_second': 5.197, 'eval_steps_per_second': 1.734, 'epoch': 1.96}\n",
      "{'loss': 0.6542, 'learning_rate': 4.002852485737572e-05, 'epoch': 2.0}\n",
      "{'loss': 0.5786, 'learning_rate': 3.9824775876120625e-05, 'epoch': 2.04}\n",
      "{'loss': 0.5625, 'learning_rate': 3.9621026894865525e-05, 'epoch': 2.08}\n",
      "{'loss': 0.6358, 'learning_rate': 3.941727791361043e-05, 'epoch': 2.12}\n"
     ]
    },
    {
     "data": {
      "application/vnd.jupyter.widget-view+json": {
       "model_id": "316bf3e8b58d4c5a850f268f3fd5238c",
       "version_major": 2,
       "version_minor": 0
      },
      "text/plain": [
       "  0%|          | 0/307 [00:00<?, ?it/s]"
      ]
     },
     "metadata": {},
     "output_type": "display_data"
    },
    {
     "name": "stdout",
     "output_type": "stream",
     "text": [
      "{'eval_loss': 0.7848071455955505, 'eval_cer': 0.09950946040644709, 'eval_runtime': 176.7462, 'eval_samples_per_second': 5.205, 'eval_steps_per_second': 1.737, 'epoch': 2.12}\n",
      "{'loss': 0.5779, 'learning_rate': 3.9213528932355345e-05, 'epoch': 2.16}\n",
      "{'loss': 0.5485, 'learning_rate': 3.9009779951100245e-05, 'epoch': 2.2}\n",
      "{'loss': 0.62, 'learning_rate': 3.880603096984515e-05, 'epoch': 2.24}\n",
      "{'loss': 0.5268, 'learning_rate': 3.860228198859006e-05, 'epoch': 2.28}\n"
     ]
    },
    {
     "data": {
      "application/vnd.jupyter.widget-view+json": {
       "model_id": "2028a51985f349d6b2fb9cad64e9189c",
       "version_major": 2,
       "version_minor": 0
      },
      "text/plain": [
       "  0%|          | 0/307 [00:00<?, ?it/s]"
      ]
     },
     "metadata": {},
     "output_type": "display_data"
    },
    {
     "name": "stdout",
     "output_type": "stream",
     "text": [
      "{'eval_loss': 0.766470193862915, 'eval_cer': 0.07498248072880168, 'eval_runtime': 177.146, 'eval_samples_per_second': 5.193, 'eval_steps_per_second': 1.733, 'epoch': 2.28}\n",
      "{'loss': 0.4878, 'learning_rate': 3.8398533007334965e-05, 'epoch': 2.32}\n",
      "{'loss': 0.4855, 'learning_rate': 3.819478402607987e-05, 'epoch': 2.36}\n",
      "{'loss': 0.4269, 'learning_rate': 3.799511002444988e-05, 'epoch': 2.4}\n",
      "{'loss': 0.4787, 'learning_rate': 3.779136104319478e-05, 'epoch': 2.44}\n"
     ]
    },
    {
     "data": {
      "application/vnd.jupyter.widget-view+json": {
       "model_id": "44c2d6983f0f4619be6399f6eadc110f",
       "version_major": 2,
       "version_minor": 0
      },
      "text/plain": [
       "  0%|          | 0/307 [00:00<?, ?it/s]"
      ]
     },
     "metadata": {},
     "output_type": "display_data"
    },
    {
     "name": "stdout",
     "output_type": "stream",
     "text": [
      "{'eval_loss': 1.679684042930603, 'eval_cer': 0.10441485634197617, 'eval_runtime': 176.4496, 'eval_samples_per_second': 5.214, 'eval_steps_per_second': 1.74, 'epoch': 2.44}\n",
      "{'loss': 0.4619, 'learning_rate': 3.758761206193969e-05, 'epoch': 2.49}\n",
      "{'loss': 0.3549, 'learning_rate': 3.73838630806846e-05, 'epoch': 2.53}\n",
      "{'loss': 0.4013, 'learning_rate': 3.71801140994295e-05, 'epoch': 2.57}\n",
      "{'loss': 0.2494, 'learning_rate': 3.6980440097799514e-05, 'epoch': 2.61}\n"
     ]
    },
    {
     "data": {
      "application/vnd.jupyter.widget-view+json": {
       "model_id": "063b207771274166937a3a065383cab2",
       "version_major": 2,
       "version_minor": 0
      },
      "text/plain": [
       "  0%|          | 0/307 [00:00<?, ?it/s]"
      ]
     },
     "metadata": {},
     "output_type": "display_data"
    },
    {
     "name": "stdout",
     "output_type": "stream",
     "text": [
      "{'eval_loss': 1.2615149021148682, 'eval_cer': 0.1079187105816398, 'eval_runtime': 176.982, 'eval_samples_per_second': 5.198, 'eval_steps_per_second': 1.735, 'epoch': 2.61}\n",
      "{'loss': 0.4411, 'learning_rate': 3.6780766096169524e-05, 'epoch': 2.65}\n",
      "{'loss': 0.3431, 'learning_rate': 3.6577017114914424e-05, 'epoch': 2.69}\n",
      "{'loss': 0.2762, 'learning_rate': 3.637326813365933e-05, 'epoch': 2.73}\n",
      "{'loss': 0.3003, 'learning_rate': 3.616951915240424e-05, 'epoch': 2.77}\n"
     ]
    },
    {
     "data": {
      "application/vnd.jupyter.widget-view+json": {
       "model_id": "1c3531d938d24f16bb37a779dc40e79a",
       "version_major": 2,
       "version_minor": 0
      },
      "text/plain": [
       "  0%|          | 0/307 [00:00<?, ?it/s]"
      ]
     },
     "metadata": {},
     "output_type": "display_data"
    },
    {
     "name": "stdout",
     "output_type": "stream",
     "text": [
      "{'eval_loss': 1.381049633026123, 'eval_cer': 0.11422564821303434, 'eval_runtime': 178.2112, 'eval_samples_per_second': 5.162, 'eval_steps_per_second': 1.723, 'epoch': 2.77}\n",
      "{'loss': 0.4985, 'learning_rate': 3.5965770171149145e-05, 'epoch': 2.81}\n",
      "{'loss': 0.3728, 'learning_rate': 3.576202118989405e-05, 'epoch': 2.85}\n",
      "{'loss': 0.3224, 'learning_rate': 3.555827220863896e-05, 'epoch': 2.89}\n",
      "{'loss': 0.3382, 'learning_rate': 3.5354523227383865e-05, 'epoch': 2.93}\n"
     ]
    },
    {
     "data": {
      "application/vnd.jupyter.widget-view+json": {
       "model_id": "fffdacce846f4deba5ebd448d665a708",
       "version_major": 2,
       "version_minor": 0
      },
      "text/plain": [
       "  0%|          | 0/307 [00:00<?, ?it/s]"
      ]
     },
     "metadata": {},
     "output_type": "display_data"
    },
    {
     "name": "stdout",
     "output_type": "stream",
     "text": [
      "{'eval_loss': 2.2868576049804688, 'eval_cer': 0.08549404344779257, 'eval_runtime': 177.139, 'eval_samples_per_second': 5.194, 'eval_steps_per_second': 1.733, 'epoch': 2.93}\n",
      "{'loss': 0.2486, 'learning_rate': 3.515077424612877e-05, 'epoch': 2.97}\n",
      "{'loss': 0.37, 'learning_rate': 3.494702526487368e-05, 'epoch': 3.02}\n",
      "{'loss': 0.3668, 'learning_rate': 3.474327628361858e-05, 'epoch': 3.06}\n",
      "{'loss': 0.3176, 'learning_rate': 3.453952730236349e-05, 'epoch': 3.1}\n"
     ]
    },
    {
     "data": {
      "application/vnd.jupyter.widget-view+json": {
       "model_id": "fba42d96ec95444690d170b3772c0427",
       "version_major": 2,
       "version_minor": 0
      },
      "text/plain": [
       "  0%|          | 0/307 [00:00<?, ?it/s]"
      ]
     },
     "metadata": {},
     "output_type": "display_data"
    },
    {
     "name": "stdout",
     "output_type": "stream",
     "text": [
      "{'eval_loss': 1.828942894935608, 'eval_cer': 0.0861948142957253, 'eval_runtime': 176.6795, 'eval_samples_per_second': 5.207, 'eval_steps_per_second': 1.738, 'epoch': 3.1}\n",
      "{'loss': 0.2899, 'learning_rate': 3.43357783211084e-05, 'epoch': 3.14}\n",
      "{'loss': 0.2055, 'learning_rate': 3.41320293398533e-05, 'epoch': 3.18}\n",
      "{'loss': 0.2654, 'learning_rate': 3.3928280358598205e-05, 'epoch': 3.22}\n",
      "{'loss': 0.2995, 'learning_rate': 3.372453137734312e-05, 'epoch': 3.26}\n"
     ]
    },
    {
     "data": {
      "application/vnd.jupyter.widget-view+json": {
       "model_id": "31d08fff55784625b76c73d67062ab8d",
       "version_major": 2,
       "version_minor": 0
      },
      "text/plain": [
       "  0%|          | 0/307 [00:00<?, ?it/s]"
      ]
     },
     "metadata": {},
     "output_type": "display_data"
    },
    {
     "name": "stdout",
     "output_type": "stream",
     "text": [
      "{'eval_loss': 2.1801071166992188, 'eval_cer': 0.07358093903293624, 'eval_runtime': 176.8895, 'eval_samples_per_second': 5.201, 'eval_steps_per_second': 1.736, 'epoch': 3.26}\n",
      "{'loss': 0.2113, 'learning_rate': 3.352078239608802e-05, 'epoch': 3.3}\n",
      "{'loss': 0.2628, 'learning_rate': 3.3317033414832926e-05, 'epoch': 3.34}\n",
      "{'loss': 0.1956, 'learning_rate': 3.311328443357783e-05, 'epoch': 3.38}\n",
      "{'loss': 0.3406, 'learning_rate': 3.290953545232274e-05, 'epoch': 3.42}\n"
     ]
    },
    {
     "data": {
      "application/vnd.jupyter.widget-view+json": {
       "model_id": "76120c8356364d13b38525bdd71e5233",
       "version_major": 2,
       "version_minor": 0
      },
      "text/plain": [
       "  0%|          | 0/307 [00:00<?, ?it/s]"
      ]
     },
     "metadata": {},
     "output_type": "display_data"
    },
    {
     "name": "stdout",
     "output_type": "stream",
     "text": [
      "{'eval_loss': 1.644431710243225, 'eval_cer': 0.09390329362298529, 'eval_runtime': 176.9717, 'eval_samples_per_second': 5.199, 'eval_steps_per_second': 1.735, 'epoch': 3.42}\n",
      "{'loss': 0.4094, 'learning_rate': 3.2705786471067646e-05, 'epoch': 3.46}\n",
      "{'loss': 0.2308, 'learning_rate': 3.250203748981255e-05, 'epoch': 3.5}\n",
      "{'loss': 0.21, 'learning_rate': 3.229828850855746e-05, 'epoch': 3.55}\n",
      "{'loss': 0.2042, 'learning_rate': 3.2094539527302366e-05, 'epoch': 3.59}\n"
     ]
    },
    {
     "data": {
      "application/vnd.jupyter.widget-view+json": {
       "model_id": "509711eec03b4d8180ac98911075f0ae",
       "version_major": 2,
       "version_minor": 0
      },
      "text/plain": [
       "  0%|          | 0/307 [00:00<?, ?it/s]"
      ]
     },
     "metadata": {},
     "output_type": "display_data"
    },
    {
     "name": "stdout",
     "output_type": "stream",
     "text": [
      "{'eval_loss': 2.577343463897705, 'eval_cer': 0.13104414856341975, 'eval_runtime': 176.658, 'eval_samples_per_second': 5.208, 'eval_steps_per_second': 1.738, 'epoch': 3.59}\n",
      "{'loss': 0.2064, 'learning_rate': 3.189079054604727e-05, 'epoch': 3.63}\n",
      "{'loss': 0.1852, 'learning_rate': 3.168704156479217e-05, 'epoch': 3.67}\n",
      "{'loss': 0.2503, 'learning_rate': 3.148329258353708e-05, 'epoch': 3.71}\n",
      "{'loss': 0.1772, 'learning_rate': 3.127954360228199e-05, 'epoch': 3.75}\n"
     ]
    },
    {
     "data": {
      "application/vnd.jupyter.widget-view+json": {
       "model_id": "993a0e1047824bcabb705d459e3fa58b",
       "version_major": 2,
       "version_minor": 0
      },
      "text/plain": [
       "  0%|          | 0/307 [00:00<?, ?it/s]"
      ]
     },
     "metadata": {},
     "output_type": "display_data"
    },
    {
     "name": "stdout",
     "output_type": "stream",
     "text": [
      "{'eval_loss': 2.8106627464294434, 'eval_cer': 0.07358093903293624, 'eval_runtime': 177.2372, 'eval_samples_per_second': 5.191, 'eval_steps_per_second': 1.732, 'epoch': 3.75}\n",
      "{'loss': 0.2042, 'learning_rate': 3.10757946210269e-05, 'epoch': 3.79}\n",
      "{'loss': 0.1995, 'learning_rate': 3.0876120619396904e-05, 'epoch': 3.83}\n",
      "{'loss': 0.2413, 'learning_rate': 3.067237163814181e-05, 'epoch': 3.87}\n",
      "{'loss': 0.2403, 'learning_rate': 3.046862265688672e-05, 'epoch': 3.91}\n"
     ]
    },
    {
     "data": {
      "application/vnd.jupyter.widget-view+json": {
       "model_id": "0f882d5109454ed48a871615a4df267a",
       "version_major": 2,
       "version_minor": 0
      },
      "text/plain": [
       "  0%|          | 0/307 [00:00<?, ?it/s]"
      ]
     },
     "metadata": {},
     "output_type": "display_data"
    },
    {
     "name": "stdout",
     "output_type": "stream",
     "text": [
      "{'eval_loss': 2.357590436935425, 'eval_cer': 0.08409250175192712, 'eval_runtime': 177.1835, 'eval_samples_per_second': 5.192, 'eval_steps_per_second': 1.733, 'epoch': 3.91}\n",
      "{'loss': 0.1803, 'learning_rate': 3.026487367563162e-05, 'epoch': 3.95}\n",
      "{'loss': 0.1461, 'learning_rate': 3.006112469437653e-05, 'epoch': 3.99}\n",
      "{'loss': 0.2749, 'learning_rate': 2.9857375713121438e-05, 'epoch': 4.03}\n",
      "{'loss': 0.2371, 'learning_rate': 2.965362673186634e-05, 'epoch': 4.07}\n"
     ]
    },
    {
     "data": {
      "application/vnd.jupyter.widget-view+json": {
       "model_id": "ed88586aeacf44239c69cacebb399a5b",
       "version_major": 2,
       "version_minor": 0
      },
      "text/plain": [
       "  0%|          | 0/307 [00:00<?, ?it/s]"
      ]
     },
     "metadata": {},
     "output_type": "display_data"
    },
    {
     "name": "stdout",
     "output_type": "stream",
     "text": [
      "{'eval_loss': 2.1895339488983154, 'eval_cer': 0.08128941836019622, 'eval_runtime': 176.958, 'eval_samples_per_second': 5.199, 'eval_steps_per_second': 1.735, 'epoch': 4.07}\n",
      "{'loss': 0.2581, 'learning_rate': 2.9449877750611248e-05, 'epoch': 4.12}\n",
      "{'loss': 0.2394, 'learning_rate': 2.9246128769356158e-05, 'epoch': 4.16}\n",
      "{'loss': 0.1558, 'learning_rate': 2.9046454767726162e-05, 'epoch': 4.2}\n",
      "{'loss': 0.2342, 'learning_rate': 2.884270578647107e-05, 'epoch': 4.24}\n"
     ]
    },
    {
     "data": {
      "application/vnd.jupyter.widget-view+json": {
       "model_id": "ce79de0889314ee9946da9e2cc06d53f",
       "version_major": 2,
       "version_minor": 0
      },
      "text/plain": [
       "  0%|          | 0/307 [00:00<?, ?it/s]"
      ]
     },
     "metadata": {},
     "output_type": "display_data"
    },
    {
     "name": "stdout",
     "output_type": "stream",
     "text": [
      "{'eval_loss': 2.143862009048462, 'eval_cer': 0.0644709180098108, 'eval_runtime': 176.9568, 'eval_samples_per_second': 5.199, 'eval_steps_per_second': 1.735, 'epoch': 4.24}\n",
      "{'loss': 0.1912, 'learning_rate': 2.863895680521598e-05, 'epoch': 4.28}\n",
      "{'loss': 0.1803, 'learning_rate': 2.843520782396088e-05, 'epoch': 4.32}\n",
      "{'loss': 0.2763, 'learning_rate': 2.823145884270579e-05, 'epoch': 4.36}\n",
      "{'loss': 0.2057, 'learning_rate': 2.8027709861450695e-05, 'epoch': 4.4}\n"
     ]
    },
    {
     "data": {
      "application/vnd.jupyter.widget-view+json": {
       "model_id": "5f42adbe40794f02a21a7a57fd09582b",
       "version_major": 2,
       "version_minor": 0
      },
      "text/plain": [
       "  0%|          | 0/307 [00:00<?, ?it/s]"
      ]
     },
     "metadata": {},
     "output_type": "display_data"
    },
    {
     "name": "stdout",
     "output_type": "stream",
     "text": [
      "{'eval_loss': 2.386457681655884, 'eval_cer': 0.08759635599159075, 'eval_runtime': 177.4723, 'eval_samples_per_second': 5.184, 'eval_steps_per_second': 1.73, 'epoch': 4.4}\n",
      "{'loss': 0.1485, 'learning_rate': 2.78239608801956e-05, 'epoch': 4.44}\n",
      "{'loss': 0.1595, 'learning_rate': 2.7620211898940506e-05, 'epoch': 4.48}\n",
      "{'loss': 0.2086, 'learning_rate': 2.7416462917685416e-05, 'epoch': 4.52}\n",
      "{'loss': 0.223, 'learning_rate': 2.721271393643032e-05, 'epoch': 4.56}\n"
     ]
    },
    {
     "data": {
      "application/vnd.jupyter.widget-view+json": {
       "model_id": "79ee8fb0a60241f786b94a2941ead42c",
       "version_major": 2,
       "version_minor": 0
      },
      "text/plain": [
       "  0%|          | 0/307 [00:00<?, ?it/s]"
      ]
     },
     "metadata": {},
     "output_type": "display_data"
    },
    {
     "name": "stdout",
     "output_type": "stream",
     "text": [
      "{'eval_loss': 2.6207542419433594, 'eval_cer': 0.0805886475122635, 'eval_runtime': 177.0724, 'eval_samples_per_second': 5.196, 'eval_steps_per_second': 1.734, 'epoch': 4.56}\n",
      "{'loss': 0.2015, 'learning_rate': 2.7008964955175226e-05, 'epoch': 4.6}\n",
      "{'loss': 0.1523, 'learning_rate': 2.6805215973920133e-05, 'epoch': 4.65}\n",
      "{'loss': 0.2095, 'learning_rate': 2.6601466992665036e-05, 'epoch': 4.69}\n",
      "{'loss': 0.1452, 'learning_rate': 2.6397718011409943e-05, 'epoch': 4.73}\n"
     ]
    },
    {
     "data": {
      "application/vnd.jupyter.widget-view+json": {
       "model_id": "51eecde80d514b98b451d39911a09491",
       "version_major": 2,
       "version_minor": 0
      },
      "text/plain": [
       "  0%|          | 0/307 [00:00<?, ?it/s]"
      ]
     },
     "metadata": {},
     "output_type": "display_data"
    },
    {
     "name": "stdout",
     "output_type": "stream",
     "text": [
      "{'eval_loss': 2.997828722000122, 'eval_cer': 0.07918710581639804, 'eval_runtime': 177.1784, 'eval_samples_per_second': 5.193, 'eval_steps_per_second': 1.733, 'epoch': 4.73}\n",
      "{'loss': 0.194, 'learning_rate': 2.6193969030154853e-05, 'epoch': 4.77}\n",
      "{'loss': 0.0727, 'learning_rate': 2.5990220048899756e-05, 'epoch': 4.81}\n",
      "{'loss': 0.1464, 'learning_rate': 2.5786471067644663e-05, 'epoch': 4.85}\n",
      "{'loss': 0.1876, 'learning_rate': 2.558272208638957e-05, 'epoch': 4.89}\n"
     ]
    },
    {
     "data": {
      "application/vnd.jupyter.widget-view+json": {
       "model_id": "547aa1ea1ce6422db161a19a0270a495",
       "version_major": 2,
       "version_minor": 0
      },
      "text/plain": [
       "  0%|          | 0/307 [00:00<?, ?it/s]"
      ]
     },
     "metadata": {},
     "output_type": "display_data"
    },
    {
     "name": "stdout",
     "output_type": "stream",
     "text": [
      "{'eval_loss': 3.1263232231140137, 'eval_cer': 0.06797477224947442, 'eval_runtime': 176.9279, 'eval_samples_per_second': 5.2, 'eval_steps_per_second': 1.735, 'epoch': 4.89}\n",
      "{'loss': 0.1545, 'learning_rate': 2.5378973105134473e-05, 'epoch': 4.93}\n",
      "{'loss': 0.2826, 'learning_rate': 2.5175224123879383e-05, 'epoch': 4.97}\n",
      "{'loss': 0.1557, 'learning_rate': 2.4971475142624287e-05, 'epoch': 5.01}\n",
      "{'loss': 0.1364, 'learning_rate': 2.4767726161369197e-05, 'epoch': 5.05}\n"
     ]
    },
    {
     "data": {
      "application/vnd.jupyter.widget-view+json": {
       "model_id": "4e76ab2365ec4753a0613e9b978185a7",
       "version_major": 2,
       "version_minor": 0
      },
      "text/plain": [
       "  0%|          | 0/307 [00:00<?, ?it/s]"
      ]
     },
     "metadata": {},
     "output_type": "display_data"
    },
    {
     "name": "stdout",
     "output_type": "stream",
     "text": [
      "{'eval_loss': 2.950530529022217, 'eval_cer': 0.1051156271899089, 'eval_runtime': 176.3043, 'eval_samples_per_second': 5.218, 'eval_steps_per_second': 1.741, 'epoch': 5.05}\n",
      "{'loss': 0.0781, 'learning_rate': 2.45639771801141e-05, 'epoch': 5.09}\n",
      "{'loss': 0.1682, 'learning_rate': 2.4360228198859007e-05, 'epoch': 5.13}\n",
      "{'loss': 0.0957, 'learning_rate': 2.4156479217603914e-05, 'epoch': 5.18}\n",
      "{'loss': 0.1384, 'learning_rate': 2.395273023634882e-05, 'epoch': 5.22}\n"
     ]
    },
    {
     "data": {
      "application/vnd.jupyter.widget-view+json": {
       "model_id": "bab69c9c6d0e456e8cacd71f992e550b",
       "version_major": 2,
       "version_minor": 0
      },
      "text/plain": [
       "  0%|          | 0/307 [00:00<?, ?it/s]"
      ]
     },
     "metadata": {},
     "output_type": "display_data"
    },
    {
     "name": "stdout",
     "output_type": "stream",
     "text": [
      "{'eval_loss': 2.7251479625701904, 'eval_cer': 0.07498248072880168, 'eval_runtime': 176.5432, 'eval_samples_per_second': 5.211, 'eval_steps_per_second': 1.739, 'epoch': 5.22}\n",
      "{'loss': 0.1493, 'learning_rate': 2.3748981255093724e-05, 'epoch': 5.26}\n",
      "{'loss': 0.1546, 'learning_rate': 2.3545232273838634e-05, 'epoch': 5.3}\n",
      "{'loss': 0.2197, 'learning_rate': 2.3341483292583537e-05, 'epoch': 5.34}\n",
      "{'loss': 0.1783, 'learning_rate': 2.3137734311328444e-05, 'epoch': 5.38}\n"
     ]
    },
    {
     "data": {
      "application/vnd.jupyter.widget-view+json": {
       "model_id": "638cd12f5be442b69ac86cd2020df88c",
       "version_major": 2,
       "version_minor": 0
      },
      "text/plain": [
       "  0%|          | 0/307 [00:00<?, ?it/s]"
      ]
     },
     "metadata": {},
     "output_type": "display_data"
    },
    {
     "name": "stdout",
     "output_type": "stream",
     "text": [
      "{'eval_loss': 2.4856903553009033, 'eval_cer': 0.07358093903293624, 'eval_runtime': 176.3043, 'eval_samples_per_second': 5.218, 'eval_steps_per_second': 1.741, 'epoch': 5.38}\n",
      "{'loss': 0.1285, 'learning_rate': 2.293398533007335e-05, 'epoch': 5.42}\n",
      "{'loss': 0.1236, 'learning_rate': 2.2730236348818257e-05, 'epoch': 5.46}\n",
      "{'loss': 0.2062, 'learning_rate': 2.252648736756316e-05, 'epoch': 5.5}\n",
      "{'loss': 0.1467, 'learning_rate': 2.232273838630807e-05, 'epoch': 5.54}\n"
     ]
    },
    {
     "data": {
      "application/vnd.jupyter.widget-view+json": {
       "model_id": "e42bfdc4050d4ebf8d11fafebda1b244",
       "version_major": 2,
       "version_minor": 0
      },
      "text/plain": [
       "  0%|          | 0/307 [00:00<?, ?it/s]"
      ]
     },
     "metadata": {},
     "output_type": "display_data"
    },
    {
     "name": "stdout",
     "output_type": "stream",
     "text": [
      "{'eval_loss': 2.414505958557129, 'eval_cer': 0.07147862648913805, 'eval_runtime': 177.6426, 'eval_samples_per_second': 5.179, 'eval_steps_per_second': 1.728, 'epoch': 5.54}\n",
      "{'loss': 0.1329, 'learning_rate': 2.2118989405052974e-05, 'epoch': 5.58}\n",
      "{'loss': 0.0907, 'learning_rate': 2.191524042379788e-05, 'epoch': 5.62}\n",
      "{'loss': 0.0402, 'learning_rate': 2.1711491442542788e-05, 'epoch': 5.66}\n",
      "{'loss': 0.1333, 'learning_rate': 2.1507742461287694e-05, 'epoch': 5.7}\n"
     ]
    },
    {
     "data": {
      "application/vnd.jupyter.widget-view+json": {
       "model_id": "1fae6d55e5b4415b81f56127000a860a",
       "version_major": 2,
       "version_minor": 0
      },
      "text/plain": [
       "  0%|          | 0/307 [00:00<?, ?it/s]"
      ]
     },
     "metadata": {},
     "output_type": "display_data"
    },
    {
     "name": "stdout",
     "output_type": "stream",
     "text": [
      "{'eval_loss': 2.702903985977173, 'eval_cer': 0.06867554309740714, 'eval_runtime': 176.3682, 'eval_samples_per_second': 5.216, 'eval_steps_per_second': 1.741, 'epoch': 5.7}\n",
      "{'loss': 0.0557, 'learning_rate': 2.13039934800326e-05, 'epoch': 5.75}\n",
      "{'loss': 0.1884, 'learning_rate': 2.1100244498777508e-05, 'epoch': 5.79}\n",
      "{'loss': 0.117, 'learning_rate': 2.0896495517522415e-05, 'epoch': 5.83}\n",
      "{'loss': 0.1141, 'learning_rate': 2.0692746536267318e-05, 'epoch': 5.87}\n"
     ]
    },
    {
     "data": {
      "application/vnd.jupyter.widget-view+json": {
       "model_id": "5b81b3ffbfc44f799ab04c9c49c506ce",
       "version_major": 2,
       "version_minor": 0
      },
      "text/plain": [
       "  0%|          | 0/307 [00:00<?, ?it/s]"
      ]
     },
     "metadata": {},
     "output_type": "display_data"
    },
    {
     "name": "stdout",
     "output_type": "stream",
     "text": [
      "{'eval_loss': 3.0232114791870117, 'eval_cer': 0.0700770847932726, 'eval_runtime': 177.2789, 'eval_samples_per_second': 5.19, 'eval_steps_per_second': 1.732, 'epoch': 5.87}\n",
      "{'loss': 0.0542, 'learning_rate': 2.0488997555012228e-05, 'epoch': 5.91}\n",
      "{'loss': 0.1077, 'learning_rate': 2.028524857375713e-05, 'epoch': 5.95}\n",
      "{'loss': 0.0866, 'learning_rate': 2.0081499592502038e-05, 'epoch': 5.99}\n",
      "{'loss': 0.0733, 'learning_rate': 1.9877750611246945e-05, 'epoch': 6.03}\n"
     ]
    },
    {
     "data": {
      "application/vnd.jupyter.widget-view+json": {
       "model_id": "73f3004f3a814a36840c28cfc653d023",
       "version_major": 2,
       "version_minor": 0
      },
      "text/plain": [
       "  0%|          | 0/307 [00:00<?, ?it/s]"
      ]
     },
     "metadata": {},
     "output_type": "display_data"
    },
    {
     "name": "stdout",
     "output_type": "stream",
     "text": [
      "{'eval_loss': 2.934936046600342, 'eval_cer': 0.06166783461807989, 'eval_runtime': 177.1538, 'eval_samples_per_second': 5.193, 'eval_steps_per_second': 1.733, 'epoch': 6.03}\n",
      "{'loss': 0.1203, 'learning_rate': 1.9674001629991852e-05, 'epoch': 6.07}\n",
      "{'loss': 0.0596, 'learning_rate': 1.9470252648736755e-05, 'epoch': 6.11}\n",
      "{'loss': 0.0855, 'learning_rate': 1.9266503667481665e-05, 'epoch': 6.15}\n",
      "{'loss': 0.0902, 'learning_rate': 1.906275468622657e-05, 'epoch': 6.19}\n"
     ]
    },
    {
     "data": {
      "application/vnd.jupyter.widget-view+json": {
       "model_id": "738f3ef6cf594eb8aeb6b3c1232f1eb9",
       "version_major": 2,
       "version_minor": 0
      },
      "text/plain": [
       "  0%|          | 0/307 [00:00<?, ?it/s]"
      ]
     },
     "metadata": {},
     "output_type": "display_data"
    },
    {
     "name": "stdout",
     "output_type": "stream",
     "text": [
      "{'eval_loss': 2.5690298080444336, 'eval_cer': 0.07428170988086896, 'eval_runtime': 176.9396, 'eval_samples_per_second': 5.2, 'eval_steps_per_second': 1.735, 'epoch': 6.19}\n",
      "{'loss': 0.1148, 'learning_rate': 1.8859005704971475e-05, 'epoch': 6.23}\n",
      "{'loss': 0.0997, 'learning_rate': 1.8655256723716382e-05, 'epoch': 6.28}\n",
      "{'loss': 0.0894, 'learning_rate': 1.845150774246129e-05, 'epoch': 6.32}\n",
      "{'loss': 0.089, 'learning_rate': 1.8247758761206196e-05, 'epoch': 6.36}\n"
     ]
    },
    {
     "data": {
      "application/vnd.jupyter.widget-view+json": {
       "model_id": "1190913c3de54a0d8afb37bd7b0722c1",
       "version_major": 2,
       "version_minor": 0
      },
      "text/plain": [
       "  0%|          | 0/307 [00:00<?, ?it/s]"
      ]
     },
     "metadata": {},
     "output_type": "display_data"
    },
    {
     "name": "stdout",
     "output_type": "stream",
     "text": [
      "{'eval_loss': 2.992631196975708, 'eval_cer': 0.053258584442887176, 'eval_runtime': 176.3946, 'eval_samples_per_second': 5.216, 'eval_steps_per_second': 1.74, 'epoch': 6.36}\n",
      "{'loss': 0.0755, 'learning_rate': 1.8044009779951102e-05, 'epoch': 6.4}\n",
      "{'loss': 0.0524, 'learning_rate': 1.7840260798696006e-05, 'epoch': 6.44}\n",
      "{'loss': 0.011, 'learning_rate': 1.7636511817440916e-05, 'epoch': 6.48}\n",
      "{'loss': 0.1283, 'learning_rate': 1.7436837815810923e-05, 'epoch': 6.52}\n"
     ]
    },
    {
     "data": {
      "application/vnd.jupyter.widget-view+json": {
       "model_id": "6bda9c6f2d4a481586ef300567a809cf",
       "version_major": 2,
       "version_minor": 0
      },
      "text/plain": [
       "  0%|          | 0/307 [00:00<?, ?it/s]"
      ]
     },
     "metadata": {},
     "output_type": "display_data"
    },
    {
     "name": "stdout",
     "output_type": "stream",
     "text": [
      "{'eval_loss': 3.1244170665740967, 'eval_cer': 0.05746320953048353, 'eval_runtime': 176.5553, 'eval_samples_per_second': 5.211, 'eval_steps_per_second': 1.739, 'epoch': 6.52}\n",
      "{'loss': 0.1117, 'learning_rate': 1.7233088834555827e-05, 'epoch': 6.56}\n",
      "{'loss': 0.0655, 'learning_rate': 1.7029339853300737e-05, 'epoch': 6.6}\n",
      "{'loss': 0.0614, 'learning_rate': 1.682559087204564e-05, 'epoch': 6.64}\n",
      "{'loss': 0.0954, 'learning_rate': 1.6621841890790547e-05, 'epoch': 6.68}\n"
     ]
    },
    {
     "data": {
      "application/vnd.jupyter.widget-view+json": {
       "model_id": "4058db1333cf4a759041be3914a45228",
       "version_major": 2,
       "version_minor": 0
      },
      "text/plain": [
       "  0%|          | 0/307 [00:00<?, ?it/s]"
      ]
     },
     "metadata": {},
     "output_type": "display_data"
    },
    {
     "name": "stdout",
     "output_type": "stream",
     "text": [
      "{'eval_loss': 3.102292776107788, 'eval_cer': 0.06306937631394534, 'eval_runtime': 176.4652, 'eval_samples_per_second': 5.213, 'eval_steps_per_second': 1.74, 'epoch': 6.68}\n",
      "{'loss': 0.0341, 'learning_rate': 1.6418092909535454e-05, 'epoch': 6.72}\n",
      "{'loss': 0.0501, 'learning_rate': 1.621434392828036e-05, 'epoch': 6.76}\n",
      "{'loss': 0.0426, 'learning_rate': 1.6010594947025264e-05, 'epoch': 6.81}\n",
      "{'loss': 0.0387, 'learning_rate': 1.5806845965770174e-05, 'epoch': 6.85}\n"
     ]
    },
    {
     "data": {
      "application/vnd.jupyter.widget-view+json": {
       "model_id": "f775f4ec915d43b4974b13979660dcc2",
       "version_major": 2,
       "version_minor": 0
      },
      "text/plain": [
       "  0%|          | 0/307 [00:00<?, ?it/s]"
      ]
     },
     "metadata": {},
     "output_type": "display_data"
    },
    {
     "name": "stdout",
     "output_type": "stream",
     "text": [
      "{'eval_loss': 3.5579233169555664, 'eval_cer': 0.0672740014015417, 'eval_runtime': 176.4787, 'eval_samples_per_second': 5.213, 'eval_steps_per_second': 1.74, 'epoch': 6.85}\n",
      "{'loss': 0.0402, 'learning_rate': 1.5603096984515077e-05, 'epoch': 6.89}\n",
      "{'loss': 0.1076, 'learning_rate': 1.5399348003259984e-05, 'epoch': 6.93}\n",
      "{'loss': 0.0307, 'learning_rate': 1.5195599022004892e-05, 'epoch': 6.97}\n",
      "{'loss': 0.0282, 'learning_rate': 1.4991850040749797e-05, 'epoch': 7.01}\n"
     ]
    },
    {
     "data": {
      "application/vnd.jupyter.widget-view+json": {
       "model_id": "4c47931543384f4fb764b1a409982515",
       "version_major": 2,
       "version_minor": 0
      },
      "text/plain": [
       "  0%|          | 0/307 [00:00<?, ?it/s]"
      ]
     },
     "metadata": {},
     "output_type": "display_data"
    },
    {
     "name": "stdout",
     "output_type": "stream",
     "text": [
      "{'eval_loss': 3.245170831680298, 'eval_cer': 0.06377014716187807, 'eval_runtime': 177.4627, 'eval_samples_per_second': 5.184, 'eval_steps_per_second': 1.73, 'epoch': 7.01}\n",
      "{'loss': 0.0657, 'learning_rate': 1.4788101059494702e-05, 'epoch': 7.05}\n",
      "{'loss': 0.0359, 'learning_rate': 1.4584352078239611e-05, 'epoch': 7.09}\n",
      "{'loss': 0.078, 'learning_rate': 1.4380603096984516e-05, 'epoch': 7.13}\n",
      "{'loss': 0.0568, 'learning_rate': 1.4176854115729421e-05, 'epoch': 7.17}\n"
     ]
    },
    {
     "data": {
      "application/vnd.jupyter.widget-view+json": {
       "model_id": "90993a04ca3d471cbb09356d55d05e6c",
       "version_major": 2,
       "version_minor": 0
      },
      "text/plain": [
       "  0%|          | 0/307 [00:00<?, ?it/s]"
      ]
     },
     "metadata": {},
     "output_type": "display_data"
    },
    {
     "name": "stdout",
     "output_type": "stream",
     "text": [
      "{'eval_loss': 2.515720844268799, 'eval_cer': 0.0672740014015417, 'eval_runtime': 176.8542, 'eval_samples_per_second': 5.202, 'eval_steps_per_second': 1.736, 'epoch': 7.17}\n",
      "{'loss': 0.0848, 'learning_rate': 1.397310513447433e-05, 'epoch': 7.21}\n",
      "{'loss': 0.0665, 'learning_rate': 1.3769356153219234e-05, 'epoch': 7.25}\n",
      "{'loss': 0.0644, 'learning_rate': 1.356560717196414e-05, 'epoch': 7.29}\n",
      "{'loss': 0.0235, 'learning_rate': 1.3361858190709048e-05, 'epoch': 7.33}\n"
     ]
    },
    {
     "data": {
      "application/vnd.jupyter.widget-view+json": {
       "model_id": "92482c0703cc425fb86e786a9078a3d6",
       "version_major": 2,
       "version_minor": 0
      },
      "text/plain": [
       "  0%|          | 0/307 [00:00<?, ?it/s]"
      ]
     },
     "metadata": {},
     "output_type": "display_data"
    },
    {
     "name": "stdout",
     "output_type": "stream",
     "text": [
      "{'eval_loss': 3.1509268283843994, 'eval_cer': 0.06937631394533987, 'eval_runtime': 173.4592, 'eval_samples_per_second': 5.304, 'eval_steps_per_second': 1.77, 'epoch': 7.33}\n",
      "{'loss': 0.0683, 'learning_rate': 1.3158109209453953e-05, 'epoch': 7.38}\n",
      "{'loss': 0.0826, 'learning_rate': 1.2954360228198858e-05, 'epoch': 7.42}\n",
      "{'loss': 0.0356, 'learning_rate': 1.2750611246943767e-05, 'epoch': 7.46}\n",
      "{'loss': 0.0002, 'learning_rate': 1.2546862265688672e-05, 'epoch': 7.5}\n"
     ]
    },
    {
     "data": {
      "application/vnd.jupyter.widget-view+json": {
       "model_id": "828f5977379f4bfe8d3f0406fa717a41",
       "version_major": 2,
       "version_minor": 0
      },
      "text/plain": [
       "  0%|          | 0/307 [00:00<?, ?it/s]"
      ]
     },
     "metadata": {},
     "output_type": "display_data"
    },
    {
     "name": "stdout",
     "output_type": "stream",
     "text": [
      "{'eval_loss': 3.621946096420288, 'eval_cer': 0.0644709180098108, 'eval_runtime': 172.9794, 'eval_samples_per_second': 5.319, 'eval_steps_per_second': 1.775, 'epoch': 7.5}\n",
      "{'loss': 0.0747, 'learning_rate': 1.2343113284433578e-05, 'epoch': 7.54}\n",
      "{'loss': 0.0841, 'learning_rate': 1.2139364303178483e-05, 'epoch': 7.58}\n",
      "{'loss': 0.0308, 'learning_rate': 1.193561532192339e-05, 'epoch': 7.62}\n",
      "{'loss': 0.0192, 'learning_rate': 1.1731866340668297e-05, 'epoch': 7.66}\n"
     ]
    },
    {
     "data": {
      "application/vnd.jupyter.widget-view+json": {
       "model_id": "425b90da8b8443279f1d41f7fb950142",
       "version_major": 2,
       "version_minor": 0
      },
      "text/plain": [
       "  0%|          | 0/307 [00:00<?, ?it/s]"
      ]
     },
     "metadata": {},
     "output_type": "display_data"
    },
    {
     "name": "stdout",
     "output_type": "stream",
     "text": [
      "{'eval_loss': 3.9001097679138184, 'eval_cer': 0.08689558514365803, 'eval_runtime': 172.888, 'eval_samples_per_second': 5.321, 'eval_steps_per_second': 1.776, 'epoch': 7.66}\n",
      "{'loss': 0.051, 'learning_rate': 1.1528117359413204e-05, 'epoch': 7.7}\n",
      "{'loss': 0.0595, 'learning_rate': 1.1324368378158109e-05, 'epoch': 7.74}\n",
      "{'loss': 0.039, 'learning_rate': 1.1120619396903015e-05, 'epoch': 7.78}\n",
      "{'loss': 0.0365, 'learning_rate': 1.0916870415647922e-05, 'epoch': 7.82}\n"
     ]
    },
    {
     "data": {
      "application/vnd.jupyter.widget-view+json": {
       "model_id": "b866ce87c8084d648684750f2466d2fd",
       "version_major": 2,
       "version_minor": 0
      },
      "text/plain": [
       "  0%|          | 0/307 [00:00<?, ?it/s]"
      ]
     },
     "metadata": {},
     "output_type": "display_data"
    },
    {
     "name": "stdout",
     "output_type": "stream",
     "text": [
      "{'eval_loss': 2.926748275756836, 'eval_cer': 0.07077785564120533, 'eval_runtime': 173.2003, 'eval_samples_per_second': 5.312, 'eval_steps_per_second': 1.773, 'epoch': 7.82}\n",
      "{'loss': 0.032, 'learning_rate': 1.0713121434392829e-05, 'epoch': 7.86}\n",
      "{'loss': 0.0215, 'learning_rate': 1.0509372453137736e-05, 'epoch': 7.91}\n",
      "{'loss': 0.0414, 'learning_rate': 1.0305623471882642e-05, 'epoch': 7.95}\n",
      "{'loss': 0.0342, 'learning_rate': 1.0101874490627547e-05, 'epoch': 7.99}\n"
     ]
    },
    {
     "data": {
      "application/vnd.jupyter.widget-view+json": {
       "model_id": "0d0e2c80d1f1480f9128bee044baf989",
       "version_major": 2,
       "version_minor": 0
      },
      "text/plain": [
       "  0%|          | 0/307 [00:00<?, ?it/s]"
      ]
     },
     "metadata": {},
     "output_type": "display_data"
    },
    {
     "name": "stdout",
     "output_type": "stream",
     "text": [
      "{'eval_loss': 3.337031602859497, 'eval_cer': 0.0539593552908199, 'eval_runtime': 173.7102, 'eval_samples_per_second': 5.296, 'eval_steps_per_second': 1.767, 'epoch': 7.99}\n",
      "{'loss': 0.0486, 'learning_rate': 9.898125509372454e-06, 'epoch': 8.03}\n",
      "{'loss': 0.0241, 'learning_rate': 9.694376528117361e-06, 'epoch': 8.07}\n",
      "{'loss': 0.0557, 'learning_rate': 9.490627546862266e-06, 'epoch': 8.11}\n",
      "{'loss': 0.043, 'learning_rate': 9.286878565607173e-06, 'epoch': 8.15}\n"
     ]
    },
    {
     "data": {
      "application/vnd.jupyter.widget-view+json": {
       "model_id": "0e9cd6e4c0d94788bc5acf6c9486584b",
       "version_major": 2,
       "version_minor": 0
      },
      "text/plain": [
       "  0%|          | 0/307 [00:00<?, ?it/s]"
      ]
     },
     "metadata": {},
     "output_type": "display_data"
    },
    {
     "name": "stdout",
     "output_type": "stream",
     "text": [
      "{'eval_loss': 3.2783429622650146, 'eval_cer': 0.06306937631394534, 'eval_runtime': 172.7612, 'eval_samples_per_second': 5.325, 'eval_steps_per_second': 1.777, 'epoch': 8.15}\n",
      "{'loss': 0.0123, 'learning_rate': 9.08312958435208e-06, 'epoch': 8.19}\n",
      "{'loss': 0.0351, 'learning_rate': 8.879380603096985e-06, 'epoch': 8.23}\n",
      "{'loss': 0.066, 'learning_rate': 8.675631621841891e-06, 'epoch': 8.27}\n",
      "{'loss': 0.0171, 'learning_rate': 8.471882640586798e-06, 'epoch': 8.31}\n"
     ]
    },
    {
     "data": {
      "application/vnd.jupyter.widget-view+json": {
       "model_id": "f23a93d175f24945a904ff7c66760ad3",
       "version_major": 2,
       "version_minor": 0
      },
      "text/plain": [
       "  0%|          | 0/307 [00:00<?, ?it/s]"
      ]
     },
     "metadata": {},
     "output_type": "display_data"
    },
    {
     "name": "stdout",
     "output_type": "stream",
     "text": [
      "{'eval_loss': 3.1452858448028564, 'eval_cer': 0.06166783461807989, 'eval_runtime': 172.991, 'eval_samples_per_second': 5.318, 'eval_steps_per_second': 1.775, 'epoch': 8.31}\n",
      "{'loss': 0.0002, 'learning_rate': 8.268133659331703e-06, 'epoch': 8.35}\n",
      "{'loss': 0.0157, 'learning_rate': 8.06438467807661e-06, 'epoch': 8.39}\n",
      "{'loss': 0.0307, 'learning_rate': 7.860635696821517e-06, 'epoch': 8.44}\n",
      "{'loss': 0.001, 'learning_rate': 7.656886715566422e-06, 'epoch': 8.48}\n"
     ]
    },
    {
     "data": {
      "application/vnd.jupyter.widget-view+json": {
       "model_id": "2bf4497c1a73446295f191e190fc8ef1",
       "version_major": 2,
       "version_minor": 0
      },
      "text/plain": [
       "  0%|          | 0/307 [00:00<?, ?it/s]"
      ]
     },
     "metadata": {},
     "output_type": "display_data"
    },
    {
     "name": "stdout",
     "output_type": "stream",
     "text": [
      "{'eval_loss': 3.554133892059326, 'eval_cer': 0.07217939733707078, 'eval_runtime': 173.2446, 'eval_samples_per_second': 5.31, 'eval_steps_per_second': 1.772, 'epoch': 8.48}\n",
      "{'loss': 0.0004, 'learning_rate': 7.453137734311328e-06, 'epoch': 8.52}\n",
      "{'loss': 0.0283, 'learning_rate': 7.249388753056235e-06, 'epoch': 8.56}\n",
      "{'loss': 0.0178, 'learning_rate': 7.045639771801141e-06, 'epoch': 8.6}\n",
      "{'loss': 0.044, 'learning_rate': 6.841890790546048e-06, 'epoch': 8.64}\n"
     ]
    },
    {
     "data": {
      "application/vnd.jupyter.widget-view+json": {
       "model_id": "9b0d6d0e339c4502ac1290ed69d4ba81",
       "version_major": 2,
       "version_minor": 0
      },
      "text/plain": [
       "  0%|          | 0/307 [00:00<?, ?it/s]"
      ]
     },
     "metadata": {},
     "output_type": "display_data"
    },
    {
     "name": "stdout",
     "output_type": "stream",
     "text": [
      "{'eval_loss': 3.595508337020874, 'eval_cer': 0.05185704274702172, 'eval_runtime': 172.6923, 'eval_samples_per_second': 5.327, 'eval_steps_per_second': 1.778, 'epoch': 8.64}\n",
      "{'loss': 0.0349, 'learning_rate': 6.6381418092909545e-06, 'epoch': 8.68}\n",
      "{'loss': 0.0001, 'learning_rate': 6.4343928280358596e-06, 'epoch': 8.72}\n",
      "{'loss': 0.0001, 'learning_rate': 6.230643846780766e-06, 'epoch': 8.76}\n",
      "{'loss': 0.0475, 'learning_rate': 6.026894865525673e-06, 'epoch': 8.8}\n"
     ]
    },
    {
     "data": {
      "application/vnd.jupyter.widget-view+json": {
       "model_id": "0be42689209741378d7297c2792609a7",
       "version_major": 2,
       "version_minor": 0
      },
      "text/plain": [
       "  0%|          | 0/307 [00:00<?, ?it/s]"
      ]
     },
     "metadata": {},
     "output_type": "display_data"
    },
    {
     "name": "stdout",
     "output_type": "stream",
     "text": [
      "{'eval_loss': 3.8046822547912598, 'eval_cer': 0.0539593552908199, 'eval_runtime': 175.3375, 'eval_samples_per_second': 5.247, 'eval_steps_per_second': 1.751, 'epoch': 8.8}\n",
      "{'loss': 0.0231, 'learning_rate': 5.823145884270579e-06, 'epoch': 8.84}\n",
      "{'loss': 0.0374, 'learning_rate': 5.619396903015485e-06, 'epoch': 8.88}\n",
      "{'loss': 0.0123, 'learning_rate': 5.415647921760392e-06, 'epoch': 8.92}\n",
      "{'loss': 0.0297, 'learning_rate': 5.2118989405052975e-06, 'epoch': 8.96}\n"
     ]
    },
    {
     "data": {
      "application/vnd.jupyter.widget-view+json": {
       "model_id": "eac7d5589889415699e866ac839d31ac",
       "version_major": 2,
       "version_minor": 0
      },
      "text/plain": [
       "  0%|          | 0/307 [00:00<?, ?it/s]"
      ]
     },
     "metadata": {},
     "output_type": "display_data"
    },
    {
     "name": "stdout",
     "output_type": "stream",
     "text": [
      "{'eval_loss': 3.625258445739746, 'eval_cer': 0.06166783461807989, 'eval_runtime': 177.2915, 'eval_samples_per_second': 5.189, 'eval_steps_per_second': 1.732, 'epoch': 8.96}\n",
      "{'loss': 0.0587, 'learning_rate': 5.008149959250203e-06, 'epoch': 9.01}\n",
      "{'loss': 0.0251, 'learning_rate': 4.80440097799511e-06, 'epoch': 9.05}\n",
      "{'loss': 0.0178, 'learning_rate': 4.600651996740017e-06, 'epoch': 9.09}\n",
      "{'loss': 0.0442, 'learning_rate': 4.396903015484923e-06, 'epoch': 9.13}\n"
     ]
    },
    {
     "data": {
      "application/vnd.jupyter.widget-view+json": {
       "model_id": "692ea5785e544ffd96099ea4090c0177",
       "version_major": 2,
       "version_minor": 0
      },
      "text/plain": [
       "  0%|          | 0/307 [00:00<?, ?it/s]"
      ]
     },
     "metadata": {},
     "output_type": "display_data"
    },
    {
     "name": "stdout",
     "output_type": "stream",
     "text": [
      "{'eval_loss': 3.6338086128234863, 'eval_cer': 0.05536089698668535, 'eval_runtime': 177.7341, 'eval_samples_per_second': 5.176, 'eval_steps_per_second': 1.727, 'epoch': 9.13}\n",
      "{'loss': 0.0192, 'learning_rate': 4.1931540342298295e-06, 'epoch': 9.17}\n",
      "{'loss': 0.0132, 'learning_rate': 3.9894050529747354e-06, 'epoch': 9.21}\n",
      "{'loss': 0.0228, 'learning_rate': 3.7856560717196413e-06, 'epoch': 9.25}\n",
      "{'loss': 0.0001, 'learning_rate': 3.581907090464548e-06, 'epoch': 9.29}\n"
     ]
    },
    {
     "data": {
      "application/vnd.jupyter.widget-view+json": {
       "model_id": "30d60112767344f9b27a930ab3564001",
       "version_major": 2,
       "version_minor": 0
      },
      "text/plain": [
       "  0%|          | 0/307 [00:00<?, ?it/s]"
      ]
     },
     "metadata": {},
     "output_type": "display_data"
    },
    {
     "name": "stdout",
     "output_type": "stream",
     "text": [
      "{'eval_loss': 3.8500759601593018, 'eval_cer': 0.05185704274702172, 'eval_runtime': 177.4144, 'eval_samples_per_second': 5.186, 'eval_steps_per_second': 1.73, 'epoch': 9.29}\n",
      "{'loss': 0.0169, 'learning_rate': 3.378158109209454e-06, 'epoch': 9.33}\n",
      "{'loss': 0.026, 'learning_rate': 3.1744091279543607e-06, 'epoch': 9.37}\n",
      "{'loss': 0.0004, 'learning_rate': 2.9706601466992666e-06, 'epoch': 9.41}\n",
      "{'loss': 0.0082, 'learning_rate': 2.766911165444173e-06, 'epoch': 9.45}\n"
     ]
    },
    {
     "data": {
      "application/vnd.jupyter.widget-view+json": {
       "model_id": "0b4d4143d66444aca6a622617a0800d5",
       "version_major": 2,
       "version_minor": 0
      },
      "text/plain": [
       "  0%|          | 0/307 [00:00<?, ?it/s]"
      ]
     },
     "metadata": {},
     "output_type": "display_data"
    },
    {
     "name": "stdout",
     "output_type": "stream",
     "text": [
      "{'eval_loss': 3.887356758117676, 'eval_cer': 0.05185704274702172, 'eval_runtime': 177.5209, 'eval_samples_per_second': 5.182, 'eval_steps_per_second': 1.729, 'epoch': 9.45}\n",
      "{'loss': 0.0001, 'learning_rate': 2.5631621841890793e-06, 'epoch': 9.49}\n",
      "{'loss': 0.0096, 'learning_rate': 2.3594132029339856e-06, 'epoch': 9.54}\n",
      "{'loss': 0.0005, 'learning_rate': 2.155664221678892e-06, 'epoch': 9.58}\n",
      "{'loss': 0.0254, 'learning_rate': 1.951915240423798e-06, 'epoch': 9.62}\n"
     ]
    },
    {
     "data": {
      "application/vnd.jupyter.widget-view+json": {
       "model_id": "b36bc619165b4c2f9bb8d2d7d9b7d731",
       "version_major": 2,
       "version_minor": 0
      },
      "text/plain": [
       "  0%|          | 0/307 [00:00<?, ?it/s]"
      ]
     },
     "metadata": {},
     "output_type": "display_data"
    },
    {
     "name": "stdout",
     "output_type": "stream",
     "text": [
      "{'eval_loss': 3.7880585193634033, 'eval_cer': 0.046951646811492644, 'eval_runtime': 176.9245, 'eval_samples_per_second': 5.2, 'eval_steps_per_second': 1.735, 'epoch': 9.62}\n",
      "{'loss': 0.0113, 'learning_rate': 1.7481662591687043e-06, 'epoch': 9.66}\n",
      "{'loss': 0.0002, 'learning_rate': 1.5444172779136105e-06, 'epoch': 9.7}\n",
      "{'loss': 0.0001, 'learning_rate': 1.3406682966585168e-06, 'epoch': 9.74}\n",
      "{'loss': 0.0001, 'learning_rate': 1.136919315403423e-06, 'epoch': 9.78}\n"
     ]
    },
    {
     "data": {
      "application/vnd.jupyter.widget-view+json": {
       "model_id": "62e18ee9e20b4376b4746b7d5665165b",
       "version_major": 2,
       "version_minor": 0
      },
      "text/plain": [
       "  0%|          | 0/307 [00:00<?, ?it/s]"
      ]
     },
     "metadata": {},
     "output_type": "display_data"
    },
    {
     "name": "stdout",
     "output_type": "stream",
     "text": [
      "{'eval_loss': 3.7863364219665527, 'eval_cer': 0.04484933426769446, 'eval_runtime': 177.1418, 'eval_samples_per_second': 5.194, 'eval_steps_per_second': 1.733, 'epoch': 9.78}\n",
      "{'loss': 0.0001, 'learning_rate': 9.331703341483293e-07, 'epoch': 9.82}\n",
      "{'loss': 0.0257, 'learning_rate': 7.334963325183375e-07, 'epoch': 9.86}\n",
      "{'loss': 0.0362, 'learning_rate': 5.297473512632438e-07, 'epoch': 9.9}\n",
      "{'loss': 0.009, 'learning_rate': 3.2599837000814994e-07, 'epoch': 9.94}\n"
     ]
    },
    {
     "data": {
      "application/vnd.jupyter.widget-view+json": {
       "model_id": "1386d2de6e144d60846a655d43cf744a",
       "version_major": 2,
       "version_minor": 0
      },
      "text/plain": [
       "  0%|          | 0/307 [00:00<?, ?it/s]"
      ]
     },
     "metadata": {},
     "output_type": "display_data"
    },
    {
     "name": "stdout",
     "output_type": "stream",
     "text": [
      "{'eval_loss': 3.7123093605041504, 'eval_cer': 0.04555010511562719, 'eval_runtime': 176.81, 'eval_samples_per_second': 5.203, 'eval_steps_per_second': 1.736, 'epoch': 9.94}\n",
      "{'loss': 0.0073, 'learning_rate': 1.2224938875305623e-07, 'epoch': 9.98}\n",
      "{'train_runtime': 15861.6971, 'train_samples_per_second': 2.319, 'train_steps_per_second': 0.774, 'train_loss': 0.2888945367067241, 'epoch': 10.0}\n"
     ]
    },
    {
     "data": {
      "text/plain": [
       "TrainOutput(global_step=12270, training_loss=0.2888945367067241, metrics={'train_runtime': 15861.6971, 'train_samples_per_second': 2.319, 'train_steps_per_second': 0.774, 'train_loss': 0.2888945367067241, 'epoch': 10.0})"
      ]
     },
     "execution_count": 16,
     "metadata": {},
     "output_type": "execute_result"
    }
   ],
   "source": [
    "from transformers import default_data_collator\n",
    "\n",
    "# instantiate trainer\n",
    "trainer = Seq2SeqTrainer(\n",
    "    model=model,\n",
    "    tokenizer=processor.feature_extractor,\n",
    "    args=training_args,\n",
    "    compute_metrics=compute_metrics,\n",
    "    train_dataset=train_dataset,\n",
    "    eval_dataset=eval_dataset,\n",
    "    data_collator=default_data_collator,\n",
    ")\n",
    "trainer.train()"
   ]
  },
  {
   "cell_type": "code",
   "execution_count": 20,
   "metadata": {},
   "outputs": [
    {
     "name": "stdout",
     "output_type": "stream",
     "text": [
      "Номер на футболке: 77\n"
     ]
    }
   ],
   "source": [
    "url = \"crops\\\\77\\\\3839example.jpg\"\n",
    "image = Image.open(url).convert(\"RGB\")\n",
    "\n",
    "pixel_values = processor(image, return_tensors=\"pt\").pixel_values\n",
    "generated_ids = model.generate(pixel_values.cuda())\n",
    "\n",
    "\n",
    "generated_text = processor.batch_decode(generated_ids, skip_special_tokens=True)[0]\n",
    "print(f'Номер на футболке: {generated_text}')"
   ]
  },
  {
   "cell_type": "code",
   "execution_count": null,
   "metadata": {},
   "outputs": [],
   "source": []
  }
 ],
 "metadata": {
  "kernelspec": {
   "display_name": "workenv",
   "language": "python",
   "name": "python3"
  },
  "language_info": {
   "codemirror_mode": {
    "name": "ipython",
    "version": 3
   },
   "file_extension": ".py",
   "mimetype": "text/x-python",
   "name": "python",
   "nbconvert_exporter": "python",
   "pygments_lexer": "ipython3",
   "version": "3.9.12"
  },
  "orig_nbformat": 4,
  "vscode": {
   "interpreter": {
    "hash": "dd7ce5ea1f167f6e2c49b5b6f21b70d6e0deeed3d013e0c08f1a51e941577a63"
   }
  }
 },
 "nbformat": 4,
 "nbformat_minor": 2
}
