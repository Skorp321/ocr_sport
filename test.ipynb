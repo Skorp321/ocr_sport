{
 "cells": [
  {
   "cell_type": "code",
   "execution_count": 71,
   "metadata": {},
   "outputs": [],
   "source": [
    "import xml.etree.ElementTree as ET\n",
    "from PIL import Image\n",
    "import os\n",
    "import pandas as pd\n",
    "import json\n",
    "import cv2\n",
    "import matplotlib.pyplot as plt\n",
    "from tqdm import tqdm\n",
    "from torch.utils.data import random_split, DataLoader, Dataset\n",
    "\n",
    "import torch\n",
    "from torchvision import datasets, transforms"
   ]
  },
  {
   "cell_type": "code",
   "execution_count": null,
   "metadata": {},
   "outputs": [],
   "source": [
    "%pip install -q transformers"
   ]
  },
  {
   "attachments": {},
   "cell_type": "markdown",
   "metadata": {},
   "source": [
    "Найдем все папки в которых лежит вайл с аннотацией"
   ]
  },
  {
   "cell_type": "code",
   "execution_count": 2,
   "metadata": {},
   "outputs": [],
   "source": [
    "\n",
    "crop_path = \"C:\\\\Users\\\\Mytre\\\\OneDrive\\\\Документы\\\\Data\\\\Work\\\\crops\"\n",
    "absolute_path = \"C:\\\\Users\\\\Mytre\\\\OneDrive\\\\Документы\\\\Data\\\\Work\\\\data\\\\BallerTV\"\n",
    "\n",
    "if not os.path.exists(crop_path):\n",
    "    os.makedirs(crop_path)\n",
    "\n",
    "file_name = 'annotations.xml'\n",
    "\n",
    "anno_pathses = []\n",
    "# пройдемся рекурсивно по всем папкам, начиная с absolute_path\n",
    "for root, dirs, files in os.walk(absolute_path):    \n",
    "    # проверяем, есть ли заданный файл в списке файлов текущей папки\n",
    "    if file_name in files:\n",
    "        # если есть, то добавляем путь в список\n",
    "        anno_pathses.append(os.path.join(root, file_name))      \n",
    "     "
   ]
  },
  {
   "cell_type": "code",
   "execution_count": 3,
   "metadata": {},
   "outputs": [
    {
     "name": "stderr",
     "output_type": "stream",
     "text": [
      " 21%|██        | 22/105 [01:14<04:42,  3.41s/it]\n"
     ]
    },
    {
     "ename": "FileNotFoundError",
     "evalue": "[Errno 2] No such file or directory: 'data\\\\BallerTV/basketball/3_processed/09-08-2022/frames/7683_94590_1658679588_raw/000001.jpeg'",
     "output_type": "error",
     "traceback": [
      "\u001b[1;31m---------------------------------------------------------------------------\u001b[0m",
      "\u001b[1;31mFileNotFoundError\u001b[0m                         Traceback (most recent call last)",
      "Cell \u001b[1;32mIn[3], line 25\u001b[0m\n\u001b[0;32m     22\u001b[0m \u001b[39m# Переберем все baundingbox`s\u001b[39;00m\n\u001b[0;32m     23\u001b[0m \u001b[39mfor\u001b[39;00m box \u001b[39min\u001b[39;00m image\u001b[39m.\u001b[39mfindall(\u001b[39m'\u001b[39m\u001b[39mbox\u001b[39m\u001b[39m'\u001b[39m):\n\u001b[1;32m---> 25\u001b[0m     image \u001b[39m=\u001b[39m Image\u001b[39m.\u001b[39;49mopen(file_name)\n\u001b[0;32m     27\u001b[0m     label \u001b[39m=\u001b[39m box\u001b[39m.\u001b[39mget(\u001b[39m'\u001b[39m\u001b[39mlabel\u001b[39m\u001b[39m'\u001b[39m)\n\u001b[0;32m     29\u001b[0m     \u001b[39m# Проверим является ли метка меткой номера\u001b[39;00m\n",
      "File \u001b[1;32mc:\\Users\\Mytre\\OneDrive\\Документы\\Data\\Work\\workenv\\lib\\site-packages\\PIL\\Image.py:3227\u001b[0m, in \u001b[0;36mopen\u001b[1;34m(fp, mode, formats)\u001b[0m\n\u001b[0;32m   3224\u001b[0m     filename \u001b[39m=\u001b[39m fp\n\u001b[0;32m   3226\u001b[0m \u001b[39mif\u001b[39;00m filename:\n\u001b[1;32m-> 3227\u001b[0m     fp \u001b[39m=\u001b[39m builtins\u001b[39m.\u001b[39;49mopen(filename, \u001b[39m\"\u001b[39;49m\u001b[39mrb\u001b[39;49m\u001b[39m\"\u001b[39;49m)\n\u001b[0;32m   3228\u001b[0m     exclusive_fp \u001b[39m=\u001b[39m \u001b[39mTrue\u001b[39;00m\n\u001b[0;32m   3230\u001b[0m \u001b[39mtry\u001b[39;00m:\n",
      "\u001b[1;31mFileNotFoundError\u001b[0m: [Errno 2] No such file or directory: 'data\\\\BallerTV/basketball/3_processed/09-08-2022/frames/7683_94590_1658679588_raw/000001.jpeg'"
     ]
    }
   ],
   "source": [
    "nums = []\n",
    "num = 0\n",
    "pathes_list = []\n",
    "annos_list = []\n",
    "anno_dict = {'file_name': [], 'text': []}\n",
    "\n",
    "for path in tqdm(anno_pathses):\n",
    "\n",
    "    # Загрузим XML файл\n",
    "    tree = ET.parse(path)\n",
    "\n",
    "    # Получим корневой элемент XML файла\n",
    "    root = tree.getroot()\n",
    "\n",
    "    # Проитерируемся по дочерним элементам корня\n",
    "    for image in root.findall('image'):\n",
    "        \n",
    "        image_id = image.get('id')\n",
    "        file_name = image.get('name')\n",
    "        file_name = 'data\\\\' + file_name\n",
    "\n",
    "        # Переберем все baundingbox`s\n",
    "        for box in image.findall('box'):\n",
    "            \n",
    "            image = Image.open(file_name)\n",
    "           \n",
    "            label = box.get('label')\n",
    "\n",
    "            # Проверим является ли метка меткой номера\n",
    "            if label == \"Jersey\":\n",
    "                xtl = int(float(box.get('xtl')))\n",
    "                ytl = int(float(box.get('ytl')))\n",
    "                xbr = int(float(box.get('xbr')))\n",
    "                ybr = int(float(box.get('ybr')))\n",
    "                number = box.find('attribute[@name=\"number\"]').text\n",
    "\n",
    "                # Сделаем кроп номера на футболке\n",
    "                croppped_image = image.crop((xtl, ytl, xbr, ybr))\n",
    "                full_path = crop_path + '\\\\' + str(number)\n",
    "                num += 1\n",
    "\n",
    "                if not os.path.exists(full_path):\n",
    "                    os.makedirs(full_path)    \n",
    "                    #print(f'Папка {number} создана')  \n",
    "                                  \n",
    "                res_path = full_path +'\\\\' + str(num) + 'example.jpg'\n",
    "\n",
    "                annos_list.append(int(number))\n",
    "                pathes_list.append(res_path )\n",
    "                anno_dict['text'] = annos_list\n",
    "                anno_dict['file_name'] = pathes_list\n",
    "                \n",
    "                croppped_image.save(res_path)\n",
    "\n",
    "                df = pd.DataFrame(anno_dict, index=None)\n",
    "                df.to_csv(\"anno.csv\")\n",
    "df.head()\n"
   ]
  },
  {
   "cell_type": "code",
   "execution_count": 4,
   "metadata": {},
   "outputs": [
    {
     "data": {
      "text/html": [
       "<div>\n",
       "<style scoped>\n",
       "    .dataframe tbody tr th:only-of-type {\n",
       "        vertical-align: middle;\n",
       "    }\n",
       "\n",
       "    .dataframe tbody tr th {\n",
       "        vertical-align: top;\n",
       "    }\n",
       "\n",
       "    .dataframe thead th {\n",
       "        text-align: right;\n",
       "    }\n",
       "</style>\n",
       "<table border=\"1\" class=\"dataframe\">\n",
       "  <thead>\n",
       "    <tr style=\"text-align: right;\">\n",
       "      <th></th>\n",
       "      <th>file_name</th>\n",
       "      <th>text</th>\n",
       "    </tr>\n",
       "  </thead>\n",
       "  <tbody>\n",
       "    <tr>\n",
       "      <th>0</th>\n",
       "      <td>C:\\Users\\Mytre\\OneDrive\\Документы\\Data\\Work\\cr...</td>\n",
       "      <td>1</td>\n",
       "    </tr>\n",
       "    <tr>\n",
       "      <th>1</th>\n",
       "      <td>C:\\Users\\Mytre\\OneDrive\\Документы\\Data\\Work\\cr...</td>\n",
       "      <td>8</td>\n",
       "    </tr>\n",
       "    <tr>\n",
       "      <th>2</th>\n",
       "      <td>C:\\Users\\Mytre\\OneDrive\\Документы\\Data\\Work\\cr...</td>\n",
       "      <td>11</td>\n",
       "    </tr>\n",
       "    <tr>\n",
       "      <th>3</th>\n",
       "      <td>C:\\Users\\Mytre\\OneDrive\\Документы\\Data\\Work\\cr...</td>\n",
       "      <td>3</td>\n",
       "    </tr>\n",
       "    <tr>\n",
       "      <th>4</th>\n",
       "      <td>C:\\Users\\Mytre\\OneDrive\\Документы\\Data\\Work\\cr...</td>\n",
       "      <td>3</td>\n",
       "    </tr>\n",
       "  </tbody>\n",
       "</table>\n",
       "</div>"
      ],
      "text/plain": [
       "                                           file_name  text\n",
       "0  C:\\Users\\Mytre\\OneDrive\\Документы\\Data\\Work\\cr...     1\n",
       "1  C:\\Users\\Mytre\\OneDrive\\Документы\\Data\\Work\\cr...     8\n",
       "2  C:\\Users\\Mytre\\OneDrive\\Документы\\Data\\Work\\cr...    11\n",
       "3  C:\\Users\\Mytre\\OneDrive\\Документы\\Data\\Work\\cr...     3\n",
       "4  C:\\Users\\Mytre\\OneDrive\\Документы\\Data\\Work\\cr...     3"
      ]
     },
     "execution_count": 4,
     "metadata": {},
     "output_type": "execute_result"
    }
   ],
   "source": [
<<<<<<< HEAD
    "nums = []\n",
    "num = 0\n",
    "folder_pathes = []\n",
    "pathes_list = []\n",
    "annos_list = []\n",
    "anno_dict = {'file_name': [], 'text': []}\n",
    "\n",
    "alpha = 0.4\n",
    "\n",
    "for path in tqdm(anno_pathses):\n",
    "\n",
    "    # Загрузим XML файл\n",
    "    tree = ET.parse(path)\n",
    "\n",
    "    # Получим корневой элемент XML файла\n",
    "    root = tree.getroot()\n",
    "\n",
    "    # Проитерируемся по дочерним элементам корня\n",
    "    for image in root.findall('image'):\n",
    "        \n",
    "        image_id = image.get('id')\n",
    "        file_name = image.get('name')\n",
    "        file_name = 'data\\\\' + file_name\n",
<<<<<<< HEAD
    "  \n",
=======
    "        '''\n",
    "        path, file = os.path.split(file_name)\n",
    "        path, folder = os.path.split(path)\n",
    "        \n",
    "        #print(folder)        \n",
    "        for dirpath, dirnames, filenames in os.walk(absolute_path):\n",
    "            print(dirnames)\n",
    "            break\n",
    "            if (folder in dirnames) & ('frames' in dirnames):\n",
    "                \n",
    "                folder_path = os.path.join(dirpath, folder)\n",
    "            #print(folder_path)         \n",
    "        '''\n",
>>>>>>> f3405838f8ba252a58ba35ee443244e14fb6d66d
    "        # Переберем все baundingbox`s\n",
    "        for box in image.findall('box'):\n",
    "            \n",
    "            image = Image.open(file_name)\n",
    "           \n",
    "            label = box.get('label')\n",
    "\n",
    "            # Проверим является ли метка меткой номера\n",
    "            if label == \"Jersey\":\n",
    "                xtl = int(float(box.get('xtl')))\n",
    "                ytl = int(float(box.get('ytl')))\n",
    "                xbr = int(float(box.get('xbr')))\n",
    "                ybr = int(float(box.get('ybr')))\n",
    "                number = box.find('attribute[@name=\"number\"]').text\n",
    "\n",
    "                x_dif = np.abs(xtl - xbr)\n",
    "                y_dif = np.abs(ytl - ybr)\n",
    "\n",
    "                xtl = xtl - alpha * (x_dif / 2)\n",
    "                xbr = xbr + alpha * (x_dif / 2)\n",
    "                ytl = ytl - alpha * (y_dif / 2)\n",
    "                ybr = ybr + alpha * (y_dif / 2)\n",
    "\n",
    "                # Сделаем кроп номера на футболке\n",
    "                croppped_image = image.crop((xtl, ytl, xbr, ybr))\n",
    "                full_path = crop_path + '\\\\' + str(number)\n",
    "                num += 1\n",
    "\n",
    "                if not os.path.exists(full_path):\n",
    "                    os.makedirs(full_path)    \n",
    "                    #print(f'Папка {number} создана')  \n",
    "                                  \n",
    "                res_path = full_path +'\\\\' + str(num) + 'example.jpg'\n",
    "\n",
    "                annos_list.append(int(number))\n",
    "                pathes_list.append(res_path )\n",
    "                anno_dict['text'] = annos_list\n",
    "                anno_dict['file_name'] = pathes_list\n",
    "                \n",
    "                croppped_image.save(res_path)\n",
    "\n",
<<<<<<< HEAD
    "df = pd.DataFrame(anno_dict, index=None)\n",
    "df.to_csv(\"anno.csv\")\n",
=======
    "                df = pd.DataFrame(anno_dict, index=None)\n",
    "                df.to_csv(\"anno.csv\")\n",
>>>>>>> f3405838f8ba252a58ba35ee443244e14fb6d66d
    "df.head()\n"
   ]
  },
  {
   "cell_type": "code",
   "execution_count": null,
   "metadata": {},
   "outputs": [],
   "source": [
    "df = pd.read_csv('anno.csv')\n",
=======
>>>>>>> parent of 5128b5f (compl;ite anno BalllerTV)
    "df.head()"
   ]
  },
  {
   "cell_type": "code",
   "execution_count": 5,
   "metadata": {},
   "outputs": [],
   "source": [
    "from sklearn.model_selection import train_test_split\n",
    "\n",
    "train_df, test_df = train_test_split(df, test_size=0.2)\n",
    "# we reset the indices to start from zero\n",
    "train_df.reset_index(drop=True, inplace=True)\n",
    "test_df.reset_index(drop=True, inplace=True)"
   ]
  },
  {
   "cell_type": "code",
   "execution_count": 6,
   "metadata": {},
   "outputs": [],
   "source": [
    "import torch\n",
    "from torch.utils.data import Dataset\n",
    "from PIL import Image\n",
    "\n",
    "class IAMDataset(Dataset):\n",
    "    def __init__(self, root_dir, df, processor, max_target_length=128):\n",
    "        self.root_dir = root_dir\n",
    "        self.df = df\n",
    "        self.processor = processor\n",
    "        self.max_target_length = max_target_length\n",
    "\n",
    "    def __len__(self):\n",
    "        return len(self.df)\n",
    "\n",
    "    def __getitem__(self, idx):\n",
    "        # get file name + text \n",
    "        file_name = self.df['file_name'][idx]\n",
    "        text = str(self.df['text'][idx])\n",
    "        #print(type(text))\n",
    "        # prepare image (i.e. resize + normalize)\n",
    "        image = Image.open(file_name).convert(\"RGB\")\n",
    "        image = image.resize((32, 100))\n",
    "        pixel_values = self.processor(image, return_tensors=\"pt\").pixel_values\n",
    "        # add labels (input_ids) by encoding the text\n",
    "        labels = self.processor.tokenizer(text, \n",
    "                                          padding=\"max_length\", \n",
    "                                          max_length=self.max_target_length).input_ids\n",
    "        # important: make sure that PAD tokens are ignored by the loss function\n",
    "        labels = [label if label != self.processor.tokenizer.pad_token_id else -100 for label in labels]\n",
    "\n",
    "        encoding = {\"pixel_values\": pixel_values.squeeze(), \"labels\": torch.tensor(labels)}\n",
    "        return encoding"
   ]
  },
  {
   "cell_type": "code",
   "execution_count": 7,
   "metadata": {},
   "outputs": [
    {
     "name": "stderr",
     "output_type": "stream",
     "text": [
      "Could not find image processor class in the image processor config or the model config. Loading based on pattern matching with the model's feature extractor configuration.\n"
     ]
    }
   ],
   "source": [
    "from transformers import TrOCRProcessor\n",
    "\n",
    "processor = TrOCRProcessor.from_pretrained(\"microsoft/trocr-base-handwritten\")\n",
    "train_dataset = IAMDataset(root_dir='C:\\\\Users\\\\Mytre\\\\OneDrive\\\\Документы\\\\Data\\\\Work\\\\',\n",
    "                           df=train_df,\n",
    "                           processor=processor)\n",
    "eval_dataset = IAMDataset(root_dir='C:\\\\Users\\\\Mytre\\\\OneDrive\\\\Документы\\\\Data\\\\Work\\\\',\n",
    "                           df=test_df,\n",
    "                           processor=processor)"
   ]
  },
  {
   "cell_type": "code",
   "execution_count": 8,
   "metadata": {},
   "outputs": [],
   "source": [
    "from transformers import TrOCRProcessor, VisionEncoderDecoderModel\n",
    "import requests\n",
    "from PIL import Image\n",
    "\n",
    "#processor = TrOCRProcessor.from_pretrained(\"microsoft/trocr-base-handwritten\")\n",
    "#model = VisionEncoderDecoderModel.from_pretrained(\"microsoft/trocr-base-handwritten\")"
   ]
  },
  {
   "cell_type": "code",
   "execution_count": 9,
   "metadata": {},
   "outputs": [
    {
     "name": "stdout",
     "output_type": "stream",
     "text": [
      "Number of training examples: 3679\n",
      "Number of validation examples: 920\n"
     ]
    }
   ],
   "source": [
    "print(\"Number of training examples:\", len(train_dataset))\n",
    "print(\"Number of validation examples:\", len(eval_dataset))"
   ]
  },
  {
   "cell_type": "code",
   "execution_count": 10,
   "metadata": {},
   "outputs": [
    {
     "name": "stderr",
     "output_type": "stream",
     "text": [
      "Some weights of VisionEncoderDecoderModel were not initialized from the model checkpoint at microsoft/trocr-base-stage1 and are newly initialized: ['encoder.pooler.dense.weight', 'encoder.pooler.dense.bias']\n",
      "You should probably TRAIN this model on a down-stream task to be able to use it for predictions and inference.\n"
     ]
    }
   ],
   "source": [
    "from transformers import VisionEncoderDecoderModel\n",
    "\n",
    "model = VisionEncoderDecoderModel.from_pretrained(\"microsoft/trocr-base-stage1\")"
   ]
  },
  {
   "attachments": {},
   "cell_type": "markdown",
   "metadata": {},
   "source": [
    "#### В этом блоке мы смотрим в ручном режиме как решает нашу задачу модель из коробки"
   ]
  },
  {
   "cell_type": "code",
   "execution_count": 10,
   "metadata": {},
   "outputs": [
    {
     "name": "stdout",
     "output_type": "stream",
     "text": [
      "Номер на футболке: 5\n"
     ]
    }
   ],
   "source": [
    "url = \"crops\\\\75\\\\3272example.jpg\"\n",
    "image = Image.open(url).convert(\"RGB\")\n",
    "\n",
    "pixel_values = processor(image, return_tensors=\"pt\").pixel_values\n",
    "generated_ids = model.generate(pixel_values)\n",
    "\n",
    "generated_text = processor.batch_decode(generated_ids, skip_special_tokens=True)[0]\n",
    "print(f'Номер на футболке: {generated_text}')"
   ]
  },
  {
   "cell_type": "code",
   "execution_count": 22,
   "metadata": {},
   "outputs": [],
   "source": [
    "transform = transforms.Compose(\n",
    "        [transforms.RandomResizedCrop(224), \n",
    "         transforms.ToTensor()])"
   ]
  },
  {
   "cell_type": "code",
   "execution_count": 11,
   "metadata": {},
   "outputs": [],
   "source": [
    "# set special tokens used for creating the decoder_input_ids from the labels\n",
    "model.config.decoder_start_token_id = processor.tokenizer.cls_token_id\n",
    "model.config.pad_token_id = processor.tokenizer.pad_token_id\n",
    "# make sure vocab size is set correctly\n",
    "model.config.vocab_size = model.config.decoder.vocab_size\n",
    "\n",
    "# set beam search parameters\n",
    "model.config.eos_token_id = processor.tokenizer.sep_token_id\n",
    "model.config.max_length = 4\n",
    "model.config.early_stopping = True\n",
    "model.config.no_repeat_ngram_size = 3\n",
    "model.config.length_penalty = 2.0\n",
    "model.config.num_beams = 10"
   ]
  },
  {
   "cell_type": "code",
   "execution_count": 12,
   "metadata": {},
   "outputs": [],
   "source": [
    "from transformers import Seq2SeqTrainer, Seq2SeqTrainingArguments\n",
    "\n",
    "training_args = Seq2SeqTrainingArguments(\n",
    "    predict_with_generate=True,\n",
    "    num_train_epochs=10,\n",
    "    evaluation_strategy=\"steps\",\n",
    "    per_device_train_batch_size=3,\n",
    "    per_device_eval_batch_size=3,\n",
    "    fp16=True, \n",
    "    output_dir=\"./\",\n",
    "    logging_steps=50,\n",
    "    save_steps=1000,\n",
    "    eval_steps=200,\n",
    ")"
   ]
  },
  {
   "cell_type": "code",
   "execution_count": 13,
   "metadata": {},
   "outputs": [
    {
     "name": "stderr",
     "output_type": "stream",
     "text": [
<<<<<<< HEAD
<<<<<<< HEAD
      "C:\\Users\\Mytre\\AppData\\Local\\Temp\\ipykernel_28632\\152175726.py:3: FutureWarning: load_metric is deprecated and will be removed in the next major version of datasets. Use 'evaluate.load' instead, from the new library 🤗 Evaluate: https://huggingface.co/docs/evaluate\n",
=======
      "C:\\Users\\Mytre\\AppData\\Local\\Temp\\ipykernel_23040\\152175726.py:3: FutureWarning: load_metric is deprecated and will be removed in the next major version of datasets. Use 'evaluate.load' instead, from the new library 🤗 Evaluate: https://huggingface.co/docs/evaluate\n",
>>>>>>> f3405838f8ba252a58ba35ee443244e14fb6d66d
=======
      "C:\\Users\\Mytre\\AppData\\Local\\Temp\\ipykernel_7736\\152175726.py:3: FutureWarning: load_metric is deprecated and will be removed in the next major version of datasets. Use 'evaluate.load' instead, from the new library 🤗 Evaluate: https://huggingface.co/docs/evaluate\n",
>>>>>>> parent of 5128b5f (compl;ite anno BalllerTV)
      "  cer_metric = load_metric(\"cer\")\n"
     ]
    }
   ],
   "source": [
    "from datasets import load_metric\n",
    "\n",
    "cer_metric = load_metric(\"cer\")"
   ]
  },
  {
   "cell_type": "code",
   "execution_count": 14,
   "metadata": {},
   "outputs": [],
   "source": [
    "def compute_metrics(pred):\n",
    "    labels_ids = pred.label_ids\n",
    "    pred_ids = pred.predictions\n",
    "\n",
    "    pred_str = processor.batch_decode(pred_ids, skip_special_tokens=True)\n",
    "    labels_ids[labels_ids == -100] = processor.tokenizer.pad_token_id\n",
    "    label_str = processor.batch_decode(labels_ids, skip_special_tokens=True)\n",
    "\n",
    "    cer = cer_metric.compute(predictions=pred_str, references=label_str)\n",
    "\n",
    "    return {\"cer\": cer}"
   ]
  },
  {
   "cell_type": "code",
   "execution_count": 15,
   "metadata": {},
   "outputs": [],
   "source": [
    "from transformers import AdamW\n",
    "\n",
    "optimizer = AdamW(model.parameters(), lr=0.001, weight_decay=0.01, no_deprecation_warning=True)\n"
   ]
  },
  {
   "cell_type": "code",
   "execution_count": 16,
   "metadata": {},
   "outputs": [
    {
     "name": "stderr",
     "output_type": "stream",
     "text": [
      "c:\\Users\\Mytre\\OneDrive\\Документы\\Data\\Work\\workenv\\lib\\site-packages\\transformers\\models\\trocr\\processing_trocr.py:134: FutureWarning: `feature_extractor` is deprecated and will be removed in v5. Use `image_processor` instead.\n",
      "  warnings.warn(\n",
      "c:\\Users\\Mytre\\OneDrive\\Документы\\Data\\Work\\workenv\\lib\\site-packages\\transformers\\optimization.py:346: FutureWarning: This implementation of AdamW is deprecated and will be removed in a future version. Use the PyTorch implementation torch.optim.AdamW instead, or set `no_deprecation_warning=True` to disable this warning\n",
      "  warnings.warn(\n"
     ]
    },
    {
     "data": {
      "application/vnd.jupyter.widget-view+json": {
<<<<<<< HEAD
<<<<<<< HEAD
       "model_id": "d505e460679646cc9a163a36a22804a6",
=======
       "model_id": "6d89d69f07034bc1b55c9d8b66a9b535",
>>>>>>> f3405838f8ba252a58ba35ee443244e14fb6d66d
=======
       "model_id": "1c2daef27154402d8863ea8ca4fe2d44",
>>>>>>> parent of 5128b5f (compl;ite anno BalllerTV)
       "version_major": 2,
       "version_minor": 0
      },
      "text/plain": [
       "  0%|          | 0/12270 [00:00<?, ?it/s]"
      ]
     },
     "metadata": {},
     "output_type": "display_data"
    },
    {
     "name": "stdout",
     "output_type": "stream",
     "text": [
<<<<<<< HEAD
<<<<<<< HEAD
      "{'loss': 2.9463, 'learning_rate': 4.988618580167877e-05, 'epoch': 0.01}\n",
      "{'loss': 1.8667, 'learning_rate': 4.976762934509414e-05, 'epoch': 0.01}\n",
      "{'loss': 1.8245, 'learning_rate': 4.964907288850951e-05, 'epoch': 0.02}\n",
      "{'loss': 1.7165, 'learning_rate': 4.953051643192488e-05, 'epoch': 0.03}\n",
      "{'loss': 1.5745, 'learning_rate': 4.941195997534026e-05, 'epoch': 0.04}\n",
      "{'loss': 1.4029, 'learning_rate': 4.929340351875563e-05, 'epoch': 0.04}\n",
      "{'loss': 1.2278, 'learning_rate': 4.917484706217101e-05, 'epoch': 0.05}\n",
      "{'loss': 1.2208, 'learning_rate': 4.905629060558638e-05, 'epoch': 0.06}\n",
      "{'loss': 1.2329, 'learning_rate': 4.893773414900176e-05, 'epoch': 0.06}\n",
      "{'loss': 1.0937, 'learning_rate': 4.881917769241713e-05, 'epoch': 0.07}\n",
      "{'loss': 1.152, 'learning_rate': 4.87006212358325e-05, 'epoch': 0.08}\n",
      "{'loss': 0.9423, 'learning_rate': 4.858206477924788e-05, 'epoch': 0.09}\n",
      "{'loss': 1.0039, 'learning_rate': 4.846350832266325e-05, 'epoch': 0.09}\n",
      "{'loss': 1.0023, 'learning_rate': 4.834495186607863e-05, 'epoch': 0.1}\n",
      "{'loss': 0.9355, 'learning_rate': 4.8226395409494e-05, 'epoch': 0.11}\n",
      "{'loss': 0.9507, 'learning_rate': 4.810783895290938e-05, 'epoch': 0.11}\n",
      "{'loss': 0.9244, 'learning_rate': 4.798928249632475e-05, 'epoch': 0.12}\n",
      "{'loss': 0.9647, 'learning_rate': 4.787072603974013e-05, 'epoch': 0.13}\n",
      "{'loss': 0.8365, 'learning_rate': 4.77521695831555e-05, 'epoch': 0.14}\n",
      "{'loss': 0.8767, 'learning_rate': 4.763361312657087e-05, 'epoch': 0.14}\n",
      "{'loss': 0.9073, 'learning_rate': 4.751505666998625e-05, 'epoch': 0.15}\n",
      "{'loss': 0.9279, 'learning_rate': 4.739650021340162e-05, 'epoch': 0.16}\n",
      "{'loss': 0.8649, 'learning_rate': 4.7277943756817e-05, 'epoch': 0.16}\n",
      "{'loss': 0.7791, 'learning_rate': 4.715938730023237e-05, 'epoch': 0.17}\n",
      "{'loss': 0.9134, 'learning_rate': 4.704083084364775e-05, 'epoch': 0.18}\n",
      "{'loss': 0.8302, 'learning_rate': 4.692227438706312e-05, 'epoch': 0.18}\n",
      "{'loss': 0.7488, 'learning_rate': 4.68037179304785e-05, 'epoch': 0.19}\n",
      "{'loss': 0.9321, 'learning_rate': 4.6685161473893865e-05, 'epoch': 0.2}\n",
      "{'loss': 0.7981, 'learning_rate': 4.656660501730924e-05, 'epoch': 0.21}\n",
      "{'loss': 0.8214, 'learning_rate': 4.644804856072462e-05, 'epoch': 0.21}\n",
      "{'loss': 0.7656, 'learning_rate': 4.632949210413999e-05, 'epoch': 0.22}\n",
      "{'loss': 0.8715, 'learning_rate': 4.621093564755537e-05, 'epoch': 0.23}\n",
      "{'loss': 0.7765, 'learning_rate': 4.609237919097074e-05, 'epoch': 0.23}\n",
      "{'loss': 0.7708, 'learning_rate': 4.597382273438612e-05, 'epoch': 0.24}\n",
      "{'loss': 0.7407, 'learning_rate': 4.585526627780149e-05, 'epoch': 0.25}\n",
      "{'loss': 2.4083, 'learning_rate': 4.5736709821216864e-05, 'epoch': 0.26}\n",
      "{'loss': 2.3559, 'learning_rate': 4.5618153364632235e-05, 'epoch': 0.26}\n",
      "{'loss': 1.5568, 'learning_rate': 4.55019680371793e-05, 'epoch': 0.27}\n",
      "{'loss': 1.3735, 'learning_rate': 4.538341158059468e-05, 'epoch': 0.28}\n",
      "{'loss': 1.4109, 'learning_rate': 4.526485512401006e-05, 'epoch': 0.28}\n"
=======
      "{'loss': 2.8385, 'learning_rate': 4.9808475957620214e-05, 'epoch': 0.04}\n",
      "{'loss': 1.894, 'learning_rate': 4.960472697636512e-05, 'epoch': 0.08}\n",
      "{'loss': 1.8158, 'learning_rate': 4.940097799511003e-05, 'epoch': 0.12}\n",
      "{'loss': 1.6874, 'learning_rate': 4.9197229013854935e-05, 'epoch': 0.16}\n"
>>>>>>> f3405838f8ba252a58ba35ee443244e14fb6d66d
=======
      "{'loss': 2.8189, 'learning_rate': 4.9808475957620214e-05, 'epoch': 0.04}\n",
      "{'loss': 1.4562, 'learning_rate': 4.960472697636512e-05, 'epoch': 0.08}\n",
      "{'loss': 1.2054, 'learning_rate': 4.940097799511003e-05, 'epoch': 0.12}\n",
      "{'loss': 1.1171, 'learning_rate': 4.9197229013854935e-05, 'epoch': 0.16}\n"
>>>>>>> parent of 5128b5f (compl;ite anno BalllerTV)
     ]
    },
    {
     "name": "stderr",
     "output_type": "stream",
     "text": [
      "c:\\Users\\Mytre\\OneDrive\\Документы\\Data\\Work\\workenv\\lib\\site-packages\\transformers\\generation\\utils.py:1201: UserWarning: You have modified the pretrained model configuration to control generation. This is a deprecated strategy to control generation and will be removed soon, in a future version. Please use a generation configuration file (see https://huggingface.co/docs/transformers/main_classes/text_generation)\n",
      "  warnings.warn(\n"
     ]
    },
    {
     "data": {
      "application/vnd.jupyter.widget-view+json": {
<<<<<<< HEAD
<<<<<<< HEAD
       "model_id": "9a6650de60a84fa9beeff36796fe61ea",
=======
       "model_id": "69b8d320e628486e88460b1d3142fb85",
>>>>>>> f3405838f8ba252a58ba35ee443244e14fb6d66d
=======
       "model_id": "613927d3f5e744fb9dba54c6a65d493b",
>>>>>>> parent of 5128b5f (compl;ite anno BalllerTV)
       "version_major": 2,
       "version_minor": 0
      },
      "text/plain": [
       "  0%|          | 0/307 [00:00<?, ?it/s]"
      ]
     },
     "metadata": {},
     "output_type": "display_data"
    },
    {
     "name": "stdout",
     "output_type": "stream",
     "text": [
<<<<<<< HEAD
<<<<<<< HEAD
      "{'eval_loss': 1.4259974956512451, 'eval_cer': 0.9032098153426695, 'eval_runtime': 1018.6283, 'eval_samples_per_second': 5.176, 'eval_steps_per_second': 1.726, 'epoch': 0.28}\n",
      "{'loss': 1.3998, 'learning_rate': 4.514629866742543e-05, 'epoch': 0.29}\n",
      "{'loss': 1.2838, 'learning_rate': 4.502774221084081e-05, 'epoch': 0.3}\n",
      "{'loss': 1.2947, 'learning_rate': 4.490918575425618e-05, 'epoch': 0.31}\n",
      "{'loss': 1.269, 'learning_rate': 4.479062929767155e-05, 'epoch': 0.31}\n",
      "{'loss': 1.2084, 'learning_rate': 4.4672072841086924e-05, 'epoch': 0.32}\n",
      "{'loss': 1.2192, 'learning_rate': 4.45535163845023e-05, 'epoch': 0.33}\n",
      "{'loss': 1.1216, 'learning_rate': 4.4434959927917674e-05, 'epoch': 0.33}\n",
      "{'loss': 1.0528, 'learning_rate': 4.431640347133305e-05, 'epoch': 0.34}\n",
      "{'loss': 0.9805, 'learning_rate': 4.419784701474843e-05, 'epoch': 0.35}\n",
      "{'loss': 0.9069, 'learning_rate': 4.40792905581638e-05, 'epoch': 0.36}\n",
      "{'loss': 0.9572, 'learning_rate': 4.396073410157917e-05, 'epoch': 0.36}\n",
      "{'loss': 0.9627, 'learning_rate': 4.3842177644994545e-05, 'epoch': 0.37}\n",
      "{'loss': 0.8517, 'learning_rate': 4.372362118840992e-05, 'epoch': 0.38}\n",
      "{'loss': 0.8684, 'learning_rate': 4.3605064731825294e-05, 'epoch': 0.38}\n",
      "{'loss': 0.8591, 'learning_rate': 4.348650827524067e-05, 'epoch': 0.39}\n",
      "{'loss': 0.9535, 'learning_rate': 4.3367951818656044e-05, 'epoch': 0.4}\n",
      "{'loss': 0.8505, 'learning_rate': 4.324939536207142e-05, 'epoch': 0.41}\n",
      "{'loss': 0.8539, 'learning_rate': 4.3130838905486794e-05, 'epoch': 0.41}\n",
      "{'loss': 0.8538, 'learning_rate': 4.301228244890217e-05, 'epoch': 0.42}\n",
      "{'loss': 0.7508, 'learning_rate': 4.289609712144923e-05, 'epoch': 0.43}\n",
      "{'loss': 0.8416, 'learning_rate': 4.277754066486461e-05, 'epoch': 0.43}\n",
      "{'loss': 0.9367, 'learning_rate': 4.265898420827998e-05, 'epoch': 0.44}\n",
      "{'loss': 0.8202, 'learning_rate': 4.254042775169536e-05, 'epoch': 0.45}\n",
      "{'loss': 0.8272, 'learning_rate': 4.242187129511073e-05, 'epoch': 0.46}\n",
      "{'loss': 0.7638, 'learning_rate': 4.230331483852611e-05, 'epoch': 0.46}\n",
      "{'loss': 0.7583, 'learning_rate': 4.218475838194148e-05, 'epoch': 0.47}\n",
      "{'loss': 0.7911, 'learning_rate': 4.206620192535686e-05, 'epoch': 0.48}\n",
      "{'loss': 0.7932, 'learning_rate': 4.1947645468772225e-05, 'epoch': 0.48}\n",
      "{'loss': 0.8217, 'learning_rate': 4.1829089012187604e-05, 'epoch': 0.49}\n",
      "{'loss': 0.7043, 'learning_rate': 4.171053255560298e-05, 'epoch': 0.5}\n",
      "{'loss': 0.8546, 'learning_rate': 4.159434722815005e-05, 'epoch': 0.51}\n",
      "{'loss': 0.7686, 'learning_rate': 4.147579077156542e-05, 'epoch': 0.51}\n",
      "{'loss': 0.8377, 'learning_rate': 4.13572343149808e-05, 'epoch': 0.52}\n",
      "{'loss': 0.8633, 'learning_rate': 4.123867785839617e-05, 'epoch': 0.53}\n",
      "{'loss': 0.7211, 'learning_rate': 4.112012140181154e-05, 'epoch': 0.53}\n",
      "{'loss': 0.7893, 'learning_rate': 4.1001564945226914e-05, 'epoch': 0.54}\n",
      "{'loss': 0.8345, 'learning_rate': 4.088300848864229e-05, 'epoch': 0.55}\n",
      "{'loss': 0.7375, 'learning_rate': 4.0764452032057664e-05, 'epoch': 0.55}\n",
      "{'loss': 0.6904, 'learning_rate': 4.064589557547304e-05, 'epoch': 0.56}\n",
      "{'loss': 0.7235, 'learning_rate': 4.052733911888842e-05, 'epoch': 0.57}\n"
=======
      "{'eval_loss': 1.7167457342147827, 'eval_cer': 0.7951114306254493, 'eval_runtime': 177.8169, 'eval_samples_per_second': 5.174, 'eval_steps_per_second': 1.726, 'epoch': 0.16}\n",
      "{'loss': 1.7704, 'learning_rate': 4.8993480032599835e-05, 'epoch': 0.2}\n",
      "{'loss': 1.7286, 'learning_rate': 4.878973105134474e-05, 'epoch': 0.24}\n",
      "{'loss': 1.7579, 'learning_rate': 4.8585982070089655e-05, 'epoch': 0.29}\n",
      "{'loss': 1.7098, 'learning_rate': 4.8382233088834555e-05, 'epoch': 0.33}\n"
>>>>>>> f3405838f8ba252a58ba35ee443244e14fb6d66d
=======
      "{'eval_loss': 1.076485514640808, 'eval_cer': 0.255781359495445, 'eval_runtime': 175.2869, 'eval_samples_per_second': 5.249, 'eval_steps_per_second': 1.751, 'epoch': 0.16}\n",
      "{'loss': 1.0699, 'learning_rate': 4.8993480032599835e-05, 'epoch': 0.2}\n",
      "{'loss': 1.0882, 'learning_rate': 4.878973105134474e-05, 'epoch': 0.24}\n",
      "{'loss': 1.0919, 'learning_rate': 4.8585982070089655e-05, 'epoch': 0.29}\n",
      "{'loss': 0.9294, 'learning_rate': 4.8382233088834555e-05, 'epoch': 0.33}\n"
>>>>>>> parent of 5128b5f (compl;ite anno BalllerTV)
     ]
    },
    {
     "data": {
      "application/vnd.jupyter.widget-view+json": {
<<<<<<< HEAD
<<<<<<< HEAD
       "model_id": "b37cf698078e4cf2b9bebe58f67a1664",
=======
       "model_id": "f1156635122840c6a5913edb64b2a9f8",
>>>>>>> f3405838f8ba252a58ba35ee443244e14fb6d66d
=======
       "model_id": "bb946a3b749c4582bdb762dee213e593",
>>>>>>> parent of 5128b5f (compl;ite anno BalllerTV)
       "version_major": 2,
       "version_minor": 0
      },
      "text/plain": [
       "  0%|          | 0/307 [00:00<?, ?it/s]"
      ]
     },
     "metadata": {},
     "output_type": "display_data"
    },
    {
<<<<<<< HEAD
<<<<<<< HEAD
     "ename": "KeyboardInterrupt",
     "evalue": "",
     "output_type": "error",
     "traceback": [
      "\u001b[1;31m---------------------------------------------------------------------------\u001b[0m",
      "\u001b[1;31mKeyboardInterrupt\u001b[0m                         Traceback (most recent call last)",
      "Cell \u001b[1;32mIn[87], line 13\u001b[0m\n\u001b[0;32m      3\u001b[0m \u001b[39m# instantiate trainer\u001b[39;00m\n\u001b[0;32m      4\u001b[0m trainer \u001b[39m=\u001b[39m Seq2SeqTrainer(\n\u001b[0;32m      5\u001b[0m     model\u001b[39m=\u001b[39mmodel,\n\u001b[0;32m      6\u001b[0m     tokenizer\u001b[39m=\u001b[39mprocessor\u001b[39m.\u001b[39mfeature_extractor,\n\u001b[1;32m   (...)\u001b[0m\n\u001b[0;32m     11\u001b[0m     data_collator\u001b[39m=\u001b[39mdefault_data_collator,\n\u001b[0;32m     12\u001b[0m )\n\u001b[1;32m---> 13\u001b[0m trainer\u001b[39m.\u001b[39;49mtrain()\n",
      "File \u001b[1;32mc:\\Users\\Mytre\\OneDrive\\Документы\\Data\\Work\\workenv\\lib\\site-packages\\transformers\\trainer.py:1631\u001b[0m, in \u001b[0;36mTrainer.train\u001b[1;34m(self, resume_from_checkpoint, trial, ignore_keys_for_eval, **kwargs)\u001b[0m\n\u001b[0;32m   1626\u001b[0m     \u001b[39mself\u001b[39m\u001b[39m.\u001b[39mmodel_wrapped \u001b[39m=\u001b[39m \u001b[39mself\u001b[39m\u001b[39m.\u001b[39mmodel\n\u001b[0;32m   1628\u001b[0m inner_training_loop \u001b[39m=\u001b[39m find_executable_batch_size(\n\u001b[0;32m   1629\u001b[0m     \u001b[39mself\u001b[39m\u001b[39m.\u001b[39m_inner_training_loop, \u001b[39mself\u001b[39m\u001b[39m.\u001b[39m_train_batch_size, args\u001b[39m.\u001b[39mauto_find_batch_size\n\u001b[0;32m   1630\u001b[0m )\n\u001b[1;32m-> 1631\u001b[0m \u001b[39mreturn\u001b[39;00m inner_training_loop(\n\u001b[0;32m   1632\u001b[0m     args\u001b[39m=\u001b[39;49margs,\n\u001b[0;32m   1633\u001b[0m     resume_from_checkpoint\u001b[39m=\u001b[39;49mresume_from_checkpoint,\n\u001b[0;32m   1634\u001b[0m     trial\u001b[39m=\u001b[39;49mtrial,\n\u001b[0;32m   1635\u001b[0m     ignore_keys_for_eval\u001b[39m=\u001b[39;49mignore_keys_for_eval,\n\u001b[0;32m   1636\u001b[0m )\n",
      "File \u001b[1;32mc:\\Users\\Mytre\\OneDrive\\Документы\\Data\\Work\\workenv\\lib\\site-packages\\transformers\\trainer.py:1975\u001b[0m, in \u001b[0;36mTrainer._inner_training_loop\u001b[1;34m(self, batch_size, args, resume_from_checkpoint, trial, ignore_keys_for_eval)\u001b[0m\n\u001b[0;32m   1972\u001b[0m     \u001b[39mself\u001b[39m\u001b[39m.\u001b[39mstate\u001b[39m.\u001b[39mepoch \u001b[39m=\u001b[39m epoch \u001b[39m+\u001b[39m (step \u001b[39m+\u001b[39m \u001b[39m1\u001b[39m \u001b[39m+\u001b[39m steps_skipped) \u001b[39m/\u001b[39m steps_in_epoch\n\u001b[0;32m   1973\u001b[0m     \u001b[39mself\u001b[39m\u001b[39m.\u001b[39mcontrol \u001b[39m=\u001b[39m \u001b[39mself\u001b[39m\u001b[39m.\u001b[39mcallback_handler\u001b[39m.\u001b[39mon_step_end(args, \u001b[39mself\u001b[39m\u001b[39m.\u001b[39mstate, \u001b[39mself\u001b[39m\u001b[39m.\u001b[39mcontrol)\n\u001b[1;32m-> 1975\u001b[0m     \u001b[39mself\u001b[39;49m\u001b[39m.\u001b[39;49m_maybe_log_save_evaluate(tr_loss, model, trial, epoch, ignore_keys_for_eval)\n\u001b[0;32m   1976\u001b[0m \u001b[39melse\u001b[39;00m:\n\u001b[0;32m   1977\u001b[0m     \u001b[39mself\u001b[39m\u001b[39m.\u001b[39mcontrol \u001b[39m=\u001b[39m \u001b[39mself\u001b[39m\u001b[39m.\u001b[39mcallback_handler\u001b[39m.\u001b[39mon_substep_end(args, \u001b[39mself\u001b[39m\u001b[39m.\u001b[39mstate, \u001b[39mself\u001b[39m\u001b[39m.\u001b[39mcontrol)\n",
      "File \u001b[1;32mc:\\Users\\Mytre\\OneDrive\\Документы\\Data\\Work\\workenv\\lib\\site-packages\\transformers\\trainer.py:2232\u001b[0m, in \u001b[0;36mTrainer._maybe_log_save_evaluate\u001b[1;34m(self, tr_loss, model, trial, epoch, ignore_keys_for_eval)\u001b[0m\n\u001b[0;32m   2226\u001b[0m             metrics \u001b[39m=\u001b[39m \u001b[39mself\u001b[39m\u001b[39m.\u001b[39mevaluate(\n\u001b[0;32m   2227\u001b[0m                 eval_dataset\u001b[39m=\u001b[39meval_dataset,\n\u001b[0;32m   2228\u001b[0m                 ignore_keys\u001b[39m=\u001b[39mignore_keys_for_eval,\n\u001b[0;32m   2229\u001b[0m                 metric_key_prefix\u001b[39m=\u001b[39m\u001b[39mf\u001b[39m\u001b[39m\"\u001b[39m\u001b[39meval_\u001b[39m\u001b[39m{\u001b[39;00meval_dataset_name\u001b[39m}\u001b[39;00m\u001b[39m\"\u001b[39m,\n\u001b[0;32m   2230\u001b[0m             )\n\u001b[0;32m   2231\u001b[0m     \u001b[39melse\u001b[39;00m:\n\u001b[1;32m-> 2232\u001b[0m         metrics \u001b[39m=\u001b[39m \u001b[39mself\u001b[39;49m\u001b[39m.\u001b[39;49mevaluate(ignore_keys\u001b[39m=\u001b[39;49mignore_keys_for_eval)\n\u001b[0;32m   2233\u001b[0m     \u001b[39mself\u001b[39m\u001b[39m.\u001b[39m_report_to_hp_search(trial, \u001b[39mself\u001b[39m\u001b[39m.\u001b[39mstate\u001b[39m.\u001b[39mglobal_step, metrics)\n\u001b[0;32m   2235\u001b[0m \u001b[39mif\u001b[39;00m \u001b[39mself\u001b[39m\u001b[39m.\u001b[39mcontrol\u001b[39m.\u001b[39mshould_save:\n",
      "File \u001b[1;32mc:\\Users\\Mytre\\OneDrive\\Документы\\Data\\Work\\workenv\\lib\\site-packages\\transformers\\trainer_seq2seq.py:78\u001b[0m, in \u001b[0;36mSeq2SeqTrainer.evaluate\u001b[1;34m(self, eval_dataset, ignore_keys, metric_key_prefix, **gen_kwargs)\u001b[0m\n\u001b[0;32m     73\u001b[0m gen_kwargs[\u001b[39m\"\u001b[39m\u001b[39mnum_beams\u001b[39m\u001b[39m\"\u001b[39m] \u001b[39m=\u001b[39m (\n\u001b[0;32m     74\u001b[0m     gen_kwargs[\u001b[39m\"\u001b[39m\u001b[39mnum_beams\u001b[39m\u001b[39m\"\u001b[39m] \u001b[39mif\u001b[39;00m gen_kwargs\u001b[39m.\u001b[39mget(\u001b[39m\"\u001b[39m\u001b[39mnum_beams\u001b[39m\u001b[39m\"\u001b[39m) \u001b[39mis\u001b[39;00m \u001b[39mnot\u001b[39;00m \u001b[39mNone\u001b[39;00m \u001b[39melse\u001b[39;00m \u001b[39mself\u001b[39m\u001b[39m.\u001b[39margs\u001b[39m.\u001b[39mgeneration_num_beams\n\u001b[0;32m     75\u001b[0m )\n\u001b[0;32m     76\u001b[0m \u001b[39mself\u001b[39m\u001b[39m.\u001b[39m_gen_kwargs \u001b[39m=\u001b[39m gen_kwargs\n\u001b[1;32m---> 78\u001b[0m \u001b[39mreturn\u001b[39;00m \u001b[39msuper\u001b[39;49m()\u001b[39m.\u001b[39;49mevaluate(eval_dataset, ignore_keys\u001b[39m=\u001b[39;49mignore_keys, metric_key_prefix\u001b[39m=\u001b[39;49mmetric_key_prefix)\n",
      "File \u001b[1;32mc:\\Users\\Mytre\\OneDrive\\Документы\\Data\\Work\\workenv\\lib\\site-packages\\transformers\\trainer.py:2927\u001b[0m, in \u001b[0;36mTrainer.evaluate\u001b[1;34m(self, eval_dataset, ignore_keys, metric_key_prefix)\u001b[0m\n\u001b[0;32m   2924\u001b[0m start_time \u001b[39m=\u001b[39m time\u001b[39m.\u001b[39mtime()\n\u001b[0;32m   2926\u001b[0m eval_loop \u001b[39m=\u001b[39m \u001b[39mself\u001b[39m\u001b[39m.\u001b[39mprediction_loop \u001b[39mif\u001b[39;00m \u001b[39mself\u001b[39m\u001b[39m.\u001b[39margs\u001b[39m.\u001b[39muse_legacy_prediction_loop \u001b[39melse\u001b[39;00m \u001b[39mself\u001b[39m\u001b[39m.\u001b[39mevaluation_loop\n\u001b[1;32m-> 2927\u001b[0m output \u001b[39m=\u001b[39m eval_loop(\n\u001b[0;32m   2928\u001b[0m     eval_dataloader,\n\u001b[0;32m   2929\u001b[0m     description\u001b[39m=\u001b[39;49m\u001b[39m\"\u001b[39;49m\u001b[39mEvaluation\u001b[39;49m\u001b[39m\"\u001b[39;49m,\n\u001b[0;32m   2930\u001b[0m     \u001b[39m# No point gathering the predictions if there are no metrics, otherwise we defer to\u001b[39;49;00m\n\u001b[0;32m   2931\u001b[0m     \u001b[39m# self.args.prediction_loss_only\u001b[39;49;00m\n\u001b[0;32m   2932\u001b[0m     prediction_loss_only\u001b[39m=\u001b[39;49m\u001b[39mTrue\u001b[39;49;00m \u001b[39mif\u001b[39;49;00m \u001b[39mself\u001b[39;49m\u001b[39m.\u001b[39;49mcompute_metrics \u001b[39mis\u001b[39;49;00m \u001b[39mNone\u001b[39;49;00m \u001b[39melse\u001b[39;49;00m \u001b[39mNone\u001b[39;49;00m,\n\u001b[0;32m   2933\u001b[0m     ignore_keys\u001b[39m=\u001b[39;49mignore_keys,\n\u001b[0;32m   2934\u001b[0m     metric_key_prefix\u001b[39m=\u001b[39;49mmetric_key_prefix,\n\u001b[0;32m   2935\u001b[0m )\n\u001b[0;32m   2937\u001b[0m total_batch_size \u001b[39m=\u001b[39m \u001b[39mself\u001b[39m\u001b[39m.\u001b[39margs\u001b[39m.\u001b[39meval_batch_size \u001b[39m*\u001b[39m \u001b[39mself\u001b[39m\u001b[39m.\u001b[39margs\u001b[39m.\u001b[39mworld_size\n\u001b[0;32m   2938\u001b[0m \u001b[39mif\u001b[39;00m \u001b[39mf\u001b[39m\u001b[39m\"\u001b[39m\u001b[39m{\u001b[39;00mmetric_key_prefix\u001b[39m}\u001b[39;00m\u001b[39m_jit_compilation_time\u001b[39m\u001b[39m\"\u001b[39m \u001b[39min\u001b[39;00m output\u001b[39m.\u001b[39mmetrics:\n",
      "File \u001b[1;32mc:\\Users\\Mytre\\OneDrive\\Документы\\Data\\Work\\workenv\\lib\\site-packages\\transformers\\trainer.py:3108\u001b[0m, in \u001b[0;36mTrainer.evaluation_loop\u001b[1;34m(self, dataloader, description, prediction_loss_only, ignore_keys, metric_key_prefix)\u001b[0m\n\u001b[0;32m   3105\u001b[0m         batch_size \u001b[39m=\u001b[39m observed_batch_size\n\u001b[0;32m   3107\u001b[0m \u001b[39m# Prediction step\u001b[39;00m\n\u001b[1;32m-> 3108\u001b[0m loss, logits, labels \u001b[39m=\u001b[39m \u001b[39mself\u001b[39;49m\u001b[39m.\u001b[39;49mprediction_step(model, inputs, prediction_loss_only, ignore_keys\u001b[39m=\u001b[39;49mignore_keys)\n\u001b[0;32m   3109\u001b[0m inputs_decode \u001b[39m=\u001b[39m \u001b[39mself\u001b[39m\u001b[39m.\u001b[39m_prepare_input(inputs[\u001b[39m\"\u001b[39m\u001b[39minput_ids\u001b[39m\u001b[39m\"\u001b[39m]) \u001b[39mif\u001b[39;00m args\u001b[39m.\u001b[39minclude_inputs_for_metrics \u001b[39melse\u001b[39;00m \u001b[39mNone\u001b[39;00m\n\u001b[0;32m   3111\u001b[0m \u001b[39mif\u001b[39;00m is_torch_tpu_available():\n",
      "File \u001b[1;32mc:\\Users\\Mytre\\OneDrive\\Документы\\Data\\Work\\workenv\\lib\\site-packages\\transformers\\trainer_seq2seq.py:198\u001b[0m, in \u001b[0;36mSeq2SeqTrainer.prediction_step\u001b[1;34m(self, model, inputs, prediction_loss_only, ignore_keys)\u001b[0m\n\u001b[0;32m    195\u001b[0m \u001b[39melse\u001b[39;00m:\n\u001b[0;32m    196\u001b[0m     generation_inputs \u001b[39m=\u001b[39m inputs[\u001b[39mself\u001b[39m\u001b[39m.\u001b[39mmodel\u001b[39m.\u001b[39mmain_input_name]\n\u001b[1;32m--> 198\u001b[0m generated_tokens \u001b[39m=\u001b[39m \u001b[39mself\u001b[39m\u001b[39m.\u001b[39mmodel\u001b[39m.\u001b[39mgenerate(\n\u001b[0;32m    199\u001b[0m     generation_inputs,\n\u001b[0;32m    200\u001b[0m     \u001b[39m*\u001b[39m\u001b[39m*\u001b[39mgen_kwargs,\n\u001b[0;32m    201\u001b[0m )\n\u001b[0;32m    202\u001b[0m \u001b[39m# Temporary hack to ensure the generation config is not initialized for each iteration of the evaluation loop\u001b[39;00m\n\u001b[0;32m    203\u001b[0m \u001b[39m# TODO: remove this hack when the legacy code that initializes generation_config from a model config is\u001b[39;00m\n\u001b[0;32m    204\u001b[0m \u001b[39m# removed in https://github.com/huggingface/transformers/blob/98d88b23f54e5a23e741833f1e973fdf600cc2c5/src/transformers/generation/utils.py#L1183\u001b[39;00m\n\u001b[0;32m    205\u001b[0m \u001b[39mif\u001b[39;00m \u001b[39mself\u001b[39m\u001b[39m.\u001b[39mmodel\u001b[39m.\u001b[39mgeneration_config\u001b[39m.\u001b[39m_from_model_config:\n",
      "File \u001b[1;32mc:\\Users\\Mytre\\OneDrive\\Документы\\Data\\Work\\workenv\\lib\\site-packages\\torch\\autograd\\grad_mode.py:27\u001b[0m, in \u001b[0;36m_DecoratorContextManager.__call__.<locals>.decorate_context\u001b[1;34m(*args, **kwargs)\u001b[0m\n\u001b[0;32m     24\u001b[0m \u001b[39m@functools\u001b[39m\u001b[39m.\u001b[39mwraps(func)\n\u001b[0;32m     25\u001b[0m \u001b[39mdef\u001b[39;00m \u001b[39mdecorate_context\u001b[39m(\u001b[39m*\u001b[39margs, \u001b[39m*\u001b[39m\u001b[39m*\u001b[39mkwargs):\n\u001b[0;32m     26\u001b[0m     \u001b[39mwith\u001b[39;00m \u001b[39mself\u001b[39m\u001b[39m.\u001b[39mclone():\n\u001b[1;32m---> 27\u001b[0m         \u001b[39mreturn\u001b[39;00m func(\u001b[39m*\u001b[39margs, \u001b[39m*\u001b[39m\u001b[39m*\u001b[39mkwargs)\n",
      "File \u001b[1;32mc:\\Users\\Mytre\\OneDrive\\Документы\\Data\\Work\\workenv\\lib\\site-packages\\transformers\\generation\\utils.py:1490\u001b[0m, in \u001b[0;36mGenerationMixin.generate\u001b[1;34m(self, inputs, generation_config, logits_processor, stopping_criteria, prefix_allowed_tokens_fn, synced_gpus, **kwargs)\u001b[0m\n\u001b[0;32m   1483\u001b[0m     input_ids, model_kwargs \u001b[39m=\u001b[39m \u001b[39mself\u001b[39m\u001b[39m.\u001b[39m_expand_inputs_for_generation(\n\u001b[0;32m   1484\u001b[0m         input_ids\u001b[39m=\u001b[39minput_ids,\n\u001b[0;32m   1485\u001b[0m         expand_size\u001b[39m=\u001b[39mgeneration_config\u001b[39m.\u001b[39mnum_beams,\n\u001b[0;32m   1486\u001b[0m         is_encoder_decoder\u001b[39m=\u001b[39m\u001b[39mself\u001b[39m\u001b[39m.\u001b[39mconfig\u001b[39m.\u001b[39mis_encoder_decoder,\n\u001b[0;32m   1487\u001b[0m         \u001b[39m*\u001b[39m\u001b[39m*\u001b[39mmodel_kwargs,\n\u001b[0;32m   1488\u001b[0m     )\n\u001b[0;32m   1489\u001b[0m     \u001b[39m# 13. run beam search\u001b[39;00m\n\u001b[1;32m-> 1490\u001b[0m     \u001b[39mreturn\u001b[39;00m \u001b[39mself\u001b[39m\u001b[39m.\u001b[39mbeam_search(\n\u001b[0;32m   1491\u001b[0m         input_ids,\n\u001b[0;32m   1492\u001b[0m         beam_scorer,\n\u001b[0;32m   1493\u001b[0m         logits_processor\u001b[39m=\u001b[39mlogits_processor,\n\u001b[0;32m   1494\u001b[0m         stopping_criteria\u001b[39m=\u001b[39mstopping_criteria,\n\u001b[0;32m   1495\u001b[0m         pad_token_id\u001b[39m=\u001b[39mgeneration_config\u001b[39m.\u001b[39mpad_token_id,\n\u001b[0;32m   1496\u001b[0m         eos_token_id\u001b[39m=\u001b[39mgeneration_config\u001b[39m.\u001b[39meos_token_id,\n\u001b[0;32m   1497\u001b[0m         output_scores\u001b[39m=\u001b[39mgeneration_config\u001b[39m.\u001b[39moutput_scores,\n\u001b[0;32m   1498\u001b[0m         return_dict_in_generate\u001b[39m=\u001b[39mgeneration_config\u001b[39m.\u001b[39mreturn_dict_in_generate,\n\u001b[0;32m   1499\u001b[0m         synced_gpus\u001b[39m=\u001b[39msynced_gpus,\n\u001b[0;32m   1500\u001b[0m         \u001b[39m*\u001b[39m\u001b[39m*\u001b[39mmodel_kwargs,\n\u001b[0;32m   1501\u001b[0m     )\n\u001b[0;32m   1503\u001b[0m \u001b[39melif\u001b[39;00m is_beam_sample_gen_mode:\n\u001b[0;32m   1504\u001b[0m     \u001b[39m# 11. prepare logits warper\u001b[39;00m\n\u001b[0;32m   1505\u001b[0m     logits_warper \u001b[39m=\u001b[39m \u001b[39mself\u001b[39m\u001b[39m.\u001b[39m_get_logits_warper(generation_config)\n",
      "File \u001b[1;32mc:\\Users\\Mytre\\OneDrive\\Документы\\Data\\Work\\workenv\\lib\\site-packages\\transformers\\generation\\utils.py:2768\u001b[0m, in \u001b[0;36mGenerationMixin.beam_search\u001b[1;34m(self, input_ids, beam_scorer, logits_processor, stopping_criteria, max_length, pad_token_id, eos_token_id, output_attentions, output_hidden_states, output_scores, return_dict_in_generate, synced_gpus, **model_kwargs)\u001b[0m\n\u001b[0;32m   2763\u001b[0m next_token_logits \u001b[39m=\u001b[39m \u001b[39mself\u001b[39m\u001b[39m.\u001b[39madjust_logits_during_generation(next_token_logits, cur_len\u001b[39m=\u001b[39mcur_len)\n\u001b[0;32m   2764\u001b[0m next_token_scores \u001b[39m=\u001b[39m nn\u001b[39m.\u001b[39mfunctional\u001b[39m.\u001b[39mlog_softmax(\n\u001b[0;32m   2765\u001b[0m     next_token_logits, dim\u001b[39m=\u001b[39m\u001b[39m-\u001b[39m\u001b[39m1\u001b[39m\n\u001b[0;32m   2766\u001b[0m )  \u001b[39m# (batch_size * num_beams, vocab_size)\u001b[39;00m\n\u001b[1;32m-> 2768\u001b[0m next_token_scores_processed \u001b[39m=\u001b[39m logits_processor(input_ids, next_token_scores)\n\u001b[0;32m   2769\u001b[0m next_token_scores \u001b[39m=\u001b[39m next_token_scores_processed \u001b[39m+\u001b[39m beam_scores[:, \u001b[39mNone\u001b[39;00m]\u001b[39m.\u001b[39mexpand_as(next_token_scores)\n\u001b[0;32m   2771\u001b[0m \u001b[39m# Store scores, attentions and hidden_states when required\u001b[39;00m\n",
      "File \u001b[1;32mc:\\Users\\Mytre\\OneDrive\\Документы\\Data\\Work\\workenv\\lib\\site-packages\\transformers\\generation\\logits_process.py:92\u001b[0m, in \u001b[0;36mLogitsProcessorList.__call__\u001b[1;34m(self, input_ids, scores, **kwargs)\u001b[0m\n\u001b[0;32m     90\u001b[0m         scores \u001b[39m=\u001b[39m processor(input_ids, scores, \u001b[39m*\u001b[39m\u001b[39m*\u001b[39mkwargs)\n\u001b[0;32m     91\u001b[0m     \u001b[39melse\u001b[39;00m:\n\u001b[1;32m---> 92\u001b[0m         scores \u001b[39m=\u001b[39m processor(input_ids, scores)\n\u001b[0;32m     93\u001b[0m \u001b[39mreturn\u001b[39;00m scores\n",
      "File \u001b[1;32mc:\\Users\\Mytre\\OneDrive\\Документы\\Data\\Work\\workenv\\lib\\site-packages\\transformers\\generation\\logits_process.py:487\u001b[0m, in \u001b[0;36mNoRepeatNGramLogitsProcessor.__call__\u001b[1;34m(self, input_ids, scores)\u001b[0m\n\u001b[0;32m    485\u001b[0m num_batch_hypotheses \u001b[39m=\u001b[39m scores\u001b[39m.\u001b[39mshape[\u001b[39m0\u001b[39m]\n\u001b[0;32m    486\u001b[0m cur_len \u001b[39m=\u001b[39m input_ids\u001b[39m.\u001b[39mshape[\u001b[39m-\u001b[39m\u001b[39m1\u001b[39m]\n\u001b[1;32m--> 487\u001b[0m banned_batch_tokens \u001b[39m=\u001b[39m _calc_banned_ngram_tokens(\u001b[39mself\u001b[39;49m\u001b[39m.\u001b[39;49mngram_size, input_ids, num_batch_hypotheses, cur_len)\n\u001b[0;32m    489\u001b[0m \u001b[39mfor\u001b[39;00m i, banned_tokens \u001b[39min\u001b[39;00m \u001b[39menumerate\u001b[39m(banned_batch_tokens):\n\u001b[0;32m    490\u001b[0m     scores[i, banned_tokens] \u001b[39m=\u001b[39m \u001b[39m-\u001b[39m\u001b[39mfloat\u001b[39m(\u001b[39m\"\u001b[39m\u001b[39minf\u001b[39m\u001b[39m\"\u001b[39m)\n",
      "File \u001b[1;32mc:\\Users\\Mytre\\OneDrive\\Документы\\Data\\Work\\workenv\\lib\\site-packages\\transformers\\generation\\logits_process.py:460\u001b[0m, in \u001b[0;36m_calc_banned_ngram_tokens\u001b[1;34m(ngram_size, prev_input_ids, num_hypos, cur_len)\u001b[0m\n\u001b[0;32m    456\u001b[0m \u001b[39mif\u001b[39;00m cur_len \u001b[39m+\u001b[39m \u001b[39m1\u001b[39m \u001b[39m<\u001b[39m ngram_size:\n\u001b[0;32m    457\u001b[0m     \u001b[39m# return no banned tokens if we haven't generated no_repeat_ngram_size tokens yet\u001b[39;00m\n\u001b[0;32m    458\u001b[0m     \u001b[39mreturn\u001b[39;00m [[] \u001b[39mfor\u001b[39;00m _ \u001b[39min\u001b[39;00m \u001b[39mrange\u001b[39m(num_hypos)]\n\u001b[1;32m--> 460\u001b[0m generated_ngrams \u001b[39m=\u001b[39m _get_ngrams(ngram_size, prev_input_ids, num_hypos)\n\u001b[0;32m    462\u001b[0m banned_tokens \u001b[39m=\u001b[39m [\n\u001b[0;32m    463\u001b[0m     _get_generated_ngrams(generated_ngrams[hypo_idx], prev_input_ids[hypo_idx], ngram_size, cur_len)\n\u001b[0;32m    464\u001b[0m     \u001b[39mfor\u001b[39;00m hypo_idx \u001b[39min\u001b[39;00m \u001b[39mrange\u001b[39m(num_hypos)\n\u001b[0;32m    465\u001b[0m ]\n\u001b[0;32m    466\u001b[0m \u001b[39mreturn\u001b[39;00m banned_tokens\n",
      "File \u001b[1;32mc:\\Users\\Mytre\\OneDrive\\Документы\\Data\\Work\\workenv\\lib\\site-packages\\transformers\\generation\\logits_process.py:437\u001b[0m, in \u001b[0;36m_get_ngrams\u001b[1;34m(ngram_size, prev_input_ids, num_hypos)\u001b[0m\n\u001b[0;32m    435\u001b[0m generated_ngrams \u001b[39m=\u001b[39m [{} \u001b[39mfor\u001b[39;00m _ \u001b[39min\u001b[39;00m \u001b[39mrange\u001b[39m(num_hypos)]\n\u001b[0;32m    436\u001b[0m \u001b[39mfor\u001b[39;00m idx \u001b[39min\u001b[39;00m \u001b[39mrange\u001b[39m(num_hypos):\n\u001b[1;32m--> 437\u001b[0m     gen_tokens \u001b[39m=\u001b[39m prev_input_ids[idx]\u001b[39m.\u001b[39;49mtolist()\n\u001b[0;32m    438\u001b[0m     generated_ngram \u001b[39m=\u001b[39m generated_ngrams[idx]\n\u001b[0;32m    439\u001b[0m     \u001b[39mfor\u001b[39;00m ngram \u001b[39min\u001b[39;00m \u001b[39mzip\u001b[39m(\u001b[39m*\u001b[39m[gen_tokens[i:] \u001b[39mfor\u001b[39;00m i \u001b[39min\u001b[39;00m \u001b[39mrange\u001b[39m(ngram_size)]):\n",
      "\u001b[1;31mKeyboardInterrupt\u001b[0m: "
     ]
=======
     "name": "stdout",
     "output_type": "stream",
     "text": [
      "{'eval_loss': 1.6935182809829712, 'eval_cer': 0.9396117900790798, 'eval_runtime': 176.5006, 'eval_samples_per_second': 5.212, 'eval_steps_per_second': 1.739, 'epoch': 0.33}\n",
      "{'loss': 1.7543, 'learning_rate': 4.817848410757946e-05, 'epoch': 0.37}\n",
      "{'loss': 1.6751, 'learning_rate': 4.797473512632437e-05, 'epoch': 0.41}\n",
      "{'loss': 1.7722, 'learning_rate': 4.777098614506928e-05, 'epoch': 0.45}\n",
      "{'loss': 1.7455, 'learning_rate': 4.756723716381418e-05, 'epoch': 0.49}\n"
     ]
=======
     "name": "stdout",
     "output_type": "stream",
     "text": [
      "{'eval_loss': 1.005597472190857, 'eval_cer': 0.28100911002102313, 'eval_runtime': 175.8512, 'eval_samples_per_second': 5.232, 'eval_steps_per_second': 1.746, 'epoch': 0.33}\n",
      "{'loss': 0.9012, 'learning_rate': 4.817848410757946e-05, 'epoch': 0.37}\n",
      "{'loss': 0.8855, 'learning_rate': 4.797473512632437e-05, 'epoch': 0.41}\n",
      "{'loss': 1.0079, 'learning_rate': 4.777098614506928e-05, 'epoch': 0.45}\n",
      "{'loss': 0.9488, 'learning_rate': 4.756723716381418e-05, 'epoch': 0.49}\n"
     ]
>>>>>>> parent of 5128b5f (compl;ite anno BalllerTV)
    },
    {
     "data": {
      "application/vnd.jupyter.widget-view+json": {
<<<<<<< HEAD
       "model_id": "c2d91a3bd42440cb8f3ba52aa423ef98",
=======
       "model_id": "ac261c94016f482a996e4d2fd42c1443",
>>>>>>> parent of 5128b5f (compl;ite anno BalllerTV)
       "version_major": 2,
       "version_minor": 0
      },
      "text/plain": [
       "  0%|          | 0/307 [00:00<?, ?it/s]"
      ]
     },
     "metadata": {},
     "output_type": "display_data"
    },
    {
     "name": "stdout",
     "output_type": "stream",
     "text": [
<<<<<<< HEAD
      "{'eval_loss': 1.6119269132614136, 'eval_cer': 0.899352983465133, 'eval_runtime': 176.9877, 'eval_samples_per_second': 5.198, 'eval_steps_per_second': 1.735, 'epoch': 0.49}\n",
      "{'loss': 1.683, 'learning_rate': 4.736348818255909e-05, 'epoch': 0.53}\n",
      "{'loss': 1.6762, 'learning_rate': 4.7159739201303995e-05, 'epoch': 0.57}\n",
      "{'loss': 1.7059, 'learning_rate': 4.69559902200489e-05, 'epoch': 0.61}\n",
      "{'loss': 1.6615, 'learning_rate': 4.675224123879381e-05, 'epoch': 0.65}\n"
=======
      "{'eval_loss': 0.8130293488502502, 'eval_cer': 0.1506657323055361, 'eval_runtime': 176.3286, 'eval_samples_per_second': 5.218, 'eval_steps_per_second': 1.741, 'epoch': 0.49}\n",
      "{'loss': 0.9071, 'learning_rate': 4.736348818255909e-05, 'epoch': 0.53}\n",
      "{'loss': 0.8914, 'learning_rate': 4.7159739201303995e-05, 'epoch': 0.57}\n",
      "{'loss': 0.8967, 'learning_rate': 4.69559902200489e-05, 'epoch': 0.61}\n",
      "{'loss': 0.7406, 'learning_rate': 4.675224123879381e-05, 'epoch': 0.65}\n"
>>>>>>> parent of 5128b5f (compl;ite anno BalllerTV)
     ]
    },
    {
     "data": {
      "application/vnd.jupyter.widget-view+json": {
<<<<<<< HEAD
       "model_id": "6e4b0e09dddf4dc587ac562365c6d4e3",
=======
       "model_id": "79e510bd1e344a35b7139f42995b7383",
>>>>>>> parent of 5128b5f (compl;ite anno BalllerTV)
       "version_major": 2,
       "version_minor": 0
      },
      "text/plain": [
       "  0%|          | 0/307 [00:00<?, ?it/s]"
      ]
     },
     "metadata": {},
     "output_type": "display_data"
    },
    {
     "name": "stdout",
     "output_type": "stream",
     "text": [
<<<<<<< HEAD
      "{'eval_loss': 1.6388376951217651, 'eval_cer': 0.9094176851186196, 'eval_runtime': 177.3554, 'eval_samples_per_second': 5.187, 'eval_steps_per_second': 1.731, 'epoch': 0.65}\n",
      "{'loss': 1.6585, 'learning_rate': 4.6548492257538716e-05, 'epoch': 0.69}\n",
      "{'loss': 1.6498, 'learning_rate': 4.634474327628362e-05, 'epoch': 0.73}\n",
      "{'loss': 1.6524, 'learning_rate': 4.614099429502853e-05, 'epoch': 0.77}\n",
      "{'loss': 1.6808, 'learning_rate': 4.5937245313773436e-05, 'epoch': 0.81}\n"
=======
      "{'eval_loss': 0.8858893513679504, 'eval_cer': 0.11983181499649614, 'eval_runtime': 176.1488, 'eval_samples_per_second': 5.223, 'eval_steps_per_second': 1.743, 'epoch': 0.65}\n",
      "{'loss': 0.8536, 'learning_rate': 4.6548492257538716e-05, 'epoch': 0.69}\n",
      "{'loss': 0.9009, 'learning_rate': 4.634474327628362e-05, 'epoch': 0.73}\n",
      "{'loss': 0.8231, 'learning_rate': 4.614099429502853e-05, 'epoch': 0.77}\n",
      "{'loss': 0.8177, 'learning_rate': 4.5937245313773436e-05, 'epoch': 0.81}\n"
>>>>>>> parent of 5128b5f (compl;ite anno BalllerTV)
     ]
    },
    {
     "data": {
      "application/vnd.jupyter.widget-view+json": {
<<<<<<< HEAD
       "model_id": "2342176478e94df5958bb182f9207c7f",
=======
       "model_id": "dfdf9597f64148068f6bda07a69c8124",
>>>>>>> parent of 5128b5f (compl;ite anno BalllerTV)
       "version_major": 2,
       "version_minor": 0
      },
      "text/plain": [
       "  0%|          | 0/307 [00:00<?, ?it/s]"
      ]
     },
     "metadata": {},
     "output_type": "display_data"
    },
    {
     "name": "stdout",
     "output_type": "stream",
     "text": [
<<<<<<< HEAD
      "{'eval_loss': 1.637856364250183, 'eval_cer': 0.7951114306254493, 'eval_runtime': 178.0813, 'eval_samples_per_second': 5.166, 'eval_steps_per_second': 1.724, 'epoch': 0.81}\n",
      "{'loss': 1.7074, 'learning_rate': 4.5733496332518336e-05, 'epoch': 0.86}\n",
      "{'loss': 1.7184, 'learning_rate': 4.552974735126325e-05, 'epoch': 0.9}\n",
      "{'loss': 1.6675, 'learning_rate': 4.5325998370008156e-05, 'epoch': 0.94}\n",
      "{'loss': 1.6515, 'learning_rate': 4.5122249388753056e-05, 'epoch': 0.98}\n"
=======
      "{'eval_loss': 0.8737026453018188, 'eval_cer': 0.1618780658724597, 'eval_runtime': 176.2968, 'eval_samples_per_second': 5.218, 'eval_steps_per_second': 1.741, 'epoch': 0.81}\n",
      "{'loss': 0.9098, 'learning_rate': 4.5733496332518336e-05, 'epoch': 0.86}\n",
      "{'loss': 0.7791, 'learning_rate': 4.552974735126325e-05, 'epoch': 0.9}\n",
      "{'loss': 0.7748, 'learning_rate': 4.5325998370008156e-05, 'epoch': 0.94}\n",
      "{'loss': 0.7861, 'learning_rate': 4.5122249388753056e-05, 'epoch': 0.98}\n"
>>>>>>> parent of 5128b5f (compl;ite anno BalllerTV)
     ]
    },
    {
     "data": {
      "application/vnd.jupyter.widget-view+json": {
<<<<<<< HEAD
       "model_id": "9866b7d120444e01bb55e40b73ce9fdd",
=======
       "model_id": "fff1052922934fec8a2a6732e14bb064",
>>>>>>> parent of 5128b5f (compl;ite anno BalllerTV)
       "version_major": 2,
       "version_minor": 0
      },
      "text/plain": [
       "  0%|          | 0/307 [00:00<?, ?it/s]"
      ]
     },
     "metadata": {},
     "output_type": "display_data"
    },
    {
     "name": "stdout",
     "output_type": "stream",
     "text": [
<<<<<<< HEAD
      "{'eval_loss': 1.6495131254196167, 'eval_cer': 0.8087706685837527, 'eval_runtime': 177.6788, 'eval_samples_per_second': 5.178, 'eval_steps_per_second': 1.728, 'epoch': 0.98}\n",
      "{'loss': 1.6129, 'learning_rate': 4.491850040749796e-05, 'epoch': 1.02}\n",
      "{'loss': 1.5981, 'learning_rate': 4.4714751426242876e-05, 'epoch': 1.06}\n",
      "{'loss': 1.6384, 'learning_rate': 4.4511002444987776e-05, 'epoch': 1.1}\n",
      "{'loss': 1.6165, 'learning_rate': 4.430725346373268e-05, 'epoch': 1.14}\n"
=======
      "{'eval_loss': 0.820232093334198, 'eval_cer': 0.212333566923616, 'eval_runtime': 176.744, 'eval_samples_per_second': 5.205, 'eval_steps_per_second': 1.737, 'epoch': 0.98}\n",
      "{'loss': 0.7093, 'learning_rate': 4.491850040749796e-05, 'epoch': 1.02}\n",
      "{'loss': 0.7824, 'learning_rate': 4.4714751426242876e-05, 'epoch': 1.06}\n",
      "{'loss': 0.7165, 'learning_rate': 4.4511002444987776e-05, 'epoch': 1.1}\n",
      "{'loss': 0.7712, 'learning_rate': 4.430725346373268e-05, 'epoch': 1.14}\n"
>>>>>>> parent of 5128b5f (compl;ite anno BalllerTV)
     ]
    },
    {
     "data": {
      "application/vnd.jupyter.widget-view+json": {
<<<<<<< HEAD
       "model_id": "0390d301d54b41d0b9d447a1954b0c0c",
=======
       "model_id": "2d6a7468ec3f4c8d9ad909a306ce2a32",
>>>>>>> parent of 5128b5f (compl;ite anno BalllerTV)
       "version_major": 2,
       "version_minor": 0
      },
      "text/plain": [
       "  0%|          | 0/307 [00:00<?, ?it/s]"
      ]
     },
     "metadata": {},
     "output_type": "display_data"
    },
    {
     "name": "stdout",
     "output_type": "stream",
     "text": [
<<<<<<< HEAD
      "{'eval_loss': 1.669013500213623, 'eval_cer': 0.9094176851186196, 'eval_runtime': 178.3804, 'eval_samples_per_second': 5.158, 'eval_steps_per_second': 1.721, 'epoch': 1.14}\n",
      "{'loss': 1.6177, 'learning_rate': 4.410350448247759e-05, 'epoch': 1.18}\n",
      "{'loss': 1.5666, 'learning_rate': 4.3899755501222497e-05, 'epoch': 1.22}\n",
      "{'loss': 1.6082, 'learning_rate': 4.36960065199674e-05, 'epoch': 1.26}\n",
      "{'loss': 1.5495, 'learning_rate': 4.349225753871231e-05, 'epoch': 1.3}\n"
=======
      "{'eval_loss': 0.7563449144363403, 'eval_cer': 0.10861948142957253, 'eval_runtime': 176.6934, 'eval_samples_per_second': 5.207, 'eval_steps_per_second': 1.737, 'epoch': 1.14}\n",
      "{'loss': 0.7284, 'learning_rate': 4.410350448247759e-05, 'epoch': 1.18}\n",
      "{'loss': 0.6842, 'learning_rate': 4.3899755501222497e-05, 'epoch': 1.22}\n",
      "{'loss': 0.7108, 'learning_rate': 4.36960065199674e-05, 'epoch': 1.26}\n",
      "{'loss': 0.6885, 'learning_rate': 4.349225753871231e-05, 'epoch': 1.3}\n"
>>>>>>> parent of 5128b5f (compl;ite anno BalllerTV)
     ]
    },
    {
     "data": {
      "application/vnd.jupyter.widget-view+json": {
<<<<<<< HEAD
       "model_id": "e163fcd008634426a17d855d634bb191",
=======
       "model_id": "722a09ea4f8f4001a9dd632c6584dcbd",
>>>>>>> parent of 5128b5f (compl;ite anno BalllerTV)
       "version_major": 2,
       "version_minor": 0
      },
      "text/plain": [
       "  0%|          | 0/307 [00:00<?, ?it/s]"
      ]
     },
     "metadata": {},
     "output_type": "display_data"
    },
    {
     "name": "stdout",
     "output_type": "stream",
     "text": [
<<<<<<< HEAD
      "{'eval_loss': 1.6121107339859009, 'eval_cer': 0.9022286125089863, 'eval_runtime': 176.2021, 'eval_samples_per_second': 5.221, 'eval_steps_per_second': 1.742, 'epoch': 1.3}\n",
      "{'loss': 1.5175, 'learning_rate': 4.328850855745722e-05, 'epoch': 1.34}\n",
      "{'loss': 1.5444, 'learning_rate': 4.3084759576202124e-05, 'epoch': 1.39}\n",
      "{'loss': 1.4941, 'learning_rate': 4.288101059494703e-05, 'epoch': 1.43}\n",
      "{'loss': 1.5352, 'learning_rate': 4.267726161369193e-05, 'epoch': 1.47}\n"
=======
      "{'eval_loss': 0.8313117027282715, 'eval_cer': 0.1730903994393833, 'eval_runtime': 177.0069, 'eval_samples_per_second': 5.198, 'eval_steps_per_second': 1.734, 'epoch': 1.3}\n",
      "{'loss': 0.6583, 'learning_rate': 4.328850855745722e-05, 'epoch': 1.34}\n",
      "{'loss': 0.6888, 'learning_rate': 4.3084759576202124e-05, 'epoch': 1.39}\n",
      "{'loss': 0.7463, 'learning_rate': 4.288101059494703e-05, 'epoch': 1.43}\n",
      "{'loss': 0.7242, 'learning_rate': 4.267726161369193e-05, 'epoch': 1.47}\n"
>>>>>>> parent of 5128b5f (compl;ite anno BalllerTV)
     ]
    },
    {
     "data": {
      "application/vnd.jupyter.widget-view+json": {
<<<<<<< HEAD
       "model_id": "7122679c8fe94ad2aa9e0fc745f3f239",
=======
       "model_id": "cf7356b53379416b884c00d922a48d65",
>>>>>>> parent of 5128b5f (compl;ite anno BalllerTV)
       "version_major": 2,
       "version_minor": 0
      },
      "text/plain": [
       "  0%|          | 0/307 [00:00<?, ?it/s]"
      ]
     },
     "metadata": {},
     "output_type": "display_data"
    },
    {
     "name": "stdout",
     "output_type": "stream",
     "text": [
<<<<<<< HEAD
      "{'eval_loss': 1.549712061882019, 'eval_cer': 0.8267433501078361, 'eval_runtime': 176.5988, 'eval_samples_per_second': 5.21, 'eval_steps_per_second': 1.738, 'epoch': 1.47}\n",
      "{'loss': 1.4608, 'learning_rate': 4.2473512632436844e-05, 'epoch': 1.51}\n",
      "{'loss': 1.3612, 'learning_rate': 4.226976365118175e-05, 'epoch': 1.55}\n",
      "{'loss': 1.337, 'learning_rate': 4.206601466992665e-05, 'epoch': 1.59}\n",
      "{'loss': 1.4986, 'learning_rate': 4.186226568867156e-05, 'epoch': 1.63}\n"
=======
      "{'eval_loss': 0.711934506893158, 'eval_cer': 0.11142256482130343, 'eval_runtime': 176.3872, 'eval_samples_per_second': 5.216, 'eval_steps_per_second': 1.74, 'epoch': 1.47}\n",
      "{'loss': 0.6806, 'learning_rate': 4.2473512632436844e-05, 'epoch': 1.51}\n",
      "{'loss': 0.7023, 'learning_rate': 4.226976365118175e-05, 'epoch': 1.55}\n",
      "{'loss': 0.6498, 'learning_rate': 4.206601466992665e-05, 'epoch': 1.59}\n",
      "{'loss': 0.7252, 'learning_rate': 4.186226568867156e-05, 'epoch': 1.63}\n"
>>>>>>> parent of 5128b5f (compl;ite anno BalllerTV)
     ]
    },
    {
     "data": {
      "application/vnd.jupyter.widget-view+json": {
<<<<<<< HEAD
       "model_id": "6a2df0db5fdc4466b48e1c79db333ea4",
=======
       "model_id": "ce4c1a029de545d4b19ef9cb724bc936",
>>>>>>> parent of 5128b5f (compl;ite anno BalllerTV)
       "version_major": 2,
       "version_minor": 0
      },
      "text/plain": [
       "  0%|          | 0/307 [00:00<?, ?it/s]"
      ]
     },
     "metadata": {},
     "output_type": "display_data"
    },
    {
     "name": "stdout",
     "output_type": "stream",
     "text": [
<<<<<<< HEAD
      "{'eval_loss': 1.606401801109314, 'eval_cer': 0.8296189791516895, 'eval_runtime': 176.4779, 'eval_samples_per_second': 5.213, 'eval_steps_per_second': 1.74, 'epoch': 1.63}\n",
      "{'loss': 1.3507, 'learning_rate': 4.1658516707416464e-05, 'epoch': 1.67}\n",
      "{'loss': 1.3847, 'learning_rate': 4.145476772616137e-05, 'epoch': 1.71}\n",
      "{'loss': 1.3064, 'learning_rate': 4.125101874490628e-05, 'epoch': 1.75}\n",
      "{'loss': 1.3526, 'learning_rate': 4.1047269763651184e-05, 'epoch': 1.79}\n"
=======
      "{'eval_loss': 0.7904417514801025, 'eval_cer': 0.13524877365101612, 'eval_runtime': 176.6772, 'eval_samples_per_second': 5.207, 'eval_steps_per_second': 1.738, 'epoch': 1.63}\n",
      "{'loss': 0.763, 'learning_rate': 4.1658516707416464e-05, 'epoch': 1.67}\n",
      "{'loss': 0.6925, 'learning_rate': 4.145476772616137e-05, 'epoch': 1.71}\n",
      "{'loss': 0.6807, 'learning_rate': 4.125101874490628e-05, 'epoch': 1.75}\n",
      "{'loss': 0.7185, 'learning_rate': 4.1047269763651184e-05, 'epoch': 1.79}\n"
>>>>>>> parent of 5128b5f (compl;ite anno BalllerTV)
     ]
    },
    {
     "data": {
      "application/vnd.jupyter.widget-view+json": {
<<<<<<< HEAD
       "model_id": "895f279941b946d2bed950e950bc7a8b",
=======
       "model_id": "c0bf3c154854499d9ac3baee309bd570",
>>>>>>> parent of 5128b5f (compl;ite anno BalllerTV)
       "version_major": 2,
       "version_minor": 0
      },
      "text/plain": [
       "  0%|          | 0/307 [00:00<?, ?it/s]"
      ]
     },
     "metadata": {},
     "output_type": "display_data"
    },
    {
     "name": "stdout",
     "output_type": "stream",
     "text": [
<<<<<<< HEAD
      "{'eval_loss': 1.763048529624939, 'eval_cer': 0.7634795111430626, 'eval_runtime': 176.6285, 'eval_samples_per_second': 5.209, 'eval_steps_per_second': 1.738, 'epoch': 1.79}\n",
      "{'loss': 1.2001, 'learning_rate': 4.084352078239609e-05, 'epoch': 1.83}\n",
      "{'loss': 1.3057, 'learning_rate': 4.0639771801141e-05, 'epoch': 1.87}\n",
      "{'loss': 1.1851, 'learning_rate': 4.0436022819885904e-05, 'epoch': 1.92}\n",
      "{'loss': 1.2475, 'learning_rate': 4.0232273838630804e-05, 'epoch': 1.96}\n"
=======
      "{'eval_loss': 0.7233825922012329, 'eval_cer': 0.10581639803784162, 'eval_runtime': 176.8665, 'eval_samples_per_second': 5.202, 'eval_steps_per_second': 1.736, 'epoch': 1.79}\n",
      "{'loss': 0.7447, 'learning_rate': 4.084352078239609e-05, 'epoch': 1.83}\n",
      "{'loss': 0.7006, 'learning_rate': 4.0639771801141e-05, 'epoch': 1.87}\n",
      "{'loss': 0.5992, 'learning_rate': 4.0436022819885904e-05, 'epoch': 1.92}\n",
      "{'loss': 0.7015, 'learning_rate': 4.0232273838630804e-05, 'epoch': 1.96}\n"
>>>>>>> parent of 5128b5f (compl;ite anno BalllerTV)
     ]
    },
    {
     "data": {
      "application/vnd.jupyter.widget-view+json": {
<<<<<<< HEAD
       "model_id": "7a1f617ca59a485ebed933c464a727d9",
=======
       "model_id": "9604e36c091f409db2465a121b4b3dee",
>>>>>>> parent of 5128b5f (compl;ite anno BalllerTV)
       "version_major": 2,
       "version_minor": 0
      },
      "text/plain": [
       "  0%|          | 0/307 [00:00<?, ?it/s]"
      ]
     },
     "metadata": {},
     "output_type": "display_data"
    },
    {
     "name": "stdout",
     "output_type": "stream",
     "text": [
<<<<<<< HEAD
      "{'eval_loss': 2.154808282852173, 'eval_cer': 0.8648454349388929, 'eval_runtime': 175.9708, 'eval_samples_per_second': 5.228, 'eval_steps_per_second': 1.745, 'epoch': 1.96}\n",
      "{'loss': 1.2178, 'learning_rate': 4.002852485737572e-05, 'epoch': 2.0}\n",
      "{'loss': 1.2796, 'learning_rate': 3.982885085574572e-05, 'epoch': 2.04}\n",
      "{'loss': 1.0998, 'learning_rate': 3.962510187449063e-05, 'epoch': 2.08}\n",
      "{'loss': 1.2493, 'learning_rate': 3.9421352893235535e-05, 'epoch': 2.12}\n"
=======
      "{'eval_loss': 0.7657157182693481, 'eval_cer': 0.11282410651716888, 'eval_runtime': 177.0283, 'eval_samples_per_second': 5.197, 'eval_steps_per_second': 1.734, 'epoch': 1.96}\n",
      "{'loss': 0.6542, 'learning_rate': 4.002852485737572e-05, 'epoch': 2.0}\n",
      "{'loss': 0.5786, 'learning_rate': 3.9824775876120625e-05, 'epoch': 2.04}\n",
      "{'loss': 0.5625, 'learning_rate': 3.9621026894865525e-05, 'epoch': 2.08}\n",
      "{'loss': 0.6358, 'learning_rate': 3.941727791361043e-05, 'epoch': 2.12}\n"
>>>>>>> parent of 5128b5f (compl;ite anno BalllerTV)
     ]
    },
    {
     "data": {
      "application/vnd.jupyter.widget-view+json": {
<<<<<<< HEAD
       "model_id": "2c5287d88390458fb7a055518d621446",
=======
       "model_id": "316bf3e8b58d4c5a850f268f3fd5238c",
>>>>>>> parent of 5128b5f (compl;ite anno BalllerTV)
       "version_major": 2,
       "version_minor": 0
      },
      "text/plain": [
       "  0%|          | 0/307 [00:00<?, ?it/s]"
      ]
     },
     "metadata": {},
     "output_type": "display_data"
    },
    {
     "name": "stdout",
     "output_type": "stream",
     "text": [
<<<<<<< HEAD
      "{'eval_loss': 2.0266005992889404, 'eval_cer': 0.7872034507548527, 'eval_runtime': 176.4744, 'eval_samples_per_second': 5.213, 'eval_steps_per_second': 1.74, 'epoch': 2.12}\n",
      "{'loss': 1.1596, 'learning_rate': 3.921760391198044e-05, 'epoch': 2.16}\n",
      "{'loss': 1.1212, 'learning_rate': 3.901385493072535e-05, 'epoch': 2.2}\n",
      "{'loss': 1.043, 'learning_rate': 3.8810105949470256e-05, 'epoch': 2.24}\n",
      "{'loss': 1.1395, 'learning_rate': 3.860635696821516e-05, 'epoch': 2.28}\n"
=======
      "{'eval_loss': 0.7848071455955505, 'eval_cer': 0.09950946040644709, 'eval_runtime': 176.7462, 'eval_samples_per_second': 5.205, 'eval_steps_per_second': 1.737, 'epoch': 2.12}\n",
      "{'loss': 0.5779, 'learning_rate': 3.9213528932355345e-05, 'epoch': 2.16}\n",
      "{'loss': 0.5485, 'learning_rate': 3.9009779951100245e-05, 'epoch': 2.2}\n",
      "{'loss': 0.62, 'learning_rate': 3.880603096984515e-05, 'epoch': 2.24}\n",
      "{'loss': 0.5268, 'learning_rate': 3.860228198859006e-05, 'epoch': 2.28}\n"
>>>>>>> parent of 5128b5f (compl;ite anno BalllerTV)
     ]
    },
    {
     "data": {
      "application/vnd.jupyter.widget-view+json": {
<<<<<<< HEAD
       "model_id": "519410e42ae2432f802005af14f384ab",
=======
       "model_id": "2028a51985f349d6b2fb9cad64e9189c",
>>>>>>> parent of 5128b5f (compl;ite anno BalllerTV)
       "version_major": 2,
       "version_minor": 0
      },
      "text/plain": [
       "  0%|          | 0/307 [00:00<?, ?it/s]"
      ]
     },
     "metadata": {},
     "output_type": "display_data"
    },
    {
     "name": "stdout",
     "output_type": "stream",
     "text": [
<<<<<<< HEAD
      "{'eval_loss': 2.3076560497283936, 'eval_cer': 0.7081236520488857, 'eval_runtime': 176.5508, 'eval_samples_per_second': 5.211, 'eval_steps_per_second': 1.739, 'epoch': 2.28}\n",
      "{'loss': 1.0294, 'learning_rate': 3.840260798696006e-05, 'epoch': 2.32}\n",
      "{'loss': 1.0967, 'learning_rate': 3.8198859005704976e-05, 'epoch': 2.36}\n",
      "{'loss': 1.1754, 'learning_rate': 3.799511002444988e-05, 'epoch': 2.4}\n",
      "{'loss': 1.0244, 'learning_rate': 3.779136104319478e-05, 'epoch': 2.44}\n"
=======
      "{'eval_loss': 0.766470193862915, 'eval_cer': 0.07498248072880168, 'eval_runtime': 177.146, 'eval_samples_per_second': 5.193, 'eval_steps_per_second': 1.733, 'epoch': 2.28}\n",
      "{'loss': 0.4878, 'learning_rate': 3.8398533007334965e-05, 'epoch': 2.32}\n",
      "{'loss': 0.4855, 'learning_rate': 3.819478402607987e-05, 'epoch': 2.36}\n",
      "{'loss': 0.4269, 'learning_rate': 3.799511002444988e-05, 'epoch': 2.4}\n",
      "{'loss': 0.4787, 'learning_rate': 3.779136104319478e-05, 'epoch': 2.44}\n"
>>>>>>> parent of 5128b5f (compl;ite anno BalllerTV)
     ]
    },
    {
     "data": {
      "application/vnd.jupyter.widget-view+json": {
<<<<<<< HEAD
       "model_id": "1f54320a27c74bfa9d358537f9bf6b5d",
=======
       "model_id": "44c2d6983f0f4619be6399f6eadc110f",
>>>>>>> parent of 5128b5f (compl;ite anno BalllerTV)
       "version_major": 2,
       "version_minor": 0
      },
      "text/plain": [
       "  0%|          | 0/307 [00:00<?, ?it/s]"
      ]
     },
     "metadata": {},
     "output_type": "display_data"
    },
    {
     "name": "stdout",
     "output_type": "stream",
     "text": [
<<<<<<< HEAD
      "{'eval_loss': 2.517728328704834, 'eval_cer': 0.6347951114306255, 'eval_runtime': 176.341, 'eval_samples_per_second': 5.217, 'eval_steps_per_second': 1.741, 'epoch': 2.44}\n",
      "{'loss': 1.0319, 'learning_rate': 3.758761206193969e-05, 'epoch': 2.49}\n",
      "{'loss': 1.0662, 'learning_rate': 3.73838630806846e-05, 'epoch': 2.53}\n",
      "{'loss': 0.9678, 'learning_rate': 3.71801140994295e-05, 'epoch': 2.57}\n",
      "{'loss': 1.0898, 'learning_rate': 3.697636511817441e-05, 'epoch': 2.61}\n"
=======
      "{'eval_loss': 1.679684042930603, 'eval_cer': 0.10441485634197617, 'eval_runtime': 176.4496, 'eval_samples_per_second': 5.214, 'eval_steps_per_second': 1.74, 'epoch': 2.44}\n",
      "{'loss': 0.4619, 'learning_rate': 3.758761206193969e-05, 'epoch': 2.49}\n",
      "{'loss': 0.3549, 'learning_rate': 3.73838630806846e-05, 'epoch': 2.53}\n",
      "{'loss': 0.4013, 'learning_rate': 3.71801140994295e-05, 'epoch': 2.57}\n",
      "{'loss': 0.2494, 'learning_rate': 3.6980440097799514e-05, 'epoch': 2.61}\n"
>>>>>>> parent of 5128b5f (compl;ite anno BalllerTV)
     ]
    },
    {
     "data": {
      "application/vnd.jupyter.widget-view+json": {
<<<<<<< HEAD
       "model_id": "3107eef357394942a138c1867d201b6b",
=======
       "model_id": "063b207771274166937a3a065383cab2",
>>>>>>> parent of 5128b5f (compl;ite anno BalllerTV)
       "version_major": 2,
       "version_minor": 0
      },
      "text/plain": [
       "  0%|          | 0/307 [00:00<?, ?it/s]"
      ]
     },
     "metadata": {},
     "output_type": "display_data"
    },
    {
     "name": "stdout",
     "output_type": "stream",
     "text": [
<<<<<<< HEAD
      "{'eval_loss': 2.925567150115967, 'eval_cer': 0.6427030913012222, 'eval_runtime': 176.2901, 'eval_samples_per_second': 5.219, 'eval_steps_per_second': 1.741, 'epoch': 2.61}\n",
      "{'loss': 0.9529, 'learning_rate': 3.6772616136919316e-05, 'epoch': 2.65}\n",
      "{'loss': 1.0099, 'learning_rate': 3.656886715566422e-05, 'epoch': 2.69}\n",
      "{'loss': 0.962, 'learning_rate': 3.636511817440913e-05, 'epoch': 2.73}\n",
      "{'loss': 0.8694, 'learning_rate': 3.616136919315404e-05, 'epoch': 2.77}\n"
=======
      "{'eval_loss': 1.2615149021148682, 'eval_cer': 0.1079187105816398, 'eval_runtime': 176.982, 'eval_samples_per_second': 5.198, 'eval_steps_per_second': 1.735, 'epoch': 2.61}\n",
      "{'loss': 0.4411, 'learning_rate': 3.6780766096169524e-05, 'epoch': 2.65}\n",
      "{'loss': 0.3431, 'learning_rate': 3.6577017114914424e-05, 'epoch': 2.69}\n",
      "{'loss': 0.2762, 'learning_rate': 3.637326813365933e-05, 'epoch': 2.73}\n",
      "{'loss': 0.3003, 'learning_rate': 3.616951915240424e-05, 'epoch': 2.77}\n"
>>>>>>> parent of 5128b5f (compl;ite anno BalllerTV)
     ]
    },
    {
     "data": {
      "application/vnd.jupyter.widget-view+json": {
<<<<<<< HEAD
       "model_id": "2fc08a88bde1440886303e4934d0e06b",
=======
       "model_id": "1c3531d938d24f16bb37a779dc40e79a",
>>>>>>> parent of 5128b5f (compl;ite anno BalllerTV)
       "version_major": 2,
       "version_minor": 0
      },
      "text/plain": [
       "  0%|          | 0/307 [00:00<?, ?it/s]"
      ]
     },
     "metadata": {},
     "output_type": "display_data"
    },
    {
     "name": "stdout",
     "output_type": "stream",
     "text": [
<<<<<<< HEAD
      "{'eval_loss': 2.4700937271118164, 'eval_cer': 0.6283249460819554, 'eval_runtime': 177.0, 'eval_samples_per_second': 5.198, 'eval_steps_per_second': 1.734, 'epoch': 2.77}\n",
      "{'loss': 0.9924, 'learning_rate': 3.595762021189894e-05, 'epoch': 2.81}\n",
      "{'loss': 0.8428, 'learning_rate': 3.575387123064385e-05, 'epoch': 2.85}\n",
      "{'loss': 0.9037, 'learning_rate': 3.555012224938876e-05, 'epoch': 2.89}\n",
      "{'loss': 0.8036, 'learning_rate': 3.534637326813366e-05, 'epoch': 2.93}\n"
=======
      "{'eval_loss': 1.381049633026123, 'eval_cer': 0.11422564821303434, 'eval_runtime': 178.2112, 'eval_samples_per_second': 5.162, 'eval_steps_per_second': 1.723, 'epoch': 2.77}\n",
      "{'loss': 0.4985, 'learning_rate': 3.5965770171149145e-05, 'epoch': 2.81}\n",
      "{'loss': 0.3728, 'learning_rate': 3.576202118989405e-05, 'epoch': 2.85}\n",
      "{'loss': 0.3224, 'learning_rate': 3.555827220863896e-05, 'epoch': 2.89}\n",
      "{'loss': 0.3382, 'learning_rate': 3.5354523227383865e-05, 'epoch': 2.93}\n"
>>>>>>> parent of 5128b5f (compl;ite anno BalllerTV)
     ]
    },
    {
     "data": {
      "application/vnd.jupyter.widget-view+json": {
<<<<<<< HEAD
       "model_id": "194e497f5d6f49138920c0284d37d2ba",
=======
       "model_id": "fffdacce846f4deba5ebd448d665a708",
>>>>>>> parent of 5128b5f (compl;ite anno BalllerTV)
       "version_major": 2,
       "version_minor": 0
      },
      "text/plain": [
       "  0%|          | 0/307 [00:00<?, ?it/s]"
      ]
     },
     "metadata": {},
     "output_type": "display_data"
    },
    {
     "name": "stdout",
     "output_type": "stream",
     "text": [
<<<<<<< HEAD
      "{'eval_loss': 2.5839333534240723, 'eval_cer': 0.6405463695183321, 'eval_runtime': 177.0855, 'eval_samples_per_second': 5.195, 'eval_steps_per_second': 1.734, 'epoch': 2.93}\n",
      "{'loss': 0.8516, 'learning_rate': 3.514262428687857e-05, 'epoch': 2.97}\n",
      "{'loss': 0.8953, 'learning_rate': 3.493887530562348e-05, 'epoch': 3.02}\n",
      "{'loss': 0.8232, 'learning_rate': 3.473920130399348e-05, 'epoch': 3.06}\n",
      "{'loss': 0.808, 'learning_rate': 3.453545232273839e-05, 'epoch': 3.1}\n"
=======
      "{'eval_loss': 2.2868576049804688, 'eval_cer': 0.08549404344779257, 'eval_runtime': 177.139, 'eval_samples_per_second': 5.194, 'eval_steps_per_second': 1.733, 'epoch': 2.93}\n",
      "{'loss': 0.2486, 'learning_rate': 3.515077424612877e-05, 'epoch': 2.97}\n",
      "{'loss': 0.37, 'learning_rate': 3.494702526487368e-05, 'epoch': 3.02}\n",
      "{'loss': 0.3668, 'learning_rate': 3.474327628361858e-05, 'epoch': 3.06}\n",
      "{'loss': 0.3176, 'learning_rate': 3.453952730236349e-05, 'epoch': 3.1}\n"
>>>>>>> parent of 5128b5f (compl;ite anno BalllerTV)
     ]
    },
    {
     "data": {
      "application/vnd.jupyter.widget-view+json": {
<<<<<<< HEAD
       "model_id": "cea4f374dc394d3487bfd7caeb28f8c2",
=======
       "model_id": "fba42d96ec95444690d170b3772c0427",
>>>>>>> parent of 5128b5f (compl;ite anno BalllerTV)
       "version_major": 2,
       "version_minor": 0
      },
      "text/plain": [
       "  0%|          | 0/307 [00:00<?, ?it/s]"
      ]
     },
     "metadata": {},
     "output_type": "display_data"
    },
    {
     "name": "stdout",
     "output_type": "stream",
     "text": [
<<<<<<< HEAD
      "{'eval_loss': 2.804905414581299, 'eval_cer': 0.5693745506829619, 'eval_runtime': 176.3421, 'eval_samples_per_second': 5.217, 'eval_steps_per_second': 1.741, 'epoch': 3.1}\n",
      "{'loss': 0.8556, 'learning_rate': 3.4331703341483295e-05, 'epoch': 3.14}\n",
      "{'loss': 0.7005, 'learning_rate': 3.41279543602282e-05, 'epoch': 3.18}\n",
      "{'loss': 0.839, 'learning_rate': 3.392420537897311e-05, 'epoch': 3.22}\n",
      "{'loss': 0.8453, 'learning_rate': 3.3720456397718015e-05, 'epoch': 3.26}\n"
=======
      "{'eval_loss': 1.828942894935608, 'eval_cer': 0.0861948142957253, 'eval_runtime': 176.6795, 'eval_samples_per_second': 5.207, 'eval_steps_per_second': 1.738, 'epoch': 3.1}\n",
      "{'loss': 0.2899, 'learning_rate': 3.43357783211084e-05, 'epoch': 3.14}\n",
      "{'loss': 0.2055, 'learning_rate': 3.41320293398533e-05, 'epoch': 3.18}\n",
      "{'loss': 0.2654, 'learning_rate': 3.3928280358598205e-05, 'epoch': 3.22}\n",
      "{'loss': 0.2995, 'learning_rate': 3.372453137734312e-05, 'epoch': 3.26}\n"
>>>>>>> parent of 5128b5f (compl;ite anno BalllerTV)
     ]
    },
    {
     "data": {
      "application/vnd.jupyter.widget-view+json": {
<<<<<<< HEAD
       "model_id": "5ad2639187d3443087c7dde33863627e",
=======
       "model_id": "31d08fff55784625b76c73d67062ab8d",
>>>>>>> parent of 5128b5f (compl;ite anno BalllerTV)
       "version_major": 2,
       "version_minor": 0
      },
      "text/plain": [
       "  0%|          | 0/307 [00:00<?, ?it/s]"
      ]
     },
     "metadata": {},
     "output_type": "display_data"
    },
    {
     "name": "stdout",
     "output_type": "stream",
     "text": [
<<<<<<< HEAD
      "{'eval_loss': 2.7963576316833496, 'eval_cer': 0.5650611071171819, 'eval_runtime': 175.603, 'eval_samples_per_second': 5.239, 'eval_steps_per_second': 1.748, 'epoch': 3.26}\n",
      "{'loss': 0.7421, 'learning_rate': 3.3516707416462915e-05, 'epoch': 3.3}\n",
      "{'loss': 0.9581, 'learning_rate': 3.331295843520783e-05, 'epoch': 3.34}\n",
      "{'loss': 0.8294, 'learning_rate': 3.3109209453952735e-05, 'epoch': 3.38}\n",
      "{'loss': 0.7056, 'learning_rate': 3.2905460472697635e-05, 'epoch': 3.42}\n"
=======
      "{'eval_loss': 2.1801071166992188, 'eval_cer': 0.07358093903293624, 'eval_runtime': 176.8895, 'eval_samples_per_second': 5.201, 'eval_steps_per_second': 1.736, 'epoch': 3.26}\n",
      "{'loss': 0.2113, 'learning_rate': 3.352078239608802e-05, 'epoch': 3.3}\n",
      "{'loss': 0.2628, 'learning_rate': 3.3317033414832926e-05, 'epoch': 3.34}\n",
      "{'loss': 0.1956, 'learning_rate': 3.311328443357783e-05, 'epoch': 3.38}\n",
      "{'loss': 0.3406, 'learning_rate': 3.290953545232274e-05, 'epoch': 3.42}\n"
>>>>>>> parent of 5128b5f (compl;ite anno BalllerTV)
     ]
    },
    {
     "data": {
      "application/vnd.jupyter.widget-view+json": {
<<<<<<< HEAD
       "model_id": "dc82d3f3deb04606a1bb2b6cd1eb72e4",
=======
       "model_id": "76120c8356364d13b38525bdd71e5233",
>>>>>>> parent of 5128b5f (compl;ite anno BalllerTV)
       "version_major": 2,
       "version_minor": 0
      },
      "text/plain": [
       "  0%|          | 0/307 [00:00<?, ?it/s]"
      ]
     },
     "metadata": {},
     "output_type": "display_data"
    },
    {
     "name": "stdout",
     "output_type": "stream",
     "text": [
<<<<<<< HEAD
      "{'eval_loss': 2.7117176055908203, 'eval_cer': 0.5751258087706685, 'eval_runtime': 176.1252, 'eval_samples_per_second': 5.224, 'eval_steps_per_second': 1.743, 'epoch': 3.42}\n",
      "{'loss': 0.7252, 'learning_rate': 3.270171149144254e-05, 'epoch': 3.46}\n",
      "{'loss': 0.6125, 'learning_rate': 3.249796251018745e-05, 'epoch': 3.5}\n",
      "{'loss': 0.7128, 'learning_rate': 3.2294213528932355e-05, 'epoch': 3.55}\n",
      "{'loss': 0.6644, 'learning_rate': 3.209046454767726e-05, 'epoch': 3.59}\n"
=======
      "{'eval_loss': 1.644431710243225, 'eval_cer': 0.09390329362298529, 'eval_runtime': 176.9717, 'eval_samples_per_second': 5.199, 'eval_steps_per_second': 1.735, 'epoch': 3.42}\n",
      "{'loss': 0.4094, 'learning_rate': 3.2705786471067646e-05, 'epoch': 3.46}\n",
      "{'loss': 0.2308, 'learning_rate': 3.250203748981255e-05, 'epoch': 3.5}\n",
      "{'loss': 0.21, 'learning_rate': 3.229828850855746e-05, 'epoch': 3.55}\n",
      "{'loss': 0.2042, 'learning_rate': 3.2094539527302366e-05, 'epoch': 3.59}\n"
>>>>>>> parent of 5128b5f (compl;ite anno BalllerTV)
     ]
    },
    {
     "data": {
      "application/vnd.jupyter.widget-view+json": {
<<<<<<< HEAD
       "model_id": "0af31541eb3c4f028acb7caaa4972000",
=======
       "model_id": "509711eec03b4d8180ac98911075f0ae",
>>>>>>> parent of 5128b5f (compl;ite anno BalllerTV)
       "version_major": 2,
       "version_minor": 0
      },
      "text/plain": [
       "  0%|          | 0/307 [00:00<?, ?it/s]"
      ]
     },
     "metadata": {},
     "output_type": "display_data"
    },
    {
     "name": "stdout",
     "output_type": "stream",
     "text": [
<<<<<<< HEAD
      "{'eval_loss': 2.3933451175689697, 'eval_cer': 0.5168943206326384, 'eval_runtime': 175.5798, 'eval_samples_per_second': 5.24, 'eval_steps_per_second': 1.748, 'epoch': 3.59}\n",
      "{'loss': 0.7342, 'learning_rate': 3.188671556642217e-05, 'epoch': 3.63}\n",
      "{'loss': 0.6073, 'learning_rate': 3.1682966585167076e-05, 'epoch': 3.67}\n",
      "{'loss': 0.6599, 'learning_rate': 3.147921760391198e-05, 'epoch': 3.71}\n",
      "{'loss': 0.6491, 'learning_rate': 3.127546862265689e-05, 'epoch': 3.75}\n"
=======
      "{'eval_loss': 2.577343463897705, 'eval_cer': 0.13104414856341975, 'eval_runtime': 176.658, 'eval_samples_per_second': 5.208, 'eval_steps_per_second': 1.738, 'epoch': 3.59}\n",
      "{'loss': 0.2064, 'learning_rate': 3.189079054604727e-05, 'epoch': 3.63}\n",
      "{'loss': 0.1852, 'learning_rate': 3.168704156479217e-05, 'epoch': 3.67}\n",
      "{'loss': 0.2503, 'learning_rate': 3.148329258353708e-05, 'epoch': 3.71}\n",
      "{'loss': 0.1772, 'learning_rate': 3.127954360228199e-05, 'epoch': 3.75}\n"
>>>>>>> parent of 5128b5f (compl;ite anno BalllerTV)
     ]
    },
    {
     "data": {
      "application/vnd.jupyter.widget-view+json": {
<<<<<<< HEAD
       "model_id": "34880482c3324f4284bcca1390424656",
=======
       "model_id": "993a0e1047824bcabb705d459e3fa58b",
>>>>>>> parent of 5128b5f (compl;ite anno BalllerTV)
       "version_major": 2,
       "version_minor": 0
      },
      "text/plain": [
       "  0%|          | 0/307 [00:00<?, ?it/s]"
      ]
     },
     "metadata": {},
     "output_type": "display_data"
    },
    {
     "name": "stdout",
     "output_type": "stream",
     "text": [
<<<<<<< HEAD
      "{'eval_loss': 3.172589063644409, 'eval_cer': 0.5017972681524083, 'eval_runtime': 176.7797, 'eval_samples_per_second': 5.204, 'eval_steps_per_second': 1.737, 'epoch': 3.75}\n",
      "{'loss': 0.6641, 'learning_rate': 3.107171964140179e-05, 'epoch': 3.79}\n",
      "{'loss': 0.6908, 'learning_rate': 3.08679706601467e-05, 'epoch': 3.83}\n",
      "{'loss': 0.6159, 'learning_rate': 3.066422167889161e-05, 'epoch': 3.87}\n",
      "{'loss': 0.5791, 'learning_rate': 3.046047269763651e-05, 'epoch': 3.91}\n"
=======
      "{'eval_loss': 2.8106627464294434, 'eval_cer': 0.07358093903293624, 'eval_runtime': 177.2372, 'eval_samples_per_second': 5.191, 'eval_steps_per_second': 1.732, 'epoch': 3.75}\n",
      "{'loss': 0.2042, 'learning_rate': 3.10757946210269e-05, 'epoch': 3.79}\n",
      "{'loss': 0.1995, 'learning_rate': 3.0876120619396904e-05, 'epoch': 3.83}\n",
      "{'loss': 0.2413, 'learning_rate': 3.067237163814181e-05, 'epoch': 3.87}\n",
      "{'loss': 0.2403, 'learning_rate': 3.046862265688672e-05, 'epoch': 3.91}\n"
>>>>>>> parent of 5128b5f (compl;ite anno BalllerTV)
     ]
    },
    {
     "data": {
      "application/vnd.jupyter.widget-view+json": {
<<<<<<< HEAD
       "model_id": "507a26f63ce04d0db1669c4d57573b26",
=======
       "model_id": "0f882d5109454ed48a871615a4df267a",
>>>>>>> parent of 5128b5f (compl;ite anno BalllerTV)
       "version_major": 2,
       "version_minor": 0
      },
      "text/plain": [
       "  0%|          | 0/307 [00:00<?, ?it/s]"
      ]
     },
     "metadata": {},
     "output_type": "display_data"
    },
    {
     "name": "stdout",
     "output_type": "stream",
     "text": [
<<<<<<< HEAD
      "{'eval_loss': 2.4491443634033203, 'eval_cer': 0.4392523364485981, 'eval_runtime': 177.2628, 'eval_samples_per_second': 5.19, 'eval_steps_per_second': 1.732, 'epoch': 3.91}\n",
      "{'loss': 0.5775, 'learning_rate': 3.025672371638142e-05, 'epoch': 3.95}\n",
      "{'loss': 0.5296, 'learning_rate': 3.0052974735126326e-05, 'epoch': 3.99}\n",
      "{'loss': 0.513, 'learning_rate': 2.984922575387123e-05, 'epoch': 4.03}\n",
      "{'loss': 0.4689, 'learning_rate': 2.9645476772616136e-05, 'epoch': 4.07}\n"
=======
      "{'eval_loss': 2.357590436935425, 'eval_cer': 0.08409250175192712, 'eval_runtime': 177.1835, 'eval_samples_per_second': 5.192, 'eval_steps_per_second': 1.733, 'epoch': 3.91}\n",
      "{'loss': 0.1803, 'learning_rate': 3.026487367563162e-05, 'epoch': 3.95}\n",
      "{'loss': 0.1461, 'learning_rate': 3.006112469437653e-05, 'epoch': 3.99}\n",
      "{'loss': 0.2749, 'learning_rate': 2.9857375713121438e-05, 'epoch': 4.03}\n",
      "{'loss': 0.2371, 'learning_rate': 2.965362673186634e-05, 'epoch': 4.07}\n"
>>>>>>> parent of 5128b5f (compl;ite anno BalllerTV)
     ]
    },
    {
     "data": {
      "application/vnd.jupyter.widget-view+json": {
<<<<<<< HEAD
       "model_id": "730001e77b784cb9b53e23ff0583ae94",
=======
       "model_id": "ed88586aeacf44239c69cacebb399a5b",
>>>>>>> parent of 5128b5f (compl;ite anno BalllerTV)
       "version_major": 2,
       "version_minor": 0
      },
      "text/plain": [
       "  0%|          | 0/307 [00:00<?, ?it/s]"
      ]
     },
     "metadata": {},
     "output_type": "display_data"
    },
    {
     "name": "stdout",
     "output_type": "stream",
     "text": [
<<<<<<< HEAD
      "{'eval_loss': 3.8500559329986572, 'eval_cer': 0.36736161035226456, 'eval_runtime': 176.0038, 'eval_samples_per_second': 5.227, 'eval_steps_per_second': 1.744, 'epoch': 4.07}\n",
      "{'loss': 0.5945, 'learning_rate': 2.9441727791361046e-05, 'epoch': 4.12}\n",
      "{'loss': 0.5515, 'learning_rate': 2.923797881010595e-05, 'epoch': 4.16}\n",
      "{'loss': 0.5397, 'learning_rate': 2.9034229828850856e-05, 'epoch': 4.2}\n",
      "{'loss': 0.491, 'learning_rate': 2.8830480847595763e-05, 'epoch': 4.24}\n"
=======
      "{'eval_loss': 2.1895339488983154, 'eval_cer': 0.08128941836019622, 'eval_runtime': 176.958, 'eval_samples_per_second': 5.199, 'eval_steps_per_second': 1.735, 'epoch': 4.07}\n",
      "{'loss': 0.2581, 'learning_rate': 2.9449877750611248e-05, 'epoch': 4.12}\n",
      "{'loss': 0.2394, 'learning_rate': 2.9246128769356158e-05, 'epoch': 4.16}\n",
      "{'loss': 0.1558, 'learning_rate': 2.9046454767726162e-05, 'epoch': 4.2}\n",
      "{'loss': 0.2342, 'learning_rate': 2.884270578647107e-05, 'epoch': 4.24}\n"
>>>>>>> parent of 5128b5f (compl;ite anno BalllerTV)
     ]
    },
    {
     "data": {
      "application/vnd.jupyter.widget-view+json": {
<<<<<<< HEAD
       "model_id": "e9970a938bc54a70b0c5a844a57a9e7c",
=======
       "model_id": "ce79de0889314ee9946da9e2cc06d53f",
>>>>>>> parent of 5128b5f (compl;ite anno BalllerTV)
       "version_major": 2,
       "version_minor": 0
      },
      "text/plain": [
       "  0%|          | 0/307 [00:00<?, ?it/s]"
      ]
     },
     "metadata": {},
     "output_type": "display_data"
    },
    {
     "name": "stdout",
     "output_type": "stream",
     "text": [
<<<<<<< HEAD
      "{'eval_loss': 2.3963961601257324, 'eval_cer': 0.3501078360891445, 'eval_runtime': 176.1568, 'eval_samples_per_second': 5.223, 'eval_steps_per_second': 1.743, 'epoch': 4.24}\n",
      "{'loss': 0.5309, 'learning_rate': 2.8626731866340667e-05, 'epoch': 4.28}\n",
      "{'loss': 0.5144, 'learning_rate': 2.8422982885085577e-05, 'epoch': 4.32}\n",
      "{'loss': 0.3974, 'learning_rate': 2.8219233903830483e-05, 'epoch': 4.36}\n",
      "{'loss': 0.4247, 'learning_rate': 2.8015484922575387e-05, 'epoch': 4.4}\n"
=======
      "{'eval_loss': 2.143862009048462, 'eval_cer': 0.0644709180098108, 'eval_runtime': 176.9568, 'eval_samples_per_second': 5.199, 'eval_steps_per_second': 1.735, 'epoch': 4.24}\n",
      "{'loss': 0.1912, 'learning_rate': 2.863895680521598e-05, 'epoch': 4.28}\n",
      "{'loss': 0.1803, 'learning_rate': 2.843520782396088e-05, 'epoch': 4.32}\n",
      "{'loss': 0.2763, 'learning_rate': 2.823145884270579e-05, 'epoch': 4.36}\n",
      "{'loss': 0.2057, 'learning_rate': 2.8027709861450695e-05, 'epoch': 4.4}\n"
>>>>>>> parent of 5128b5f (compl;ite anno BalllerTV)
     ]
    },
    {
     "data": {
      "application/vnd.jupyter.widget-view+json": {
<<<<<<< HEAD
       "model_id": "57b94d6803834bf7ad4c214eb626daad",
=======
       "model_id": "5f42adbe40794f02a21a7a57fd09582b",
>>>>>>> parent of 5128b5f (compl;ite anno BalllerTV)
       "version_major": 2,
       "version_minor": 0
      },
      "text/plain": [
       "  0%|          | 0/307 [00:00<?, ?it/s]"
      ]
     },
     "metadata": {},
     "output_type": "display_data"
    },
    {
     "name": "stdout",
     "output_type": "stream",
     "text": [
<<<<<<< HEAD
      "{'eval_loss': 3.4456770420074463, 'eval_cer': 0.35082674335010783, 'eval_runtime': 176.2062, 'eval_samples_per_second': 5.221, 'eval_steps_per_second': 1.742, 'epoch': 4.4}\n",
      "{'loss': 0.3264, 'learning_rate': 2.7811735941320294e-05, 'epoch': 4.44}\n",
      "{'loss': 0.5014, 'learning_rate': 2.76079869600652e-05, 'epoch': 4.48}\n",
      "{'loss': 0.4034, 'learning_rate': 2.740423797881011e-05, 'epoch': 4.52}\n",
      "{'loss': 0.4402, 'learning_rate': 2.7200488997555014e-05, 'epoch': 4.56}\n"
=======
      "{'eval_loss': 2.386457681655884, 'eval_cer': 0.08759635599159075, 'eval_runtime': 177.4723, 'eval_samples_per_second': 5.184, 'eval_steps_per_second': 1.73, 'epoch': 4.4}\n",
      "{'loss': 0.1485, 'learning_rate': 2.78239608801956e-05, 'epoch': 4.44}\n",
      "{'loss': 0.1595, 'learning_rate': 2.7620211898940506e-05, 'epoch': 4.48}\n",
      "{'loss': 0.2086, 'learning_rate': 2.7416462917685416e-05, 'epoch': 4.52}\n",
      "{'loss': 0.223, 'learning_rate': 2.721271393643032e-05, 'epoch': 4.56}\n"
>>>>>>> parent of 5128b5f (compl;ite anno BalllerTV)
     ]
    },
    {
     "data": {
      "application/vnd.jupyter.widget-view+json": {
<<<<<<< HEAD
       "model_id": "b73bbdb6b4e14d4db9ce65b8efcf0d73",
=======
       "model_id": "79ee8fb0a60241f786b94a2941ead42c",
>>>>>>> parent of 5128b5f (compl;ite anno BalllerTV)
       "version_major": 2,
       "version_minor": 0
      },
      "text/plain": [
       "  0%|          | 0/307 [00:00<?, ?it/s]"
      ]
     },
     "metadata": {},
     "output_type": "display_data"
    },
    {
     "name": "stdout",
     "output_type": "stream",
     "text": [
<<<<<<< HEAD
      "{'eval_loss': 2.9455666542053223, 'eval_cer': 0.3659237958303379, 'eval_runtime': 176.1075, 'eval_samples_per_second': 5.224, 'eval_steps_per_second': 1.743, 'epoch': 4.56}\n",
      "{'loss': 0.5524, 'learning_rate': 2.699674001629992e-05, 'epoch': 4.6}\n",
      "{'loss': 0.4631, 'learning_rate': 2.6792991035044827e-05, 'epoch': 4.65}\n",
      "{'loss': 0.4021, 'learning_rate': 2.658924205378973e-05, 'epoch': 4.69}\n",
      "{'loss': 0.4632, 'learning_rate': 2.638549307253464e-05, 'epoch': 4.73}\n"
=======
      "{'eval_loss': 2.6207542419433594, 'eval_cer': 0.0805886475122635, 'eval_runtime': 177.0724, 'eval_samples_per_second': 5.196, 'eval_steps_per_second': 1.734, 'epoch': 4.56}\n",
      "{'loss': 0.2015, 'learning_rate': 2.7008964955175226e-05, 'epoch': 4.6}\n",
      "{'loss': 0.1523, 'learning_rate': 2.6805215973920133e-05, 'epoch': 4.65}\n",
      "{'loss': 0.2095, 'learning_rate': 2.6601466992665036e-05, 'epoch': 4.69}\n",
      "{'loss': 0.1452, 'learning_rate': 2.6397718011409943e-05, 'epoch': 4.73}\n"
>>>>>>> parent of 5128b5f (compl;ite anno BalllerTV)
     ]
    },
    {
     "data": {
      "application/vnd.jupyter.widget-view+json": {
<<<<<<< HEAD
       "model_id": "aadc8a461c2349aba87c5197d578aefc",
=======
       "model_id": "51eecde80d514b98b451d39911a09491",
>>>>>>> parent of 5128b5f (compl;ite anno BalllerTV)
       "version_major": 2,
       "version_minor": 0
      },
      "text/plain": [
       "  0%|          | 0/307 [00:00<?, ?it/s]"
      ]
     },
     "metadata": {},
     "output_type": "display_data"
    },
    {
     "name": "stdout",
     "output_type": "stream",
     "text": [
<<<<<<< HEAD
      "{'eval_loss': 2.96890926361084, 'eval_cer': 0.36304816678648455, 'eval_runtime': 176.2645, 'eval_samples_per_second': 5.219, 'eval_steps_per_second': 1.742, 'epoch': 4.73}\n",
      "{'loss': 0.439, 'learning_rate': 2.6185819070904648e-05, 'epoch': 4.77}\n",
      "{'loss': 0.4205, 'learning_rate': 2.598207008964955e-05, 'epoch': 4.81}\n",
      "{'loss': 0.4861, 'learning_rate': 2.5778321108394458e-05, 'epoch': 4.85}\n",
      "{'loss': 0.4944, 'learning_rate': 2.557457212713937e-05, 'epoch': 4.89}\n"
=======
      "{'eval_loss': 2.997828722000122, 'eval_cer': 0.07918710581639804, 'eval_runtime': 177.1784, 'eval_samples_per_second': 5.193, 'eval_steps_per_second': 1.733, 'epoch': 4.73}\n",
      "{'loss': 0.194, 'learning_rate': 2.6193969030154853e-05, 'epoch': 4.77}\n",
      "{'loss': 0.0727, 'learning_rate': 2.5990220048899756e-05, 'epoch': 4.81}\n",
      "{'loss': 0.1464, 'learning_rate': 2.5786471067644663e-05, 'epoch': 4.85}\n",
      "{'loss': 0.1876, 'learning_rate': 2.558272208638957e-05, 'epoch': 4.89}\n"
>>>>>>> parent of 5128b5f (compl;ite anno BalllerTV)
     ]
    },
    {
     "data": {
      "application/vnd.jupyter.widget-view+json": {
<<<<<<< HEAD
       "model_id": "9de444d35d624745be234e112b7da5cb",
=======
       "model_id": "547aa1ea1ce6422db161a19a0270a495",
>>>>>>> parent of 5128b5f (compl;ite anno BalllerTV)
       "version_major": 2,
       "version_minor": 0
      },
      "text/plain": [
       "  0%|          | 0/307 [00:00<?, ?it/s]"
      ]
     },
     "metadata": {},
     "output_type": "display_data"
    },
    {
     "name": "stdout",
     "output_type": "stream",
     "text": [
<<<<<<< HEAD
      "{'eval_loss': 3.2088208198547363, 'eval_cer': 0.308411214953271, 'eval_runtime': 176.8717, 'eval_samples_per_second': 5.202, 'eval_steps_per_second': 1.736, 'epoch': 4.89}\n",
      "{'loss': 0.4331, 'learning_rate': 2.5370823145884272e-05, 'epoch': 4.93}\n",
      "{'loss': 0.3718, 'learning_rate': 2.516707416462918e-05, 'epoch': 4.97}\n",
      "{'loss': 0.4283, 'learning_rate': 2.4963325183374085e-05, 'epoch': 5.01}\n",
      "{'loss': 0.4029, 'learning_rate': 2.475957620211899e-05, 'epoch': 5.05}\n"
=======
      "{'eval_loss': 3.1263232231140137, 'eval_cer': 0.06797477224947442, 'eval_runtime': 176.9279, 'eval_samples_per_second': 5.2, 'eval_steps_per_second': 1.735, 'epoch': 4.89}\n",
      "{'loss': 0.1545, 'learning_rate': 2.5378973105134473e-05, 'epoch': 4.93}\n",
      "{'loss': 0.2826, 'learning_rate': 2.5175224123879383e-05, 'epoch': 4.97}\n",
      "{'loss': 0.1557, 'learning_rate': 2.4971475142624287e-05, 'epoch': 5.01}\n",
      "{'loss': 0.1364, 'learning_rate': 2.4767726161369197e-05, 'epoch': 5.05}\n"
>>>>>>> parent of 5128b5f (compl;ite anno BalllerTV)
     ]
    },
    {
     "data": {
      "application/vnd.jupyter.widget-view+json": {
<<<<<<< HEAD
       "model_id": "8c866a651ce647d8a87bc14adbb3a041",
=======
       "model_id": "4e76ab2365ec4753a0613e9b978185a7",
>>>>>>> parent of 5128b5f (compl;ite anno BalllerTV)
       "version_major": 2,
       "version_minor": 0
      },
      "text/plain": [
       "  0%|          | 0/307 [00:00<?, ?it/s]"
      ]
     },
     "metadata": {},
     "output_type": "display_data"
    },
    {
     "name": "stdout",
     "output_type": "stream",
     "text": [
<<<<<<< HEAD
      "{'eval_loss': 2.6587069034576416, 'eval_cer': 0.26887131560028754, 'eval_runtime': 177.0222, 'eval_samples_per_second': 5.197, 'eval_steps_per_second': 1.734, 'epoch': 5.05}\n",
      "{'loss': 0.3559, 'learning_rate': 2.45558272208639e-05, 'epoch': 5.09}\n",
      "{'loss': 0.313, 'learning_rate': 2.4352078239608802e-05, 'epoch': 5.13}\n",
      "{'loss': 0.3389, 'learning_rate': 2.4148329258353712e-05, 'epoch': 5.18}\n",
      "{'loss': 0.2798, 'learning_rate': 2.3944580277098616e-05, 'epoch': 5.22}\n"
=======
      "{'eval_loss': 2.950530529022217, 'eval_cer': 0.1051156271899089, 'eval_runtime': 176.3043, 'eval_samples_per_second': 5.218, 'eval_steps_per_second': 1.741, 'epoch': 5.05}\n",
      "{'loss': 0.0781, 'learning_rate': 2.45639771801141e-05, 'epoch': 5.09}\n",
      "{'loss': 0.1682, 'learning_rate': 2.4360228198859007e-05, 'epoch': 5.13}\n",
      "{'loss': 0.0957, 'learning_rate': 2.4156479217603914e-05, 'epoch': 5.18}\n",
      "{'loss': 0.1384, 'learning_rate': 2.395273023634882e-05, 'epoch': 5.22}\n"
>>>>>>> parent of 5128b5f (compl;ite anno BalllerTV)
     ]
    },
    {
     "data": {
      "application/vnd.jupyter.widget-view+json": {
<<<<<<< HEAD
       "model_id": "1bcded1ad5524951b654702b74790474",
=======
       "model_id": "bab69c9c6d0e456e8cacd71f992e550b",
>>>>>>> parent of 5128b5f (compl;ite anno BalllerTV)
       "version_major": 2,
       "version_minor": 0
      },
      "text/plain": [
       "  0%|          | 0/307 [00:00<?, ?it/s]"
      ]
     },
     "metadata": {},
     "output_type": "display_data"
    },
    {
     "name": "stdout",
     "output_type": "stream",
     "text": [
<<<<<<< HEAD
      "{'eval_loss': 3.8461341857910156, 'eval_cer': 0.23652048885693747, 'eval_runtime': 176.2474, 'eval_samples_per_second': 5.22, 'eval_steps_per_second': 1.742, 'epoch': 5.22}\n",
      "{'loss': 0.3305, 'learning_rate': 2.3744906275468623e-05, 'epoch': 5.26}\n",
      "{'loss': 0.3291, 'learning_rate': 2.354115729421353e-05, 'epoch': 5.3}\n",
      "{'loss': 0.3108, 'learning_rate': 2.3337408312958436e-05, 'epoch': 5.34}\n",
      "{'loss': 0.3565, 'learning_rate': 2.3133659331703343e-05, 'epoch': 5.38}\n"
=======
      "{'eval_loss': 2.7251479625701904, 'eval_cer': 0.07498248072880168, 'eval_runtime': 176.5432, 'eval_samples_per_second': 5.211, 'eval_steps_per_second': 1.739, 'epoch': 5.22}\n",
      "{'loss': 0.1493, 'learning_rate': 2.3748981255093724e-05, 'epoch': 5.26}\n",
      "{'loss': 0.1546, 'learning_rate': 2.3545232273838634e-05, 'epoch': 5.3}\n",
      "{'loss': 0.2197, 'learning_rate': 2.3341483292583537e-05, 'epoch': 5.34}\n",
      "{'loss': 0.1783, 'learning_rate': 2.3137734311328444e-05, 'epoch': 5.38}\n"
>>>>>>> parent of 5128b5f (compl;ite anno BalllerTV)
     ]
    },
    {
     "data": {
      "application/vnd.jupyter.widget-view+json": {
<<<<<<< HEAD
       "model_id": "97772007972c4e288a7226efd4adcfc0",
=======
       "model_id": "638cd12f5be442b69ac86cd2020df88c",
>>>>>>> parent of 5128b5f (compl;ite anno BalllerTV)
       "version_major": 2,
       "version_minor": 0
      },
      "text/plain": [
       "  0%|          | 0/307 [00:00<?, ?it/s]"
      ]
     },
     "metadata": {},
     "output_type": "display_data"
    },
    {
     "name": "stdout",
     "output_type": "stream",
     "text": [
<<<<<<< HEAD
      "{'eval_loss': 3.433948516845703, 'eval_cer': 0.25089863407620416, 'eval_runtime': 176.8327, 'eval_samples_per_second': 5.203, 'eval_steps_per_second': 1.736, 'epoch': 5.38}\n",
      "{'loss': 0.2641, 'learning_rate': 2.292991035044825e-05, 'epoch': 5.42}\n",
      "{'loss': 0.2271, 'learning_rate': 2.2726161369193157e-05, 'epoch': 5.46}\n",
      "{'loss': 0.2595, 'learning_rate': 2.252241238793806e-05, 'epoch': 5.5}\n",
      "{'loss': 0.4813, 'learning_rate': 2.231866340668297e-05, 'epoch': 5.54}\n"
=======
      "{'eval_loss': 2.4856903553009033, 'eval_cer': 0.07358093903293624, 'eval_runtime': 176.3043, 'eval_samples_per_second': 5.218, 'eval_steps_per_second': 1.741, 'epoch': 5.38}\n",
      "{'loss': 0.1285, 'learning_rate': 2.293398533007335e-05, 'epoch': 5.42}\n",
      "{'loss': 0.1236, 'learning_rate': 2.2730236348818257e-05, 'epoch': 5.46}\n",
      "{'loss': 0.2062, 'learning_rate': 2.252648736756316e-05, 'epoch': 5.5}\n",
      "{'loss': 0.1467, 'learning_rate': 2.232273838630807e-05, 'epoch': 5.54}\n"
>>>>>>> parent of 5128b5f (compl;ite anno BalllerTV)
     ]
    },
    {
     "data": {
      "application/vnd.jupyter.widget-view+json": {
<<<<<<< HEAD
       "model_id": "cdac4cb89e1446a2b36b5ebc6e949fc3",
=======
       "model_id": "e42bfdc4050d4ebf8d11fafebda1b244",
>>>>>>> parent of 5128b5f (compl;ite anno BalllerTV)
       "version_major": 2,
       "version_minor": 0
      },
      "text/plain": [
       "  0%|          | 0/307 [00:00<?, ?it/s]"
      ]
     },
     "metadata": {},
     "output_type": "display_data"
    },
    {
     "name": "stdout",
     "output_type": "stream",
     "text": [
<<<<<<< HEAD
      "{'eval_loss': 3.4976553916931152, 'eval_cer': 0.25089863407620416, 'eval_runtime': 176.3785, 'eval_samples_per_second': 5.216, 'eval_steps_per_second': 1.741, 'epoch': 5.54}\n",
      "{'loss': 0.2966, 'learning_rate': 2.2114914425427874e-05, 'epoch': 5.58}\n",
      "{'loss': 0.2611, 'learning_rate': 2.191116544417278e-05, 'epoch': 5.62}\n",
      "{'loss': 0.2947, 'learning_rate': 2.1707416462917687e-05, 'epoch': 5.66}\n",
      "{'loss': 0.293, 'learning_rate': 2.1503667481662594e-05, 'epoch': 5.7}\n"
=======
      "{'eval_loss': 2.414505958557129, 'eval_cer': 0.07147862648913805, 'eval_runtime': 177.6426, 'eval_samples_per_second': 5.179, 'eval_steps_per_second': 1.728, 'epoch': 5.54}\n",
      "{'loss': 0.1329, 'learning_rate': 2.2118989405052974e-05, 'epoch': 5.58}\n",
      "{'loss': 0.0907, 'learning_rate': 2.191524042379788e-05, 'epoch': 5.62}\n",
      "{'loss': 0.0402, 'learning_rate': 2.1711491442542788e-05, 'epoch': 5.66}\n",
      "{'loss': 0.1333, 'learning_rate': 2.1507742461287694e-05, 'epoch': 5.7}\n"
>>>>>>> parent of 5128b5f (compl;ite anno BalllerTV)
     ]
    },
    {
     "data": {
      "application/vnd.jupyter.widget-view+json": {
<<<<<<< HEAD
       "model_id": "58f9ee0d3ccc4c69be45e327cb62271b",
=======
       "model_id": "1fae6d55e5b4415b81f56127000a860a",
>>>>>>> parent of 5128b5f (compl;ite anno BalllerTV)
       "version_major": 2,
       "version_minor": 0
      },
      "text/plain": [
       "  0%|          | 0/307 [00:00<?, ?it/s]"
      ]
     },
     "metadata": {},
     "output_type": "display_data"
    },
    {
     "name": "stdout",
     "output_type": "stream",
     "text": [
<<<<<<< HEAD
      "{'eval_loss': 3.3863062858581543, 'eval_cer': 0.20416966211358734, 'eval_runtime': 174.3128, 'eval_samples_per_second': 5.278, 'eval_steps_per_second': 1.761, 'epoch': 5.7}\n",
      "{'loss': 0.2847, 'learning_rate': 2.1299918500407497e-05, 'epoch': 5.75}\n",
      "{'loss': 0.2741, 'learning_rate': 2.1096169519152407e-05, 'epoch': 5.79}\n",
      "{'loss': 0.1999, 'learning_rate': 2.089242053789731e-05, 'epoch': 5.83}\n",
      "{'loss': 0.3122, 'learning_rate': 2.0688671556642217e-05, 'epoch': 5.87}\n"
=======
      "{'eval_loss': 2.702903985977173, 'eval_cer': 0.06867554309740714, 'eval_runtime': 176.3682, 'eval_samples_per_second': 5.216, 'eval_steps_per_second': 1.741, 'epoch': 5.7}\n",
      "{'loss': 0.0557, 'learning_rate': 2.13039934800326e-05, 'epoch': 5.75}\n",
      "{'loss': 0.1884, 'learning_rate': 2.1100244498777508e-05, 'epoch': 5.79}\n",
      "{'loss': 0.117, 'learning_rate': 2.0896495517522415e-05, 'epoch': 5.83}\n",
      "{'loss': 0.1141, 'learning_rate': 2.0692746536267318e-05, 'epoch': 5.87}\n"
>>>>>>> parent of 5128b5f (compl;ite anno BalllerTV)
     ]
    },
    {
     "data": {
      "application/vnd.jupyter.widget-view+json": {
<<<<<<< HEAD
       "model_id": "5812cab84da64388a2065dd4f785f4e5",
=======
       "model_id": "5b81b3ffbfc44f799ab04c9c49c506ce",
>>>>>>> parent of 5128b5f (compl;ite anno BalllerTV)
       "version_major": 2,
       "version_minor": 0
      },
      "text/plain": [
       "  0%|          | 0/307 [00:00<?, ?it/s]"
      ]
     },
     "metadata": {},
     "output_type": "display_data"
    },
    {
     "name": "stdout",
     "output_type": "stream",
     "text": [
<<<<<<< HEAD
      "{'eval_loss': 2.9772446155548096, 'eval_cer': 0.20848310567936737, 'eval_runtime': 172.8024, 'eval_samples_per_second': 5.324, 'eval_steps_per_second': 1.777, 'epoch': 5.87}\n",
      "{'loss': 0.2038, 'learning_rate': 2.0484922575387124e-05, 'epoch': 5.91}\n",
      "{'loss': 0.1908, 'learning_rate': 2.028117359413203e-05, 'epoch': 5.95}\n",
      "{'loss': 0.3501, 'learning_rate': 2.0077424612876934e-05, 'epoch': 5.99}\n",
      "{'loss': 0.3129, 'learning_rate': 1.9873675631621844e-05, 'epoch': 6.03}\n"
=======
      "{'eval_loss': 3.0232114791870117, 'eval_cer': 0.0700770847932726, 'eval_runtime': 177.2789, 'eval_samples_per_second': 5.19, 'eval_steps_per_second': 1.732, 'epoch': 5.87}\n",
      "{'loss': 0.0542, 'learning_rate': 2.0488997555012228e-05, 'epoch': 5.91}\n",
      "{'loss': 0.1077, 'learning_rate': 2.028524857375713e-05, 'epoch': 5.95}\n",
      "{'loss': 0.0866, 'learning_rate': 2.0081499592502038e-05, 'epoch': 5.99}\n",
      "{'loss': 0.0733, 'learning_rate': 1.9877750611246945e-05, 'epoch': 6.03}\n"
>>>>>>> parent of 5128b5f (compl;ite anno BalllerTV)
     ]
    },
    {
     "data": {
      "application/vnd.jupyter.widget-view+json": {
<<<<<<< HEAD
       "model_id": "8a40050777f24c3fb94ac118a55867c9",
=======
       "model_id": "73f3004f3a814a36840c28cfc653d023",
>>>>>>> parent of 5128b5f (compl;ite anno BalllerTV)
       "version_major": 2,
       "version_minor": 0
      },
      "text/plain": [
       "  0%|          | 0/307 [00:00<?, ?it/s]"
      ]
     },
     "metadata": {},
     "output_type": "display_data"
    },
    {
     "name": "stdout",
     "output_type": "stream",
     "text": [
<<<<<<< HEAD
      "{'eval_loss': 3.360243797302246, 'eval_cer': 0.18619698058950396, 'eval_runtime': 173.0468, 'eval_samples_per_second': 5.316, 'eval_steps_per_second': 1.774, 'epoch': 6.03}\n",
      "{'loss': 0.1289, 'learning_rate': 1.9669926650366748e-05, 'epoch': 6.07}\n",
      "{'loss': 0.2357, 'learning_rate': 1.9466177669111654e-05, 'epoch': 6.11}\n",
      "{'loss': 0.1862, 'learning_rate': 1.926242868785656e-05, 'epoch': 6.15}\n",
      "{'loss': 0.2141, 'learning_rate': 1.9058679706601468e-05, 'epoch': 6.19}\n"
=======
      "{'eval_loss': 2.934936046600342, 'eval_cer': 0.06166783461807989, 'eval_runtime': 177.1538, 'eval_samples_per_second': 5.193, 'eval_steps_per_second': 1.733, 'epoch': 6.03}\n",
      "{'loss': 0.1203, 'learning_rate': 1.9674001629991852e-05, 'epoch': 6.07}\n",
      "{'loss': 0.0596, 'learning_rate': 1.9470252648736755e-05, 'epoch': 6.11}\n",
      "{'loss': 0.0855, 'learning_rate': 1.9266503667481665e-05, 'epoch': 6.15}\n",
      "{'loss': 0.0902, 'learning_rate': 1.906275468622657e-05, 'epoch': 6.19}\n"
>>>>>>> parent of 5128b5f (compl;ite anno BalllerTV)
     ]
    },
    {
     "data": {
      "application/vnd.jupyter.widget-view+json": {
<<<<<<< HEAD
       "model_id": "f54db5801f8448fd80b75cb18471e3a7",
=======
       "model_id": "738f3ef6cf594eb8aeb6b3c1232f1eb9",
>>>>>>> parent of 5128b5f (compl;ite anno BalllerTV)
       "version_major": 2,
       "version_minor": 0
      },
      "text/plain": [
       "  0%|          | 0/307 [00:00<?, ?it/s]"
      ]
     },
     "metadata": {},
     "output_type": "display_data"
    },
    {
     "name": "stdout",
     "output_type": "stream",
     "text": [
<<<<<<< HEAD
      "{'eval_loss': 4.103115558624268, 'eval_cer': 0.20057512580877068, 'eval_runtime': 172.8596, 'eval_samples_per_second': 5.322, 'eval_steps_per_second': 1.776, 'epoch': 6.19}\n",
      "{'loss': 0.2843, 'learning_rate': 1.8854930725346375e-05, 'epoch': 6.23}\n",
      "{'loss': 0.229, 'learning_rate': 1.865118174409128e-05, 'epoch': 6.28}\n",
      "{'loss': 0.0995, 'learning_rate': 1.8447432762836185e-05, 'epoch': 6.32}\n",
      "{'loss': 0.1784, 'learning_rate': 1.824368378158109e-05, 'epoch': 6.36}\n"
=======
      "{'eval_loss': 2.5690298080444336, 'eval_cer': 0.07428170988086896, 'eval_runtime': 176.9396, 'eval_samples_per_second': 5.2, 'eval_steps_per_second': 1.735, 'epoch': 6.19}\n",
      "{'loss': 0.1148, 'learning_rate': 1.8859005704971475e-05, 'epoch': 6.23}\n",
      "{'loss': 0.0997, 'learning_rate': 1.8655256723716382e-05, 'epoch': 6.28}\n",
      "{'loss': 0.0894, 'learning_rate': 1.845150774246129e-05, 'epoch': 6.32}\n",
      "{'loss': 0.089, 'learning_rate': 1.8247758761206196e-05, 'epoch': 6.36}\n"
>>>>>>> parent of 5128b5f (compl;ite anno BalllerTV)
     ]
    },
    {
     "data": {
      "application/vnd.jupyter.widget-view+json": {
<<<<<<< HEAD
       "model_id": "91414e65b20e4f109d832b6819a196c4",
=======
       "model_id": "1190913c3de54a0d8afb37bd7b0722c1",
>>>>>>> parent of 5128b5f (compl;ite anno BalllerTV)
       "version_major": 2,
       "version_minor": 0
      },
      "text/plain": [
       "  0%|          | 0/307 [00:00<?, ?it/s]"
      ]
     },
     "metadata": {},
     "output_type": "display_data"
    },
    {
     "name": "stdout",
     "output_type": "stream",
     "text": [
<<<<<<< HEAD
      "{'eval_loss': 4.337724208831787, 'eval_cer': 0.1768511861969806, 'eval_runtime': 172.5781, 'eval_samples_per_second': 5.331, 'eval_steps_per_second': 1.779, 'epoch': 6.36}\n",
      "{'loss': 0.1866, 'learning_rate': 1.8039934800325998e-05, 'epoch': 6.4}\n",
      "{'loss': 0.2454, 'learning_rate': 1.7836185819070905e-05, 'epoch': 6.44}\n",
      "{'loss': 0.128, 'learning_rate': 1.7632436837815812e-05, 'epoch': 6.48}\n",
      "{'loss': 0.1121, 'learning_rate': 1.742868785656072e-05, 'epoch': 6.52}\n"
=======
      "{'eval_loss': 2.992631196975708, 'eval_cer': 0.053258584442887176, 'eval_runtime': 176.3946, 'eval_samples_per_second': 5.216, 'eval_steps_per_second': 1.74, 'epoch': 6.36}\n",
      "{'loss': 0.0755, 'learning_rate': 1.8044009779951102e-05, 'epoch': 6.4}\n",
      "{'loss': 0.0524, 'learning_rate': 1.7840260798696006e-05, 'epoch': 6.44}\n",
      "{'loss': 0.011, 'learning_rate': 1.7636511817440916e-05, 'epoch': 6.48}\n",
      "{'loss': 0.1283, 'learning_rate': 1.7436837815810923e-05, 'epoch': 6.52}\n"
>>>>>>> parent of 5128b5f (compl;ite anno BalllerTV)
     ]
    },
    {
     "data": {
      "application/vnd.jupyter.widget-view+json": {
<<<<<<< HEAD
       "model_id": "bca84155dc6245b6a7b313ce9d2d3210",
=======
       "model_id": "6bda9c6f2d4a481586ef300567a809cf",
>>>>>>> parent of 5128b5f (compl;ite anno BalllerTV)
       "version_major": 2,
       "version_minor": 0
      },
      "text/plain": [
       "  0%|          | 0/307 [00:00<?, ?it/s]"
      ]
     },
     "metadata": {},
     "output_type": "display_data"
    },
    {
     "name": "stdout",
     "output_type": "stream",
     "text": [
<<<<<<< HEAD
      "{'eval_loss': 3.167715072631836, 'eval_cer': 0.1509705248023005, 'eval_runtime': 173.4704, 'eval_samples_per_second': 5.303, 'eval_steps_per_second': 1.77, 'epoch': 6.52}\n",
      "{'loss': 0.1524, 'learning_rate': 1.7224938875305625e-05, 'epoch': 6.56}\n",
      "{'loss': 0.1797, 'learning_rate': 1.702118989405053e-05, 'epoch': 6.6}\n",
      "{'loss': 0.1922, 'learning_rate': 1.681744091279544e-05, 'epoch': 6.64}\n",
      "{'loss': 0.2156, 'learning_rate': 1.6613691931540342e-05, 'epoch': 6.68}\n"
=======
      "{'eval_loss': 3.1244170665740967, 'eval_cer': 0.05746320953048353, 'eval_runtime': 176.5553, 'eval_samples_per_second': 5.211, 'eval_steps_per_second': 1.739, 'epoch': 6.52}\n",
      "{'loss': 0.1117, 'learning_rate': 1.7233088834555827e-05, 'epoch': 6.56}\n",
      "{'loss': 0.0655, 'learning_rate': 1.7029339853300737e-05, 'epoch': 6.6}\n",
      "{'loss': 0.0614, 'learning_rate': 1.682559087204564e-05, 'epoch': 6.64}\n",
      "{'loss': 0.0954, 'learning_rate': 1.6621841890790547e-05, 'epoch': 6.68}\n"
>>>>>>> parent of 5128b5f (compl;ite anno BalllerTV)
     ]
    },
    {
     "data": {
      "application/vnd.jupyter.widget-view+json": {
<<<<<<< HEAD
       "model_id": "62f106028e4949be8405e2c3ddcc72f7",
=======
       "model_id": "4058db1333cf4a759041be3914a45228",
>>>>>>> parent of 5128b5f (compl;ite anno BalllerTV)
       "version_major": 2,
       "version_minor": 0
      },
      "text/plain": [
       "  0%|          | 0/307 [00:00<?, ?it/s]"
      ]
     },
     "metadata": {},
     "output_type": "display_data"
    },
    {
     "name": "stdout",
     "output_type": "stream",
     "text": [
<<<<<<< HEAD
      "{'eval_loss': 4.176599502563477, 'eval_cer': 0.18044572250179727, 'eval_runtime': 173.8138, 'eval_samples_per_second': 5.293, 'eval_steps_per_second': 1.766, 'epoch': 6.68}\n",
      "{'loss': 0.1287, 'learning_rate': 1.640994295028525e-05, 'epoch': 6.72}\n",
      "{'loss': 0.1638, 'learning_rate': 1.6206193969030156e-05, 'epoch': 6.76}\n",
      "{'loss': 0.1027, 'learning_rate': 1.6002444987775062e-05, 'epoch': 6.81}\n",
      "{'loss': 0.2103, 'learning_rate': 1.5798696006519966e-05, 'epoch': 6.85}\n"
=======
      "{'eval_loss': 3.102292776107788, 'eval_cer': 0.06306937631394534, 'eval_runtime': 176.4652, 'eval_samples_per_second': 5.213, 'eval_steps_per_second': 1.74, 'epoch': 6.68}\n",
      "{'loss': 0.0341, 'learning_rate': 1.6418092909535454e-05, 'epoch': 6.72}\n",
      "{'loss': 0.0501, 'learning_rate': 1.621434392828036e-05, 'epoch': 6.76}\n",
      "{'loss': 0.0426, 'learning_rate': 1.6010594947025264e-05, 'epoch': 6.81}\n",
      "{'loss': 0.0387, 'learning_rate': 1.5806845965770174e-05, 'epoch': 6.85}\n"
>>>>>>> parent of 5128b5f (compl;ite anno BalllerTV)
     ]
    },
    {
     "data": {
      "application/vnd.jupyter.widget-view+json": {
<<<<<<< HEAD
       "model_id": "1eaa2da2ecf644bcb929bdef7cc082ae",
=======
       "model_id": "f775f4ec915d43b4974b13979660dcc2",
>>>>>>> parent of 5128b5f (compl;ite anno BalllerTV)
       "version_major": 2,
       "version_minor": 0
      },
      "text/plain": [
       "  0%|          | 0/307 [00:00<?, ?it/s]"
      ]
     },
     "metadata": {},
     "output_type": "display_data"
    },
    {
     "name": "stdout",
     "output_type": "stream",
     "text": [
<<<<<<< HEAD
      "{'eval_loss': 3.7041306495666504, 'eval_cer': 0.15672178289000718, 'eval_runtime': 173.0997, 'eval_samples_per_second': 5.315, 'eval_steps_per_second': 1.774, 'epoch': 6.85}\n",
      "{'loss': 0.1305, 'learning_rate': 1.5594947025264876e-05, 'epoch': 6.89}\n",
      "{'loss': 0.1013, 'learning_rate': 1.539119804400978e-05, 'epoch': 6.93}\n",
      "{'loss': 0.2117, 'learning_rate': 1.5187449062754686e-05, 'epoch': 6.97}\n",
      "{'loss': 0.157, 'learning_rate': 1.4987775061124695e-05, 'epoch': 7.01}\n"
=======
      "{'eval_loss': 3.5579233169555664, 'eval_cer': 0.0672740014015417, 'eval_runtime': 176.4787, 'eval_samples_per_second': 5.213, 'eval_steps_per_second': 1.74, 'epoch': 6.85}\n",
      "{'loss': 0.0402, 'learning_rate': 1.5603096984515077e-05, 'epoch': 6.89}\n",
      "{'loss': 0.1076, 'learning_rate': 1.5399348003259984e-05, 'epoch': 6.93}\n",
      "{'loss': 0.0307, 'learning_rate': 1.5195599022004892e-05, 'epoch': 6.97}\n",
      "{'loss': 0.0282, 'learning_rate': 1.4991850040749797e-05, 'epoch': 7.01}\n"
>>>>>>> parent of 5128b5f (compl;ite anno BalllerTV)
     ]
    },
    {
     "data": {
      "application/vnd.jupyter.widget-view+json": {
<<<<<<< HEAD
       "model_id": "be9217bb41514e4bbae0c23b6a8664ae",
=======
       "model_id": "4c47931543384f4fb764b1a409982515",
>>>>>>> parent of 5128b5f (compl;ite anno BalllerTV)
       "version_major": 2,
       "version_minor": 0
      },
      "text/plain": [
       "  0%|          | 0/307 [00:00<?, ?it/s]"
      ]
     },
     "metadata": {},
     "output_type": "display_data"
    },
    {
     "name": "stdout",
     "output_type": "stream",
     "text": [
<<<<<<< HEAD
      "{'eval_loss': 3.3757381439208984, 'eval_cer': 0.14953271028037382, 'eval_runtime': 173.0639, 'eval_samples_per_second': 5.316, 'eval_steps_per_second': 1.774, 'epoch': 7.01}\n",
      "{'loss': 0.1443, 'learning_rate': 1.47840260798696e-05, 'epoch': 7.05}\n",
      "{'loss': 0.1232, 'learning_rate': 1.4580277098614509e-05, 'epoch': 7.09}\n",
      "{'loss': 0.1353, 'learning_rate': 1.4376528117359414e-05, 'epoch': 7.13}\n",
      "{'loss': 0.0938, 'learning_rate': 1.4172779136104319e-05, 'epoch': 7.17}\n"
=======
      "{'eval_loss': 3.245170831680298, 'eval_cer': 0.06377014716187807, 'eval_runtime': 177.4627, 'eval_samples_per_second': 5.184, 'eval_steps_per_second': 1.73, 'epoch': 7.01}\n",
      "{'loss': 0.0657, 'learning_rate': 1.4788101059494702e-05, 'epoch': 7.05}\n",
      "{'loss': 0.0359, 'learning_rate': 1.4584352078239611e-05, 'epoch': 7.09}\n",
      "{'loss': 0.078, 'learning_rate': 1.4380603096984516e-05, 'epoch': 7.13}\n",
      "{'loss': 0.0568, 'learning_rate': 1.4176854115729421e-05, 'epoch': 7.17}\n"
>>>>>>> parent of 5128b5f (compl;ite anno BalllerTV)
     ]
    },
    {
     "data": {
      "application/vnd.jupyter.widget-view+json": {
<<<<<<< HEAD
       "model_id": "eba8a5dc35d14b00a435be43070968d5",
=======
       "model_id": "90993a04ca3d471cbb09356d55d05e6c",
>>>>>>> parent of 5128b5f (compl;ite anno BalllerTV)
       "version_major": 2,
       "version_minor": 0
      },
      "text/plain": [
       "  0%|          | 0/307 [00:00<?, ?it/s]"
      ]
     },
     "metadata": {},
     "output_type": "display_data"
    },
    {
     "name": "stdout",
     "output_type": "stream",
     "text": [
<<<<<<< HEAD
      "{'eval_loss': 4.4363322257995605, 'eval_cer': 0.1710999281092739, 'eval_runtime': 172.725, 'eval_samples_per_second': 5.326, 'eval_steps_per_second': 1.777, 'epoch': 7.17}\n",
      "{'loss': 0.1596, 'learning_rate': 1.3969030154849227e-05, 'epoch': 7.21}\n",
      "{'loss': 0.1278, 'learning_rate': 1.3765281173594132e-05, 'epoch': 7.25}\n",
      "{'loss': 0.0666, 'learning_rate': 1.3561532192339039e-05, 'epoch': 7.29}\n",
      "{'loss': 0.0748, 'learning_rate': 1.3357783211083946e-05, 'epoch': 7.33}\n"
=======
      "{'eval_loss': 2.515720844268799, 'eval_cer': 0.0672740014015417, 'eval_runtime': 176.8542, 'eval_samples_per_second': 5.202, 'eval_steps_per_second': 1.736, 'epoch': 7.17}\n",
      "{'loss': 0.0848, 'learning_rate': 1.397310513447433e-05, 'epoch': 7.21}\n",
      "{'loss': 0.0665, 'learning_rate': 1.3769356153219234e-05, 'epoch': 7.25}\n",
      "{'loss': 0.0644, 'learning_rate': 1.356560717196414e-05, 'epoch': 7.29}\n",
      "{'loss': 0.0235, 'learning_rate': 1.3361858190709048e-05, 'epoch': 7.33}\n"
>>>>>>> parent of 5128b5f (compl;ite anno BalllerTV)
     ]
    },
    {
     "data": {
      "application/vnd.jupyter.widget-view+json": {
<<<<<<< HEAD
       "model_id": "0bc45cac777d4b78aef54d36af73e4d0",
=======
       "model_id": "92482c0703cc425fb86e786a9078a3d6",
>>>>>>> parent of 5128b5f (compl;ite anno BalllerTV)
       "version_major": 2,
       "version_minor": 0
      },
      "text/plain": [
       "  0%|          | 0/307 [00:00<?, ?it/s]"
      ]
     },
     "metadata": {},
     "output_type": "display_data"
    },
    {
     "name": "stdout",
     "output_type": "stream",
     "text": [
<<<<<<< HEAD
      "{'eval_loss': 4.254277229309082, 'eval_cer': 0.16606757728253055, 'eval_runtime': 173.1396, 'eval_samples_per_second': 5.314, 'eval_steps_per_second': 1.773, 'epoch': 7.33}\n",
      "{'loss': 0.1094, 'learning_rate': 1.3158109209453953e-05, 'epoch': 7.38}\n",
      "{'loss': 0.0234, 'learning_rate': 1.2954360228198858e-05, 'epoch': 7.42}\n",
      "{'loss': 0.1312, 'learning_rate': 1.2750611246943767e-05, 'epoch': 7.46}\n",
      "{'loss': 0.0776, 'learning_rate': 1.2546862265688672e-05, 'epoch': 7.5}\n"
=======
      "{'eval_loss': 3.1509268283843994, 'eval_cer': 0.06937631394533987, 'eval_runtime': 173.4592, 'eval_samples_per_second': 5.304, 'eval_steps_per_second': 1.77, 'epoch': 7.33}\n",
      "{'loss': 0.0683, 'learning_rate': 1.3158109209453953e-05, 'epoch': 7.38}\n",
      "{'loss': 0.0826, 'learning_rate': 1.2954360228198858e-05, 'epoch': 7.42}\n",
      "{'loss': 0.0356, 'learning_rate': 1.2750611246943767e-05, 'epoch': 7.46}\n",
      "{'loss': 0.0002, 'learning_rate': 1.2546862265688672e-05, 'epoch': 7.5}\n"
>>>>>>> parent of 5128b5f (compl;ite anno BalllerTV)
     ]
    },
    {
     "data": {
      "application/vnd.jupyter.widget-view+json": {
<<<<<<< HEAD
       "model_id": "91c8352d5b9449a190b0ab7e0557c576",
=======
       "model_id": "828f5977379f4bfe8d3f0406fa717a41",
>>>>>>> parent of 5128b5f (compl;ite anno BalllerTV)
       "version_major": 2,
       "version_minor": 0
      },
      "text/plain": [
       "  0%|          | 0/307 [00:00<?, ?it/s]"
      ]
     },
     "metadata": {},
     "output_type": "display_data"
    },
    {
     "name": "stdout",
     "output_type": "stream",
     "text": [
<<<<<<< HEAD
      "{'eval_loss': 4.347736835479736, 'eval_cer': 0.14809489575844717, 'eval_runtime': 173.0925, 'eval_samples_per_second': 5.315, 'eval_steps_per_second': 1.774, 'epoch': 7.5}\n",
      "{'loss': 0.1615, 'learning_rate': 1.2343113284433578e-05, 'epoch': 7.54}\n",
      "{'loss': 0.1456, 'learning_rate': 1.2139364303178483e-05, 'epoch': 7.58}\n",
      "{'loss': 0.0964, 'learning_rate': 1.193561532192339e-05, 'epoch': 7.62}\n",
      "{'loss': 0.1953, 'learning_rate': 1.1731866340668297e-05, 'epoch': 7.66}\n"
=======
      "{'eval_loss': 3.621946096420288, 'eval_cer': 0.0644709180098108, 'eval_runtime': 172.9794, 'eval_samples_per_second': 5.319, 'eval_steps_per_second': 1.775, 'epoch': 7.5}\n",
      "{'loss': 0.0747, 'learning_rate': 1.2343113284433578e-05, 'epoch': 7.54}\n",
      "{'loss': 0.0841, 'learning_rate': 1.2139364303178483e-05, 'epoch': 7.58}\n",
      "{'loss': 0.0308, 'learning_rate': 1.193561532192339e-05, 'epoch': 7.62}\n",
      "{'loss': 0.0192, 'learning_rate': 1.1731866340668297e-05, 'epoch': 7.66}\n"
>>>>>>> parent of 5128b5f (compl;ite anno BalllerTV)
     ]
    },
    {
     "data": {
      "application/vnd.jupyter.widget-view+json": {
<<<<<<< HEAD
       "model_id": "3ecc5bc0a3ed4984a00483570c798719",
=======
       "model_id": "425b90da8b8443279f1d41f7fb950142",
>>>>>>> parent of 5128b5f (compl;ite anno BalllerTV)
       "version_major": 2,
       "version_minor": 0
      },
      "text/plain": [
       "  0%|          | 0/307 [00:00<?, ?it/s]"
      ]
     },
     "metadata": {},
     "output_type": "display_data"
    },
    {
     "name": "stdout",
     "output_type": "stream",
     "text": [
<<<<<<< HEAD
      "{'eval_loss': 4.038135528564453, 'eval_cer': 0.15025161754133717, 'eval_runtime': 172.9915, 'eval_samples_per_second': 5.318, 'eval_steps_per_second': 1.775, 'epoch': 7.66}\n",
      "{'loss': 0.0276, 'learning_rate': 1.1528117359413204e-05, 'epoch': 7.7}\n",
      "{'loss': 0.0572, 'learning_rate': 1.1324368378158109e-05, 'epoch': 7.74}\n",
      "{'loss': 0.0543, 'learning_rate': 1.1120619396903015e-05, 'epoch': 7.78}\n",
      "{'loss': 0.0359, 'learning_rate': 1.0916870415647922e-05, 'epoch': 7.82}\n"
=======
      "{'eval_loss': 3.9001097679138184, 'eval_cer': 0.08689558514365803, 'eval_runtime': 172.888, 'eval_samples_per_second': 5.321, 'eval_steps_per_second': 1.776, 'epoch': 7.66}\n",
      "{'loss': 0.051, 'learning_rate': 1.1528117359413204e-05, 'epoch': 7.7}\n",
      "{'loss': 0.0595, 'learning_rate': 1.1324368378158109e-05, 'epoch': 7.74}\n",
      "{'loss': 0.039, 'learning_rate': 1.1120619396903015e-05, 'epoch': 7.78}\n",
      "{'loss': 0.0365, 'learning_rate': 1.0916870415647922e-05, 'epoch': 7.82}\n"
>>>>>>> parent of 5128b5f (compl;ite anno BalllerTV)
     ]
    },
    {
     "data": {
      "application/vnd.jupyter.widget-view+json": {
<<<<<<< HEAD
       "model_id": "7b0a01b453c14c3ca88ffcc563fc8232",
=======
       "model_id": "b866ce87c8084d648684750f2466d2fd",
>>>>>>> parent of 5128b5f (compl;ite anno BalllerTV)
       "version_major": 2,
       "version_minor": 0
      },
      "text/plain": [
       "  0%|          | 0/307 [00:00<?, ?it/s]"
      ]
     },
     "metadata": {},
     "output_type": "display_data"
    },
    {
     "name": "stdout",
     "output_type": "stream",
     "text": [
<<<<<<< HEAD
      "{'eval_loss': 4.4514946937561035, 'eval_cer': 0.13371675053918045, 'eval_runtime': 172.9207, 'eval_samples_per_second': 5.32, 'eval_steps_per_second': 1.775, 'epoch': 7.82}\n",
      "{'loss': 0.0843, 'learning_rate': 1.0713121434392829e-05, 'epoch': 7.86}\n",
      "{'loss': 0.1101, 'learning_rate': 1.0509372453137736e-05, 'epoch': 7.91}\n",
      "{'loss': 0.0711, 'learning_rate': 1.0305623471882642e-05, 'epoch': 7.95}\n",
      "{'loss': 0.0871, 'learning_rate': 1.0101874490627547e-05, 'epoch': 7.99}\n"
=======
      "{'eval_loss': 2.926748275756836, 'eval_cer': 0.07077785564120533, 'eval_runtime': 173.2003, 'eval_samples_per_second': 5.312, 'eval_steps_per_second': 1.773, 'epoch': 7.82}\n",
      "{'loss': 0.032, 'learning_rate': 1.0713121434392829e-05, 'epoch': 7.86}\n",
      "{'loss': 0.0215, 'learning_rate': 1.0509372453137736e-05, 'epoch': 7.91}\n",
      "{'loss': 0.0414, 'learning_rate': 1.0305623471882642e-05, 'epoch': 7.95}\n",
      "{'loss': 0.0342, 'learning_rate': 1.0101874490627547e-05, 'epoch': 7.99}\n"
>>>>>>> parent of 5128b5f (compl;ite anno BalllerTV)
     ]
    },
    {
     "data": {
      "application/vnd.jupyter.widget-view+json": {
<<<<<<< HEAD
       "model_id": "324b2051e6d84018a51e74c747a08be9",
=======
       "model_id": "0d0e2c80d1f1480f9128bee044baf989",
>>>>>>> parent of 5128b5f (compl;ite anno BalllerTV)
       "version_major": 2,
       "version_minor": 0
      },
      "text/plain": [
       "  0%|          | 0/307 [00:00<?, ?it/s]"
      ]
     },
     "metadata": {},
     "output_type": "display_data"
    },
    {
     "name": "stdout",
     "output_type": "stream",
     "text": [
<<<<<<< HEAD
      "{'eval_loss': 5.0544633865356445, 'eval_cer': 0.15168943206326385, 'eval_runtime': 173.0478, 'eval_samples_per_second': 5.316, 'eval_steps_per_second': 1.774, 'epoch': 7.99}\n",
      "{'loss': 0.0341, 'learning_rate': 9.898125509372454e-06, 'epoch': 8.03}\n",
      "{'loss': 0.046, 'learning_rate': 9.694376528117361e-06, 'epoch': 8.07}\n",
      "{'loss': 0.0985, 'learning_rate': 9.490627546862266e-06, 'epoch': 8.11}\n",
      "{'loss': 0.0308, 'learning_rate': 9.286878565607173e-06, 'epoch': 8.15}\n"
=======
      "{'eval_loss': 3.337031602859497, 'eval_cer': 0.0539593552908199, 'eval_runtime': 173.7102, 'eval_samples_per_second': 5.296, 'eval_steps_per_second': 1.767, 'epoch': 7.99}\n",
      "{'loss': 0.0486, 'learning_rate': 9.898125509372454e-06, 'epoch': 8.03}\n",
      "{'loss': 0.0241, 'learning_rate': 9.694376528117361e-06, 'epoch': 8.07}\n",
      "{'loss': 0.0557, 'learning_rate': 9.490627546862266e-06, 'epoch': 8.11}\n",
      "{'loss': 0.043, 'learning_rate': 9.286878565607173e-06, 'epoch': 8.15}\n"
>>>>>>> parent of 5128b5f (compl;ite anno BalllerTV)
     ]
    },
    {
     "data": {
      "application/vnd.jupyter.widget-view+json": {
<<<<<<< HEAD
       "model_id": "9e17cf1e54f74b56a680cc43be99df57",
=======
       "model_id": "0e9cd6e4c0d94788bc5acf6c9486584b",
>>>>>>> parent of 5128b5f (compl;ite anno BalllerTV)
       "version_major": 2,
       "version_minor": 0
      },
      "text/plain": [
       "  0%|          | 0/307 [00:00<?, ?it/s]"
      ]
     },
     "metadata": {},
     "output_type": "display_data"
    },
    {
     "name": "stdout",
     "output_type": "stream",
     "text": [
<<<<<<< HEAD
      "{'eval_loss': 4.756624698638916, 'eval_cer': 0.13299784327821712, 'eval_runtime': 173.3413, 'eval_samples_per_second': 5.307, 'eval_steps_per_second': 1.771, 'epoch': 8.15}\n",
      "{'loss': 0.007, 'learning_rate': 9.08312958435208e-06, 'epoch': 8.19}\n",
      "{'loss': 0.0314, 'learning_rate': 8.879380603096985e-06, 'epoch': 8.23}\n",
      "{'loss': 0.0756, 'learning_rate': 8.675631621841891e-06, 'epoch': 8.27}\n",
      "{'loss': 0.0073, 'learning_rate': 8.471882640586798e-06, 'epoch': 8.31}\n"
=======
      "{'eval_loss': 3.2783429622650146, 'eval_cer': 0.06306937631394534, 'eval_runtime': 172.7612, 'eval_samples_per_second': 5.325, 'eval_steps_per_second': 1.777, 'epoch': 8.15}\n",
      "{'loss': 0.0123, 'learning_rate': 9.08312958435208e-06, 'epoch': 8.19}\n",
      "{'loss': 0.0351, 'learning_rate': 8.879380603096985e-06, 'epoch': 8.23}\n",
      "{'loss': 0.066, 'learning_rate': 8.675631621841891e-06, 'epoch': 8.27}\n",
      "{'loss': 0.0171, 'learning_rate': 8.471882640586798e-06, 'epoch': 8.31}\n"
>>>>>>> parent of 5128b5f (compl;ite anno BalllerTV)
     ]
    },
    {
     "data": {
      "application/vnd.jupyter.widget-view+json": {
<<<<<<< HEAD
       "model_id": "d5cfbe4c0ce547008f61bdb6f899f4e4",
=======
       "model_id": "f23a93d175f24945a904ff7c66760ad3",
>>>>>>> parent of 5128b5f (compl;ite anno BalllerTV)
       "version_major": 2,
       "version_minor": 0
      },
      "text/plain": [
       "  0%|          | 0/307 [00:00<?, ?it/s]"
      ]
     },
     "metadata": {},
     "output_type": "display_data"
    },
    {
     "name": "stdout",
     "output_type": "stream",
     "text": [
<<<<<<< HEAD
      "{'eval_loss': 4.886870384216309, 'eval_cer': 0.14162473040977713, 'eval_runtime': 173.0267, 'eval_samples_per_second': 5.317, 'eval_steps_per_second': 1.774, 'epoch': 8.31}\n",
      "{'loss': 0.0102, 'learning_rate': 8.268133659331703e-06, 'epoch': 8.35}\n",
      "{'loss': 0.0466, 'learning_rate': 8.06438467807661e-06, 'epoch': 8.39}\n",
      "{'loss': 0.1649, 'learning_rate': 7.860635696821517e-06, 'epoch': 8.44}\n",
      "{'loss': 0.0124, 'learning_rate': 7.656886715566422e-06, 'epoch': 8.48}\n"
=======
      "{'eval_loss': 3.1452858448028564, 'eval_cer': 0.06166783461807989, 'eval_runtime': 172.991, 'eval_samples_per_second': 5.318, 'eval_steps_per_second': 1.775, 'epoch': 8.31}\n",
      "{'loss': 0.0002, 'learning_rate': 8.268133659331703e-06, 'epoch': 8.35}\n",
      "{'loss': 0.0157, 'learning_rate': 8.06438467807661e-06, 'epoch': 8.39}\n",
      "{'loss': 0.0307, 'learning_rate': 7.860635696821517e-06, 'epoch': 8.44}\n",
      "{'loss': 0.001, 'learning_rate': 7.656886715566422e-06, 'epoch': 8.48}\n"
>>>>>>> parent of 5128b5f (compl;ite anno BalllerTV)
     ]
    },
    {
     "data": {
      "application/vnd.jupyter.widget-view+json": {
<<<<<<< HEAD
       "model_id": "a191ef5ebdfe4dc191ce68308e080e64",
=======
       "model_id": "2bf4497c1a73446295f191e190fc8ef1",
>>>>>>> parent of 5128b5f (compl;ite anno BalllerTV)
       "version_major": 2,
       "version_minor": 0
      },
      "text/plain": [
       "  0%|          | 0/307 [00:00<?, ?it/s]"
      ]
     },
     "metadata": {},
     "output_type": "display_data"
    },
    {
     "name": "stdout",
     "output_type": "stream",
     "text": [
<<<<<<< HEAD
      "{'eval_loss': 4.329313278198242, 'eval_cer': 0.1286843997124371, 'eval_runtime': 174.0165, 'eval_samples_per_second': 5.287, 'eval_steps_per_second': 1.764, 'epoch': 8.48}\n",
      "{'loss': 0.0235, 'learning_rate': 7.453137734311328e-06, 'epoch': 8.52}\n",
      "{'loss': 0.0631, 'learning_rate': 7.249388753056235e-06, 'epoch': 8.56}\n",
      "{'loss': 0.0258, 'learning_rate': 7.045639771801141e-06, 'epoch': 8.6}\n",
      "{'loss': 0.0021, 'learning_rate': 6.841890790546048e-06, 'epoch': 8.64}\n"
=======
      "{'eval_loss': 3.554133892059326, 'eval_cer': 0.07217939733707078, 'eval_runtime': 173.2446, 'eval_samples_per_second': 5.31, 'eval_steps_per_second': 1.772, 'epoch': 8.48}\n",
      "{'loss': 0.0004, 'learning_rate': 7.453137734311328e-06, 'epoch': 8.52}\n",
      "{'loss': 0.0283, 'learning_rate': 7.249388753056235e-06, 'epoch': 8.56}\n",
      "{'loss': 0.0178, 'learning_rate': 7.045639771801141e-06, 'epoch': 8.6}\n",
      "{'loss': 0.044, 'learning_rate': 6.841890790546048e-06, 'epoch': 8.64}\n"
>>>>>>> parent of 5128b5f (compl;ite anno BalllerTV)
     ]
    },
    {
     "data": {
      "application/vnd.jupyter.widget-view+json": {
<<<<<<< HEAD
       "model_id": "99bbc137f5554af29f4a65c0d34b4edd",
=======
       "model_id": "9b0d6d0e339c4502ac1290ed69d4ba81",
>>>>>>> parent of 5128b5f (compl;ite anno BalllerTV)
       "version_major": 2,
       "version_minor": 0
      },
      "text/plain": [
       "  0%|          | 0/307 [00:00<?, ?it/s]"
      ]
     },
     "metadata": {},
     "output_type": "display_data"
    },
    {
     "name": "stdout",
     "output_type": "stream",
     "text": [
<<<<<<< HEAD
      "{'eval_loss': 4.499250411987305, 'eval_cer': 0.13371675053918045, 'eval_runtime': 172.7843, 'eval_samples_per_second': 5.325, 'eval_steps_per_second': 1.777, 'epoch': 8.64}\n",
      "{'loss': 0.0339, 'learning_rate': 6.6381418092909545e-06, 'epoch': 8.68}\n",
      "{'loss': 0.1129, 'learning_rate': 6.4343928280358596e-06, 'epoch': 8.72}\n",
      "{'loss': 0.0363, 'learning_rate': 6.230643846780766e-06, 'epoch': 8.76}\n",
      "{'loss': 0.0164, 'learning_rate': 6.026894865525673e-06, 'epoch': 8.8}\n"
=======
      "{'eval_loss': 3.595508337020874, 'eval_cer': 0.05185704274702172, 'eval_runtime': 172.6923, 'eval_samples_per_second': 5.327, 'eval_steps_per_second': 1.778, 'epoch': 8.64}\n",
      "{'loss': 0.0349, 'learning_rate': 6.6381418092909545e-06, 'epoch': 8.68}\n",
      "{'loss': 0.0001, 'learning_rate': 6.4343928280358596e-06, 'epoch': 8.72}\n",
      "{'loss': 0.0001, 'learning_rate': 6.230643846780766e-06, 'epoch': 8.76}\n",
      "{'loss': 0.0475, 'learning_rate': 6.026894865525673e-06, 'epoch': 8.8}\n"
>>>>>>> parent of 5128b5f (compl;ite anno BalllerTV)
     ]
    },
    {
     "data": {
      "application/vnd.jupyter.widget-view+json": {
<<<<<<< HEAD
       "model_id": "f7ce8d6d36d14e4fad55b56a2187c390",
=======
       "model_id": "0be42689209741378d7297c2792609a7",
>>>>>>> parent of 5128b5f (compl;ite anno BalllerTV)
       "version_major": 2,
       "version_minor": 0
      },
      "text/plain": [
       "  0%|          | 0/307 [00:00<?, ?it/s]"
      ]
     },
     "metadata": {},
     "output_type": "display_data"
    },
    {
     "name": "stdout",
     "output_type": "stream",
     "text": [
<<<<<<< HEAD
      "{'eval_loss': 4.1612467765808105, 'eval_cer': 0.13515456506110712, 'eval_runtime': 172.9338, 'eval_samples_per_second': 5.32, 'eval_steps_per_second': 1.775, 'epoch': 8.8}\n",
      "{'loss': 0.0109, 'learning_rate': 5.823145884270579e-06, 'epoch': 8.84}\n",
      "{'loss': 0.012, 'learning_rate': 5.619396903015485e-06, 'epoch': 8.88}\n",
      "{'loss': 0.0186, 'learning_rate': 5.415647921760392e-06, 'epoch': 8.92}\n",
      "{'loss': 0.0284, 'learning_rate': 5.2118989405052975e-06, 'epoch': 8.96}\n"
=======
      "{'eval_loss': 3.8046822547912598, 'eval_cer': 0.0539593552908199, 'eval_runtime': 175.3375, 'eval_samples_per_second': 5.247, 'eval_steps_per_second': 1.751, 'epoch': 8.8}\n",
      "{'loss': 0.0231, 'learning_rate': 5.823145884270579e-06, 'epoch': 8.84}\n",
      "{'loss': 0.0374, 'learning_rate': 5.619396903015485e-06, 'epoch': 8.88}\n",
      "{'loss': 0.0123, 'learning_rate': 5.415647921760392e-06, 'epoch': 8.92}\n",
      "{'loss': 0.0297, 'learning_rate': 5.2118989405052975e-06, 'epoch': 8.96}\n"
>>>>>>> parent of 5128b5f (compl;ite anno BalllerTV)
     ]
    },
    {
     "data": {
      "application/vnd.jupyter.widget-view+json": {
<<<<<<< HEAD
       "model_id": "11ad89af6bbc4bd1ae05351aa024bc1c",
=======
       "model_id": "eac7d5589889415699e866ac839d31ac",
>>>>>>> parent of 5128b5f (compl;ite anno BalllerTV)
       "version_major": 2,
       "version_minor": 0
      },
      "text/plain": [
       "  0%|          | 0/307 [00:00<?, ?it/s]"
      ]
     },
     "metadata": {},
     "output_type": "display_data"
    },
    {
     "name": "stdout",
     "output_type": "stream",
     "text": [
<<<<<<< HEAD
      "{'eval_loss': 4.682313442230225, 'eval_cer': 0.13443565780014377, 'eval_runtime': 173.0787, 'eval_samples_per_second': 5.315, 'eval_steps_per_second': 1.774, 'epoch': 8.96}\n",
      "{'loss': 0.0673, 'learning_rate': 5.008149959250203e-06, 'epoch': 9.01}\n",
      "{'loss': 0.0008, 'learning_rate': 4.80440097799511e-06, 'epoch': 9.05}\n",
      "{'loss': 0.0509, 'learning_rate': 4.600651996740017e-06, 'epoch': 9.09}\n",
      "{'loss': 0.0394, 'learning_rate': 4.396903015484923e-06, 'epoch': 9.13}\n"
=======
      "{'eval_loss': 3.625258445739746, 'eval_cer': 0.06166783461807989, 'eval_runtime': 177.2915, 'eval_samples_per_second': 5.189, 'eval_steps_per_second': 1.732, 'epoch': 8.96}\n",
      "{'loss': 0.0587, 'learning_rate': 5.008149959250203e-06, 'epoch': 9.01}\n",
      "{'loss': 0.0251, 'learning_rate': 4.80440097799511e-06, 'epoch': 9.05}\n",
      "{'loss': 0.0178, 'learning_rate': 4.600651996740017e-06, 'epoch': 9.09}\n",
      "{'loss': 0.0442, 'learning_rate': 4.396903015484923e-06, 'epoch': 9.13}\n"
>>>>>>> parent of 5128b5f (compl;ite anno BalllerTV)
     ]
    },
    {
     "data": {
      "application/vnd.jupyter.widget-view+json": {
<<<<<<< HEAD
       "model_id": "876689e90770487581d1dfe86c627fd2",
=======
       "model_id": "692ea5785e544ffd96099ea4090c0177",
>>>>>>> parent of 5128b5f (compl;ite anno BalllerTV)
       "version_major": 2,
       "version_minor": 0
      },
      "text/plain": [
       "  0%|          | 0/307 [00:00<?, ?it/s]"
      ]
     },
     "metadata": {},
     "output_type": "display_data"
    },
    {
     "name": "stdout",
     "output_type": "stream",
     "text": [
<<<<<<< HEAD
      "{'eval_loss': 4.966804504394531, 'eval_cer': 0.14737598849748382, 'eval_runtime': 173.3728, 'eval_samples_per_second': 5.306, 'eval_steps_per_second': 1.771, 'epoch': 9.13}\n",
      "{'loss': 0.0318, 'learning_rate': 4.1931540342298295e-06, 'epoch': 9.17}\n",
      "{'loss': 0.0028, 'learning_rate': 3.9894050529747354e-06, 'epoch': 9.21}\n",
      "{'loss': 0.0138, 'learning_rate': 3.7856560717196413e-06, 'epoch': 9.25}\n",
      "{'loss': 0.0011, 'learning_rate': 3.581907090464548e-06, 'epoch': 9.29}\n"
=======
      "{'eval_loss': 3.6338086128234863, 'eval_cer': 0.05536089698668535, 'eval_runtime': 177.7341, 'eval_samples_per_second': 5.176, 'eval_steps_per_second': 1.727, 'epoch': 9.13}\n",
      "{'loss': 0.0192, 'learning_rate': 4.1931540342298295e-06, 'epoch': 9.17}\n",
      "{'loss': 0.0132, 'learning_rate': 3.9894050529747354e-06, 'epoch': 9.21}\n",
      "{'loss': 0.0228, 'learning_rate': 3.7856560717196413e-06, 'epoch': 9.25}\n",
      "{'loss': 0.0001, 'learning_rate': 3.581907090464548e-06, 'epoch': 9.29}\n"
>>>>>>> parent of 5128b5f (compl;ite anno BalllerTV)
     ]
    },
    {
     "data": {
      "application/vnd.jupyter.widget-view+json": {
<<<<<<< HEAD
       "model_id": "9acff0435ea04387bbdc61f859a56d69",
=======
       "model_id": "30d60112767344f9b27a930ab3564001",
>>>>>>> parent of 5128b5f (compl;ite anno BalllerTV)
       "version_major": 2,
       "version_minor": 0
      },
      "text/plain": [
       "  0%|          | 0/307 [00:00<?, ?it/s]"
      ]
     },
     "metadata": {},
     "output_type": "display_data"
    },
    {
     "name": "stdout",
     "output_type": "stream",
     "text": [
<<<<<<< HEAD
      "{'eval_loss': 4.994973659515381, 'eval_cer': 0.13731128684399713, 'eval_runtime': 172.1015, 'eval_samples_per_second': 5.346, 'eval_steps_per_second': 1.784, 'epoch': 9.29}\n",
      "{'loss': 0.0008, 'learning_rate': 3.378158109209454e-06, 'epoch': 9.33}\n",
      "{'loss': 0.0238, 'learning_rate': 3.1744091279543607e-06, 'epoch': 9.37}\n",
      "{'loss': 0.0002, 'learning_rate': 2.9706601466992666e-06, 'epoch': 9.41}\n",
      "{'loss': 0.0178, 'learning_rate': 2.766911165444173e-06, 'epoch': 9.45}\n"
=======
      "{'eval_loss': 3.8500759601593018, 'eval_cer': 0.05185704274702172, 'eval_runtime': 177.4144, 'eval_samples_per_second': 5.186, 'eval_steps_per_second': 1.73, 'epoch': 9.29}\n",
      "{'loss': 0.0169, 'learning_rate': 3.378158109209454e-06, 'epoch': 9.33}\n",
      "{'loss': 0.026, 'learning_rate': 3.1744091279543607e-06, 'epoch': 9.37}\n",
      "{'loss': 0.0004, 'learning_rate': 2.9706601466992666e-06, 'epoch': 9.41}\n",
      "{'loss': 0.0082, 'learning_rate': 2.766911165444173e-06, 'epoch': 9.45}\n"
>>>>>>> parent of 5128b5f (compl;ite anno BalllerTV)
     ]
    },
    {
     "data": {
      "application/vnd.jupyter.widget-view+json": {
<<<<<<< HEAD
       "model_id": "bd078805e5e7409fa5f9af1b061c2fb2",
=======
       "model_id": "0b4d4143d66444aca6a622617a0800d5",
>>>>>>> parent of 5128b5f (compl;ite anno BalllerTV)
       "version_major": 2,
       "version_minor": 0
      },
      "text/plain": [
       "  0%|          | 0/307 [00:00<?, ?it/s]"
      ]
     },
     "metadata": {},
     "output_type": "display_data"
    },
    {
     "name": "stdout",
     "output_type": "stream",
     "text": [
<<<<<<< HEAD
      "{'eval_loss': 4.948250770568848, 'eval_cer': 0.14809489575844717, 'eval_runtime': 172.9161, 'eval_samples_per_second': 5.32, 'eval_steps_per_second': 1.775, 'epoch': 9.45}\n",
      "{'loss': 0.0321, 'learning_rate': 2.5631621841890793e-06, 'epoch': 9.49}\n",
      "{'loss': 0.0016, 'learning_rate': 2.3594132029339856e-06, 'epoch': 9.54}\n",
      "{'loss': 0.0217, 'learning_rate': 2.155664221678892e-06, 'epoch': 9.58}\n",
      "{'loss': 0.0319, 'learning_rate': 1.951915240423798e-06, 'epoch': 9.62}\n"
=======
      "{'eval_loss': 3.887356758117676, 'eval_cer': 0.05185704274702172, 'eval_runtime': 177.5209, 'eval_samples_per_second': 5.182, 'eval_steps_per_second': 1.729, 'epoch': 9.45}\n",
      "{'loss': 0.0001, 'learning_rate': 2.5631621841890793e-06, 'epoch': 9.49}\n",
      "{'loss': 0.0096, 'learning_rate': 2.3594132029339856e-06, 'epoch': 9.54}\n",
      "{'loss': 0.0005, 'learning_rate': 2.155664221678892e-06, 'epoch': 9.58}\n",
      "{'loss': 0.0254, 'learning_rate': 1.951915240423798e-06, 'epoch': 9.62}\n"
>>>>>>> parent of 5128b5f (compl;ite anno BalllerTV)
     ]
    },
    {
     "data": {
      "application/vnd.jupyter.widget-view+json": {
<<<<<<< HEAD
       "model_id": "c989a0a2b6df45d6b65546c51c7439a1",
=======
       "model_id": "b36bc619165b4c2f9bb8d2d7d9b7d731",
>>>>>>> parent of 5128b5f (compl;ite anno BalllerTV)
       "version_major": 2,
       "version_minor": 0
      },
      "text/plain": [
       "  0%|          | 0/307 [00:00<?, ?it/s]"
      ]
     },
     "metadata": {},
     "output_type": "display_data"
    },
    {
     "name": "stdout",
     "output_type": "stream",
     "text": [
<<<<<<< HEAD
      "{'eval_loss': 5.166921138763428, 'eval_cer': 0.1445003594536305, 'eval_runtime': 172.9773, 'eval_samples_per_second': 5.319, 'eval_steps_per_second': 1.775, 'epoch': 9.62}\n",
      "{'loss': 0.0165, 'learning_rate': 1.7481662591687043e-06, 'epoch': 9.66}\n",
      "{'loss': 0.0014, 'learning_rate': 1.5444172779136105e-06, 'epoch': 9.7}\n",
      "{'loss': 0.0141, 'learning_rate': 1.3406682966585168e-06, 'epoch': 9.74}\n",
      "{'loss': 0.013, 'learning_rate': 1.136919315403423e-06, 'epoch': 9.78}\n"
=======
      "{'eval_loss': 3.7880585193634033, 'eval_cer': 0.046951646811492644, 'eval_runtime': 176.9245, 'eval_samples_per_second': 5.2, 'eval_steps_per_second': 1.735, 'epoch': 9.62}\n",
      "{'loss': 0.0113, 'learning_rate': 1.7481662591687043e-06, 'epoch': 9.66}\n",
      "{'loss': 0.0002, 'learning_rate': 1.5444172779136105e-06, 'epoch': 9.7}\n",
      "{'loss': 0.0001, 'learning_rate': 1.3406682966585168e-06, 'epoch': 9.74}\n",
      "{'loss': 0.0001, 'learning_rate': 1.136919315403423e-06, 'epoch': 9.78}\n"
>>>>>>> parent of 5128b5f (compl;ite anno BalllerTV)
     ]
    },
    {
     "data": {
      "application/vnd.jupyter.widget-view+json": {
<<<<<<< HEAD
       "model_id": "589c5dad90bd49e4b87da0d470b614c0",
=======
       "model_id": "62e18ee9e20b4376b4746b7d5665165b",
>>>>>>> parent of 5128b5f (compl;ite anno BalllerTV)
       "version_major": 2,
       "version_minor": 0
      },
      "text/plain": [
       "  0%|          | 0/307 [00:00<?, ?it/s]"
      ]
     },
     "metadata": {},
     "output_type": "display_data"
    },
    {
     "name": "stdout",
     "output_type": "stream",
     "text": [
<<<<<<< HEAD
      "{'eval_loss': 5.13104248046875, 'eval_cer': 0.1409058231488138, 'eval_runtime': 172.8257, 'eval_samples_per_second': 5.323, 'eval_steps_per_second': 1.776, 'epoch': 9.78}\n",
      "{'loss': 0.0053, 'learning_rate': 9.331703341483293e-07, 'epoch': 9.82}\n",
      "{'loss': 0.0046, 'learning_rate': 7.294213528932355e-07, 'epoch': 9.86}\n",
      "{'loss': 0.05, 'learning_rate': 5.256723716381419e-07, 'epoch': 9.9}\n",
      "{'loss': 0.0222, 'learning_rate': 3.219233903830481e-07, 'epoch': 9.94}\n"
=======
      "{'eval_loss': 3.7863364219665527, 'eval_cer': 0.04484933426769446, 'eval_runtime': 177.1418, 'eval_samples_per_second': 5.194, 'eval_steps_per_second': 1.733, 'epoch': 9.78}\n",
      "{'loss': 0.0001, 'learning_rate': 9.331703341483293e-07, 'epoch': 9.82}\n",
      "{'loss': 0.0257, 'learning_rate': 7.334963325183375e-07, 'epoch': 9.86}\n",
      "{'loss': 0.0362, 'learning_rate': 5.297473512632438e-07, 'epoch': 9.9}\n",
      "{'loss': 0.009, 'learning_rate': 3.2599837000814994e-07, 'epoch': 9.94}\n"
>>>>>>> parent of 5128b5f (compl;ite anno BalllerTV)
     ]
    },
    {
     "data": {
      "application/vnd.jupyter.widget-view+json": {
<<<<<<< HEAD
       "model_id": "d567ee4bc9154c6286f8c263e962c9e2",
=======
       "model_id": "1386d2de6e144d60846a655d43cf744a",
>>>>>>> parent of 5128b5f (compl;ite anno BalllerTV)
       "version_major": 2,
       "version_minor": 0
      },
      "text/plain": [
       "  0%|          | 0/307 [00:00<?, ?it/s]"
      ]
     },
     "metadata": {},
     "output_type": "display_data"
    },
    {
     "name": "stdout",
     "output_type": "stream",
     "text": [
<<<<<<< HEAD
      "{'eval_loss': 5.310272693634033, 'eval_cer': 0.14809489575844717, 'eval_runtime': 172.7759, 'eval_samples_per_second': 5.325, 'eval_steps_per_second': 1.777, 'epoch': 9.94}\n",
      "{'loss': 0.0278, 'learning_rate': 1.1817440912795437e-07, 'epoch': 9.98}\n",
      "{'train_runtime': 15778.5154, 'train_samples_per_second': 2.332, 'train_steps_per_second': 0.778, 'train_loss': 0.604480871118259, 'epoch': 10.0}\n"
=======
      "{'eval_loss': 3.7123093605041504, 'eval_cer': 0.04555010511562719, 'eval_runtime': 176.81, 'eval_samples_per_second': 5.203, 'eval_steps_per_second': 1.736, 'epoch': 9.94}\n",
      "{'loss': 0.0073, 'learning_rate': 1.2224938875305623e-07, 'epoch': 9.98}\n",
      "{'train_runtime': 15861.6971, 'train_samples_per_second': 2.319, 'train_steps_per_second': 0.774, 'train_loss': 0.2888945367067241, 'epoch': 10.0}\n"
>>>>>>> parent of 5128b5f (compl;ite anno BalllerTV)
     ]
    },
    {
     "data": {
      "text/plain": [
<<<<<<< HEAD
       "TrainOutput(global_step=12270, training_loss=0.604480871118259, metrics={'train_runtime': 15778.5154, 'train_samples_per_second': 2.332, 'train_steps_per_second': 0.778, 'train_loss': 0.604480871118259, 'epoch': 10.0})"
=======
       "TrainOutput(global_step=12270, training_loss=0.2888945367067241, metrics={'train_runtime': 15861.6971, 'train_samples_per_second': 2.319, 'train_steps_per_second': 0.774, 'train_loss': 0.2888945367067241, 'epoch': 10.0})"
>>>>>>> parent of 5128b5f (compl;ite anno BalllerTV)
      ]
     },
     "execution_count": 16,
     "metadata": {},
     "output_type": "execute_result"
<<<<<<< HEAD
>>>>>>> f3405838f8ba252a58ba35ee443244e14fb6d66d
=======
>>>>>>> parent of 5128b5f (compl;ite anno BalllerTV)
    }
   ],
   "source": [
    "from transformers import default_data_collator\n",
    "\n",
    "# instantiate trainer\n",
    "trainer = Seq2SeqTrainer(\n",
    "    model=model,\n",
    "    tokenizer=processor.feature_extractor,\n",
    "    args=training_args,\n",
    "    compute_metrics=compute_metrics,\n",
    "    train_dataset=train_dataset,\n",
    "    eval_dataset=eval_dataset,\n",
    "    data_collator=default_data_collator,\n",
    ")\n",
    "trainer.train()"
   ]
  },
  {
   "cell_type": "code",
<<<<<<< HEAD
<<<<<<< HEAD
   "execution_count": 91,
=======
   "execution_count": 17,
>>>>>>> f3405838f8ba252a58ba35ee443244e14fb6d66d
=======
   "execution_count": 20,
>>>>>>> parent of 5128b5f (compl;ite anno BalllerTV)
   "metadata": {},
   "outputs": [
    {
     "name": "stdout",
     "output_type": "stream",
     "text": [
      "Номер на футболке: 77\n"
     ]
    }
   ],
   "source": [
    "url = \"crops\\\\77\\\\3839example.jpg\"\n",
    "image = Image.open(url).convert(\"RGB\")\n",
    "\n",
    "pixel_values = processor(image, return_tensors=\"pt\").pixel_values\n",
    "generated_ids = model.generate(pixel_values.cuda())\n",
    "\n",
    "\n",
    "generated_text = processor.batch_decode(generated_ids, skip_special_tokens=True)[0]\n",
    "print(f'Номер на футболке: {generated_text}')"
   ]
  },
  {
   "cell_type": "code",
   "execution_count": null,
   "metadata": {},
   "outputs": [],
   "source": []
  }
 ],
 "metadata": {
  "kernelspec": {
   "display_name": "workenv",
   "language": "python",
   "name": "python3"
  },
  "language_info": {
   "codemirror_mode": {
    "name": "ipython",
    "version": 3
   },
   "file_extension": ".py",
   "mimetype": "text/x-python",
   "name": "python",
   "nbconvert_exporter": "python",
   "pygments_lexer": "ipython3",
   "version": "3.9.12"
  },
  "orig_nbformat": 4,
  "vscode": {
   "interpreter": {
    "hash": "dd7ce5ea1f167f6e2c49b5b6f21b70d6e0deeed3d013e0c08f1a51e941577a63"
   }
  }
 },
 "nbformat": 4,
 "nbformat_minor": 2
}
