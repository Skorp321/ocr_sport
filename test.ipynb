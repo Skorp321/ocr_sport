{
 "cells": [
  {
   "cell_type": "code",
   "execution_count": 71,
   "metadata": {},
   "outputs": [],
   "source": [
    "import xml.etree.ElementTree as ET\n",
    "from PIL import Image\n",
    "import os\n",
    "import pandas as pd\n",
    "import numpy as np\n",
    "import json\n",
    "import cv2\n",
    "import matplotlib.pyplot as plt\n",
    "from tqdm import tqdm\n",
    "from torch.utils.data import random_split, DataLoader, Dataset\n",
    "\n",
    "import torch\n",
    "from torchvision import datasets, transforms"
   ]
  },
  {
   "cell_type": "code",
   "execution_count": null,
   "metadata": {},
   "outputs": [],
   "source": [
    "%pip install -q transformers"
   ]
  },
  {
   "attachments": {},
   "cell_type": "markdown",
   "metadata": {},
   "source": [
    "Найдем все папки в которых лежит вайл с аннотацией"
   ]
  },
  {
   "cell_type": "code",
   "execution_count": 72,
   "metadata": {},
   "outputs": [],
   "source": [
    "\n",
    "crop_path = \"C:\\\\Users\\\\Mytre\\\\OneDrive\\\\Документы\\\\Data\\\\Work\\\\crops\"\n",
    "absolute_path = \"C:\\\\Users\\\\Mytre\\\\OneDrive\\\\Документы\\\\Data\\\\Work\\\\data\\\\BallerTV\"\n",
    "\n",
    "if not os.path.exists(crop_path):\n",
    "    os.makedirs(crop_path)\n",
    "\n",
    "file_name = 'annotations.xml'\n",
    "\n",
    "anno_pathses = []\n",
    "# пройдемся рекурсивно по всем папкам, начиная с absolute_path\n",
    "for root, dirs, files in os.walk(absolute_path):    \n",
    "    # проверяем, есть ли заданный файл в списке файлов текущей папки\n",
    "    if file_name in files:\n",
    "        # если есть, то добавляем путь в список\n",
    "        anno_pathses.append(os.path.join(root, file_name))      \n",
    "     "
   ]
  },
  {
   "cell_type": "code",
   "execution_count": 74,
   "metadata": {},
   "outputs": [
    {
     "name": "stderr",
     "output_type": "stream",
     "text": [
      "100%|██████████| 105/105 [19:21<00:00, 11.07s/it]\n"
     ]
    },
    {
     "data": {
      "text/html": [
       "<div>\n",
       "<style scoped>\n",
       "    .dataframe tbody tr th:only-of-type {\n",
       "        vertical-align: middle;\n",
       "    }\n",
       "\n",
       "    .dataframe tbody tr th {\n",
       "        vertical-align: top;\n",
       "    }\n",
       "\n",
       "    .dataframe thead th {\n",
       "        text-align: right;\n",
       "    }\n",
       "</style>\n",
       "<table border=\"1\" class=\"dataframe\">\n",
       "  <thead>\n",
       "    <tr style=\"text-align: right;\">\n",
       "      <th></th>\n",
       "      <th>file_name</th>\n",
       "      <th>text</th>\n",
       "    </tr>\n",
       "  </thead>\n",
       "  <tbody>\n",
       "    <tr>\n",
       "      <th>0</th>\n",
       "      <td>C:\\Users\\Mytre\\OneDrive\\Документы\\Data\\Work\\cr...</td>\n",
       "      <td>1</td>\n",
       "    </tr>\n",
       "    <tr>\n",
       "      <th>1</th>\n",
       "      <td>C:\\Users\\Mytre\\OneDrive\\Документы\\Data\\Work\\cr...</td>\n",
       "      <td>8</td>\n",
       "    </tr>\n",
       "    <tr>\n",
       "      <th>2</th>\n",
       "      <td>C:\\Users\\Mytre\\OneDrive\\Документы\\Data\\Work\\cr...</td>\n",
       "      <td>11</td>\n",
       "    </tr>\n",
       "    <tr>\n",
       "      <th>3</th>\n",
       "      <td>C:\\Users\\Mytre\\OneDrive\\Документы\\Data\\Work\\cr...</td>\n",
       "      <td>3</td>\n",
       "    </tr>\n",
       "    <tr>\n",
       "      <th>4</th>\n",
       "      <td>C:\\Users\\Mytre\\OneDrive\\Документы\\Data\\Work\\cr...</td>\n",
       "      <td>3</td>\n",
       "    </tr>\n",
       "  </tbody>\n",
       "</table>\n",
       "</div>"
      ],
      "text/plain": [
       "                                           file_name  text\n",
       "0  C:\\Users\\Mytre\\OneDrive\\Документы\\Data\\Work\\cr...     1\n",
       "1  C:\\Users\\Mytre\\OneDrive\\Документы\\Data\\Work\\cr...     8\n",
       "2  C:\\Users\\Mytre\\OneDrive\\Документы\\Data\\Work\\cr...    11\n",
       "3  C:\\Users\\Mytre\\OneDrive\\Документы\\Data\\Work\\cr...     3\n",
       "4  C:\\Users\\Mytre\\OneDrive\\Документы\\Data\\Work\\cr...     3"
      ]
     },
     "execution_count": 74,
     "metadata": {},
     "output_type": "execute_result"
    }
   ],
   "source": [
    "nums = []\n",
    "num = 0\n",
    "folder_pathes = []\n",
    "pathes_list = []\n",
    "annos_list = []\n",
    "anno_dict = {'file_name': [], 'text': []}\n",
    "\n",
    "alpha = 0.4\n",
    "\n",
    "for path in tqdm(anno_pathses):\n",
    "\n",
    "    # Загрузим XML файл\n",
    "    tree = ET.parse(path)\n",
    "\n",
    "    # Получим корневой элемент XML файла\n",
    "    root = tree.getroot()\n",
    "\n",
    "    # Проитерируемся по дочерним элементам корня\n",
    "    for image in root.findall('image'):\n",
    "        \n",
    "        image_id = image.get('id')\n",
    "        file_name = image.get('name')\n",
    "        file_name = 'data\\\\' + file_name\n",
    "        '''\n",
    "        path, file = os.path.split(file_name)\n",
    "        path, folder = os.path.split(path)\n",
    "        \n",
    "        #print(folder)        \n",
    "        for dirpath, dirnames, filenames in os.walk(absolute_path):\n",
    "            print(dirnames)\n",
    "            break\n",
    "            if (folder in dirnames) & ('frames' in dirnames):\n",
    "                \n",
    "                folder_path = os.path.join(dirpath, folder)\n",
    "            #print(folder_path)         \n",
    "        '''\n",
    "        # Переберем все baundingbox`s\n",
    "        for box in image.findall('box'):\n",
    "            \n",
    "            image = Image.open(file_name)\n",
    "           \n",
    "            label = box.get('label')\n",
    "\n",
    "            # Проверим является ли метка меткой номера\n",
    "            if label == \"Jersey\":\n",
    "                xtl = int(float(box.get('xtl')))\n",
    "                ytl = int(float(box.get('ytl')))\n",
    "                xbr = int(float(box.get('xbr')))\n",
    "                ybr = int(float(box.get('ybr')))\n",
    "                number = box.find('attribute[@name=\"number\"]').text\n",
    "\n",
    "                x_dif = np.abs(xtl - xbr)\n",
    "                y_dif = np.abs(ytl - ybr)\n",
    "\n",
    "                xtl = xtl - alpha * (x_dif / 2)\n",
    "                xbr = xbr + alpha * (x_dif / 2)\n",
    "                ytl = ytl - alpha * (y_dif / 2)\n",
    "                ybr = ybr + alpha * (y_dif / 2)\n",
    "\n",
    "                # Сделаем кроп номера на футболке\n",
    "                croppped_image = image.crop((xtl, ytl, xbr, ybr))\n",
    "                full_path = crop_path + '\\\\' + str(number)\n",
    "                num += 1\n",
    "\n",
    "                if not os.path.exists(full_path):\n",
    "                    os.makedirs(full_path)    \n",
    "                    #print(f'Папка {number} создана')  \n",
    "                                  \n",
    "                res_path = full_path +'\\\\' + str(num) + 'example.jpg'\n",
    "\n",
    "                annos_list.append(int(number))\n",
    "                pathes_list.append(res_path )\n",
    "                anno_dict['text'] = annos_list\n",
    "                anno_dict['file_name'] = pathes_list\n",
    "                \n",
    "                croppped_image.save(res_path)\n",
    "\n",
    "                df = pd.DataFrame(anno_dict, index=None)\n",
    "                df.to_csv(\"anno.csv\")\n",
    "df.head()\n"
   ]
  },
  {
   "cell_type": "code",
   "execution_count": null,
   "metadata": {},
   "outputs": [],
   "source": [
    "df = pd.read_csv('anno.csv')\n",
    "df.head()"
   ]
  },
  {
   "cell_type": "code",
   "execution_count": 75,
   "metadata": {},
   "outputs": [],
   "source": [
    "from sklearn.model_selection import train_test_split\n",
    "\n",
    "train_df, test_df = train_test_split(df, test_size=0.2)\n",
    "# we reset the indices to start from zero\n",
    "train_df.reset_index(drop=True, inplace=True)\n",
    "test_df.reset_index(drop=True, inplace=True)"
   ]
  },
  {
   "cell_type": "code",
   "execution_count": 76,
   "metadata": {},
   "outputs": [],
   "source": [
    "class IAMDataset(Dataset):\n",
    "    def __init__(self, root_dir, df, processor, max_target_length=128):\n",
    "        self.root_dir = root_dir\n",
    "        self.df = df\n",
    "        self.processor = processor\n",
    "        self.max_target_length = max_target_length\n",
    "\n",
    "    def __len__(self):\n",
    "        return len(self.df)\n",
    "\n",
    "    def __getitem__(self, idx):\n",
    "        # get file name + text \n",
    "        file_name = self.df['file_name'][idx]\n",
    "        text = str(self.df['text'][idx])\n",
    "        #print(type(text))\n",
    "        # prepare image (i.e. resize + normalize)\n",
    "        image = Image.open(file_name).convert(\"RGB\")\n",
    "        image = image.resize((64, 64))\n",
    "        pixel_values = self.processor(image, return_tensors=\"pt\").pixel_values\n",
    "        # add labels (input_ids) by encoding the text\n",
    "        labels = self.processor.tokenizer(text, \n",
    "                                          padding=\"max_length\", \n",
    "                                          max_length=self.max_target_length).input_ids\n",
    "        # important: make sure that PAD tokens are ignored by the loss function\n",
    "        labels = [label if label != self.processor.tokenizer.pad_token_id else -100 for label in labels]\n",
    "\n",
    "        encoding = {\"pixel_values\": pixel_values.squeeze(), \"labels\": torch.tensor(labels)}\n",
    "        return encoding"
   ]
  },
  {
   "cell_type": "code",
   "execution_count": 77,
   "metadata": {},
   "outputs": [
    {
     "name": "stderr",
     "output_type": "stream",
     "text": [
      "Could not find image processor class in the image processor config or the model config. Loading based on pattern matching with the model's feature extractor configuration.\n"
     ]
    }
   ],
   "source": [
    "from transformers import TrOCRProcessor\n",
    "\n",
    "processor = TrOCRProcessor.from_pretrained(\"microsoft/trocr-base-handwritten\")\n",
    "train_dataset = IAMDataset(root_dir='C:\\\\Users\\\\Mytre\\\\OneDrive\\\\Документы\\\\Data\\\\Work\\\\',\n",
    "                           df=train_df,\n",
    "                           processor=processor)\n",
    "eval_dataset = IAMDataset(root_dir='C:\\\\Users\\\\Mytre\\\\OneDrive\\\\Документы\\\\Data\\\\Work\\\\',\n",
    "                           df=test_df,\n",
    "                           processor=processor)"
   ]
  },
  {
   "cell_type": "code",
   "execution_count": 78,
   "metadata": {},
   "outputs": [],
   "source": [
    "from transformers import TrOCRProcessor, VisionEncoderDecoderModel\n",
    "import requests\n",
    "\n",
    "#processor = TrOCRProcessor.from_pretrained(\"microsoft/trocr-base-handwritten\")\n",
    "#model = VisionEncoderDecoderModel.from_pretrained(\"microsoft/trocr-base-handwritten\")"
   ]
  },
  {
   "cell_type": "code",
   "execution_count": 79,
   "metadata": {},
   "outputs": [
    {
     "name": "stdout",
     "output_type": "stream",
     "text": [
      "Number of training examples: 21087\n",
      "Number of validation examples: 5272\n"
     ]
    }
   ],
   "source": [
    "print(\"Number of training examples:\", len(train_dataset))\n",
    "print(\"Number of validation examples:\", len(eval_dataset))"
   ]
  },
  {
   "cell_type": "code",
   "execution_count": 80,
   "metadata": {},
   "outputs": [
    {
     "name": "stderr",
     "output_type": "stream",
     "text": [
      "Some weights of VisionEncoderDecoderModel were not initialized from the model checkpoint at microsoft/trocr-base-stage1 and are newly initialized: ['encoder.pooler.dense.weight', 'encoder.pooler.dense.bias']\n",
      "You should probably TRAIN this model on a down-stream task to be able to use it for predictions and inference.\n"
     ]
    }
   ],
   "source": [
    "from transformers import VisionEncoderDecoderModel\n",
    "\n",
    "model = VisionEncoderDecoderModel.from_pretrained(\"microsoft/trocr-base-stage1\")"
   ]
  },
  {
   "attachments": {},
   "cell_type": "markdown",
   "metadata": {},
   "source": [
    "#### В этом блоке мы смотрим в ручном режиме как решает нашу задачу модель из коробки"
   ]
  },
  {
   "cell_type": "code",
   "execution_count": 81,
   "metadata": {},
   "outputs": [
    {
     "name": "stderr",
     "output_type": "stream",
     "text": [
      "c:\\Users\\Mytre\\OneDrive\\Документы\\Data\\Work\\workenv\\lib\\site-packages\\transformers\\generation\\utils.py:1288: UserWarning: Using `max_length`'s default (20) to control the generation length. This behaviour is deprecated and will be removed from the config in v5 of Transformers -- we recommend using `max_new_tokens` to control the maximum length of the generation.\n",
      "  warnings.warn(\n"
     ]
    },
    {
     "name": "stdout",
     "output_type": "stream",
     "text": [
      "Номер на футболке: 35\n"
     ]
    }
   ],
   "source": [
    "url = \"crops\\\\75\\\\3272example.jpg\"\n",
    "image = Image.open(url).convert(\"RGB\")\n",
    "\n",
    "pixel_values = processor(image, return_tensors=\"pt\").pixel_values\n",
    "generated_ids = model.generate(pixel_values)\n",
    "\n",
    "generated_text = processor.batch_decode(generated_ids, skip_special_tokens=True)[0]\n",
    "print(f'Номер на футболке: {generated_text}')"
   ]
  },
  {
   "cell_type": "code",
   "execution_count": 22,
   "metadata": {},
   "outputs": [],
   "source": [
    "transform = transforms.Compose(\n",
    "        [transforms.RandomResizedCrop(224), \n",
    "         transforms.ToTensor()])"
   ]
  },
  {
   "cell_type": "code",
   "execution_count": 82,
   "metadata": {},
   "outputs": [],
   "source": [
    "# set special tokens used for creating the decoder_input_ids from the labels\n",
    "model.config.decoder_start_token_id = processor.tokenizer.cls_token_id\n",
    "model.config.pad_token_id = processor.tokenizer.pad_token_id\n",
    "# make sure vocab size is set correctly\n",
    "model.config.vocab_size = model.config.decoder.vocab_size\n",
    "\n",
    "# set beam search parameters\n",
    "model.config.eos_token_id = processor.tokenizer.sep_token_id\n",
    "model.config.max_length = 4\n",
    "model.config.early_stopping = True\n",
    "model.config.no_repeat_ngram_size = 3\n",
    "model.config.length_penalty = 2.0\n",
    "model.config.num_beams = 10"
   ]
  },
  {
   "cell_type": "code",
   "execution_count": 12,
   "metadata": {},
   "outputs": [],
   "source": [
    "from transformers import Seq2SeqTrainer, Seq2SeqTrainingArguments\n",
    "\n",
    "training_args = Seq2SeqTrainingArguments(\n",
    "    predict_with_generate=True,\n",
    "    num_train_epochs=3,\n",
    "    evaluation_strategy=\"steps\",\n",
    "    per_device_train_batch_size=3,\n",
    "    per_device_eval_batch_size=3,\n",
    "    fp16=True, \n",
    "    output_dir=\"./\",\n",
    "    logging_steps=50,\n",
    "    save_steps=10000,\n",
    "    eval_steps=2000,\n",
    ")"
   ]
  },
  {
   "cell_type": "code",
   "execution_count": 13,
   "metadata": {},
   "outputs": [
    {
     "name": "stderr",
     "output_type": "stream",
     "text": [
      "C:\\Users\\Mytre\\AppData\\Local\\Temp\\ipykernel_23040\\152175726.py:3: FutureWarning: load_metric is deprecated and will be removed in the next major version of datasets. Use 'evaluate.load' instead, from the new library 🤗 Evaluate: https://huggingface.co/docs/evaluate\n",
      "  cer_metric = load_metric(\"cer\")\n"
     ]
    }
   ],
   "source": [
    "from datasets import load_metric\n",
    "\n",
    "cer_metric = load_metric(\"cer\")"
   ]
  },
  {
   "cell_type": "code",
   "execution_count": 14,
   "metadata": {},
   "outputs": [],
   "source": [
    "def compute_metrics(pred):\n",
    "    labels_ids = pred.label_ids\n",
    "    pred_ids = pred.predictions\n",
    "\n",
    "    pred_str = processor.batch_decode(pred_ids, skip_special_tokens=True)\n",
    "    labels_ids[labels_ids == -100] = processor.tokenizer.pad_token_id\n",
    "    label_str = processor.batch_decode(labels_ids, skip_special_tokens=True)\n",
    "\n",
    "    cer = cer_metric.compute(predictions=pred_str, references=label_str)\n",
    "\n",
    "    return {\"cer\": cer}"
   ]
  },
  {
   "cell_type": "code",
   "execution_count": 15,
   "metadata": {},
   "outputs": [],
   "source": [
    "from transformers import AdamW\n",
    "\n",
    "optimizer = AdamW(model.parameters(), lr=0.001, weight_decay=0.01, no_deprecation_warning=True)\n"
   ]
  },
  {
   "cell_type": "code",
   "execution_count": 16,
   "metadata": {},
   "outputs": [
    {
     "name": "stderr",
     "output_type": "stream",
     "text": [
      "c:\\Users\\Mytre\\OneDrive\\Документы\\Data\\Work\\workenv\\lib\\site-packages\\transformers\\models\\trocr\\processing_trocr.py:134: FutureWarning: `feature_extractor` is deprecated and will be removed in v5. Use `image_processor` instead.\n",
      "  warnings.warn(\n",
      "c:\\Users\\Mytre\\OneDrive\\Документы\\Data\\Work\\workenv\\lib\\site-packages\\transformers\\optimization.py:346: FutureWarning: This implementation of AdamW is deprecated and will be removed in a future version. Use the PyTorch implementation torch.optim.AdamW instead, or set `no_deprecation_warning=True` to disable this warning\n",
      "  warnings.warn(\n"
     ]
    },
    {
     "data": {
      "application/vnd.jupyter.widget-view+json": {
       "model_id": "6d89d69f07034bc1b55c9d8b66a9b535",
       "version_major": 2,
       "version_minor": 0
      },
      "text/plain": [
       "  0%|          | 0/12270 [00:00<?, ?it/s]"
      ]
     },
     "metadata": {},
     "output_type": "display_data"
    },
    {
     "name": "stdout",
     "output_type": "stream",
     "text": [
      "{'loss': 2.8385, 'learning_rate': 4.9808475957620214e-05, 'epoch': 0.04}\n",
      "{'loss': 1.894, 'learning_rate': 4.960472697636512e-05, 'epoch': 0.08}\n",
      "{'loss': 1.8158, 'learning_rate': 4.940097799511003e-05, 'epoch': 0.12}\n",
      "{'loss': 1.6874, 'learning_rate': 4.9197229013854935e-05, 'epoch': 0.16}\n"
     ]
    },
    {
     "name": "stderr",
     "output_type": "stream",
     "text": [
      "c:\\Users\\Mytre\\OneDrive\\Документы\\Data\\Work\\workenv\\lib\\site-packages\\transformers\\generation\\utils.py:1201: UserWarning: You have modified the pretrained model configuration to control generation. This is a deprecated strategy to control generation and will be removed soon, in a future version. Please use a generation configuration file (see https://huggingface.co/docs/transformers/main_classes/text_generation)\n",
      "  warnings.warn(\n"
     ]
    },
    {
     "data": {
      "application/vnd.jupyter.widget-view+json": {
       "model_id": "69b8d320e628486e88460b1d3142fb85",
       "version_major": 2,
       "version_minor": 0
      },
      "text/plain": [
       "  0%|          | 0/307 [00:00<?, ?it/s]"
      ]
     },
     "metadata": {},
     "output_type": "display_data"
    },
    {
     "name": "stdout",
     "output_type": "stream",
     "text": [
      "{'eval_loss': 1.7167457342147827, 'eval_cer': 0.7951114306254493, 'eval_runtime': 177.8169, 'eval_samples_per_second': 5.174, 'eval_steps_per_second': 1.726, 'epoch': 0.16}\n",
      "{'loss': 1.7704, 'learning_rate': 4.8993480032599835e-05, 'epoch': 0.2}\n",
      "{'loss': 1.7286, 'learning_rate': 4.878973105134474e-05, 'epoch': 0.24}\n",
      "{'loss': 1.7579, 'learning_rate': 4.8585982070089655e-05, 'epoch': 0.29}\n",
      "{'loss': 1.7098, 'learning_rate': 4.8382233088834555e-05, 'epoch': 0.33}\n"
     ]
    },
    {
     "data": {
      "application/vnd.jupyter.widget-view+json": {
       "model_id": "f1156635122840c6a5913edb64b2a9f8",
       "version_major": 2,
       "version_minor": 0
      },
      "text/plain": [
       "  0%|          | 0/307 [00:00<?, ?it/s]"
      ]
     },
     "metadata": {},
     "output_type": "display_data"
    },
    {
     "name": "stdout",
     "output_type": "stream",
     "text": [
      "{'eval_loss': 1.6935182809829712, 'eval_cer': 0.9396117900790798, 'eval_runtime': 176.5006, 'eval_samples_per_second': 5.212, 'eval_steps_per_second': 1.739, 'epoch': 0.33}\n",
      "{'loss': 1.7543, 'learning_rate': 4.817848410757946e-05, 'epoch': 0.37}\n",
      "{'loss': 1.6751, 'learning_rate': 4.797473512632437e-05, 'epoch': 0.41}\n",
      "{'loss': 1.7722, 'learning_rate': 4.777098614506928e-05, 'epoch': 0.45}\n",
      "{'loss': 1.7455, 'learning_rate': 4.756723716381418e-05, 'epoch': 0.49}\n"
     ]
    },
    {
     "data": {
      "application/vnd.jupyter.widget-view+json": {
       "model_id": "c2d91a3bd42440cb8f3ba52aa423ef98",
       "version_major": 2,
       "version_minor": 0
      },
      "text/plain": [
       "  0%|          | 0/307 [00:00<?, ?it/s]"
      ]
     },
     "metadata": {},
     "output_type": "display_data"
    },
    {
     "name": "stdout",
     "output_type": "stream",
     "text": [
      "{'eval_loss': 1.6119269132614136, 'eval_cer': 0.899352983465133, 'eval_runtime': 176.9877, 'eval_samples_per_second': 5.198, 'eval_steps_per_second': 1.735, 'epoch': 0.49}\n",
      "{'loss': 1.683, 'learning_rate': 4.736348818255909e-05, 'epoch': 0.53}\n",
      "{'loss': 1.6762, 'learning_rate': 4.7159739201303995e-05, 'epoch': 0.57}\n",
      "{'loss': 1.7059, 'learning_rate': 4.69559902200489e-05, 'epoch': 0.61}\n",
      "{'loss': 1.6615, 'learning_rate': 4.675224123879381e-05, 'epoch': 0.65}\n"
     ]
    },
    {
     "data": {
      "application/vnd.jupyter.widget-view+json": {
       "model_id": "6e4b0e09dddf4dc587ac562365c6d4e3",
       "version_major": 2,
       "version_minor": 0
      },
      "text/plain": [
       "  0%|          | 0/307 [00:00<?, ?it/s]"
      ]
     },
     "metadata": {},
     "output_type": "display_data"
    },
    {
     "name": "stdout",
     "output_type": "stream",
     "text": [
      "{'eval_loss': 1.6388376951217651, 'eval_cer': 0.9094176851186196, 'eval_runtime': 177.3554, 'eval_samples_per_second': 5.187, 'eval_steps_per_second': 1.731, 'epoch': 0.65}\n",
      "{'loss': 1.6585, 'learning_rate': 4.6548492257538716e-05, 'epoch': 0.69}\n",
      "{'loss': 1.6498, 'learning_rate': 4.634474327628362e-05, 'epoch': 0.73}\n",
      "{'loss': 1.6524, 'learning_rate': 4.614099429502853e-05, 'epoch': 0.77}\n",
      "{'loss': 1.6808, 'learning_rate': 4.5937245313773436e-05, 'epoch': 0.81}\n"
     ]
    },
    {
     "data": {
      "application/vnd.jupyter.widget-view+json": {
       "model_id": "2342176478e94df5958bb182f9207c7f",
       "version_major": 2,
       "version_minor": 0
      },
      "text/plain": [
       "  0%|          | 0/307 [00:00<?, ?it/s]"
      ]
     },
     "metadata": {},
     "output_type": "display_data"
    },
    {
     "name": "stdout",
     "output_type": "stream",
     "text": [
      "{'eval_loss': 1.637856364250183, 'eval_cer': 0.7951114306254493, 'eval_runtime': 178.0813, 'eval_samples_per_second': 5.166, 'eval_steps_per_second': 1.724, 'epoch': 0.81}\n",
      "{'loss': 1.7074, 'learning_rate': 4.5733496332518336e-05, 'epoch': 0.86}\n",
      "{'loss': 1.7184, 'learning_rate': 4.552974735126325e-05, 'epoch': 0.9}\n",
      "{'loss': 1.6675, 'learning_rate': 4.5325998370008156e-05, 'epoch': 0.94}\n",
      "{'loss': 1.6515, 'learning_rate': 4.5122249388753056e-05, 'epoch': 0.98}\n"
     ]
    },
    {
     "data": {
      "application/vnd.jupyter.widget-view+json": {
       "model_id": "9866b7d120444e01bb55e40b73ce9fdd",
       "version_major": 2,
       "version_minor": 0
      },
      "text/plain": [
       "  0%|          | 0/307 [00:00<?, ?it/s]"
      ]
     },
     "metadata": {},
     "output_type": "display_data"
    },
    {
     "name": "stdout",
     "output_type": "stream",
     "text": [
      "{'eval_loss': 1.6495131254196167, 'eval_cer': 0.8087706685837527, 'eval_runtime': 177.6788, 'eval_samples_per_second': 5.178, 'eval_steps_per_second': 1.728, 'epoch': 0.98}\n",
      "{'loss': 1.6129, 'learning_rate': 4.491850040749796e-05, 'epoch': 1.02}\n",
      "{'loss': 1.5981, 'learning_rate': 4.4714751426242876e-05, 'epoch': 1.06}\n",
      "{'loss': 1.6384, 'learning_rate': 4.4511002444987776e-05, 'epoch': 1.1}\n",
      "{'loss': 1.6165, 'learning_rate': 4.430725346373268e-05, 'epoch': 1.14}\n"
     ]
    },
    {
     "data": {
      "application/vnd.jupyter.widget-view+json": {
       "model_id": "0390d301d54b41d0b9d447a1954b0c0c",
       "version_major": 2,
       "version_minor": 0
      },
      "text/plain": [
       "  0%|          | 0/307 [00:00<?, ?it/s]"
      ]
     },
     "metadata": {},
     "output_type": "display_data"
    },
    {
     "name": "stdout",
     "output_type": "stream",
     "text": [
      "{'eval_loss': 1.669013500213623, 'eval_cer': 0.9094176851186196, 'eval_runtime': 178.3804, 'eval_samples_per_second': 5.158, 'eval_steps_per_second': 1.721, 'epoch': 1.14}\n",
      "{'loss': 1.6177, 'learning_rate': 4.410350448247759e-05, 'epoch': 1.18}\n",
      "{'loss': 1.5666, 'learning_rate': 4.3899755501222497e-05, 'epoch': 1.22}\n",
      "{'loss': 1.6082, 'learning_rate': 4.36960065199674e-05, 'epoch': 1.26}\n",
      "{'loss': 1.5495, 'learning_rate': 4.349225753871231e-05, 'epoch': 1.3}\n"
     ]
    },
    {
     "data": {
      "application/vnd.jupyter.widget-view+json": {
       "model_id": "e163fcd008634426a17d855d634bb191",
       "version_major": 2,
       "version_minor": 0
      },
      "text/plain": [
       "  0%|          | 0/307 [00:00<?, ?it/s]"
      ]
     },
     "metadata": {},
     "output_type": "display_data"
    },
    {
     "name": "stdout",
     "output_type": "stream",
     "text": [
      "{'eval_loss': 1.6121107339859009, 'eval_cer': 0.9022286125089863, 'eval_runtime': 176.2021, 'eval_samples_per_second': 5.221, 'eval_steps_per_second': 1.742, 'epoch': 1.3}\n",
      "{'loss': 1.5175, 'learning_rate': 4.328850855745722e-05, 'epoch': 1.34}\n",
      "{'loss': 1.5444, 'learning_rate': 4.3084759576202124e-05, 'epoch': 1.39}\n",
      "{'loss': 1.4941, 'learning_rate': 4.288101059494703e-05, 'epoch': 1.43}\n",
      "{'loss': 1.5352, 'learning_rate': 4.267726161369193e-05, 'epoch': 1.47}\n"
     ]
    },
    {
     "data": {
      "application/vnd.jupyter.widget-view+json": {
       "model_id": "7122679c8fe94ad2aa9e0fc745f3f239",
       "version_major": 2,
       "version_minor": 0
      },
      "text/plain": [
       "  0%|          | 0/307 [00:00<?, ?it/s]"
      ]
     },
     "metadata": {},
     "output_type": "display_data"
    },
    {
     "name": "stdout",
     "output_type": "stream",
     "text": [
      "{'eval_loss': 1.549712061882019, 'eval_cer': 0.8267433501078361, 'eval_runtime': 176.5988, 'eval_samples_per_second': 5.21, 'eval_steps_per_second': 1.738, 'epoch': 1.47}\n",
      "{'loss': 1.4608, 'learning_rate': 4.2473512632436844e-05, 'epoch': 1.51}\n",
      "{'loss': 1.3612, 'learning_rate': 4.226976365118175e-05, 'epoch': 1.55}\n",
      "{'loss': 1.337, 'learning_rate': 4.206601466992665e-05, 'epoch': 1.59}\n",
      "{'loss': 1.4986, 'learning_rate': 4.186226568867156e-05, 'epoch': 1.63}\n"
     ]
    },
    {
     "data": {
      "application/vnd.jupyter.widget-view+json": {
       "model_id": "6a2df0db5fdc4466b48e1c79db333ea4",
       "version_major": 2,
       "version_minor": 0
      },
      "text/plain": [
       "  0%|          | 0/307 [00:00<?, ?it/s]"
      ]
     },
     "metadata": {},
     "output_type": "display_data"
    },
    {
     "name": "stdout",
     "output_type": "stream",
     "text": [
      "{'eval_loss': 1.606401801109314, 'eval_cer': 0.8296189791516895, 'eval_runtime': 176.4779, 'eval_samples_per_second': 5.213, 'eval_steps_per_second': 1.74, 'epoch': 1.63}\n",
      "{'loss': 1.3507, 'learning_rate': 4.1658516707416464e-05, 'epoch': 1.67}\n",
      "{'loss': 1.3847, 'learning_rate': 4.145476772616137e-05, 'epoch': 1.71}\n",
      "{'loss': 1.3064, 'learning_rate': 4.125101874490628e-05, 'epoch': 1.75}\n",
      "{'loss': 1.3526, 'learning_rate': 4.1047269763651184e-05, 'epoch': 1.79}\n"
     ]
    },
    {
     "data": {
      "application/vnd.jupyter.widget-view+json": {
       "model_id": "895f279941b946d2bed950e950bc7a8b",
       "version_major": 2,
       "version_minor": 0
      },
      "text/plain": [
       "  0%|          | 0/307 [00:00<?, ?it/s]"
      ]
     },
     "metadata": {},
     "output_type": "display_data"
    },
    {
     "name": "stdout",
     "output_type": "stream",
     "text": [
      "{'eval_loss': 1.763048529624939, 'eval_cer': 0.7634795111430626, 'eval_runtime': 176.6285, 'eval_samples_per_second': 5.209, 'eval_steps_per_second': 1.738, 'epoch': 1.79}\n",
      "{'loss': 1.2001, 'learning_rate': 4.084352078239609e-05, 'epoch': 1.83}\n",
      "{'loss': 1.3057, 'learning_rate': 4.0639771801141e-05, 'epoch': 1.87}\n",
      "{'loss': 1.1851, 'learning_rate': 4.0436022819885904e-05, 'epoch': 1.92}\n",
      "{'loss': 1.2475, 'learning_rate': 4.0232273838630804e-05, 'epoch': 1.96}\n"
     ]
    },
    {
     "data": {
      "application/vnd.jupyter.widget-view+json": {
       "model_id": "7a1f617ca59a485ebed933c464a727d9",
       "version_major": 2,
       "version_minor": 0
      },
      "text/plain": [
       "  0%|          | 0/307 [00:00<?, ?it/s]"
      ]
     },
     "metadata": {},
     "output_type": "display_data"
    },
    {
     "name": "stdout",
     "output_type": "stream",
     "text": [
      "{'eval_loss': 2.154808282852173, 'eval_cer': 0.8648454349388929, 'eval_runtime': 175.9708, 'eval_samples_per_second': 5.228, 'eval_steps_per_second': 1.745, 'epoch': 1.96}\n",
      "{'loss': 1.2178, 'learning_rate': 4.002852485737572e-05, 'epoch': 2.0}\n",
      "{'loss': 1.2796, 'learning_rate': 3.982885085574572e-05, 'epoch': 2.04}\n",
      "{'loss': 1.0998, 'learning_rate': 3.962510187449063e-05, 'epoch': 2.08}\n",
      "{'loss': 1.2493, 'learning_rate': 3.9421352893235535e-05, 'epoch': 2.12}\n"
     ]
    },
    {
     "data": {
      "application/vnd.jupyter.widget-view+json": {
       "model_id": "2c5287d88390458fb7a055518d621446",
       "version_major": 2,
       "version_minor": 0
      },
      "text/plain": [
       "  0%|          | 0/307 [00:00<?, ?it/s]"
      ]
     },
     "metadata": {},
     "output_type": "display_data"
    },
    {
     "name": "stdout",
     "output_type": "stream",
     "text": [
      "{'eval_loss': 2.0266005992889404, 'eval_cer': 0.7872034507548527, 'eval_runtime': 176.4744, 'eval_samples_per_second': 5.213, 'eval_steps_per_second': 1.74, 'epoch': 2.12}\n",
      "{'loss': 1.1596, 'learning_rate': 3.921760391198044e-05, 'epoch': 2.16}\n",
      "{'loss': 1.1212, 'learning_rate': 3.901385493072535e-05, 'epoch': 2.2}\n",
      "{'loss': 1.043, 'learning_rate': 3.8810105949470256e-05, 'epoch': 2.24}\n",
      "{'loss': 1.1395, 'learning_rate': 3.860635696821516e-05, 'epoch': 2.28}\n"
     ]
    },
    {
     "data": {
      "application/vnd.jupyter.widget-view+json": {
       "model_id": "519410e42ae2432f802005af14f384ab",
       "version_major": 2,
       "version_minor": 0
      },
      "text/plain": [
       "  0%|          | 0/307 [00:00<?, ?it/s]"
      ]
     },
     "metadata": {},
     "output_type": "display_data"
    },
    {
     "name": "stdout",
     "output_type": "stream",
     "text": [
      "{'eval_loss': 2.3076560497283936, 'eval_cer': 0.7081236520488857, 'eval_runtime': 176.5508, 'eval_samples_per_second': 5.211, 'eval_steps_per_second': 1.739, 'epoch': 2.28}\n",
      "{'loss': 1.0294, 'learning_rate': 3.840260798696006e-05, 'epoch': 2.32}\n",
      "{'loss': 1.0967, 'learning_rate': 3.8198859005704976e-05, 'epoch': 2.36}\n",
      "{'loss': 1.1754, 'learning_rate': 3.799511002444988e-05, 'epoch': 2.4}\n",
      "{'loss': 1.0244, 'learning_rate': 3.779136104319478e-05, 'epoch': 2.44}\n"
     ]
    },
    {
     "data": {
      "application/vnd.jupyter.widget-view+json": {
       "model_id": "1f54320a27c74bfa9d358537f9bf6b5d",
       "version_major": 2,
       "version_minor": 0
      },
      "text/plain": [
       "  0%|          | 0/307 [00:00<?, ?it/s]"
      ]
     },
     "metadata": {},
     "output_type": "display_data"
    },
    {
     "name": "stdout",
     "output_type": "stream",
     "text": [
      "{'eval_loss': 2.517728328704834, 'eval_cer': 0.6347951114306255, 'eval_runtime': 176.341, 'eval_samples_per_second': 5.217, 'eval_steps_per_second': 1.741, 'epoch': 2.44}\n",
      "{'loss': 1.0319, 'learning_rate': 3.758761206193969e-05, 'epoch': 2.49}\n",
      "{'loss': 1.0662, 'learning_rate': 3.73838630806846e-05, 'epoch': 2.53}\n",
      "{'loss': 0.9678, 'learning_rate': 3.71801140994295e-05, 'epoch': 2.57}\n",
      "{'loss': 1.0898, 'learning_rate': 3.697636511817441e-05, 'epoch': 2.61}\n"
     ]
    },
    {
     "data": {
      "application/vnd.jupyter.widget-view+json": {
       "model_id": "3107eef357394942a138c1867d201b6b",
       "version_major": 2,
       "version_minor": 0
      },
      "text/plain": [
       "  0%|          | 0/307 [00:00<?, ?it/s]"
      ]
     },
     "metadata": {},
     "output_type": "display_data"
    },
    {
     "name": "stdout",
     "output_type": "stream",
     "text": [
      "{'eval_loss': 2.925567150115967, 'eval_cer': 0.6427030913012222, 'eval_runtime': 176.2901, 'eval_samples_per_second': 5.219, 'eval_steps_per_second': 1.741, 'epoch': 2.61}\n",
      "{'loss': 0.9529, 'learning_rate': 3.6772616136919316e-05, 'epoch': 2.65}\n",
      "{'loss': 1.0099, 'learning_rate': 3.656886715566422e-05, 'epoch': 2.69}\n",
      "{'loss': 0.962, 'learning_rate': 3.636511817440913e-05, 'epoch': 2.73}\n",
      "{'loss': 0.8694, 'learning_rate': 3.616136919315404e-05, 'epoch': 2.77}\n"
     ]
    },
    {
     "data": {
      "application/vnd.jupyter.widget-view+json": {
       "model_id": "2fc08a88bde1440886303e4934d0e06b",
       "version_major": 2,
       "version_minor": 0
      },
      "text/plain": [
       "  0%|          | 0/307 [00:00<?, ?it/s]"
      ]
     },
     "metadata": {},
     "output_type": "display_data"
    },
    {
     "name": "stdout",
     "output_type": "stream",
     "text": [
      "{'eval_loss': 2.4700937271118164, 'eval_cer': 0.6283249460819554, 'eval_runtime': 177.0, 'eval_samples_per_second': 5.198, 'eval_steps_per_second': 1.734, 'epoch': 2.77}\n",
      "{'loss': 0.9924, 'learning_rate': 3.595762021189894e-05, 'epoch': 2.81}\n",
      "{'loss': 0.8428, 'learning_rate': 3.575387123064385e-05, 'epoch': 2.85}\n",
      "{'loss': 0.9037, 'learning_rate': 3.555012224938876e-05, 'epoch': 2.89}\n",
      "{'loss': 0.8036, 'learning_rate': 3.534637326813366e-05, 'epoch': 2.93}\n"
     ]
    },
    {
     "data": {
      "application/vnd.jupyter.widget-view+json": {
       "model_id": "194e497f5d6f49138920c0284d37d2ba",
       "version_major": 2,
       "version_minor": 0
      },
      "text/plain": [
       "  0%|          | 0/307 [00:00<?, ?it/s]"
      ]
     },
     "metadata": {},
     "output_type": "display_data"
    },
    {
     "name": "stdout",
     "output_type": "stream",
     "text": [
      "{'eval_loss': 2.5839333534240723, 'eval_cer': 0.6405463695183321, 'eval_runtime': 177.0855, 'eval_samples_per_second': 5.195, 'eval_steps_per_second': 1.734, 'epoch': 2.93}\n",
      "{'loss': 0.8516, 'learning_rate': 3.514262428687857e-05, 'epoch': 2.97}\n",
      "{'loss': 0.8953, 'learning_rate': 3.493887530562348e-05, 'epoch': 3.02}\n",
      "{'loss': 0.8232, 'learning_rate': 3.473920130399348e-05, 'epoch': 3.06}\n",
      "{'loss': 0.808, 'learning_rate': 3.453545232273839e-05, 'epoch': 3.1}\n"
     ]
    },
    {
     "data": {
      "application/vnd.jupyter.widget-view+json": {
       "model_id": "cea4f374dc394d3487bfd7caeb28f8c2",
       "version_major": 2,
       "version_minor": 0
      },
      "text/plain": [
       "  0%|          | 0/307 [00:00<?, ?it/s]"
      ]
     },
     "metadata": {},
     "output_type": "display_data"
    },
    {
     "name": "stdout",
     "output_type": "stream",
     "text": [
      "{'eval_loss': 2.804905414581299, 'eval_cer': 0.5693745506829619, 'eval_runtime': 176.3421, 'eval_samples_per_second': 5.217, 'eval_steps_per_second': 1.741, 'epoch': 3.1}\n",
      "{'loss': 0.8556, 'learning_rate': 3.4331703341483295e-05, 'epoch': 3.14}\n",
      "{'loss': 0.7005, 'learning_rate': 3.41279543602282e-05, 'epoch': 3.18}\n",
      "{'loss': 0.839, 'learning_rate': 3.392420537897311e-05, 'epoch': 3.22}\n",
      "{'loss': 0.8453, 'learning_rate': 3.3720456397718015e-05, 'epoch': 3.26}\n"
     ]
    },
    {
     "data": {
      "application/vnd.jupyter.widget-view+json": {
       "model_id": "5ad2639187d3443087c7dde33863627e",
       "version_major": 2,
       "version_minor": 0
      },
      "text/plain": [
       "  0%|          | 0/307 [00:00<?, ?it/s]"
      ]
     },
     "metadata": {},
     "output_type": "display_data"
    },
    {
     "name": "stdout",
     "output_type": "stream",
     "text": [
      "{'eval_loss': 2.7963576316833496, 'eval_cer': 0.5650611071171819, 'eval_runtime': 175.603, 'eval_samples_per_second': 5.239, 'eval_steps_per_second': 1.748, 'epoch': 3.26}\n",
      "{'loss': 0.7421, 'learning_rate': 3.3516707416462915e-05, 'epoch': 3.3}\n",
      "{'loss': 0.9581, 'learning_rate': 3.331295843520783e-05, 'epoch': 3.34}\n",
      "{'loss': 0.8294, 'learning_rate': 3.3109209453952735e-05, 'epoch': 3.38}\n",
      "{'loss': 0.7056, 'learning_rate': 3.2905460472697635e-05, 'epoch': 3.42}\n"
     ]
    },
    {
     "data": {
      "application/vnd.jupyter.widget-view+json": {
       "model_id": "dc82d3f3deb04606a1bb2b6cd1eb72e4",
       "version_major": 2,
       "version_minor": 0
      },
      "text/plain": [
       "  0%|          | 0/307 [00:00<?, ?it/s]"
      ]
     },
     "metadata": {},
     "output_type": "display_data"
    },
    {
     "name": "stdout",
     "output_type": "stream",
     "text": [
      "{'eval_loss': 2.7117176055908203, 'eval_cer': 0.5751258087706685, 'eval_runtime': 176.1252, 'eval_samples_per_second': 5.224, 'eval_steps_per_second': 1.743, 'epoch': 3.42}\n",
      "{'loss': 0.7252, 'learning_rate': 3.270171149144254e-05, 'epoch': 3.46}\n",
      "{'loss': 0.6125, 'learning_rate': 3.249796251018745e-05, 'epoch': 3.5}\n",
      "{'loss': 0.7128, 'learning_rate': 3.2294213528932355e-05, 'epoch': 3.55}\n",
      "{'loss': 0.6644, 'learning_rate': 3.209046454767726e-05, 'epoch': 3.59}\n"
     ]
    },
    {
     "data": {
      "application/vnd.jupyter.widget-view+json": {
       "model_id": "0af31541eb3c4f028acb7caaa4972000",
       "version_major": 2,
       "version_minor": 0
      },
      "text/plain": [
       "  0%|          | 0/307 [00:00<?, ?it/s]"
      ]
     },
     "metadata": {},
     "output_type": "display_data"
    },
    {
     "name": "stdout",
     "output_type": "stream",
     "text": [
      "{'eval_loss': 2.3933451175689697, 'eval_cer': 0.5168943206326384, 'eval_runtime': 175.5798, 'eval_samples_per_second': 5.24, 'eval_steps_per_second': 1.748, 'epoch': 3.59}\n",
      "{'loss': 0.7342, 'learning_rate': 3.188671556642217e-05, 'epoch': 3.63}\n",
      "{'loss': 0.6073, 'learning_rate': 3.1682966585167076e-05, 'epoch': 3.67}\n",
      "{'loss': 0.6599, 'learning_rate': 3.147921760391198e-05, 'epoch': 3.71}\n",
      "{'loss': 0.6491, 'learning_rate': 3.127546862265689e-05, 'epoch': 3.75}\n"
     ]
    },
    {
     "data": {
      "application/vnd.jupyter.widget-view+json": {
       "model_id": "34880482c3324f4284bcca1390424656",
       "version_major": 2,
       "version_minor": 0
      },
      "text/plain": [
       "  0%|          | 0/307 [00:00<?, ?it/s]"
      ]
     },
     "metadata": {},
     "output_type": "display_data"
    },
    {
     "name": "stdout",
     "output_type": "stream",
     "text": [
      "{'eval_loss': 3.172589063644409, 'eval_cer': 0.5017972681524083, 'eval_runtime': 176.7797, 'eval_samples_per_second': 5.204, 'eval_steps_per_second': 1.737, 'epoch': 3.75}\n",
      "{'loss': 0.6641, 'learning_rate': 3.107171964140179e-05, 'epoch': 3.79}\n",
      "{'loss': 0.6908, 'learning_rate': 3.08679706601467e-05, 'epoch': 3.83}\n",
      "{'loss': 0.6159, 'learning_rate': 3.066422167889161e-05, 'epoch': 3.87}\n",
      "{'loss': 0.5791, 'learning_rate': 3.046047269763651e-05, 'epoch': 3.91}\n"
     ]
    },
    {
     "data": {
      "application/vnd.jupyter.widget-view+json": {
       "model_id": "507a26f63ce04d0db1669c4d57573b26",
       "version_major": 2,
       "version_minor": 0
      },
      "text/plain": [
       "  0%|          | 0/307 [00:00<?, ?it/s]"
      ]
     },
     "metadata": {},
     "output_type": "display_data"
    },
    {
     "name": "stdout",
     "output_type": "stream",
     "text": [
      "{'eval_loss': 2.4491443634033203, 'eval_cer': 0.4392523364485981, 'eval_runtime': 177.2628, 'eval_samples_per_second': 5.19, 'eval_steps_per_second': 1.732, 'epoch': 3.91}\n",
      "{'loss': 0.5775, 'learning_rate': 3.025672371638142e-05, 'epoch': 3.95}\n",
      "{'loss': 0.5296, 'learning_rate': 3.0052974735126326e-05, 'epoch': 3.99}\n",
      "{'loss': 0.513, 'learning_rate': 2.984922575387123e-05, 'epoch': 4.03}\n",
      "{'loss': 0.4689, 'learning_rate': 2.9645476772616136e-05, 'epoch': 4.07}\n"
     ]
    },
    {
     "data": {
      "application/vnd.jupyter.widget-view+json": {
       "model_id": "730001e77b784cb9b53e23ff0583ae94",
       "version_major": 2,
       "version_minor": 0
      },
      "text/plain": [
       "  0%|          | 0/307 [00:00<?, ?it/s]"
      ]
     },
     "metadata": {},
     "output_type": "display_data"
    },
    {
     "name": "stdout",
     "output_type": "stream",
     "text": [
      "{'eval_loss': 3.8500559329986572, 'eval_cer': 0.36736161035226456, 'eval_runtime': 176.0038, 'eval_samples_per_second': 5.227, 'eval_steps_per_second': 1.744, 'epoch': 4.07}\n",
      "{'loss': 0.5945, 'learning_rate': 2.9441727791361046e-05, 'epoch': 4.12}\n",
      "{'loss': 0.5515, 'learning_rate': 2.923797881010595e-05, 'epoch': 4.16}\n",
      "{'loss': 0.5397, 'learning_rate': 2.9034229828850856e-05, 'epoch': 4.2}\n",
      "{'loss': 0.491, 'learning_rate': 2.8830480847595763e-05, 'epoch': 4.24}\n"
     ]
    },
    {
     "data": {
      "application/vnd.jupyter.widget-view+json": {
       "model_id": "e9970a938bc54a70b0c5a844a57a9e7c",
       "version_major": 2,
       "version_minor": 0
      },
      "text/plain": [
       "  0%|          | 0/307 [00:00<?, ?it/s]"
      ]
     },
     "metadata": {},
     "output_type": "display_data"
    },
    {
     "name": "stdout",
     "output_type": "stream",
     "text": [
      "{'eval_loss': 2.3963961601257324, 'eval_cer': 0.3501078360891445, 'eval_runtime': 176.1568, 'eval_samples_per_second': 5.223, 'eval_steps_per_second': 1.743, 'epoch': 4.24}\n",
      "{'loss': 0.5309, 'learning_rate': 2.8626731866340667e-05, 'epoch': 4.28}\n",
      "{'loss': 0.5144, 'learning_rate': 2.8422982885085577e-05, 'epoch': 4.32}\n",
      "{'loss': 0.3974, 'learning_rate': 2.8219233903830483e-05, 'epoch': 4.36}\n",
      "{'loss': 0.4247, 'learning_rate': 2.8015484922575387e-05, 'epoch': 4.4}\n"
     ]
    },
    {
     "data": {
      "application/vnd.jupyter.widget-view+json": {
       "model_id": "57b94d6803834bf7ad4c214eb626daad",
       "version_major": 2,
       "version_minor": 0
      },
      "text/plain": [
       "  0%|          | 0/307 [00:00<?, ?it/s]"
      ]
     },
     "metadata": {},
     "output_type": "display_data"
    },
    {
     "name": "stdout",
     "output_type": "stream",
     "text": [
      "{'eval_loss': 3.4456770420074463, 'eval_cer': 0.35082674335010783, 'eval_runtime': 176.2062, 'eval_samples_per_second': 5.221, 'eval_steps_per_second': 1.742, 'epoch': 4.4}\n",
      "{'loss': 0.3264, 'learning_rate': 2.7811735941320294e-05, 'epoch': 4.44}\n",
      "{'loss': 0.5014, 'learning_rate': 2.76079869600652e-05, 'epoch': 4.48}\n",
      "{'loss': 0.4034, 'learning_rate': 2.740423797881011e-05, 'epoch': 4.52}\n",
      "{'loss': 0.4402, 'learning_rate': 2.7200488997555014e-05, 'epoch': 4.56}\n"
     ]
    },
    {
     "data": {
      "application/vnd.jupyter.widget-view+json": {
       "model_id": "b73bbdb6b4e14d4db9ce65b8efcf0d73",
       "version_major": 2,
       "version_minor": 0
      },
      "text/plain": [
       "  0%|          | 0/307 [00:00<?, ?it/s]"
      ]
     },
     "metadata": {},
     "output_type": "display_data"
    },
    {
     "name": "stdout",
     "output_type": "stream",
     "text": [
      "{'eval_loss': 2.9455666542053223, 'eval_cer': 0.3659237958303379, 'eval_runtime': 176.1075, 'eval_samples_per_second': 5.224, 'eval_steps_per_second': 1.743, 'epoch': 4.56}\n",
      "{'loss': 0.5524, 'learning_rate': 2.699674001629992e-05, 'epoch': 4.6}\n",
      "{'loss': 0.4631, 'learning_rate': 2.6792991035044827e-05, 'epoch': 4.65}\n",
      "{'loss': 0.4021, 'learning_rate': 2.658924205378973e-05, 'epoch': 4.69}\n",
      "{'loss': 0.4632, 'learning_rate': 2.638549307253464e-05, 'epoch': 4.73}\n"
     ]
    },
    {
     "data": {
      "application/vnd.jupyter.widget-view+json": {
       "model_id": "aadc8a461c2349aba87c5197d578aefc",
       "version_major": 2,
       "version_minor": 0
      },
      "text/plain": [
       "  0%|          | 0/307 [00:00<?, ?it/s]"
      ]
     },
     "metadata": {},
     "output_type": "display_data"
    },
    {
     "name": "stdout",
     "output_type": "stream",
     "text": [
      "{'eval_loss': 2.96890926361084, 'eval_cer': 0.36304816678648455, 'eval_runtime': 176.2645, 'eval_samples_per_second': 5.219, 'eval_steps_per_second': 1.742, 'epoch': 4.73}\n",
      "{'loss': 0.439, 'learning_rate': 2.6185819070904648e-05, 'epoch': 4.77}\n",
      "{'loss': 0.4205, 'learning_rate': 2.598207008964955e-05, 'epoch': 4.81}\n",
      "{'loss': 0.4861, 'learning_rate': 2.5778321108394458e-05, 'epoch': 4.85}\n",
      "{'loss': 0.4944, 'learning_rate': 2.557457212713937e-05, 'epoch': 4.89}\n"
     ]
    },
    {
     "data": {
      "application/vnd.jupyter.widget-view+json": {
       "model_id": "9de444d35d624745be234e112b7da5cb",
       "version_major": 2,
       "version_minor": 0
      },
      "text/plain": [
       "  0%|          | 0/307 [00:00<?, ?it/s]"
      ]
     },
     "metadata": {},
     "output_type": "display_data"
    },
    {
     "name": "stdout",
     "output_type": "stream",
     "text": [
      "{'eval_loss': 3.2088208198547363, 'eval_cer': 0.308411214953271, 'eval_runtime': 176.8717, 'eval_samples_per_second': 5.202, 'eval_steps_per_second': 1.736, 'epoch': 4.89}\n",
      "{'loss': 0.4331, 'learning_rate': 2.5370823145884272e-05, 'epoch': 4.93}\n",
      "{'loss': 0.3718, 'learning_rate': 2.516707416462918e-05, 'epoch': 4.97}\n",
      "{'loss': 0.4283, 'learning_rate': 2.4963325183374085e-05, 'epoch': 5.01}\n",
      "{'loss': 0.4029, 'learning_rate': 2.475957620211899e-05, 'epoch': 5.05}\n"
     ]
    },
    {
     "data": {
      "application/vnd.jupyter.widget-view+json": {
       "model_id": "8c866a651ce647d8a87bc14adbb3a041",
       "version_major": 2,
       "version_minor": 0
      },
      "text/plain": [
       "  0%|          | 0/307 [00:00<?, ?it/s]"
      ]
     },
     "metadata": {},
     "output_type": "display_data"
    },
    {
     "name": "stdout",
     "output_type": "stream",
     "text": [
      "{'eval_loss': 2.6587069034576416, 'eval_cer': 0.26887131560028754, 'eval_runtime': 177.0222, 'eval_samples_per_second': 5.197, 'eval_steps_per_second': 1.734, 'epoch': 5.05}\n",
      "{'loss': 0.3559, 'learning_rate': 2.45558272208639e-05, 'epoch': 5.09}\n",
      "{'loss': 0.313, 'learning_rate': 2.4352078239608802e-05, 'epoch': 5.13}\n",
      "{'loss': 0.3389, 'learning_rate': 2.4148329258353712e-05, 'epoch': 5.18}\n",
      "{'loss': 0.2798, 'learning_rate': 2.3944580277098616e-05, 'epoch': 5.22}\n"
     ]
    },
    {
     "data": {
      "application/vnd.jupyter.widget-view+json": {
       "model_id": "1bcded1ad5524951b654702b74790474",
       "version_major": 2,
       "version_minor": 0
      },
      "text/plain": [
       "  0%|          | 0/307 [00:00<?, ?it/s]"
      ]
     },
     "metadata": {},
     "output_type": "display_data"
    },
    {
     "name": "stdout",
     "output_type": "stream",
     "text": [
      "{'eval_loss': 3.8461341857910156, 'eval_cer': 0.23652048885693747, 'eval_runtime': 176.2474, 'eval_samples_per_second': 5.22, 'eval_steps_per_second': 1.742, 'epoch': 5.22}\n",
      "{'loss': 0.3305, 'learning_rate': 2.3744906275468623e-05, 'epoch': 5.26}\n",
      "{'loss': 0.3291, 'learning_rate': 2.354115729421353e-05, 'epoch': 5.3}\n",
      "{'loss': 0.3108, 'learning_rate': 2.3337408312958436e-05, 'epoch': 5.34}\n",
      "{'loss': 0.3565, 'learning_rate': 2.3133659331703343e-05, 'epoch': 5.38}\n"
     ]
    },
    {
     "data": {
      "application/vnd.jupyter.widget-view+json": {
       "model_id": "97772007972c4e288a7226efd4adcfc0",
       "version_major": 2,
       "version_minor": 0
      },
      "text/plain": [
       "  0%|          | 0/307 [00:00<?, ?it/s]"
      ]
     },
     "metadata": {},
     "output_type": "display_data"
    },
    {
     "name": "stdout",
     "output_type": "stream",
     "text": [
      "{'eval_loss': 3.433948516845703, 'eval_cer': 0.25089863407620416, 'eval_runtime': 176.8327, 'eval_samples_per_second': 5.203, 'eval_steps_per_second': 1.736, 'epoch': 5.38}\n",
      "{'loss': 0.2641, 'learning_rate': 2.292991035044825e-05, 'epoch': 5.42}\n",
      "{'loss': 0.2271, 'learning_rate': 2.2726161369193157e-05, 'epoch': 5.46}\n",
      "{'loss': 0.2595, 'learning_rate': 2.252241238793806e-05, 'epoch': 5.5}\n",
      "{'loss': 0.4813, 'learning_rate': 2.231866340668297e-05, 'epoch': 5.54}\n"
     ]
    },
    {
     "data": {
      "application/vnd.jupyter.widget-view+json": {
       "model_id": "cdac4cb89e1446a2b36b5ebc6e949fc3",
       "version_major": 2,
       "version_minor": 0
      },
      "text/plain": [
       "  0%|          | 0/307 [00:00<?, ?it/s]"
      ]
     },
     "metadata": {},
     "output_type": "display_data"
    },
    {
     "name": "stdout",
     "output_type": "stream",
     "text": [
      "{'eval_loss': 3.4976553916931152, 'eval_cer': 0.25089863407620416, 'eval_runtime': 176.3785, 'eval_samples_per_second': 5.216, 'eval_steps_per_second': 1.741, 'epoch': 5.54}\n",
      "{'loss': 0.2966, 'learning_rate': 2.2114914425427874e-05, 'epoch': 5.58}\n",
      "{'loss': 0.2611, 'learning_rate': 2.191116544417278e-05, 'epoch': 5.62}\n",
      "{'loss': 0.2947, 'learning_rate': 2.1707416462917687e-05, 'epoch': 5.66}\n",
      "{'loss': 0.293, 'learning_rate': 2.1503667481662594e-05, 'epoch': 5.7}\n"
     ]
    },
    {
     "data": {
      "application/vnd.jupyter.widget-view+json": {
       "model_id": "58f9ee0d3ccc4c69be45e327cb62271b",
       "version_major": 2,
       "version_minor": 0
      },
      "text/plain": [
       "  0%|          | 0/307 [00:00<?, ?it/s]"
      ]
     },
     "metadata": {},
     "output_type": "display_data"
    },
    {
     "name": "stdout",
     "output_type": "stream",
     "text": [
      "{'eval_loss': 3.3863062858581543, 'eval_cer': 0.20416966211358734, 'eval_runtime': 174.3128, 'eval_samples_per_second': 5.278, 'eval_steps_per_second': 1.761, 'epoch': 5.7}\n",
      "{'loss': 0.2847, 'learning_rate': 2.1299918500407497e-05, 'epoch': 5.75}\n",
      "{'loss': 0.2741, 'learning_rate': 2.1096169519152407e-05, 'epoch': 5.79}\n",
      "{'loss': 0.1999, 'learning_rate': 2.089242053789731e-05, 'epoch': 5.83}\n",
      "{'loss': 0.3122, 'learning_rate': 2.0688671556642217e-05, 'epoch': 5.87}\n"
     ]
    },
    {
     "data": {
      "application/vnd.jupyter.widget-view+json": {
       "model_id": "5812cab84da64388a2065dd4f785f4e5",
       "version_major": 2,
       "version_minor": 0
      },
      "text/plain": [
       "  0%|          | 0/307 [00:00<?, ?it/s]"
      ]
     },
     "metadata": {},
     "output_type": "display_data"
    },
    {
     "name": "stdout",
     "output_type": "stream",
     "text": [
      "{'eval_loss': 2.9772446155548096, 'eval_cer': 0.20848310567936737, 'eval_runtime': 172.8024, 'eval_samples_per_second': 5.324, 'eval_steps_per_second': 1.777, 'epoch': 5.87}\n",
      "{'loss': 0.2038, 'learning_rate': 2.0484922575387124e-05, 'epoch': 5.91}\n",
      "{'loss': 0.1908, 'learning_rate': 2.028117359413203e-05, 'epoch': 5.95}\n",
      "{'loss': 0.3501, 'learning_rate': 2.0077424612876934e-05, 'epoch': 5.99}\n",
      "{'loss': 0.3129, 'learning_rate': 1.9873675631621844e-05, 'epoch': 6.03}\n"
     ]
    },
    {
     "data": {
      "application/vnd.jupyter.widget-view+json": {
       "model_id": "8a40050777f24c3fb94ac118a55867c9",
       "version_major": 2,
       "version_minor": 0
      },
      "text/plain": [
       "  0%|          | 0/307 [00:00<?, ?it/s]"
      ]
     },
     "metadata": {},
     "output_type": "display_data"
    },
    {
     "name": "stdout",
     "output_type": "stream",
     "text": [
      "{'eval_loss': 3.360243797302246, 'eval_cer': 0.18619698058950396, 'eval_runtime': 173.0468, 'eval_samples_per_second': 5.316, 'eval_steps_per_second': 1.774, 'epoch': 6.03}\n",
      "{'loss': 0.1289, 'learning_rate': 1.9669926650366748e-05, 'epoch': 6.07}\n",
      "{'loss': 0.2357, 'learning_rate': 1.9466177669111654e-05, 'epoch': 6.11}\n",
      "{'loss': 0.1862, 'learning_rate': 1.926242868785656e-05, 'epoch': 6.15}\n",
      "{'loss': 0.2141, 'learning_rate': 1.9058679706601468e-05, 'epoch': 6.19}\n"
     ]
    },
    {
     "data": {
      "application/vnd.jupyter.widget-view+json": {
       "model_id": "f54db5801f8448fd80b75cb18471e3a7",
       "version_major": 2,
       "version_minor": 0
      },
      "text/plain": [
       "  0%|          | 0/307 [00:00<?, ?it/s]"
      ]
     },
     "metadata": {},
     "output_type": "display_data"
    },
    {
     "name": "stdout",
     "output_type": "stream",
     "text": [
      "{'eval_loss': 4.103115558624268, 'eval_cer': 0.20057512580877068, 'eval_runtime': 172.8596, 'eval_samples_per_second': 5.322, 'eval_steps_per_second': 1.776, 'epoch': 6.19}\n",
      "{'loss': 0.2843, 'learning_rate': 1.8854930725346375e-05, 'epoch': 6.23}\n",
      "{'loss': 0.229, 'learning_rate': 1.865118174409128e-05, 'epoch': 6.28}\n",
      "{'loss': 0.0995, 'learning_rate': 1.8447432762836185e-05, 'epoch': 6.32}\n",
      "{'loss': 0.1784, 'learning_rate': 1.824368378158109e-05, 'epoch': 6.36}\n"
     ]
    },
    {
     "data": {
      "application/vnd.jupyter.widget-view+json": {
       "model_id": "91414e65b20e4f109d832b6819a196c4",
       "version_major": 2,
       "version_minor": 0
      },
      "text/plain": [
       "  0%|          | 0/307 [00:00<?, ?it/s]"
      ]
     },
     "metadata": {},
     "output_type": "display_data"
    },
    {
     "name": "stdout",
     "output_type": "stream",
     "text": [
      "{'eval_loss': 4.337724208831787, 'eval_cer': 0.1768511861969806, 'eval_runtime': 172.5781, 'eval_samples_per_second': 5.331, 'eval_steps_per_second': 1.779, 'epoch': 6.36}\n",
      "{'loss': 0.1866, 'learning_rate': 1.8039934800325998e-05, 'epoch': 6.4}\n",
      "{'loss': 0.2454, 'learning_rate': 1.7836185819070905e-05, 'epoch': 6.44}\n",
      "{'loss': 0.128, 'learning_rate': 1.7632436837815812e-05, 'epoch': 6.48}\n",
      "{'loss': 0.1121, 'learning_rate': 1.742868785656072e-05, 'epoch': 6.52}\n"
     ]
    },
    {
     "data": {
      "application/vnd.jupyter.widget-view+json": {
       "model_id": "bca84155dc6245b6a7b313ce9d2d3210",
       "version_major": 2,
       "version_minor": 0
      },
      "text/plain": [
       "  0%|          | 0/307 [00:00<?, ?it/s]"
      ]
     },
     "metadata": {},
     "output_type": "display_data"
    },
    {
     "name": "stdout",
     "output_type": "stream",
     "text": [
      "{'eval_loss': 3.167715072631836, 'eval_cer': 0.1509705248023005, 'eval_runtime': 173.4704, 'eval_samples_per_second': 5.303, 'eval_steps_per_second': 1.77, 'epoch': 6.52}\n",
      "{'loss': 0.1524, 'learning_rate': 1.7224938875305625e-05, 'epoch': 6.56}\n",
      "{'loss': 0.1797, 'learning_rate': 1.702118989405053e-05, 'epoch': 6.6}\n",
      "{'loss': 0.1922, 'learning_rate': 1.681744091279544e-05, 'epoch': 6.64}\n",
      "{'loss': 0.2156, 'learning_rate': 1.6613691931540342e-05, 'epoch': 6.68}\n"
     ]
    },
    {
     "data": {
      "application/vnd.jupyter.widget-view+json": {
       "model_id": "62f106028e4949be8405e2c3ddcc72f7",
       "version_major": 2,
       "version_minor": 0
      },
      "text/plain": [
       "  0%|          | 0/307 [00:00<?, ?it/s]"
      ]
     },
     "metadata": {},
     "output_type": "display_data"
    },
    {
     "name": "stdout",
     "output_type": "stream",
     "text": [
      "{'eval_loss': 4.176599502563477, 'eval_cer': 0.18044572250179727, 'eval_runtime': 173.8138, 'eval_samples_per_second': 5.293, 'eval_steps_per_second': 1.766, 'epoch': 6.68}\n",
      "{'loss': 0.1287, 'learning_rate': 1.640994295028525e-05, 'epoch': 6.72}\n",
      "{'loss': 0.1638, 'learning_rate': 1.6206193969030156e-05, 'epoch': 6.76}\n",
      "{'loss': 0.1027, 'learning_rate': 1.6002444987775062e-05, 'epoch': 6.81}\n",
      "{'loss': 0.2103, 'learning_rate': 1.5798696006519966e-05, 'epoch': 6.85}\n"
     ]
    },
    {
     "data": {
      "application/vnd.jupyter.widget-view+json": {
       "model_id": "1eaa2da2ecf644bcb929bdef7cc082ae",
       "version_major": 2,
       "version_minor": 0
      },
      "text/plain": [
       "  0%|          | 0/307 [00:00<?, ?it/s]"
      ]
     },
     "metadata": {},
     "output_type": "display_data"
    },
    {
     "name": "stdout",
     "output_type": "stream",
     "text": [
      "{'eval_loss': 3.7041306495666504, 'eval_cer': 0.15672178289000718, 'eval_runtime': 173.0997, 'eval_samples_per_second': 5.315, 'eval_steps_per_second': 1.774, 'epoch': 6.85}\n",
      "{'loss': 0.1305, 'learning_rate': 1.5594947025264876e-05, 'epoch': 6.89}\n",
      "{'loss': 0.1013, 'learning_rate': 1.539119804400978e-05, 'epoch': 6.93}\n",
      "{'loss': 0.2117, 'learning_rate': 1.5187449062754686e-05, 'epoch': 6.97}\n",
      "{'loss': 0.157, 'learning_rate': 1.4987775061124695e-05, 'epoch': 7.01}\n"
     ]
    },
    {
     "data": {
      "application/vnd.jupyter.widget-view+json": {
       "model_id": "be9217bb41514e4bbae0c23b6a8664ae",
       "version_major": 2,
       "version_minor": 0
      },
      "text/plain": [
       "  0%|          | 0/307 [00:00<?, ?it/s]"
      ]
     },
     "metadata": {},
     "output_type": "display_data"
    },
    {
     "name": "stdout",
     "output_type": "stream",
     "text": [
      "{'eval_loss': 3.3757381439208984, 'eval_cer': 0.14953271028037382, 'eval_runtime': 173.0639, 'eval_samples_per_second': 5.316, 'eval_steps_per_second': 1.774, 'epoch': 7.01}\n",
      "{'loss': 0.1443, 'learning_rate': 1.47840260798696e-05, 'epoch': 7.05}\n",
      "{'loss': 0.1232, 'learning_rate': 1.4580277098614509e-05, 'epoch': 7.09}\n",
      "{'loss': 0.1353, 'learning_rate': 1.4376528117359414e-05, 'epoch': 7.13}\n",
      "{'loss': 0.0938, 'learning_rate': 1.4172779136104319e-05, 'epoch': 7.17}\n"
     ]
    },
    {
     "data": {
      "application/vnd.jupyter.widget-view+json": {
       "model_id": "eba8a5dc35d14b00a435be43070968d5",
       "version_major": 2,
       "version_minor": 0
      },
      "text/plain": [
       "  0%|          | 0/307 [00:00<?, ?it/s]"
      ]
     },
     "metadata": {},
     "output_type": "display_data"
    },
    {
     "name": "stdout",
     "output_type": "stream",
     "text": [
      "{'eval_loss': 4.4363322257995605, 'eval_cer': 0.1710999281092739, 'eval_runtime': 172.725, 'eval_samples_per_second': 5.326, 'eval_steps_per_second': 1.777, 'epoch': 7.17}\n",
      "{'loss': 0.1596, 'learning_rate': 1.3969030154849227e-05, 'epoch': 7.21}\n",
      "{'loss': 0.1278, 'learning_rate': 1.3765281173594132e-05, 'epoch': 7.25}\n",
      "{'loss': 0.0666, 'learning_rate': 1.3561532192339039e-05, 'epoch': 7.29}\n",
      "{'loss': 0.0748, 'learning_rate': 1.3357783211083946e-05, 'epoch': 7.33}\n"
     ]
    },
    {
     "data": {
      "application/vnd.jupyter.widget-view+json": {
       "model_id": "0bc45cac777d4b78aef54d36af73e4d0",
       "version_major": 2,
       "version_minor": 0
      },
      "text/plain": [
       "  0%|          | 0/307 [00:00<?, ?it/s]"
      ]
     },
     "metadata": {},
     "output_type": "display_data"
    },
    {
     "name": "stdout",
     "output_type": "stream",
     "text": [
      "{'eval_loss': 4.254277229309082, 'eval_cer': 0.16606757728253055, 'eval_runtime': 173.1396, 'eval_samples_per_second': 5.314, 'eval_steps_per_second': 1.773, 'epoch': 7.33}\n",
      "{'loss': 0.1094, 'learning_rate': 1.3158109209453953e-05, 'epoch': 7.38}\n",
      "{'loss': 0.0234, 'learning_rate': 1.2954360228198858e-05, 'epoch': 7.42}\n",
      "{'loss': 0.1312, 'learning_rate': 1.2750611246943767e-05, 'epoch': 7.46}\n",
      "{'loss': 0.0776, 'learning_rate': 1.2546862265688672e-05, 'epoch': 7.5}\n"
     ]
    },
    {
     "data": {
      "application/vnd.jupyter.widget-view+json": {
       "model_id": "91c8352d5b9449a190b0ab7e0557c576",
       "version_major": 2,
       "version_minor": 0
      },
      "text/plain": [
       "  0%|          | 0/307 [00:00<?, ?it/s]"
      ]
     },
     "metadata": {},
     "output_type": "display_data"
    },
    {
     "name": "stdout",
     "output_type": "stream",
     "text": [
      "{'eval_loss': 4.347736835479736, 'eval_cer': 0.14809489575844717, 'eval_runtime': 173.0925, 'eval_samples_per_second': 5.315, 'eval_steps_per_second': 1.774, 'epoch': 7.5}\n",
      "{'loss': 0.1615, 'learning_rate': 1.2343113284433578e-05, 'epoch': 7.54}\n",
      "{'loss': 0.1456, 'learning_rate': 1.2139364303178483e-05, 'epoch': 7.58}\n",
      "{'loss': 0.0964, 'learning_rate': 1.193561532192339e-05, 'epoch': 7.62}\n",
      "{'loss': 0.1953, 'learning_rate': 1.1731866340668297e-05, 'epoch': 7.66}\n"
     ]
    },
    {
     "data": {
      "application/vnd.jupyter.widget-view+json": {
       "model_id": "3ecc5bc0a3ed4984a00483570c798719",
       "version_major": 2,
       "version_minor": 0
      },
      "text/plain": [
       "  0%|          | 0/307 [00:00<?, ?it/s]"
      ]
     },
     "metadata": {},
     "output_type": "display_data"
    },
    {
     "name": "stdout",
     "output_type": "stream",
     "text": [
      "{'eval_loss': 4.038135528564453, 'eval_cer': 0.15025161754133717, 'eval_runtime': 172.9915, 'eval_samples_per_second': 5.318, 'eval_steps_per_second': 1.775, 'epoch': 7.66}\n",
      "{'loss': 0.0276, 'learning_rate': 1.1528117359413204e-05, 'epoch': 7.7}\n",
      "{'loss': 0.0572, 'learning_rate': 1.1324368378158109e-05, 'epoch': 7.74}\n",
      "{'loss': 0.0543, 'learning_rate': 1.1120619396903015e-05, 'epoch': 7.78}\n",
      "{'loss': 0.0359, 'learning_rate': 1.0916870415647922e-05, 'epoch': 7.82}\n"
     ]
    },
    {
     "data": {
      "application/vnd.jupyter.widget-view+json": {
       "model_id": "7b0a01b453c14c3ca88ffcc563fc8232",
       "version_major": 2,
       "version_minor": 0
      },
      "text/plain": [
       "  0%|          | 0/307 [00:00<?, ?it/s]"
      ]
     },
     "metadata": {},
     "output_type": "display_data"
    },
    {
     "name": "stdout",
     "output_type": "stream",
     "text": [
      "{'eval_loss': 4.4514946937561035, 'eval_cer': 0.13371675053918045, 'eval_runtime': 172.9207, 'eval_samples_per_second': 5.32, 'eval_steps_per_second': 1.775, 'epoch': 7.82}\n",
      "{'loss': 0.0843, 'learning_rate': 1.0713121434392829e-05, 'epoch': 7.86}\n",
      "{'loss': 0.1101, 'learning_rate': 1.0509372453137736e-05, 'epoch': 7.91}\n",
      "{'loss': 0.0711, 'learning_rate': 1.0305623471882642e-05, 'epoch': 7.95}\n",
      "{'loss': 0.0871, 'learning_rate': 1.0101874490627547e-05, 'epoch': 7.99}\n"
     ]
    },
    {
     "data": {
      "application/vnd.jupyter.widget-view+json": {
       "model_id": "324b2051e6d84018a51e74c747a08be9",
       "version_major": 2,
       "version_minor": 0
      },
      "text/plain": [
       "  0%|          | 0/307 [00:00<?, ?it/s]"
      ]
     },
     "metadata": {},
     "output_type": "display_data"
    },
    {
     "name": "stdout",
     "output_type": "stream",
     "text": [
      "{'eval_loss': 5.0544633865356445, 'eval_cer': 0.15168943206326385, 'eval_runtime': 173.0478, 'eval_samples_per_second': 5.316, 'eval_steps_per_second': 1.774, 'epoch': 7.99}\n",
      "{'loss': 0.0341, 'learning_rate': 9.898125509372454e-06, 'epoch': 8.03}\n",
      "{'loss': 0.046, 'learning_rate': 9.694376528117361e-06, 'epoch': 8.07}\n",
      "{'loss': 0.0985, 'learning_rate': 9.490627546862266e-06, 'epoch': 8.11}\n",
      "{'loss': 0.0308, 'learning_rate': 9.286878565607173e-06, 'epoch': 8.15}\n"
     ]
    },
    {
     "data": {
      "application/vnd.jupyter.widget-view+json": {
       "model_id": "9e17cf1e54f74b56a680cc43be99df57",
       "version_major": 2,
       "version_minor": 0
      },
      "text/plain": [
       "  0%|          | 0/307 [00:00<?, ?it/s]"
      ]
     },
     "metadata": {},
     "output_type": "display_data"
    },
    {
     "name": "stdout",
     "output_type": "stream",
     "text": [
      "{'eval_loss': 4.756624698638916, 'eval_cer': 0.13299784327821712, 'eval_runtime': 173.3413, 'eval_samples_per_second': 5.307, 'eval_steps_per_second': 1.771, 'epoch': 8.15}\n",
      "{'loss': 0.007, 'learning_rate': 9.08312958435208e-06, 'epoch': 8.19}\n",
      "{'loss': 0.0314, 'learning_rate': 8.879380603096985e-06, 'epoch': 8.23}\n",
      "{'loss': 0.0756, 'learning_rate': 8.675631621841891e-06, 'epoch': 8.27}\n",
      "{'loss': 0.0073, 'learning_rate': 8.471882640586798e-06, 'epoch': 8.31}\n"
     ]
    },
    {
     "data": {
      "application/vnd.jupyter.widget-view+json": {
       "model_id": "d5cfbe4c0ce547008f61bdb6f899f4e4",
       "version_major": 2,
       "version_minor": 0
      },
      "text/plain": [
       "  0%|          | 0/307 [00:00<?, ?it/s]"
      ]
     },
     "metadata": {},
     "output_type": "display_data"
    },
    {
     "name": "stdout",
     "output_type": "stream",
     "text": [
      "{'eval_loss': 4.886870384216309, 'eval_cer': 0.14162473040977713, 'eval_runtime': 173.0267, 'eval_samples_per_second': 5.317, 'eval_steps_per_second': 1.774, 'epoch': 8.31}\n",
      "{'loss': 0.0102, 'learning_rate': 8.268133659331703e-06, 'epoch': 8.35}\n",
      "{'loss': 0.0466, 'learning_rate': 8.06438467807661e-06, 'epoch': 8.39}\n",
      "{'loss': 0.1649, 'learning_rate': 7.860635696821517e-06, 'epoch': 8.44}\n",
      "{'loss': 0.0124, 'learning_rate': 7.656886715566422e-06, 'epoch': 8.48}\n"
     ]
    },
    {
     "data": {
      "application/vnd.jupyter.widget-view+json": {
       "model_id": "a191ef5ebdfe4dc191ce68308e080e64",
       "version_major": 2,
       "version_minor": 0
      },
      "text/plain": [
       "  0%|          | 0/307 [00:00<?, ?it/s]"
      ]
     },
     "metadata": {},
     "output_type": "display_data"
    },
    {
     "name": "stdout",
     "output_type": "stream",
     "text": [
      "{'eval_loss': 4.329313278198242, 'eval_cer': 0.1286843997124371, 'eval_runtime': 174.0165, 'eval_samples_per_second': 5.287, 'eval_steps_per_second': 1.764, 'epoch': 8.48}\n",
      "{'loss': 0.0235, 'learning_rate': 7.453137734311328e-06, 'epoch': 8.52}\n",
      "{'loss': 0.0631, 'learning_rate': 7.249388753056235e-06, 'epoch': 8.56}\n",
      "{'loss': 0.0258, 'learning_rate': 7.045639771801141e-06, 'epoch': 8.6}\n",
      "{'loss': 0.0021, 'learning_rate': 6.841890790546048e-06, 'epoch': 8.64}\n"
     ]
    },
    {
     "data": {
      "application/vnd.jupyter.widget-view+json": {
       "model_id": "99bbc137f5554af29f4a65c0d34b4edd",
       "version_major": 2,
       "version_minor": 0
      },
      "text/plain": [
       "  0%|          | 0/307 [00:00<?, ?it/s]"
      ]
     },
     "metadata": {},
     "output_type": "display_data"
    },
    {
     "name": "stdout",
     "output_type": "stream",
     "text": [
      "{'eval_loss': 4.499250411987305, 'eval_cer': 0.13371675053918045, 'eval_runtime': 172.7843, 'eval_samples_per_second': 5.325, 'eval_steps_per_second': 1.777, 'epoch': 8.64}\n",
      "{'loss': 0.0339, 'learning_rate': 6.6381418092909545e-06, 'epoch': 8.68}\n",
      "{'loss': 0.1129, 'learning_rate': 6.4343928280358596e-06, 'epoch': 8.72}\n",
      "{'loss': 0.0363, 'learning_rate': 6.230643846780766e-06, 'epoch': 8.76}\n",
      "{'loss': 0.0164, 'learning_rate': 6.026894865525673e-06, 'epoch': 8.8}\n"
     ]
    },
    {
     "data": {
      "application/vnd.jupyter.widget-view+json": {
       "model_id": "f7ce8d6d36d14e4fad55b56a2187c390",
       "version_major": 2,
       "version_minor": 0
      },
      "text/plain": [
       "  0%|          | 0/307 [00:00<?, ?it/s]"
      ]
     },
     "metadata": {},
     "output_type": "display_data"
    },
    {
     "name": "stdout",
     "output_type": "stream",
     "text": [
      "{'eval_loss': 4.1612467765808105, 'eval_cer': 0.13515456506110712, 'eval_runtime': 172.9338, 'eval_samples_per_second': 5.32, 'eval_steps_per_second': 1.775, 'epoch': 8.8}\n",
      "{'loss': 0.0109, 'learning_rate': 5.823145884270579e-06, 'epoch': 8.84}\n",
      "{'loss': 0.012, 'learning_rate': 5.619396903015485e-06, 'epoch': 8.88}\n",
      "{'loss': 0.0186, 'learning_rate': 5.415647921760392e-06, 'epoch': 8.92}\n",
      "{'loss': 0.0284, 'learning_rate': 5.2118989405052975e-06, 'epoch': 8.96}\n"
     ]
    },
    {
     "data": {
      "application/vnd.jupyter.widget-view+json": {
       "model_id": "11ad89af6bbc4bd1ae05351aa024bc1c",
       "version_major": 2,
       "version_minor": 0
      },
      "text/plain": [
       "  0%|          | 0/307 [00:00<?, ?it/s]"
      ]
     },
     "metadata": {},
     "output_type": "display_data"
    },
    {
     "name": "stdout",
     "output_type": "stream",
     "text": [
      "{'eval_loss': 4.682313442230225, 'eval_cer': 0.13443565780014377, 'eval_runtime': 173.0787, 'eval_samples_per_second': 5.315, 'eval_steps_per_second': 1.774, 'epoch': 8.96}\n",
      "{'loss': 0.0673, 'learning_rate': 5.008149959250203e-06, 'epoch': 9.01}\n",
      "{'loss': 0.0008, 'learning_rate': 4.80440097799511e-06, 'epoch': 9.05}\n",
      "{'loss': 0.0509, 'learning_rate': 4.600651996740017e-06, 'epoch': 9.09}\n",
      "{'loss': 0.0394, 'learning_rate': 4.396903015484923e-06, 'epoch': 9.13}\n"
     ]
    },
    {
     "data": {
      "application/vnd.jupyter.widget-view+json": {
       "model_id": "876689e90770487581d1dfe86c627fd2",
       "version_major": 2,
       "version_minor": 0
      },
      "text/plain": [
       "  0%|          | 0/307 [00:00<?, ?it/s]"
      ]
     },
     "metadata": {},
     "output_type": "display_data"
    },
    {
     "name": "stdout",
     "output_type": "stream",
     "text": [
      "{'eval_loss': 4.966804504394531, 'eval_cer': 0.14737598849748382, 'eval_runtime': 173.3728, 'eval_samples_per_second': 5.306, 'eval_steps_per_second': 1.771, 'epoch': 9.13}\n",
      "{'loss': 0.0318, 'learning_rate': 4.1931540342298295e-06, 'epoch': 9.17}\n",
      "{'loss': 0.0028, 'learning_rate': 3.9894050529747354e-06, 'epoch': 9.21}\n",
      "{'loss': 0.0138, 'learning_rate': 3.7856560717196413e-06, 'epoch': 9.25}\n",
      "{'loss': 0.0011, 'learning_rate': 3.581907090464548e-06, 'epoch': 9.29}\n"
     ]
    },
    {
     "data": {
      "application/vnd.jupyter.widget-view+json": {
       "model_id": "9acff0435ea04387bbdc61f859a56d69",
       "version_major": 2,
       "version_minor": 0
      },
      "text/plain": [
       "  0%|          | 0/307 [00:00<?, ?it/s]"
      ]
     },
     "metadata": {},
     "output_type": "display_data"
    },
    {
     "name": "stdout",
     "output_type": "stream",
     "text": [
      "{'eval_loss': 4.994973659515381, 'eval_cer': 0.13731128684399713, 'eval_runtime': 172.1015, 'eval_samples_per_second': 5.346, 'eval_steps_per_second': 1.784, 'epoch': 9.29}\n",
      "{'loss': 0.0008, 'learning_rate': 3.378158109209454e-06, 'epoch': 9.33}\n",
      "{'loss': 0.0238, 'learning_rate': 3.1744091279543607e-06, 'epoch': 9.37}\n",
      "{'loss': 0.0002, 'learning_rate': 2.9706601466992666e-06, 'epoch': 9.41}\n",
      "{'loss': 0.0178, 'learning_rate': 2.766911165444173e-06, 'epoch': 9.45}\n"
     ]
    },
    {
     "data": {
      "application/vnd.jupyter.widget-view+json": {
       "model_id": "bd078805e5e7409fa5f9af1b061c2fb2",
       "version_major": 2,
       "version_minor": 0
      },
      "text/plain": [
       "  0%|          | 0/307 [00:00<?, ?it/s]"
      ]
     },
     "metadata": {},
     "output_type": "display_data"
    },
    {
     "name": "stdout",
     "output_type": "stream",
     "text": [
      "{'eval_loss': 4.948250770568848, 'eval_cer': 0.14809489575844717, 'eval_runtime': 172.9161, 'eval_samples_per_second': 5.32, 'eval_steps_per_second': 1.775, 'epoch': 9.45}\n",
      "{'loss': 0.0321, 'learning_rate': 2.5631621841890793e-06, 'epoch': 9.49}\n",
      "{'loss': 0.0016, 'learning_rate': 2.3594132029339856e-06, 'epoch': 9.54}\n",
      "{'loss': 0.0217, 'learning_rate': 2.155664221678892e-06, 'epoch': 9.58}\n",
      "{'loss': 0.0319, 'learning_rate': 1.951915240423798e-06, 'epoch': 9.62}\n"
     ]
    },
    {
     "data": {
      "application/vnd.jupyter.widget-view+json": {
       "model_id": "c989a0a2b6df45d6b65546c51c7439a1",
       "version_major": 2,
       "version_minor": 0
      },
      "text/plain": [
       "  0%|          | 0/307 [00:00<?, ?it/s]"
      ]
     },
     "metadata": {},
     "output_type": "display_data"
    },
    {
     "name": "stdout",
     "output_type": "stream",
     "text": [
      "{'eval_loss': 5.166921138763428, 'eval_cer': 0.1445003594536305, 'eval_runtime': 172.9773, 'eval_samples_per_second': 5.319, 'eval_steps_per_second': 1.775, 'epoch': 9.62}\n",
      "{'loss': 0.0165, 'learning_rate': 1.7481662591687043e-06, 'epoch': 9.66}\n",
      "{'loss': 0.0014, 'learning_rate': 1.5444172779136105e-06, 'epoch': 9.7}\n",
      "{'loss': 0.0141, 'learning_rate': 1.3406682966585168e-06, 'epoch': 9.74}\n",
      "{'loss': 0.013, 'learning_rate': 1.136919315403423e-06, 'epoch': 9.78}\n"
     ]
    },
    {
     "data": {
      "application/vnd.jupyter.widget-view+json": {
       "model_id": "589c5dad90bd49e4b87da0d470b614c0",
       "version_major": 2,
       "version_minor": 0
      },
      "text/plain": [
       "  0%|          | 0/307 [00:00<?, ?it/s]"
      ]
     },
     "metadata": {},
     "output_type": "display_data"
    },
    {
     "name": "stdout",
     "output_type": "stream",
     "text": [
      "{'eval_loss': 5.13104248046875, 'eval_cer': 0.1409058231488138, 'eval_runtime': 172.8257, 'eval_samples_per_second': 5.323, 'eval_steps_per_second': 1.776, 'epoch': 9.78}\n",
      "{'loss': 0.0053, 'learning_rate': 9.331703341483293e-07, 'epoch': 9.82}\n",
      "{'loss': 0.0046, 'learning_rate': 7.294213528932355e-07, 'epoch': 9.86}\n",
      "{'loss': 0.05, 'learning_rate': 5.256723716381419e-07, 'epoch': 9.9}\n",
      "{'loss': 0.0222, 'learning_rate': 3.219233903830481e-07, 'epoch': 9.94}\n"
     ]
    },
    {
     "data": {
      "application/vnd.jupyter.widget-view+json": {
       "model_id": "d567ee4bc9154c6286f8c263e962c9e2",
       "version_major": 2,
       "version_minor": 0
      },
      "text/plain": [
       "  0%|          | 0/307 [00:00<?, ?it/s]"
      ]
     },
     "metadata": {},
     "output_type": "display_data"
    },
    {
     "name": "stdout",
     "output_type": "stream",
     "text": [
      "{'eval_loss': 5.310272693634033, 'eval_cer': 0.14809489575844717, 'eval_runtime': 172.7759, 'eval_samples_per_second': 5.325, 'eval_steps_per_second': 1.777, 'epoch': 9.94}\n",
      "{'loss': 0.0278, 'learning_rate': 1.1817440912795437e-07, 'epoch': 9.98}\n",
      "{'train_runtime': 15778.5154, 'train_samples_per_second': 2.332, 'train_steps_per_second': 0.778, 'train_loss': 0.604480871118259, 'epoch': 10.0}\n"
     ]
    },
    {
     "data": {
      "text/plain": [
       "TrainOutput(global_step=12270, training_loss=0.604480871118259, metrics={'train_runtime': 15778.5154, 'train_samples_per_second': 2.332, 'train_steps_per_second': 0.778, 'train_loss': 0.604480871118259, 'epoch': 10.0})"
      ]
     },
     "execution_count": 16,
     "metadata": {},
     "output_type": "execute_result"
    }
   ],
   "source": [
    "from transformers import default_data_collator\n",
    "\n",
    "# instantiate trainer\n",
    "trainer = Seq2SeqTrainer(\n",
    "    model=model,\n",
    "    tokenizer=processor.feature_extractor,\n",
    "    args=training_args,\n",
    "    compute_metrics=compute_metrics,\n",
    "    train_dataset=train_dataset,\n",
    "    eval_dataset=eval_dataset,\n",
    "    data_collator=default_data_collator,\n",
    ")\n",
    "trainer.train()"
   ]
  },
  {
   "cell_type": "code",
   "execution_count": 17,
   "metadata": {},
   "outputs": [
    {
     "name": "stderr",
     "output_type": "stream",
     "text": [
      "c:\\Users\\Mytre\\OneDrive\\Документы\\Data\\Work\\workenv\\lib\\site-packages\\transformers\\generation\\utils.py:1288: UserWarning: Using `max_length`'s default (4) to control the generation length. This behaviour is deprecated and will be removed from the config in v5 of Transformers -- we recommend using `max_new_tokens` to control the maximum length of the generation.\n",
      "  warnings.warn(\n"
     ]
    },
    {
     "name": "stdout",
     "output_type": "stream",
     "text": [
      "Номер на футболке: 77\n"
     ]
    }
   ],
   "source": [
    "url = \"crops\\\\77\\\\3839example.jpg\"\n",
    "image = Image.open(url).convert(\"RGB\")\n",
    "\n",
    "pixel_values = processor(image, return_tensors=\"pt\").pixel_values\n",
    "generated_ids = model.generate(pixel_values.cuda())\n",
    "\n",
    "\n",
    "generated_text = processor.batch_decode(generated_ids, skip_special_tokens=True)[0]\n",
    "print(f'Номер на футболке: {generated_text}')"
   ]
  },
  {
   "cell_type": "code",
   "execution_count": null,
   "metadata": {},
   "outputs": [],
   "source": []
  }
 ],
 "metadata": {
  "kernelspec": {
   "display_name": "workenv",
   "language": "python",
   "name": "python3"
  },
  "language_info": {
   "codemirror_mode": {
    "name": "ipython",
    "version": 3
   },
   "file_extension": ".py",
   "mimetype": "text/x-python",
   "name": "python",
   "nbconvert_exporter": "python",
   "pygments_lexer": "ipython3",
   "version": "3.9.12"
  },
  "orig_nbformat": 4,
  "vscode": {
   "interpreter": {
    "hash": "dd7ce5ea1f167f6e2c49b5b6f21b70d6e0deeed3d013e0c08f1a51e941577a63"
   }
  }
 },
 "nbformat": 4,
 "nbformat_minor": 2
}
