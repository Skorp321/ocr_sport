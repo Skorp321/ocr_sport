{
 "cells": [
  {
   "cell_type": "code",
   "execution_count": 27,
   "metadata": {},
   "outputs": [],
   "source": [
    "import xml.etree.ElementTree as ET\n",
    "from PIL import Image\n",
    "import os\n",
    "import pandas as pd\n",
    "import numpy as np\n",
    "import json\n",
    "from tqdm.notebook import tqdm"
   ]
  },
  {
   "attachments": {},
   "cell_type": "markdown",
   "metadata": {},
   "source": [
    "Найдем все файлы с расширением \".json\""
   ]
  },
  {
   "cell_type": "code",
   "execution_count": 2,
   "metadata": {},
   "outputs": [],
   "source": [
    "anno_pathes_json = []\n",
    "file_name = '.json'\n",
    "\n",
    "absolute_path = 'C:\\\\Users\\\\Mytre\\\\OneDrive\\\\Документы\\\\Data\\\\Work\\\\data\\\\TV_data'\n",
    "crop_path = 'C:\\\\Users\\\\Mytre\\\\OneDrive\\\\Документы\\\\Data\\\\Work\\\\crops'\n",
    "\n",
    "if not os.path.exists(crop_path):\n",
    "    os.makedirs(crop_path)\n",
    "\n",
    "for root, dirs, files in os.walk(absolute_path):    \n",
    "    for file in files:\n",
    "        # проверяем, есть ли заданный файл в списке файлов текущей папки\n",
    "        if (file_name in file) & ('.jsonl' not in file):\n",
    "            # если есть, то добавляем путь в список\n",
    "            anno_pathes_json.append(os.path.join(root, file)) "
   ]
  },
  {
   "attachments": {},
   "cell_type": "markdown",
   "metadata": {},
   "source": [
    "Сделаем кроп изображений содержащих цифры из поолученной разметки"
   ]
  },
  {
   "cell_type": "code",
   "execution_count": 7,
   "metadata": {},
   "outputs": [
    {
     "name": "stderr",
     "output_type": "stream",
     "text": [
      "100%|██████████| 5598/5598 [01:25<00:00, 65.63it/s] \n"
     ]
    },
    {
     "data": {
      "text/html": [
       "<div>\n",
       "<style scoped>\n",
       "    .dataframe tbody tr th:only-of-type {\n",
       "        vertical-align: middle;\n",
       "    }\n",
       "\n",
       "    .dataframe tbody tr th {\n",
       "        vertical-align: top;\n",
       "    }\n",
       "\n",
       "    .dataframe thead th {\n",
       "        text-align: right;\n",
       "    }\n",
       "</style>\n",
       "<table border=\"1\" class=\"dataframe\">\n",
       "  <thead>\n",
       "    <tr style=\"text-align: right;\">\n",
       "      <th></th>\n",
       "      <th>file_name</th>\n",
       "      <th>text</th>\n",
       "    </tr>\n",
       "  </thead>\n",
       "  <tbody>\n",
       "    <tr>\n",
       "      <th>0</th>\n",
       "      <td>C:\\Users\\Mytre\\OneDrive\\Документы\\Data\\Work\\cr...</td>\n",
       "      <td>33</td>\n",
       "    </tr>\n",
       "    <tr>\n",
       "      <th>1</th>\n",
       "      <td>C:\\Users\\Mytre\\OneDrive\\Документы\\Data\\Work\\cr...</td>\n",
       "      <td>30</td>\n",
       "    </tr>\n",
       "    <tr>\n",
       "      <th>2</th>\n",
       "      <td>C:\\Users\\Mytre\\OneDrive\\Документы\\Data\\Work\\cr...</td>\n",
       "      <td>33</td>\n",
       "    </tr>\n",
       "    <tr>\n",
       "      <th>3</th>\n",
       "      <td>C:\\Users\\Mytre\\OneDrive\\Документы\\Data\\Work\\cr...</td>\n",
       "      <td>30</td>\n",
       "    </tr>\n",
       "    <tr>\n",
       "      <th>4</th>\n",
       "      <td>C:\\Users\\Mytre\\OneDrive\\Документы\\Data\\Work\\cr...</td>\n",
       "      <td>33</td>\n",
       "    </tr>\n",
       "  </tbody>\n",
       "</table>\n",
       "</div>"
      ],
      "text/plain": [
       "                                           file_name text\n",
       "0  C:\\Users\\Mytre\\OneDrive\\Документы\\Data\\Work\\cr...   33\n",
       "1  C:\\Users\\Mytre\\OneDrive\\Документы\\Data\\Work\\cr...   30\n",
       "2  C:\\Users\\Mytre\\OneDrive\\Документы\\Data\\Work\\cr...   33\n",
       "3  C:\\Users\\Mytre\\OneDrive\\Документы\\Data\\Work\\cr...   30\n",
       "4  C:\\Users\\Mytre\\OneDrive\\Документы\\Data\\Work\\cr...   33"
      ]
     },
     "execution_count": 7,
     "metadata": {},
     "output_type": "execute_result"
    }
   ],
   "source": [
    "alpha = 0.1\n",
    "num = 0\n",
    "annos_list = []\n",
    "anno_dict = {'file_name': [], 'text': []}\n",
    "pathes_list = []\n",
    "\n",
    "for anno in tqdm(anno_pathes_json):\n",
    "    with open(anno, 'r') as f:\n",
    "        data = json.load(f)\n",
    "\n",
    "    #Преобразуем json  в dataFrame\n",
    "    points = pd.read_json(json.dumps(data['shapes']))\n",
    "    x = pd.read_json(anno, orient='index')\n",
    "    frame = x.iloc[3, :][0]\n",
    "\n",
    "    img_path = anno.replace('anno', 'frames')\n",
    "    img_path = img_path.replace('.json', '.jpeg')\n",
    "    img_path = img_path.replace(\"BallerTV\", \"TV_data\")\n",
    "    img = Image.open(img_path)\n",
    "\n",
    "    for j in range(len(points)):\n",
    "        out_file = {}\n",
    "        point_obj = pd.DataFrame(points.iloc[j, 0:2])\n",
    "        point = point_obj.iloc[1, :]\n",
    "        label = point_obj.iloc[0, :]\n",
    "        split_label = label[j].split('_')\n",
    "        number = split_label[-1]\n",
    "\n",
    "        for box in point:   \n",
    "\n",
    "            if number.isdigit():\n",
    "\n",
    "                xtl, ytl, xbr, ybr = int(box[0][0]), int(box[0][1]), int(box[1][0]), int(box[1][1])\n",
    "                            \n",
    "                x_dif = np.abs(xtl - xbr)\n",
    "                y_dif = np.abs(ytl - ybr)\n",
    "\n",
    "                xtl = xtl - alpha * (x_dif / 2)\n",
    "                xbr = xbr + alpha * (x_dif / 2)\n",
    "                ytl = ytl - alpha * (y_dif / 2)\n",
    "                ybr = ybr + alpha * (y_dif / 2)\n",
    "\n",
    "                # Сделаем кроп номера на футболке\n",
    "                croppped_image = img.crop((xtl, ytl, xbr, ybr))\n",
    "                full_path = crop_path + '\\\\' + str(number)                \n",
    "\n",
    "                if not os.path.exists(full_path):\n",
    "                    os.makedirs(full_path)    \n",
    "                    #print(f'Папка {number} создана')  \n",
    "                                  \n",
    "                res_path = full_path +'\\\\' + f'TV_data_{str(num)}example.jpg'\n",
    "                num += 1\n",
    "\n",
    "                annos_list.append(str(number))\n",
    "                pathes_list.append(res_path )\n",
    "                anno_dict['text'] = annos_list\n",
    "                anno_dict['file_name'] = pathes_list\n",
    "                \n",
    "                croppped_image.save(res_path)\n",
    "\n",
    "df = pd.DataFrame(anno_dict, index=None)\n",
    "df.to_csv(\"anno_first.csv\")\n",
    "df.head()"
   ]
  },
  {
   "attachments": {},
   "cell_type": "markdown",
   "metadata": {},
   "source": [
    "Найдем все пути к файлам \"annotations.xml\""
   ]
  },
  {
   "cell_type": "code",
   "execution_count": 8,
   "metadata": {},
   "outputs": [],
   "source": [
    "crop_path = \"C:\\\\Users\\\\Mytre\\\\OneDrive\\\\Документы\\\\Data\\\\Work\\\\crops\"\n",
    "absolute_path = \"C:\\\\Users\\\\Mytre\\\\OneDrive\\\\Документы\\\\Data\\\\Work\\\\data\\\\TV_data\"\n",
    "\n",
    "if not os.path.exists(crop_path):\n",
    "    os.makedirs(crop_path)\n",
    "\n",
    "file_name = 'annotations.xml'\n",
    "\n",
    "anno_pathses = []\n",
    "# пройдемся рекурсивно по всем папкам, начиная с absolute_path\n",
    "for root, dirs, files in os.walk(absolute_path):    \n",
    "    # проверяем, есть ли заданный файл в списке файлов текущей папки\n",
    "    if file_name in files:\n",
    "        # если есть, то добавляем путь в список\n",
    "        anno_pathses.append(os.path.join(root, file_name))          "
   ]
  },
  {
   "attachments": {},
   "cell_type": "markdown",
   "metadata": {},
   "source": [
    "Сделаем кроп изображений содержащих цифры из поолученной разметки"
   ]
  },
  {
   "cell_type": "code",
   "execution_count": 9,
   "metadata": {},
   "outputs": [
    {
     "name": "stderr",
     "output_type": "stream",
     "text": [
      "100%|██████████| 105/105 [05:29<00:00,  3.14s/it]\n"
     ]
    },
    {
     "data": {
      "text/html": [
       "<div>\n",
       "<style scoped>\n",
       "    .dataframe tbody tr th:only-of-type {\n",
       "        vertical-align: middle;\n",
       "    }\n",
       "\n",
       "    .dataframe tbody tr th {\n",
       "        vertical-align: top;\n",
       "    }\n",
       "\n",
       "    .dataframe thead th {\n",
       "        text-align: right;\n",
       "    }\n",
       "</style>\n",
       "<table border=\"1\" class=\"dataframe\">\n",
       "  <thead>\n",
       "    <tr style=\"text-align: right;\">\n",
       "      <th></th>\n",
       "      <th>file_name</th>\n",
       "      <th>text</th>\n",
       "    </tr>\n",
       "  </thead>\n",
       "  <tbody>\n",
       "    <tr>\n",
       "      <th>0</th>\n",
       "      <td>C:\\Users\\Mytre\\OneDrive\\Документы\\Data\\Work\\cr...</td>\n",
       "      <td>1</td>\n",
       "    </tr>\n",
       "    <tr>\n",
       "      <th>1</th>\n",
       "      <td>C:\\Users\\Mytre\\OneDrive\\Документы\\Data\\Work\\cr...</td>\n",
       "      <td>8</td>\n",
       "    </tr>\n",
       "    <tr>\n",
       "      <th>2</th>\n",
       "      <td>C:\\Users\\Mytre\\OneDrive\\Документы\\Data\\Work\\cr...</td>\n",
       "      <td>11</td>\n",
       "    </tr>\n",
       "    <tr>\n",
       "      <th>3</th>\n",
       "      <td>C:\\Users\\Mytre\\OneDrive\\Документы\\Data\\Work\\cr...</td>\n",
       "      <td>3</td>\n",
       "    </tr>\n",
       "    <tr>\n",
       "      <th>4</th>\n",
       "      <td>C:\\Users\\Mytre\\OneDrive\\Документы\\Data\\Work\\cr...</td>\n",
       "      <td>3</td>\n",
       "    </tr>\n",
       "  </tbody>\n",
       "</table>\n",
       "</div>"
      ],
      "text/plain": [
       "                                           file_name  text\n",
       "0  C:\\Users\\Mytre\\OneDrive\\Документы\\Data\\Work\\cr...     1\n",
       "1  C:\\Users\\Mytre\\OneDrive\\Документы\\Data\\Work\\cr...     8\n",
       "2  C:\\Users\\Mytre\\OneDrive\\Документы\\Data\\Work\\cr...    11\n",
       "3  C:\\Users\\Mytre\\OneDrive\\Документы\\Data\\Work\\cr...     3\n",
       "4  C:\\Users\\Mytre\\OneDrive\\Документы\\Data\\Work\\cr...     3"
      ]
     },
     "execution_count": 9,
     "metadata": {},
     "output_type": "execute_result"
    }
   ],
   "source": [
    "nums = []\n",
    "num = 0\n",
    "folder_pathes = []\n",
    "pathes_list = []\n",
    "annos_list = []\n",
    "anno_dict = {'file_name': [], 'text': []}\n",
    "\n",
    "alpha = 0.2\n",
    "\n",
    "for path in tqdm(anno_pathses):\n",
    "\n",
    "    # Загрузим XML файл\n",
    "    tree = ET.parse(path)\n",
    "\n",
    "    # Получим корневой элемент XML файла\n",
    "    root = tree.getroot()\n",
    "\n",
    "    # Проитерируемся по дочерним элементам корня\n",
    "    for image in root.findall('image'):\n",
    "        \n",
    "        image_id = image.get('id')\n",
    "        file_name = image.get('name')\n",
    "        file_name = 'data\\\\' + file_name\n",
    "        file_name = file_name.replace(\"BallerTV\", \"TV_data\")\n",
    "  \n",
    "        # Переберем все baundingbox`s\n",
    "        for box in image.findall('box'):\n",
    "            \n",
    "            image = Image.open(file_name)\n",
    "           \n",
    "            label = box.get('label')\n",
    "\n",
    "            # Проверим является ли метка меткой номера\n",
    "            if label == \"Jersey\":\n",
    "                xtl = int(float(box.get('xtl')))\n",
    "                ytl = int(float(box.get('ytl')))\n",
    "                xbr = int(float(box.get('xbr')))\n",
    "                ybr = int(float(box.get('ybr')))\n",
    "                number = box.find('attribute[@name=\"number\"]').text\n",
    "                if number == '-1':\n",
    "                    continue\n",
    "               \n",
    "                x_dif = np.abs(xtl - xbr)\n",
    "                y_dif = np.abs(ytl - ybr)\n",
    "\n",
    "                xtl = xtl - alpha * (x_dif / 2)\n",
    "                xbr = xbr + alpha * (x_dif / 2)\n",
    "                ytl = ytl - alpha * (y_dif / 2)\n",
    "                ybr = ybr + alpha * (y_dif / 2)\n",
    "\n",
    "                # Сделаем кроп номера на футболке\n",
    "                croppped_image = image.crop((xtl, ytl, xbr, ybr))\n",
    "                full_path = crop_path + '\\\\' + str(number)\n",
    "                num += 1\n",
    "\n",
    "                if not os.path.exists(full_path):\n",
    "                    os.makedirs(full_path)    \n",
    "                    #print(f'Папка {number} создана')  \n",
    "                                  \n",
    "                res_path = full_path +'\\\\' + f'TV_data_{str(num)}example.jpg'\n",
    "\n",
    "                annos_list.append(int(number))\n",
    "                pathes_list.append(res_path )\n",
    "                anno_dict['text'] = annos_list\n",
    "                anno_dict['file_name'] = pathes_list\n",
    "                \n",
    "                croppped_image.save(res_path)\n",
    "\n",
    "df = pd.DataFrame(anno_dict, index=None)\n",
    "df.to_csv(\"anno_second.csv\")\n",
    "df.head()\n"
   ]
  },
  {
   "attachments": {},
   "cell_type": "markdown",
   "metadata": {},
   "source": [
    "Найдем все файлы с расширением \".json\""
   ]
  },
  {
   "cell_type": "code",
   "execution_count": 19,
   "metadata": {},
   "outputs": [],
   "source": [
    "anno_pathes_json = []\n",
    "file_name = '.json'\n",
    "\n",
    "absolute_path = 'data\\\\basketball\\\\16-11-2022'\n",
    "crop_path = 'C:\\\\Users\\\\Mytre\\\\OneDrive\\\\Документы\\\\Data\\\\Work\\\\crops'\n",
    "\n",
    "if not os.path.exists(crop_path):\n",
    "    os.makedirs(crop_path)\n",
    "\n",
    "for root, dirs, files in os.walk(absolute_path):    \n",
    "    for file in files:\n",
    "        # проверяем, есть ли заданный файл в списке файлов текущей папки\n",
    "        if (file_name in file) & ('.jsonl' not in file):\n",
    "            # если есть, то добавляем путь в список\n",
    "            anno_pathes_json.append(os.path.join(root, file)) "
   ]
  },
  {
   "attachments": {},
   "cell_type": "markdown",
   "metadata": {},
   "source": [
    "Сделаем кроп изображений содержащих цифры из поолученной разметки"
   ]
  },
  {
   "cell_type": "code",
   "execution_count": 20,
   "metadata": {},
   "outputs": [
    {
     "name": "stdout",
     "output_type": "stream",
     "text": [
      "1ая папка из 22\n"
     ]
    },
    {
     "name": "stderr",
     "output_type": "stream",
     "text": [
      "100%|██████████| 500/500 [00:06<00:00, 80.15it/s]\n"
     ]
    },
    {
     "name": "stdout",
     "output_type": "stream",
     "text": [
      "2ая папка из 22\n"
     ]
    },
    {
     "name": "stderr",
     "output_type": "stream",
     "text": [
      "100%|██████████| 500/500 [00:04<00:00, 120.55it/s]\n"
     ]
    },
    {
     "name": "stdout",
     "output_type": "stream",
     "text": [
      "3ая папка из 22\n"
     ]
    },
    {
     "name": "stderr",
     "output_type": "stream",
     "text": [
      "100%|██████████| 500/500 [00:02<00:00, 187.65it/s]\n"
     ]
    },
    {
     "name": "stdout",
     "output_type": "stream",
     "text": [
      "4ая папка из 22\n"
     ]
    },
    {
     "name": "stderr",
     "output_type": "stream",
     "text": [
      "100%|██████████| 500/500 [00:03<00:00, 143.27it/s]\n"
     ]
    },
    {
     "name": "stdout",
     "output_type": "stream",
     "text": [
      "5ая папка из 22\n"
     ]
    },
    {
     "name": "stderr",
     "output_type": "stream",
     "text": [
      "100%|██████████| 500/500 [00:02<00:00, 197.19it/s] \n"
     ]
    },
    {
     "name": "stdout",
     "output_type": "stream",
     "text": [
      "6ая папка из 22\n"
     ]
    },
    {
     "name": "stderr",
     "output_type": "stream",
     "text": [
      "100%|██████████| 500/500 [00:03<00:00, 133.00it/s]\n"
     ]
    },
    {
     "name": "stdout",
     "output_type": "stream",
     "text": [
      "7ая папка из 22\n"
     ]
    },
    {
     "name": "stderr",
     "output_type": "stream",
     "text": [
      "100%|██████████| 500/500 [00:04<00:00, 100.78it/s]\n"
     ]
    },
    {
     "name": "stdout",
     "output_type": "stream",
     "text": [
      "8ая папка из 22\n"
     ]
    },
    {
     "name": "stderr",
     "output_type": "stream",
     "text": [
      "100%|██████████| 500/500 [00:06<00:00, 73.82it/s] \n"
     ]
    },
    {
     "name": "stdout",
     "output_type": "stream",
     "text": [
      "9ая папка из 22\n"
     ]
    },
    {
     "name": "stderr",
     "output_type": "stream",
     "text": [
      "100%|██████████| 500/500 [00:08<00:00, 60.55it/s] \n"
     ]
    },
    {
     "name": "stdout",
     "output_type": "stream",
     "text": [
      "10ая папка из 22\n"
     ]
    },
    {
     "name": "stderr",
     "output_type": "stream",
     "text": [
      "100%|██████████| 500/500 [00:07<00:00, 65.13it/s] \n"
     ]
    },
    {
     "name": "stdout",
     "output_type": "stream",
     "text": [
      "11ая папка из 22\n"
     ]
    },
    {
     "name": "stderr",
     "output_type": "stream",
     "text": [
      "100%|██████████| 500/500 [00:03<00:00, 129.50it/s]\n"
     ]
    },
    {
     "name": "stdout",
     "output_type": "stream",
     "text": [
      "12ая папка из 22\n"
     ]
    },
    {
     "name": "stderr",
     "output_type": "stream",
     "text": [
      "100%|██████████| 500/500 [00:05<00:00, 84.53it/s] \n"
     ]
    },
    {
     "name": "stdout",
     "output_type": "stream",
     "text": [
      "13ая папка из 22\n"
     ]
    },
    {
     "name": "stderr",
     "output_type": "stream",
     "text": [
      "100%|██████████| 500/500 [00:06<00:00, 83.13it/s] \n"
     ]
    },
    {
     "name": "stdout",
     "output_type": "stream",
     "text": [
      "14ая папка из 22\n"
     ]
    },
    {
     "name": "stderr",
     "output_type": "stream",
     "text": [
      "100%|██████████| 500/500 [00:06<00:00, 71.66it/s] \n"
     ]
    },
    {
     "name": "stdout",
     "output_type": "stream",
     "text": [
      "15ая папка из 22\n"
     ]
    },
    {
     "name": "stderr",
     "output_type": "stream",
     "text": [
      "100%|██████████| 500/500 [00:08<00:00, 60.31it/s]\n"
     ]
    },
    {
     "name": "stdout",
     "output_type": "stream",
     "text": [
      "16ая папка из 22\n"
     ]
    },
    {
     "name": "stderr",
     "output_type": "stream",
     "text": [
      "100%|██████████| 500/500 [00:06<00:00, 73.56it/s] \n"
     ]
    },
    {
     "name": "stdout",
     "output_type": "stream",
     "text": [
      "17ая папка из 22\n"
     ]
    },
    {
     "name": "stderr",
     "output_type": "stream",
     "text": [
      "100%|██████████| 500/500 [00:06<00:00, 72.25it/s] \n"
     ]
    },
    {
     "name": "stdout",
     "output_type": "stream",
     "text": [
      "18ая папка из 22\n"
     ]
    },
    {
     "name": "stderr",
     "output_type": "stream",
     "text": [
      "100%|██████████| 500/500 [00:06<00:00, 78.84it/s] \n"
     ]
    },
    {
     "name": "stdout",
     "output_type": "stream",
     "text": [
      "19ая папка из 22\n"
     ]
    },
    {
     "name": "stderr",
     "output_type": "stream",
     "text": [
      "100%|██████████| 500/500 [00:04<00:00, 108.84it/s]\n"
     ]
    },
    {
     "name": "stdout",
     "output_type": "stream",
     "text": [
      "20ая папка из 22\n"
     ]
    },
    {
     "name": "stderr",
     "output_type": "stream",
     "text": [
      "100%|██████████| 500/500 [00:07<00:00, 68.28it/s] \n"
     ]
    },
    {
     "name": "stdout",
     "output_type": "stream",
     "text": [
      "21ая папка из 22\n"
     ]
    },
    {
     "name": "stderr",
     "output_type": "stream",
     "text": [
      "100%|██████████| 500/500 [00:08<00:00, 56.90it/s]\n"
     ]
    },
    {
     "name": "stdout",
     "output_type": "stream",
     "text": [
      "22ая папка из 22\n"
     ]
    },
    {
     "name": "stderr",
     "output_type": "stream",
     "text": [
      "100%|██████████| 500/500 [00:05<00:00, 84.69it/s] \n"
     ]
    },
    {
     "data": {
      "text/html": [
       "<div>\n",
       "<style scoped>\n",
       "    .dataframe tbody tr th:only-of-type {\n",
       "        vertical-align: middle;\n",
       "    }\n",
       "\n",
       "    .dataframe tbody tr th {\n",
       "        vertical-align: top;\n",
       "    }\n",
       "\n",
       "    .dataframe thead th {\n",
       "        text-align: right;\n",
       "    }\n",
       "</style>\n",
       "<table border=\"1\" class=\"dataframe\">\n",
       "  <thead>\n",
       "    <tr style=\"text-align: right;\">\n",
       "      <th></th>\n",
       "      <th>file_name</th>\n",
       "      <th>text</th>\n",
       "    </tr>\n",
       "  </thead>\n",
       "  <tbody>\n",
       "    <tr>\n",
       "      <th>0</th>\n",
       "      <td>C:\\Users\\Mytre\\OneDrive\\Документы\\Data\\Work\\cr...</td>\n",
       "      <td>1</td>\n",
       "    </tr>\n",
       "    <tr>\n",
       "      <th>1</th>\n",
       "      <td>C:\\Users\\Mytre\\OneDrive\\Документы\\Data\\Work\\cr...</td>\n",
       "      <td>3</td>\n",
       "    </tr>\n",
       "    <tr>\n",
       "      <th>2</th>\n",
       "      <td>C:\\Users\\Mytre\\OneDrive\\Документы\\Data\\Work\\cr...</td>\n",
       "      <td>1</td>\n",
       "    </tr>\n",
       "    <tr>\n",
       "      <th>3</th>\n",
       "      <td>C:\\Users\\Mytre\\OneDrive\\Документы\\Data\\Work\\cr...</td>\n",
       "      <td>3</td>\n",
       "    </tr>\n",
       "    <tr>\n",
       "      <th>4</th>\n",
       "      <td>C:\\Users\\Mytre\\OneDrive\\Документы\\Data\\Work\\cr...</td>\n",
       "      <td>1</td>\n",
       "    </tr>\n",
       "  </tbody>\n",
       "</table>\n",
       "</div>"
      ],
      "text/plain": [
       "                                           file_name text\n",
       "0  C:\\Users\\Mytre\\OneDrive\\Документы\\Data\\Work\\cr...    1\n",
       "1  C:\\Users\\Mytre\\OneDrive\\Документы\\Data\\Work\\cr...    3\n",
       "2  C:\\Users\\Mytre\\OneDrive\\Документы\\Data\\Work\\cr...    1\n",
       "3  C:\\Users\\Mytre\\OneDrive\\Документы\\Data\\Work\\cr...    3\n",
       "4  C:\\Users\\Mytre\\OneDrive\\Документы\\Data\\Work\\cr...    1"
      ]
     },
     "execution_count": 20,
     "metadata": {},
     "output_type": "execute_result"
    }
   ],
   "source": [
    "num = 0\n",
    "alpha = 0.2\n",
    "annos_list = []\n",
    "anno_dict = {'file_name': [], 'text': []}\n",
    "pathes_list = []\n",
    "\n",
    "for i, anno in enumerate(anno_pathes_json):\n",
    "    with open(anno, 'r') as f:\n",
    "        data = json.load(f)\n",
    "       \n",
    "\n",
    "    frames = pd.read_json(json.dumps(data['frames']))\n",
    "    print(f'{i + 1}ая папка из {len(anno_pathes_json)}')\n",
    "\n",
    "\n",
    "    for i in tqdm(range(len(frames))):\n",
    "\n",
    "        img_name = frames['img_name'][i]\n",
    "        bboxes = frames['detections'][i]\n",
    "        #print(bboxes)\n",
    "\n",
    "        anno_path = anno.replace('anno', 'frames')\n",
    "        anno_path = anno_path.replace('.json', '\\\\')\n",
    "        anno_path_fin = anno_path + str(img_name)\n",
    "\n",
    "        #image = cv2.cvtColor(cv2.imread(anno_path_fin), cv2.COLOR_BGR2RGB)\n",
    "        img = Image.open(anno_path_fin)\n",
    "\n",
    "        # Создание объекта ImageDraw для рисования\n",
    "        #draw = ImageDraw.Draw(image)\n",
    "\n",
    "        for detection in bboxes:\n",
    "        \n",
    "            ocr_jersey = detection['ocr_jersey']\n",
    "            if ocr_jersey != '-1':\n",
    "                jersey_bbox_global = detection['jersey_bbox_global']\n",
    "                xtl = int(jersey_bbox_global[0])\n",
    "                ytl = int(jersey_bbox_global[1])\n",
    "                xbr = int(jersey_bbox_global[2])           \n",
    "                ybr = int(jersey_bbox_global[3])\n",
    "                \n",
    "                x_dif = np.abs(xtl - xbr)\n",
    "                y_dif = np.abs(ytl - ybr)\n",
    "\n",
    "                xtl = xtl - alpha * (x_dif / 2)\n",
    "                xbr = xbr + alpha * (x_dif / 2)\n",
    "                ytl = ytl - alpha * (y_dif / 2)\n",
    "                ybr = ybr + alpha * (y_dif / 2)\n",
    "\n",
    "                #draw.rectangle([(jersey_bbox_global[0], jersey_bbox_global[1]), (jersey_bbox_global[2], jersey_bbox_global[3])], outline='red')\n",
    "                #cv2.rectangle(image, (xtl, ytl), (xbr, ybr), 2)\n",
    "                croppped_image = img.crop((xtl, ytl, xbr, ybr))\n",
    "                full_path = crop_path + '\\\\' + str(ocr_jersey)\n",
    "                res_path = full_path + '\\\\' f'basketball_{num}example.jpg'\n",
    "                num += 1\n",
    "\n",
    "                if not os.path.exists(full_path):\n",
    "                        os.makedirs(full_path)    \n",
    "\n",
    "                annos_list.append(str(ocr_jersey))\n",
    "                pathes_list.append(res_path )\n",
    "                anno_dict['text'] = annos_list\n",
    "                anno_dict['file_name'] = pathes_list\n",
    "\n",
    "                croppped_image.save(res_path)\n",
    "\n",
    "df = pd.DataFrame(anno_dict, index=None)\n",
    "df.to_csv(\"anno_basketball.csv\")\n",
    "df.head()"
   ]
  },
  {
   "attachments": {},
   "cell_type": "markdown",
   "metadata": {},
   "source": [
    "Найдем все пути к файлам с именем \"annotations.xml\""
   ]
  },
  {
   "cell_type": "code",
   "execution_count": 25,
   "metadata": {},
   "outputs": [],
   "source": [
    "crop_path = \"C:\\\\Users\\\\Mytre\\\\OneDrive\\\\Документы\\\\Data\\\\Work\\\\crops\"\n",
    "absolute_path = \"C:\\\\Users\\\\Mytre\\\\OneDrive\\\\Документы\\\\Data\\\\Work\\\\data\\\\FIBA3x3\\\\fiba3x3_tracking_135\"\n",
    "\n",
    "if not os.path.exists(crop_path):\n",
    "    os.makedirs(crop_path)\n",
    "\n",
    "file_name = 'annotations.xml'\n",
    "\n",
    "anno_pathses = []\n",
    "# пройдемся рекурсивно по всем папкам, начиная с absolute_path\n",
    "for root, dirs, files in os.walk(absolute_path):    \n",
    "    # проверяем, есть ли заданный файл в списке файлов текущей папки\n",
    "    if file_name in files:\n",
    "        # если есть, то добавляем путь в список\n",
    "        anno_pathses.append(os.path.join(root, file_name))  "
   ]
  },
  {
   "attachments": {},
   "cell_type": "markdown",
   "metadata": {},
   "source": [
    "Сделаем кроп изображений содержащих цифры из поолученной разметки"
   ]
  },
  {
   "cell_type": "code",
   "execution_count": 26,
   "metadata": {},
   "outputs": [
    {
     "name": "stderr",
     "output_type": "stream",
     "text": [
      "100%|██████████| 135/135 [05:35<00:00,  2.48s/it]\n"
     ]
    },
    {
     "data": {
      "text/html": [
       "<div>\n",
       "<style scoped>\n",
       "    .dataframe tbody tr th:only-of-type {\n",
       "        vertical-align: middle;\n",
       "    }\n",
       "\n",
       "    .dataframe tbody tr th {\n",
       "        vertical-align: top;\n",
       "    }\n",
       "\n",
       "    .dataframe thead th {\n",
       "        text-align: right;\n",
       "    }\n",
       "</style>\n",
       "<table border=\"1\" class=\"dataframe\">\n",
       "  <thead>\n",
       "    <tr style=\"text-align: right;\">\n",
       "      <th></th>\n",
       "      <th>file_name</th>\n",
       "      <th>text</th>\n",
       "    </tr>\n",
       "  </thead>\n",
       "  <tbody>\n",
       "    <tr>\n",
       "      <th>0</th>\n",
       "      <td>C:\\Users\\Mytre\\OneDrive\\Документы\\Data\\Work\\cr...</td>\n",
       "      <td>4</td>\n",
       "    </tr>\n",
       "    <tr>\n",
       "      <th>1</th>\n",
       "      <td>C:\\Users\\Mytre\\OneDrive\\Документы\\Data\\Work\\cr...</td>\n",
       "      <td>7</td>\n",
       "    </tr>\n",
       "    <tr>\n",
       "      <th>2</th>\n",
       "      <td>C:\\Users\\Mytre\\OneDrive\\Документы\\Data\\Work\\cr...</td>\n",
       "      <td>4</td>\n",
       "    </tr>\n",
       "    <tr>\n",
       "      <th>3</th>\n",
       "      <td>C:\\Users\\Mytre\\OneDrive\\Документы\\Data\\Work\\cr...</td>\n",
       "      <td>4</td>\n",
       "    </tr>\n",
       "    <tr>\n",
       "      <th>4</th>\n",
       "      <td>C:\\Users\\Mytre\\OneDrive\\Документы\\Data\\Work\\cr...</td>\n",
       "      <td>4</td>\n",
       "    </tr>\n",
       "  </tbody>\n",
       "</table>\n",
       "</div>"
      ],
      "text/plain": [
       "                                           file_name  text\n",
       "0  C:\\Users\\Mytre\\OneDrive\\Документы\\Data\\Work\\cr...     4\n",
       "1  C:\\Users\\Mytre\\OneDrive\\Документы\\Data\\Work\\cr...     7\n",
       "2  C:\\Users\\Mytre\\OneDrive\\Документы\\Data\\Work\\cr...     4\n",
       "3  C:\\Users\\Mytre\\OneDrive\\Документы\\Data\\Work\\cr...     4\n",
       "4  C:\\Users\\Mytre\\OneDrive\\Документы\\Data\\Work\\cr...     4"
      ]
     },
     "execution_count": 26,
     "metadata": {},
     "output_type": "execute_result"
    }
   ],
   "source": [
    "nums = []\n",
    "num = 0\n",
    "folder_pathes = []\n",
    "pathes_list = []\n",
    "annos_list = []\n",
    "anno_dict = {'file_name': [], 'text': []}\n",
    "\n",
    "alpha = 0.2\n",
    "\n",
    "for path in tqdm(anno_pathses):\n",
    "\n",
    "    # Загрузим XML файл\n",
    "    tree = ET.parse(path)\n",
    "\n",
    "    # Получим корневой элемент XML файла\n",
    "    root = tree.getroot()\n",
    "\n",
    "    # Проитерируемся по дочерним элементам корня\n",
    "    for image in root.findall('image'):\n",
    "        \n",
    "        image_id = image.get('id')\n",
    "        file_name = image.get('name')\n",
    "        #file_name = file_name.replace('/', '\\\\')\n",
    "        file_name = os.path.join(absolute_path, file_name)\n",
    "        if 'fiba3x3/images/331/' in file_name:\n",
    "            file_name = file_name.replace('fiba3x3/images/331', 'frames')\n",
    "        file_name = file_name.replace('frames', 'frames_135')\n",
    "        # Переберем все baundingbox`s\n",
    "        for box in image.findall('box'):\n",
    "            \n",
    "            image = Image.open(file_name)\n",
    "           \n",
    "            label = box.get('label')\n",
    "\n",
    "            # Проверим является ли метка меткой номера\n",
    "            if label == \"Jersey\":\n",
    "                xtl = int(float(box.get('xtl')))\n",
    "                ytl = int(float(box.get('ytl')))\n",
    "                xbr = int(float(box.get('xbr')))\n",
    "                ybr = int(float(box.get('ybr')))\n",
    "                number = box.find('attribute[@name=\"number\"]').text\n",
    "\n",
    "                x_dif = np.abs(xtl - xbr)\n",
    "                y_dif = np.abs(ytl - ybr)\n",
    "\n",
    "                xtl = xtl - alpha * (x_dif / 2)\n",
    "                xbr = xbr + alpha * (x_dif / 2)\n",
    "                ytl = ytl - alpha * (y_dif / 2)\n",
    "                ybr = ybr + alpha * (y_dif / 2)\n",
    "\n",
    "                # Сделаем кроп номера на футболке\n",
    "                croppped_image = image.crop((xtl, ytl, xbr, ybr))\n",
    "                full_path = crop_path + '\\\\' + str(number)\n",
    "                num += 1\n",
    "\n",
    "                if not os.path.exists(full_path):\n",
    "                    os.makedirs(full_path)    \n",
    "                    #print(f'Папка {number} создана')  \n",
    "                                  \n",
    "                res_path = full_path +'\\\\' + f'fiba_{str(num)}example.jpg'\n",
    "\n",
    "                annos_list.append(int(number))\n",
    "                pathes_list.append(res_path )\n",
    "                anno_dict['text'] = annos_list\n",
    "                anno_dict['file_name'] = pathes_list\n",
    "                \n",
    "                croppped_image.save(res_path)\n",
    "\n",
    "df = pd.DataFrame(anno_dict, index=None)\n",
    "df.to_csv(\"anno_fiba.csv\")\n",
    "df.head()"
   ]
  },
  {
   "attachments": {},
   "cell_type": "markdown",
   "metadata": {},
   "source": [
    "Найдем все файлы с расширением \".json\""
   ]
  },
  {
   "cell_type": "code",
   "execution_count": 28,
   "metadata": {},
   "outputs": [],
   "source": [
    "anno_pathes_json = []\n",
    "img_pathes = {}\n",
    "file_name = '.json'\n",
    "img_name = '.jpg'\n",
    "\n",
    "absolute_path = 'C:\\\\Users\\\\Mytre\\\\OneDrive\\\\Документы\\\\Data\\\\Work\\\\data\\\\NCAA\\\\NCAA_1_jersey\\\\second_task'\n",
    "crop_path = 'C:\\\\Users\\\\Mytre\\\\OneDrive\\\\Документы\\\\Data\\\\Work\\\\crops'\n",
    "img_folder_path = 'C:\\\\Users\\\\Mytre\\\\OneDrive\\\\Документы\\\\Data\\\\Work\\\\data\\\\NCAA\\\\NCAA_1_tracking\\\\playerTrackingFrames'\n",
    "\n",
    "if not os.path.exists(crop_path):\n",
    "    os.makedirs(crop_path)\n",
    "\n",
    "for root, dirs, files in os.walk(absolute_path):      \n",
    "    for file in files:\n",
    "        # проверяем, есть ли заданный файл в списке файлов текущей папки\n",
    "        if (file_name in file) & ('.jsonl' not in file):\n",
    "            # если есть, то добавляем путь в список\n",
    "            anno_pathes_json.append(os.path.join(root, file)) \n",
    "\n",
    "for root, dirs, files in os.walk(img_folder_path):        \n",
    "    for file in files:\n",
    "        # проверяем, есть ли заданный файл в списке файлов текущей папки\n",
    "        if (img_name in file):\n",
    "            # если есть, то добавляем путь в список\n",
    "            sh_file = file.replace('frame_', '')\n",
    "            img_pathes[sh_file] = os.path.join(root, file)  "
   ]
  },
  {
   "attachments": {},
   "cell_type": "markdown",
   "metadata": {},
   "source": [
    "Сделаем кроп изображений содержащих цифры из поолученной разметки"
   ]
  },
  {
   "cell_type": "code",
   "execution_count": 34,
   "metadata": {},
   "outputs": [
    {
     "data": {
      "application/vnd.jupyter.widget-view+json": {
       "model_id": "360fdcb75ec644ea84563861a5ee6d66",
       "version_major": 2,
       "version_minor": 0
      },
      "text/plain": [
       "  0%|          | 0/6965 [00:00<?, ?it/s]"
      ]
     },
     "metadata": {},
     "output_type": "display_data"
    },
    {
     "data": {
      "text/html": [
       "<div>\n",
       "<style scoped>\n",
       "    .dataframe tbody tr th:only-of-type {\n",
       "        vertical-align: middle;\n",
       "    }\n",
       "\n",
       "    .dataframe tbody tr th {\n",
       "        vertical-align: top;\n",
       "    }\n",
       "\n",
       "    .dataframe thead th {\n",
       "        text-align: right;\n",
       "    }\n",
       "</style>\n",
       "<table border=\"1\" class=\"dataframe\">\n",
       "  <thead>\n",
       "    <tr style=\"text-align: right;\">\n",
       "      <th></th>\n",
       "      <th>file_name</th>\n",
       "      <th>text</th>\n",
       "    </tr>\n",
       "  </thead>\n",
       "  <tbody>\n",
       "    <tr>\n",
       "      <th>0</th>\n",
       "      <td>C:\\Users\\Mytre\\OneDrive\\Документы\\Data\\Work\\cr...</td>\n",
       "      <td>11</td>\n",
       "    </tr>\n",
       "    <tr>\n",
       "      <th>1</th>\n",
       "      <td>C:\\Users\\Mytre\\OneDrive\\Документы\\Data\\Work\\cr...</td>\n",
       "      <td>0</td>\n",
       "    </tr>\n",
       "    <tr>\n",
       "      <th>2</th>\n",
       "      <td>C:\\Users\\Mytre\\OneDrive\\Документы\\Data\\Work\\cr...</td>\n",
       "      <td>33</td>\n",
       "    </tr>\n",
       "    <tr>\n",
       "      <th>3</th>\n",
       "      <td>C:\\Users\\Mytre\\OneDrive\\Документы\\Data\\Work\\cr...</td>\n",
       "      <td>12</td>\n",
       "    </tr>\n",
       "    <tr>\n",
       "      <th>4</th>\n",
       "      <td>C:\\Users\\Mytre\\OneDrive\\Документы\\Data\\Work\\cr...</td>\n",
       "      <td>9</td>\n",
       "    </tr>\n",
       "  </tbody>\n",
       "</table>\n",
       "</div>"
      ],
      "text/plain": [
       "                                           file_name text\n",
       "0  C:\\Users\\Mytre\\OneDrive\\Документы\\Data\\Work\\cr...   11\n",
       "1  C:\\Users\\Mytre\\OneDrive\\Документы\\Data\\Work\\cr...    0\n",
       "2  C:\\Users\\Mytre\\OneDrive\\Документы\\Data\\Work\\cr...   33\n",
       "3  C:\\Users\\Mytre\\OneDrive\\Документы\\Data\\Work\\cr...   12\n",
       "4  C:\\Users\\Mytre\\OneDrive\\Документы\\Data\\Work\\cr...    9"
      ]
     },
     "execution_count": 34,
     "metadata": {},
     "output_type": "execute_result"
    }
   ],
   "source": [
    "alpha = 0.1\n",
    "num = 0\n",
    "annos_list = []\n",
    "anno_dict = {'file_name': [], 'text': []}\n",
    "pathes_list = []\n",
    "\n",
    "for anno in tqdm(anno_pathes_json):\n",
    "    with open(anno, 'r') as f:\n",
    "        data = json.load(f)\n",
    "\n",
    "    #Преобразуем json  в dataFrame\n",
    "    points = pd.read_json(json.dumps(data['shapes']))\n",
    "    img_name = str(json.dumps(data['imagePath']))\n",
    "    img_path = img_name.replace('\"', '')\n",
    "    img_path = os.path.split(img_path)\n",
    "    img_path = img_pathes[img_path[-1]]\n",
    "\n",
    "    img = Image.open(img_path)\n",
    "    \n",
    "\n",
    "    for j in range(len(points)):\n",
    "        out_file = {}    \n",
    "\n",
    "        if points[\"shape_type\"][j] == \"rectangle\":                       \n",
    "        \n",
    "            label = points['label']\n",
    "            \n",
    "            split_label = label[j].split('_')\n",
    "            number = split_label.pop()\n",
    "            \n",
    "            point_obj = points['points']\n",
    "            singl_point = point_obj[j]\n",
    "            [xtl, ytl], [xbr, ybr] = singl_point\n",
    "\n",
    "            x_dif = np.abs(xtl - xbr)\n",
    "            y_dif = np.abs(ytl - ybr)\n",
    "\n",
    "            xtl = xtl - alpha * (x_dif / 2)\n",
    "            xbr = xbr + alpha * (x_dif / 2)\n",
    "            ytl = ytl - alpha * (y_dif / 2)\n",
    "            ybr = ybr + alpha * (y_dif / 2)\n",
    "\n",
    "            # Сделаем кроп номера на футболке\n",
    "            croppped_image = img.crop((xtl, ytl, xbr, ybr))\n",
    "            if str(number) == '5(1)':\n",
    "                number = '5' \n",
    "            full_path = crop_path + '\\\\' + str(number)                \n",
    "\n",
    "            if not os.path.exists(full_path):\n",
    "                os.makedirs(full_path)  \n",
    "                print(label)  \n",
    "                print(f'Папка {number} создана')  \n",
    "                print()\n",
    "                                  \n",
    "            res_path = full_path +'\\\\' + f'ncaa_{str(num)}example.jpg'\n",
    "            num += 1\n",
    "\n",
    "            annos_list.append(str(number))\n",
    "            pathes_list.append(res_path )\n",
    "            anno_dict['text'] = annos_list\n",
    "            anno_dict['file_name'] = pathes_list\n",
    "                \n",
    "            croppped_image.save(res_path)\n",
    "\n",
    "df = pd.DataFrame(anno_dict, index=None)\n",
    "df.to_csv(\"anno_ncaa.csv\")\n",
    "df.head()  "
   ]
  }
 ],
 "metadata": {
  "kernelspec": {
   "display_name": "workenv",
   "language": "python",
   "name": "python3"
  },
  "language_info": {
   "codemirror_mode": {
    "name": "ipython",
    "version": 3
   },
   "file_extension": ".py",
   "mimetype": "text/x-python",
   "name": "python",
   "nbconvert_exporter": "python",
   "pygments_lexer": "ipython3",
   "version": "3.9.12"
  },
  "orig_nbformat": 4
 },
 "nbformat": 4,
 "nbformat_minor": 2
}
