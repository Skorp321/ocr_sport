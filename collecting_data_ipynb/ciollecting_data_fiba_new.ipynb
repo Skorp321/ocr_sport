{
 "cells": [
  {
   "cell_type": "code",
   "execution_count": 1,
   "metadata": {},
   "outputs": [],
   "source": [
    "import xml.etree.ElementTree as ET\n",
    "from PIL import Image\n",
    "import os\n",
    "import pandas as pd\n",
    "import numpy as np\n",
    "import json\n",
    "from tqdm.notebook import tqdm\n",
    "import copy"
   ]
  },
  {
   "cell_type": "code",
   "execution_count": 10,
   "metadata": {},
   "outputs": [
    {
     "name": "stdout",
     "output_type": "stream",
     "text": [
      "70\n"
     ]
    }
   ],
   "source": [
    "anno_pathes_json = []\n",
    "file_name = '.json'\n",
    "\n",
    "#For home\n",
    "absolute_path = 'C:\\\\Users\\\\Mytre\\\\OneDrive\\\\Документы\\\\Data\\\\Work\\\\data\\\\FIBA3x3\\\\20-03-2023\\\\anno'\n",
    "crop_path = 'C:\\\\Users\\\\Mytre\\\\OneDrive\\\\Документы\\\\Data\\\\Work\\\\numbers\\\\streetball_numbers1'\n",
    "\n",
    "#For laptop\n",
    "#absolute_path = 'D:\\\\Datasets\\\\TV_data\\\\volleyball\\\\00-00-00'\n",
    "#crop_path = 'D:\\\\Datasets\\\\crops1'\n",
    "\n",
    "if not os.path.exists(crop_path):\n",
    "    os.makedirs(crop_path)\n",
    "\n",
    "for root, dirs, files in os.walk(absolute_path):    \n",
    "    for file in files:        \n",
    "        # проверяем, есть ли заданный файл в списке файлов текущей папки\n",
    "        if (file_name in file) & ('.jsonl' not in file):\n",
    "            # если есть, то добавляем путь в список\n",
    "            anno_pathes_json.append(os.path.join(root, file))\n",
    "            \n",
    "\n",
    "print(len(anno_pathes_json))"
   ]
  },
  {
   "cell_type": "code",
   "execution_count": 12,
   "metadata": {},
   "outputs": [
    {
     "data": {
      "application/vnd.jupyter.widget-view+json": {
       "model_id": "a88fc3593ccf4769b36ec88f3ab54ff4",
       "version_major": 2,
       "version_minor": 0
      },
      "text/plain": [
       "  0%|          | 0/70 [00:00<?, ?it/s]"
      ]
     },
     "metadata": {},
     "output_type": "display_data"
    },
    {
     "ename": "KeyboardInterrupt",
     "evalue": "",
     "output_type": "error",
     "traceback": [
      "\u001b[1;31m---------------------------------------------------------------------------\u001b[0m",
      "\u001b[1;31mKeyboardInterrupt\u001b[0m                         Traceback (most recent call last)",
      "Cell \u001b[1;32mIn[12], line 21\u001b[0m\n\u001b[0;32m     18\u001b[0m anno_path \u001b[39m=\u001b[39m anno_path\u001b[39m.\u001b[39mreplace(\u001b[39m'\u001b[39m\u001b[39manno\u001b[39m\u001b[39m'\u001b[39m, \u001b[39m'\u001b[39m\u001b[39mjersey_frames\u001b[39m\u001b[39m'\u001b[39m)\n\u001b[0;32m     19\u001b[0m jpg_path \u001b[39m=\u001b[39m os\u001b[39m.\u001b[39mpath\u001b[39m.\u001b[39mjoin(anno_path, img_name)\n\u001b[1;32m---> 21\u001b[0m img \u001b[39m=\u001b[39m Image\u001b[39m.\u001b[39;49mopen(jpg_path)\n\u001b[0;32m     23\u001b[0m \u001b[39mfor\u001b[39;00m det \u001b[39min\u001b[39;00m frame[\u001b[39m'\u001b[39m\u001b[39mdetections\u001b[39m\u001b[39m'\u001b[39m]:\n\u001b[0;32m     24\u001b[0m     \u001b[39mif\u001b[39;00m det[\u001b[39m'\u001b[39m\u001b[39mocr_jersey\u001b[39m\u001b[39m'\u001b[39m] \u001b[39m!=\u001b[39m \u001b[39m'\u001b[39m\u001b[39m-1\u001b[39m\u001b[39m'\u001b[39m:\n",
      "File \u001b[1;32mc:\\Users\\Mytre\\OneDrive\\Документы\\Data\\Work\\workenv\\lib\\site-packages\\PIL\\Image.py:3227\u001b[0m, in \u001b[0;36mopen\u001b[1;34m(fp, mode, formats)\u001b[0m\n\u001b[0;32m   3224\u001b[0m     filename \u001b[39m=\u001b[39m fp\n\u001b[0;32m   3226\u001b[0m \u001b[39mif\u001b[39;00m filename:\n\u001b[1;32m-> 3227\u001b[0m     fp \u001b[39m=\u001b[39m builtins\u001b[39m.\u001b[39;49mopen(filename, \u001b[39m\"\u001b[39;49m\u001b[39mrb\u001b[39;49m\u001b[39m\"\u001b[39;49m)\n\u001b[0;32m   3228\u001b[0m     exclusive_fp \u001b[39m=\u001b[39m \u001b[39mTrue\u001b[39;00m\n\u001b[0;32m   3230\u001b[0m \u001b[39mtry\u001b[39;00m:\n",
      "\u001b[1;31mKeyboardInterrupt\u001b[0m: "
     ]
    }
   ],
   "source": [
    "alpha = 0.1\n",
    "num = 0\n",
    "annos_list = []\n",
    "anno_dict = {'file_name': [], 'text': []}\n",
    "pathes_list = []\n",
    "\n",
    "for anno in tqdm(anno_pathes_json):\n",
    "    with open(anno, 'r') as f:\n",
    "        data = json.load(f)\n",
    "\n",
    "    #Преобразуем json  в dataFrame\n",
    "    frames = pd.read_json(json.dumps(data))\n",
    "\n",
    "    for frame in frames['frames']:\n",
    "\n",
    "        img_name = frame['img_name']\n",
    "        anno_path = anno.replace('.json', '')\n",
    "        anno_path = anno_path.replace('anno', 'jersey_frames')\n",
    "        jpg_path = os.path.join(anno_path, img_name)\n",
    "\n",
    "        img = Image.open(jpg_path)\n",
    "\n",
    "        for det in frame['detections']:\n",
    "            if det['ocr_jersey'] != '-1':\n",
    "\n",
    "                point = det['jersey_bbox_global']\n",
    "                number = det['ocr_jersey']\n",
    "            \n",
    "                xtl, ytl, xbr, ybr = int(point[0]), int(point[1]), int(point[2]), int(point[3])\n",
    "                                \n",
    "                x_dif = np.abs(xtl - xbr)\n",
    "                y_dif = np.abs(ytl - ybr)\n",
    "\n",
    "                xtl = xtl - alpha * (x_dif / 2)\n",
    "                xbr = xbr + alpha * (x_dif / 2)\n",
    "                ytl = ytl - alpha * (y_dif / 2)\n",
    "                ybr = ybr + alpha * (y_dif / 2)\n",
    "\n",
    "                # Сделаем кроп номера на футболке\n",
    "                croppped_image = img.crop((xtl, ytl, xbr, ybr))\n",
    "                full_path = crop_path + '\\\\' + str(number)                \n",
    "\n",
    "                if not os.path.exists(full_path):\n",
    "                    os.makedirs(full_path)    \n",
    "                    #print(f'Папка {number} создана')  \n",
    "                        \n",
    "                name = img_name.replace('.jpeg', '')\n",
    "                res_path = full_path +'\\\\' + f'TV_data_{name}_{num}example.jpg'\n",
    "                num += 1\n",
    "\n",
    "                annos_list.append(str(number))\n",
    "                pathes_list.append(res_path )\n",
    "                anno_dict['text'] = annos_list\n",
    "                anno_dict['file_name'] = pathes_list\n",
    "                    \n",
    "                croppped_image.save(res_path)\n",
    "        \n",
    "df = pd.DataFrame(anno_dict, index=None)\n",
    "df.to_csv(\"anno_00new.csv\")\n",
    "df.head()"
   ]
  },
  {
   "cell_type": "code",
   "execution_count": null,
   "metadata": {},
   "outputs": [],
   "source": []
  }
 ],
 "metadata": {
  "kernelspec": {
   "display_name": "workenv",
   "language": "python",
   "name": "python3"
  },
  "language_info": {
   "codemirror_mode": {
    "name": "ipython",
    "version": 3
   },
   "file_extension": ".py",
   "mimetype": "text/x-python",
   "name": "python",
   "nbconvert_exporter": "python",
   "pygments_lexer": "ipython3",
   "version": "3.9.12"
  },
  "orig_nbformat": 4,
  "vscode": {
   "interpreter": {
    "hash": "dd7ce5ea1f167f6e2c49b5b6f21b70d6e0deeed3d013e0c08f1a51e941577a63"
   }
  }
 },
 "nbformat": 4,
 "nbformat_minor": 2
}
